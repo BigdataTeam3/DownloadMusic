{
 "cells": [
  {
   "cell_type": "code",
   "execution_count": 6,
   "metadata": {
    "collapsed": true
   },
   "outputs": [],
   "source": [
    "from decimal import *\n",
    "from random import randint\n",
    "\n",
    "chord = {\n",
    "    'C':(0, 4, 7),\n",
    "    'Cmaj7':(0, 4, 7, 11),\n",
    "    'Dm':(2, 5, 9),\n",
    "    'Dm7':(2, 5, 9, 12),\n",
    "    'Em':(4, 7, 11),\n",
    "    'Em7':(4, 7, 11, 14),\n",
    "    'F':(5, 9, 12),\n",
    "    'Fmaj7':(5, 9, 12, 16),\n",
    "    'G':(7, 11, 14),\n",
    "    'G7':(7, 11, 14, 17),\n",
    "    'Am':(9, 12, 16),\n",
    "    'Am7':(9, 12, 16, 19),\n",
    "    'Bb':(10, 14, 17),\n",
    "    'Bdim':(11, 14, 17)\n",
    "}"
   ]
  },
  {
   "cell_type": "code",
   "execution_count": 7,
   "metadata": {
    "collapsed": true
   },
   "outputs": [],
   "source": [
    "def nextChord(beatSum, indexAcc, curChord):\n",
    "    indexAcc += 1\n",
    "    curChord = chordProg[indexAcc]\n",
    "    diff = beatSum-Decimal(0.5)\n",
    "    if diff >= 0.5:\n",
    "        beatSum, indexAcc, curChord = nextChord(diff, indexAcc, curChord)\n",
    "    else:\n",
    "        beatSum = diff\n",
    "    return beatSum, indexAcc, curChord"
   ]
  },
  {
   "cell_type": "code",
   "execution_count": 8,
   "metadata": {
    "collapsed": false
   },
   "outputs": [],
   "source": [
    "# def varchord(re, curChord, randomInt):\n",
    "#     if randomInt==0:\n",
    "#         for i, component in enumerate(chord[curChord]):\n",
    "#             re += str(60+component) + ','\n",
    "#     elif randomInt==1:\n",
    "#         for i, component in enumerate(chord[curChord]):\n",
    "#             if i==0:\n",
    "#                 re += str(60+component+12) + ','\n",
    "#             else:\n",
    "#                 re += str(60+component) + ','\n",
    "#     elif randomInt==2:\n",
    "#         for i, component in enumerate(chord[curChord]):\n",
    "#             if i==0:\n",
    "#                 re += str(60+component-12) + ','\n",
    "#             else:\n",
    "#                 re += str(60+component) + ','\n",
    "#     elif randomInt==3:\n",
    "#         for i, component in enumerate(chord[curChord]):\n",
    "#             if i==1:\n",
    "#                 re += str(60+component+12) + ','\n",
    "#             elif i==0:\n",
    "#                 re += str(60+component+12) + ','\n",
    "#             else:\n",
    "#                 re += str(60+component) + ','\n",
    "#     elif randomInt==4:\n",
    "#         for i, component in enumerate(chord[curChord]):\n",
    "#             if i==1:\n",
    "#                 re += str(60+component-12) + ','\n",
    "#             elif i==0:\n",
    "#                 re += str(60+component-12) + ','\n",
    "#             else:\n",
    "#                 re += str(60+component) + ','\n",
    "#     return re"
   ]
  },
  {
   "cell_type": "code",
   "execution_count": 27,
   "metadata": {
    "collapsed": true
   },
   "outputs": [],
   "source": [
    "def varChord(re, curChord):\n",
    "    randomInt = randint(0,5)\n",
    "    for i, component in enumerate(chord[curChord], 1):\n",
    "        #不變化\n",
    "        if randomInt == 0:\n",
    "            pass\n",
    "        #根音高八度(第一轉位)\n",
    "        elif randomInt == 1 and i == 1:\n",
    "            component += 12\n",
    "        #根音及三度音高八度(第二轉位)\n",
    "        elif randomInt == 2 and (i == 1 or i == 2):\n",
    "            component += 12\n",
    "        #全部高八度\n",
    "        elif randomInt == 3:\n",
    "            component += 12\n",
    "        #全部低八度\n",
    "        elif randomInt == 4:\n",
    "            component -= 12\n",
    "        #如為三和弦，五度音低八度(第二轉位)；如為七和弦，七度音低八度(第三轉位)\n",
    "        elif randomInt == 5 and ((len(chord[curChord]) == 3 and i == 3) or (len(chord[curChord]) == 4 and i == 4)):\n",
    "            component -= 12\n",
    "        component += 60\n",
    "        re += str(component) + ','\n",
    "    return re"
   ]
  },
  {
   "cell_type": "code",
   "execution_count": 28,
   "metadata": {
    "collapsed": false
   },
   "outputs": [],
   "source": [
    "def accompanyMelody(staff, chordProg):\n",
    "    staffReturn = {}\n",
    "    for key in sorted(staff.keys()):\n",
    "        indexAcc = 0\n",
    "        curChord = chordProg[indexAcc]\n",
    "        beatSum = 0\n",
    "        re = ''\n",
    "        totalBeatSum = 0\n",
    "        for beat in staff[key].split(';'):\n",
    "            duration = beat.split(',')[0]\n",
    "            noteSign = beat.split(',')[1]\n",
    "\n",
    "            #Determine when to select next chord\n",
    "            if beatSum >= 0.5:\n",
    "                beatSum, indexAcc, curChord = nextChord(beatSum, indexAcc, curChord)\n",
    "\n",
    "            #Generate different strings according to if it's a note or a rest\n",
    "            if noteSign == '1':\n",
    "                re += duration + ','\n",
    "                re = varChord(re, curChord) \n",
    "                re = re[:-1] + ';'\n",
    "            else:\n",
    "                re += duration + ',0;'\n",
    "\n",
    "            #Add 0.0000000000001 to beatSum while it's a tuplet beat\n",
    "            if Decimal(duration) * 128 % 1 == 0:\n",
    "                beatSum += Decimal(duration)\n",
    "            else:\n",
    "                beatSum += Decimal(duration) + Decimal(0.0000000000001)\n",
    "\n",
    "        staffReturn[key] = re[:-1]\n",
    "    return staffReturn"
   ]
  },
  {
   "cell_type": "code",
   "execution_count": 32,
   "metadata": {
    "collapsed": false
   },
   "outputs": [
    {
     "name": "stdout",
     "output_type": "stream",
     "text": [
      "1,60,64,67\n",
      "0.5,81,84,76\n",
      "0.5,64,67,59\n",
      "1,77,81,84\n",
      "0.5,50,53,57\n",
      "0.5,79,83,74,77\n",
      "1,60,64,67\n",
      "0.5,81,72,76\n",
      "0.5,76,67,71\n",
      "0.125,77,81,72\n",
      "0.125,77,81,72\n",
      "0.125,53,57,60\n",
      "0.125,53,57,60\n",
      "0.125,72,76,79,83\n",
      "0.125,72,76,67,71\n",
      "0.125,60,64,67,71\n",
      "0.125,72,76,67,71\n",
      "0.125,50,53,57\n",
      "0.125,62,65,57\n",
      "0.125,62,65,57\n",
      "0.125,62,65,69\n",
      "0.125,79,71,74,77\n",
      "0.125,79,83,74,77\n",
      "0.125,79,83,74,77\n",
      "0.125,55,59,62,65\n",
      "\n",
      "{'100': '1,60,64,67;0.5,81,84,76;0.5,64,67,59;1,77,81,84;0.5,50,53,57;0.5,79,83,74,77;1,60,64,67;0.5,81,72,76;0.5,76,67,71;0.125,77,81,72;0.125,77,81,72;0.125,53,57,60;0.125,53,57,60;0.125,72,76,79,83;0.125,72,76,67,71;0.125,60,64,67,71;0.125,72,76,67,71;0.125,50,53,57;0.125,62,65,57;0.125,62,65,57;0.125,62,65,69;0.125,79,71,74,77;0.125,79,83,74,77;0.125,79,83,74,77;0.125,55,59,62,65'}\n"
     ]
    }
   ],
   "source": [
    "chordProg = ['C','G','Am','Em','F','Cmaj7','Dm','G7','C','G','Am','Em','F','Cmaj7','Dm','G7']\n",
    "\n",
    "staff = {\n",
    "    '100':'1,1;0.5,1;0.5,1;1,1;0.5,1;0.5,1;1,1;0.5,1;0.5,1;0.125,1;0.125,1;0.125,1;0.125,1;0.125,1;0.125,1;0.125,1;0.125,1;0.125,1;0.125,1;0.125,1;0.125,1;0.125,1;0.125,1;0.125,1;0.125,1',\n",
    "#     '101':'0.4895833333333333333333333333,0;0.01041666666666666666666666667,1;0.5,1;0.25,1;0.125,1;0.125,1;0.125,1;0.25,1;0.125,1;0.25,1;0.0625,1;0.0625,1;0.0625,1;0.0625,1;0.125,1;0.125,1;0.125,1;0.125,1;0.625,0;0.375,1;0.4895833333333333333333333333,0;0.01041666666666666666666666667,1;0.5,1;0.25,1;0.125,1;0.125,1;0.125,1;0.25,1;0.125,1;0.25,1;0.0625,1;0.0625,1;0.0625,1;0.0625,1;0.125,1;0.125,1;0.125,1;0.125,1;0.625,0;0.375,1'\n",
    "}\n",
    "\n",
    "test = accompanyMelody(staff, chordProg)\n",
    "\n",
    "for key in test:\n",
    "    for element in test[key].split(';'):\n",
    "        print element\n",
    "print\n",
    "print test"
   ]
  }
 ],
 "metadata": {
  "kernelspec": {
   "display_name": "Python 2",
   "language": "python",
   "name": "python2"
  },
  "language_info": {
   "codemirror_mode": {
    "name": "ipython",
    "version": 2
   },
   "file_extension": ".py",
   "mimetype": "text/x-python",
   "name": "python",
   "nbconvert_exporter": "python",
   "pygments_lexer": "ipython2",
   "version": "2.7.10"
  }
 },
 "nbformat": 4,
 "nbformat_minor": 0
}
