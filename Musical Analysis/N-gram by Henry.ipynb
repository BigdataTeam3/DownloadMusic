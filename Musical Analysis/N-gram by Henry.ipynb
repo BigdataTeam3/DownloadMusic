{
 "cells": [
  {
   "cell_type": "code",
   "execution_count": 51,
   "metadata": {
    "collapsed": false,
    "scrolled": true
   },
   "outputs": [
    {
     "name": "stdout",
     "output_type": "stream",
     "text": [
      "[((0, 0, 0, 0), 54), (('F', 'F', 'C', 'C'), 31), (('Dm', 'Dm', 'F', 'F'), 30), (('Dm', 'F', 'F', 'C'), 20), (('C', 'C', 'G', 'G'), 20), (('F', 'C', 'C', 'G'), 20), (('G', 'G', 'Dm', 'Dm'), 17), (('G', 'Dm', 'Dm', 'F'), 17), (('C', 'G', 'G', 'Dm'), 17), (('F', 'F', 'F', 'F'), 14), (('C', 'Dm', 'Dm', 'F'), 12), (('C', 'C', 'Dm', 'Dm'), 12), (('F', 'C', 'C', 'Dm'), 11), (('F', 'F', 'F', 'C'), 11), (('Dm', 'F', 'F', 'F'), 10), (('A', 'A', 'A', 'A'), 9), (('A', 'A', 'A', 0), 4), (('G', 'F', 'F', 'F'), 4), (('F', 'F', 'F', 'A'), 3), (('F', 'F', 'A', 'A'), 3), (('C', 'G', 'G', 'F'), 3), (('G', 'G', 'F', 'F'), 3), (('F', 'A', 'A', 'A'), 3), (('A', 0, 'Dm', 'Dm'), 2), (('Dm', 'Dm', 'F', 0), 2), ((0, 'Dm', 'Dm', 'F'), 2), (('A', 'A', 0, 0), 2), (('F', 0, 'F', 0), 2), (('A', 'A', 0, 'Dm'), 2), (('Dm', 'F', 0, 'F'), 2), (('A', 0, 0, 0), 2), ((0, 'A', 'A', 'A'), 1), ((0, 'F', 0, 'C'), 1), ((0, 'C', 'C', 'Dm'), 1), ((0, 0, 'G', 'F'), 1), (('F', 0, 'C', 'C'), 1), ((0, 'G', 'F', 'F'), 1), (('F', 0, 'A', 'A'), 1), ((0, 0, 0, 'G'), 1), ((0, 'F', 0, 'A'), 1), ((0, 0, 'F', 'G'), 1), ((0, 0, 0, 'F'), 1)]\n"
     ]
    }
   ],
   "source": [
    "#一次抓4個\n",
    "from operator import itemgetter\n",
    "\n",
    "def Dominantlist_to_Dominantgram_4freq(Dominantlist):\n",
    "    return [Dominantlist[i:i+4] for i in range(0,len(Dominantlist)-3)]\n",
    "\n",
    "def Dominantgram_to_Dominantdict_4freq(Dominantgram):\n",
    "    Dominantdict=dict()\n",
    "    for (Dominant1,Dominant2,Dominant3,Dominant4) in Dominantgram:\n",
    "        Dominantdict[(Dominant1,Dominant2,Dominant3,Dominant4)] = \\\n",
    "        Dominantdict.get((Dominant1,Dominant2,Dominant3,Dominant4),0)+1\n",
    "    return Dominantdict\n",
    "\n",
    "Dominantlist = ['Dm', 'Dm', 'F', 'F', 'C', 'C', 'G', 'G', 'Dm', 'Dm', 'F', 'F', 'C', 'C', 'G', 'G', 'Dm', 'Dm', 'F', 'F', 'C', 'C', 'G', 'G', 'Dm', 'Dm', 'F', 'F', 'C', 'C', 'G', 'G', 'Dm', 'Dm', 'F', 'F', 'C', 'C', 'G', 'G', 'Dm', 'Dm', 'F', 'F', 'C', 'C', 'G', 'G', 'Dm', 'Dm', 'F', 'F', 'C', 'C', 'G', 'G', 'Dm', 'Dm', 'F', 'F', 'C', 'C', 'G', 'G', 'Dm', 'Dm', 'F', 'F', 'C', 'C', 'G', 'G', 'F', 'F', 'F', 'F', 'C', 'C', 'Dm', 'Dm', 'F', 'F', 'F', 'F', 'C', 'C', 'Dm', 'Dm', 'F', 'F', 'F', 'F', 'C', 'C', 'Dm', 'Dm', 'F', 'F', 'F', 'F', 'A', 'A', 'A', 0, 'Dm', 'Dm', 'F', 'F', 'C', 'C', 'G', 'G', 'Dm', 'Dm', 'F', 'F', 'C', 'C', 'G', 'G', 'Dm', 'Dm', 'F', 'F', 'C', 'C', 'G', 'G', 'Dm', 'Dm', 'F', 'F', 'C', 'C', 'G', 'G', 'Dm', 'Dm', 'F', 'F', 'C', 'C', 'G', 'G', 'Dm', 'Dm', 'F', 'F', 'C', 'C', 'G', 'G', 'Dm', 'Dm', 'F', 'F', 'C', 'C', 'G', 'G', 'Dm', 'Dm', 'F', 'F', 'C', 'C', 'G', 'G', 'Dm', 'Dm', 'F', 'F', 'C', 'C', 'G', 'G', 'F', 'F', 'F', 'F', 'C', 'C', 'Dm', 'Dm', 'F', 'F', 'F', 'F', 'C', 'C', 'Dm', 'Dm', 'F', 'F', 'F', 'F', 'C', 'C', 'Dm', 'Dm', 'F', 'F', 'F', 'F', 'A', 'A', 'A', 0, 'Dm', 'Dm', 'F', 'F', 'C', 'C', 'G', 'G', 'Dm', 'Dm', 'F', 'F', 'C', 'C', 'G', 'G', 'F', 'F', 'F', 'F', 'C', 'C', 'Dm', 'Dm', 'F', 'F', 'F', 'F', 'C', 'C', 'Dm', 'Dm', 'F', 0, 'F', 0, 'C', 'C', 'Dm', 'Dm', 'F', 0, 'F', 0, 'A', 'A', 'A', 'A', 'A', 'A', 'A', 0, 0, 0, 0, 0, 0, 0, 0, 0, 0, 0, 0, 0, 0, 0, 0, 'G', 'F', 'F', 'F', 'F', 'C', 'C', 'Dm', 'Dm', 'F', 'F', 'F', 'F', 'C', 'C', 'Dm', 'Dm', 'F', 'F', 'F', 'F', 'C', 'C', 'Dm', 'Dm', 'F', 'F', 'F', 'F', 'A', 'A', 'A', 'A', 'A', 'A', 'A', 'A', 0, 0, 0, 0, 0, 0, 0, 0, 0, 0, 0, 0, 0, 0, 0, 0, 0, 0, 0, 0, 0, 0, 0, 0, 0, 0, 0, 0, 0, 0, 0, 0, 0, 0, 0, 0, 0, 0, 0, 0, 0, 0, 0, 0, 'F', 'G']\n",
    "\n",
    "Dominantgram_4freq = Dominantlist_to_Dominantgram_4freq(aaalist)\n",
    "\n",
    "Dominantdict_4freq = Dominantgram_to_Dominantdict_4freq(Dominantgram_4freq)\n",
    "\n",
    "Dominantsorted_4freq=sorted(Dominantdict_4freq.items(), key=itemgetter(1), reverse=True)\n",
    "\n",
    "print Dominantsorted_4freq"
   ]
  },
  {
   "cell_type": "code",
   "execution_count": 52,
   "metadata": {
    "collapsed": false
   },
   "outputs": [
    {
     "name": "stdout",
     "output_type": "stream",
     "text": [
      "[((0, 0, 0, 0, 0, 0, 0, 0), 46), (('Dm', 'Dm', 'F', 'F', 'C', 'C', 'G', 'G'), 20), (('C', 'G', 'G', 'Dm', 'Dm', 'F', 'F', 'C'), 17), (('Dm', 'F', 'F', 'C', 'C', 'G', 'G', 'Dm'), 17), (('F', 'C', 'C', 'G', 'G', 'Dm', 'Dm', 'F'), 17), (('F', 'F', 'C', 'C', 'G', 'G', 'Dm', 'Dm'), 17), (('G', 'G', 'Dm', 'Dm', 'F', 'F', 'C', 'C'), 17), (('C', 'C', 'G', 'G', 'Dm', 'Dm', 'F', 'F'), 17), (('G', 'Dm', 'Dm', 'F', 'F', 'C', 'C', 'G'), 17), (('F', 'F', 'F', 'F', 'C', 'C', 'Dm', 'Dm'), 11), (('F', 'F', 'F', 'C', 'C', 'Dm', 'Dm', 'F'), 11), (('C', 'C', 'Dm', 'Dm', 'F', 'F', 'F', 'F'), 10), (('F', 'F', 'C', 'C', 'Dm', 'Dm', 'F', 'F'), 10), (('F', 'C', 'C', 'Dm', 'Dm', 'F', 'F', 'F'), 10), (('C', 'Dm', 'Dm', 'F', 'F', 'F', 'F', 'C'), 7), (('Dm', 'F', 'F', 'F', 'F', 'C', 'C', 'Dm'), 7), (('Dm', 'Dm', 'F', 'F', 'F', 'F', 'C', 'C'), 7), (('G', 'F', 'F', 'F', 'F', 'C', 'C', 'Dm'), 4), (('Dm', 'Dm', 'F', 'F', 'F', 'F', 'A', 'A'), 3), (('F', 'C', 'C', 'G', 'G', 'F', 'F', 'F'), 3), (('C', 'G', 'G', 'F', 'F', 'F', 'F', 'C'), 3), (('C', 'Dm', 'Dm', 'F', 'F', 'F', 'F', 'A'), 3), (('G', 'G', 'F', 'F', 'F', 'F', 'C', 'C'), 3), (('Dm', 'F', 'F', 'F', 'F', 'A', 'A', 'A'), 3), (('F', 'F', 'C', 'C', 'G', 'G', 'F', 'F'), 3), (('C', 'C', 'G', 'G', 'F', 'F', 'F', 'F'), 3), (('Dm', 'F', 'F', 'C', 'C', 'G', 'G', 'F'), 3), (('A', 'A', 0, 0, 0, 0, 0, 0), 2), (('F', 'F', 'F', 'F', 'A', 'A', 'A', 0), 2), (('A', 'A', 'A', 0, 0, 0, 0, 0), 2), (('A', 'A', 0, 'Dm', 'Dm', 'F', 'F', 'C'), 2), (('A', 'A', 'A', 'A', 0, 0, 0, 0), 2), (('A', 0, 'Dm', 'Dm', 'F', 'F', 'C', 'C'), 2), ((0, 'Dm', 'Dm', 'F', 'F', 'C', 'C', 'G'), 2), (('F', 'F', 'F', 'A', 'A', 'A', 0, 'Dm'), 2), (('A', 'A', 'A', 0, 'Dm', 'Dm', 'F', 'F'), 2), (('A', 'A', 'A', 'A', 'A', 0, 0, 0), 2), (('A', 'A', 'A', 'A', 'A', 'A', 'A', 0), 2), (('F', 'F', 'A', 'A', 'A', 0, 'Dm', 'Dm'), 2), (('C', 'C', 'Dm', 'Dm', 'F', 0, 'F', 0), 2), (('A', 'A', 'A', 'A', 'A', 'A', 0, 0), 2), (('F', 'A', 'A', 'A', 0, 'Dm', 'Dm', 'F'), 2), (('A', 0, 0, 0, 0, 0, 0, 0), 2), ((0, 'F', 0, 'A', 'A', 'A', 'A', 'A'), 1), ((0, 0, 0, 'G', 'F', 'F', 'F', 'F'), 1), (('Dm', 'F', 0, 'F', 0, 'A', 'A', 'A'), 1), (('Dm', 'Dm', 'F', 0, 'F', 0, 'C', 'C'), 1), (('F', 0, 'A', 'A', 'A', 'A', 'A', 'A'), 1), (('F', 0, 'F', 0, 'C', 'C', 'Dm', 'Dm'), 1), ((0, 0, 'G', 'F', 'F', 'F', 'F', 'C'), 1), ((0, 0, 0, 0, 'G', 'F', 'F', 'F'), 1), ((0, 'C', 'C', 'Dm', 'Dm', 'F', 0, 'F'), 1), ((0, 'A', 'A', 'A', 'A', 'A', 'A', 'A'), 1), ((0, 'G', 'F', 'F', 'F', 'F', 'C', 'C'), 1), (('F', 'F', 'C', 'C', 'Dm', 'Dm', 'F', 0), 1), (('A', 'A', 'A', 'A', 'A', 'A', 'A', 'A'), 1), ((0, 0, 0, 0, 0, 0, 0, 'F'), 1), (('F', 0, 'F', 0, 'A', 'A', 'A', 'A'), 1), (('F', 'F', 'F', 'F', 'A', 'A', 'A', 'A'), 1), (('F', 'C', 'C', 'Dm', 'Dm', 'F', 0, 'F'), 1), ((0, 'F', 0, 'C', 'C', 'Dm', 'Dm', 'F'), 1), (('F', 'A', 'A', 'A', 'A', 'A', 'A', 'A'), 1), ((0, 0, 0, 0, 0, 0, 0, 'G'), 1), (('Dm', 'F', 0, 'F', 0, 'C', 'C', 'Dm'), 1), (('C', 'Dm', 'Dm', 'F', 0, 'F', 0, 'C'), 1), (('Dm', 'Dm', 'F', 0, 'F', 0, 'A', 'A'), 1), ((0, 0, 0, 0, 0, 0, 'G', 'F'), 1), (('F', 0, 'C', 'C', 'Dm', 'Dm', 'F', 0), 1), (('C', 'Dm', 'Dm', 'F', 0, 'F', 0, 'A'), 1), (('F', 'F', 'F', 'A', 'A', 'A', 'A', 'A'), 1), ((0, 0, 0, 0, 0, 'G', 'F', 'F'), 1), (('F', 'F', 'A', 'A', 'A', 'A', 'A', 'A'), 1), ((0, 0, 0, 0, 0, 0, 'F', 'G'), 1)]\n"
     ]
    }
   ],
   "source": [
    "#一次抓8個\n",
    "from operator import itemgetter\n",
    "\n",
    "def Dominantlist_to_Dominantgram_8freq(Dominantlist):\n",
    "    return [Dominantlist[i:i+8] for i in range(0,len(Dominantlist)-7)]\n",
    "\n",
    "def Dominantgram_to_Dominantdict_8freq(Dominantgram):\n",
    "    Dominantdict=dict()\n",
    "    for (Dominant1,Dominant2,Dominant3,Dominant4,Dominant5,Dominant6,Dominant7,Dominant8) in Dominantgram:\n",
    "        Dominantdict[(Dominant1,Dominant2,Dominant3,Dominant4,Dominant5,Dominant6,Dominant7,Dominant8)] = \\\n",
    "        Dominantdict.get((Dominant1,Dominant2,Dominant3,Dominant4,Dominant5,Dominant6,Dominant7,Dominant8),0)+1\n",
    "    return Dominantdict\n",
    "\n",
    "Dominantlist = ['Dm', 'Dm', 'F', 'F', 'C', 'C', 'G', 'G', 'Dm', 'Dm', 'F', 'F', 'C', 'C', 'G', 'G', 'Dm', 'Dm', 'F', 'F', 'C', 'C', 'G', 'G', 'Dm', 'Dm', 'F', 'F', 'C', 'C', 'G', 'G', 'Dm', 'Dm', 'F', 'F', 'C', 'C', 'G', 'G', 'Dm', 'Dm', 'F', 'F', 'C', 'C', 'G', 'G', 'Dm', 'Dm', 'F', 'F', 'C', 'C', 'G', 'G', 'Dm', 'Dm', 'F', 'F', 'C', 'C', 'G', 'G', 'Dm', 'Dm', 'F', 'F', 'C', 'C', 'G', 'G', 'F', 'F', 'F', 'F', 'C', 'C', 'Dm', 'Dm', 'F', 'F', 'F', 'F', 'C', 'C', 'Dm', 'Dm', 'F', 'F', 'F', 'F', 'C', 'C', 'Dm', 'Dm', 'F', 'F', 'F', 'F', 'A', 'A', 'A', 0, 'Dm', 'Dm', 'F', 'F', 'C', 'C', 'G', 'G', 'Dm', 'Dm', 'F', 'F', 'C', 'C', 'G', 'G', 'Dm', 'Dm', 'F', 'F', 'C', 'C', 'G', 'G', 'Dm', 'Dm', 'F', 'F', 'C', 'C', 'G', 'G', 'Dm', 'Dm', 'F', 'F', 'C', 'C', 'G', 'G', 'Dm', 'Dm', 'F', 'F', 'C', 'C', 'G', 'G', 'Dm', 'Dm', 'F', 'F', 'C', 'C', 'G', 'G', 'Dm', 'Dm', 'F', 'F', 'C', 'C', 'G', 'G', 'Dm', 'Dm', 'F', 'F', 'C', 'C', 'G', 'G', 'F', 'F', 'F', 'F', 'C', 'C', 'Dm', 'Dm', 'F', 'F', 'F', 'F', 'C', 'C', 'Dm', 'Dm', 'F', 'F', 'F', 'F', 'C', 'C', 'Dm', 'Dm', 'F', 'F', 'F', 'F', 'A', 'A', 'A', 0, 'Dm', 'Dm', 'F', 'F', 'C', 'C', 'G', 'G', 'Dm', 'Dm', 'F', 'F', 'C', 'C', 'G', 'G', 'F', 'F', 'F', 'F', 'C', 'C', 'Dm', 'Dm', 'F', 'F', 'F', 'F', 'C', 'C', 'Dm', 'Dm', 'F', 0, 'F', 0, 'C', 'C', 'Dm', 'Dm', 'F', 0, 'F', 0, 'A', 'A', 'A', 'A', 'A', 'A', 'A', 0, 0, 0, 0, 0, 0, 0, 0, 0, 0, 0, 0, 0, 0, 0, 0, 'G', 'F', 'F', 'F', 'F', 'C', 'C', 'Dm', 'Dm', 'F', 'F', 'F', 'F', 'C', 'C', 'Dm', 'Dm', 'F', 'F', 'F', 'F', 'C', 'C', 'Dm', 'Dm', 'F', 'F', 'F', 'F', 'A', 'A', 'A', 'A', 'A', 'A', 'A', 'A', 0, 0, 0, 0, 0, 0, 0, 0, 0, 0, 0, 0, 0, 0, 0, 0, 0, 0, 0, 0, 0, 0, 0, 0, 0, 0, 0, 0, 0, 0, 0, 0, 0, 0, 0, 0, 0, 0, 0, 0, 0, 0, 0, 0, 'F', 'G']\n",
    "\n",
    "Dominantgram_8freq = Dominantlist_to_Dominantgram_8freq(aaalist)\n",
    "\n",
    "Dominantdict_8freq = Dominantgram_to_Dominantdict_8freq(Dominantgram_8freq)\n",
    "\n",
    "Dominantsorted_8freq=sorted(Dominantdict_8freq.items(), key=itemgetter(1), reverse=True)\n",
    "\n",
    "print Dominantsorted_8freq"
   ]
  },
  {
   "cell_type": "code",
   "execution_count": 56,
   "metadata": {
    "collapsed": false
   },
   "outputs": [
    {
     "name": "stdout",
     "output_type": "stream",
     "text": [
      "[((0, 0, 0, 0, 0, 0, 0, 0, 0, 0, 0, 0, 0, 0, 0, 0), 30), (('Dm', 'Dm', 'F', 'F', 'C', 'C', 'G', 'G', 'Dm', 'Dm', 'F', 'F', 'C', 'C', 'G', 'G'), 17), (('C', 'G', 'G', 'Dm', 'Dm', 'F', 'F', 'C', 'C', 'G', 'G', 'Dm', 'Dm', 'F', 'F', 'C'), 14), (('F', 'F', 'C', 'C', 'G', 'G', 'Dm', 'Dm', 'F', 'F', 'C', 'C', 'G', 'G', 'Dm', 'Dm'), 14), (('Dm', 'F', 'F', 'C', 'C', 'G', 'G', 'Dm', 'Dm', 'F', 'F', 'C', 'C', 'G', 'G', 'Dm'), 14), (('G', 'Dm', 'Dm', 'F', 'F', 'C', 'C', 'G', 'G', 'Dm', 'Dm', 'F', 'F', 'C', 'C', 'G'), 14), (('G', 'G', 'Dm', 'Dm', 'F', 'F', 'C', 'C', 'G', 'G', 'Dm', 'Dm', 'F', 'F', 'C', 'C'), 14), (('C', 'C', 'G', 'G', 'Dm', 'Dm', 'F', 'F', 'C', 'C', 'G', 'G', 'Dm', 'Dm', 'F', 'F'), 14), (('F', 'C', 'C', 'G', 'G', 'Dm', 'Dm', 'F', 'F', 'C', 'C', 'G', 'G', 'Dm', 'Dm', 'F'), 14), (('F', 'F', 'F', 'C', 'C', 'Dm', 'Dm', 'F', 'F', 'F', 'F', 'C', 'C', 'Dm', 'Dm', 'F'), 7), (('F', 'F', 'F', 'F', 'C', 'C', 'Dm', 'Dm', 'F', 'F', 'F', 'F', 'C', 'C', 'Dm', 'Dm'), 7), (('F', 'C', 'C', 'Dm', 'Dm', 'F', 'F', 'F', 'F', 'C', 'C', 'Dm', 'Dm', 'F', 'F', 'F'), 6), (('F', 'F', 'C', 'C', 'Dm', 'Dm', 'F', 'F', 'F', 'F', 'C', 'C', 'Dm', 'Dm', 'F', 'F'), 6), (('C', 'C', 'Dm', 'Dm', 'F', 'F', 'F', 'F', 'C', 'C', 'Dm', 'Dm', 'F', 'F', 'F', 'F'), 6), (('G', 'F', 'F', 'F', 'F', 'C', 'C', 'Dm', 'Dm', 'F', 'F', 'F', 'F', 'C', 'C', 'Dm'), 4), (('G', 'G', 'F', 'F', 'F', 'F', 'C', 'C', 'Dm', 'Dm', 'F', 'F', 'F', 'F', 'C', 'C'), 3), (('Dm', 'F', 'F', 'C', 'C', 'G', 'G', 'Dm', 'Dm', 'F', 'F', 'C', 'C', 'G', 'G', 'F'), 3), (('Dm', 'F', 'F', 'F', 'F', 'C', 'C', 'Dm', 'Dm', 'F', 'F', 'F', 'F', 'A', 'A', 'A'), 3), (('Dm', 'F', 'F', 'C', 'C', 'G', 'G', 'F', 'F', 'F', 'F', 'C', 'C', 'Dm', 'Dm', 'F'), 3), (('G', 'Dm', 'Dm', 'F', 'F', 'C', 'C', 'G', 'G', 'F', 'F', 'F', 'F', 'C', 'C', 'Dm'), 3), (('Dm', 'Dm', 'F', 'F', 'C', 'C', 'G', 'G', 'F', 'F', 'F', 'F', 'C', 'C', 'Dm', 'Dm'), 3), (('Dm', 'F', 'F', 'F', 'F', 'C', 'C', 'Dm', 'Dm', 'F', 'F', 'F', 'F', 'C', 'C', 'Dm'), 3), (('C', 'G', 'G', 'Dm', 'Dm', 'F', 'F', 'C', 'C', 'G', 'G', 'F', 'F', 'F', 'F', 'C'), 3), (('F', 'F', 'C', 'C', 'G', 'G', 'Dm', 'Dm', 'F', 'F', 'C', 'C', 'G', 'G', 'F', 'F'), 3), (('C', 'G', 'G', 'F', 'F', 'F', 'F', 'C', 'C', 'Dm', 'Dm', 'F', 'F', 'F', 'F', 'C'), 3), (('G', 'G', 'Dm', 'Dm', 'F', 'F', 'C', 'C', 'G', 'G', 'F', 'F', 'F', 'F', 'C', 'C'), 3), (('F', 'F', 'C', 'C', 'G', 'G', 'F', 'F', 'F', 'F', 'C', 'C', 'Dm', 'Dm', 'F', 'F'), 3), (('C', 'C', 'G', 'G', 'F', 'F', 'F', 'F', 'C', 'C', 'Dm', 'Dm', 'F', 'F', 'F', 'F'), 3), (('C', 'Dm', 'Dm', 'F', 'F', 'F', 'F', 'C', 'C', 'Dm', 'Dm', 'F', 'F', 'F', 'F', 'A'), 3), (('F', 'C', 'C', 'G', 'G', 'Dm', 'Dm', 'F', 'F', 'C', 'C', 'G', 'G', 'F', 'F', 'F'), 3), (('C', 'Dm', 'Dm', 'F', 'F', 'F', 'F', 'C', 'C', 'Dm', 'Dm', 'F', 'F', 'F', 'F', 'C'), 3), (('C', 'C', 'G', 'G', 'Dm', 'Dm', 'F', 'F', 'C', 'C', 'G', 'G', 'F', 'F', 'F', 'F'), 3), (('Dm', 'Dm', 'F', 'F', 'F', 'F', 'C', 'C', 'Dm', 'Dm', 'F', 'F', 'F', 'F', 'A', 'A'), 3), (('Dm', 'Dm', 'F', 'F', 'F', 'F', 'C', 'C', 'Dm', 'Dm', 'F', 'F', 'F', 'F', 'C', 'C'), 3), (('F', 'C', 'C', 'G', 'G', 'F', 'F', 'F', 'F', 'C', 'C', 'Dm', 'Dm', 'F', 'F', 'F'), 3), (('A', 'A', 0, 'Dm', 'Dm', 'F', 'F', 'C', 'C', 'G', 'G', 'Dm', 'Dm', 'F', 'F', 'C'), 2), (('A', 'A', 'A', 'A', 'A', 'A', 'A', 0, 0, 0, 0, 0, 0, 0, 0, 0), 2), (('F', 'F', 'F', 'A', 'A', 'A', 0, 'Dm', 'Dm', 'F', 'F', 'C', 'C', 'G', 'G', 'Dm'), 2), (('F', 'C', 'C', 'Dm', 'Dm', 'F', 'F', 'F', 'F', 'A', 'A', 'A', 0, 'Dm', 'Dm', 'F'), 2), (('C', 'C', 'Dm', 'Dm', 'F', 'F', 'F', 'F', 'A', 'A', 'A', 0, 'Dm', 'Dm', 'F', 'F'), 2), (('A', 0, 0, 0, 0, 0, 0, 0, 0, 0, 0, 0, 0, 0, 0, 0), 2), (('C', 'Dm', 'Dm', 'F', 'F', 'F', 'F', 'A', 'A', 'A', 0, 'Dm', 'Dm', 'F', 'F', 'C'), 2), (('A', 'A', 'A', 'A', 0, 0, 0, 0, 0, 0, 0, 0, 0, 0, 0, 0), 2), (('F', 'A', 'A', 'A', 0, 'Dm', 'Dm', 'F', 'F', 'C', 'C', 'G', 'G', 'Dm', 'Dm', 'F'), 2), (('F', 'F', 'A', 'A', 'A', 0, 'Dm', 'Dm', 'F', 'F', 'C', 'C', 'G', 'G', 'Dm', 'Dm'), 2), (('F', 'F', 'F', 'F', 'A', 'A', 'A', 0, 'Dm', 'Dm', 'F', 'F', 'C', 'C', 'G', 'G'), 2), (('A', 'A', 'A', 0, 0, 0, 0, 0, 0, 0, 0, 0, 0, 0, 0, 0), 2), (('A', 0, 'Dm', 'Dm', 'F', 'F', 'C', 'C', 'G', 'G', 'Dm', 'Dm', 'F', 'F', 'C', 'C'), 2), (('A', 'A', 'A', 0, 'Dm', 'Dm', 'F', 'F', 'C', 'C', 'G', 'G', 'Dm', 'Dm', 'F', 'F'), 2), (('F', 'F', 'C', 'C', 'Dm', 'Dm', 'F', 'F', 'F', 'F', 'A', 'A', 'A', 0, 'Dm', 'Dm'), 2), (('F', 'F', 'F', 'C', 'C', 'Dm', 'Dm', 'F', 'F', 'F', 'F', 'A', 'A', 'A', 0, 'Dm'), 2), (('F', 'F', 'F', 'F', 'C', 'C', 'Dm', 'Dm', 'F', 'F', 'F', 'F', 'A', 'A', 'A', 0), 2), (('A', 'A', 0, 0, 0, 0, 0, 0, 0, 0, 0, 0, 0, 0, 0, 0), 2), (('Dm', 'Dm', 'F', 'F', 'F', 'F', 'A', 'A', 'A', 0, 'Dm', 'Dm', 'F', 'F', 'C', 'C'), 2), (('A', 'A', 'A', 'A', 'A', 0, 0, 0, 0, 0, 0, 0, 0, 0, 0, 0), 2), ((0, 'Dm', 'Dm', 'F', 'F', 'C', 'C', 'G', 'G', 'Dm', 'Dm', 'F', 'F', 'C', 'C', 'G'), 2), (('A', 'A', 'A', 'A', 'A', 'A', 0, 0, 0, 0, 0, 0, 0, 0, 0, 0), 2), (('Dm', 'F', 'F', 'F', 'F', 'A', 'A', 'A', 0, 'Dm', 'Dm', 'F', 'F', 'C', 'C', 'G'), 2), (('F', 'F', 'F', 'A', 'A', 'A', 'A', 'A', 'A', 'A', 'A', 0, 0, 0, 0, 0), 1), (('F', 0, 'C', 'C', 'Dm', 'Dm', 'F', 0, 'F', 0, 'A', 'A', 'A', 'A', 'A', 'A'), 1), (('F', 'F', 'C', 'C', 'Dm', 'Dm', 'F', 'F', 'F', 'F', 'A', 'A', 'A', 'A', 'A', 'A'), 1), ((0, 0, 0, 0, 0, 0, 0, 0, 0, 0, 0, 0, 0, 'G', 'F', 'F'), 1), ((0, 0, 0, 0, 0, 0, 0, 0, 0, 0, 0, 0, 0, 0, 0, 'F'), 1), ((0, 0, 0, 0, 0, 0, 0, 0, 0, 0, 0, 'G', 'F', 'F', 'F', 'F'), 1), (('F', 'F', 'F', 'C', 'C', 'Dm', 'Dm', 'F', 'F', 'F', 'F', 'A', 'A', 'A', 'A', 'A'), 1), (('Dm', 'Dm', 'F', 'F', 'F', 'F', 'C', 'C', 'Dm', 'Dm', 'F', 0, 'F', 0, 'C', 'C'), 1), ((0, 0, 0, 0, 'G', 'F', 'F', 'F', 'F', 'C', 'C', 'Dm', 'Dm', 'F', 'F', 'F'), 1), (('F', 0, 'F', 0, 'A', 'A', 'A', 'A', 'A', 'A', 'A', 0, 0, 0, 0, 0), 1), ((0, 0, 0, 0, 0, 0, 0, 'G', 'F', 'F', 'F', 'F', 'C', 'C', 'Dm', 'Dm'), 1), (('Dm', 'F', 'F', 'F', 'F', 'C', 'C', 'Dm', 'Dm', 'F', 0, 'F', 0, 'C', 'C', 'Dm'), 1), (('F', 'F', 'F', 'C', 'C', 'Dm', 'Dm', 'F', 0, 'F', 0, 'C', 'C', 'Dm', 'Dm', 'F'), 1), ((0, 'F', 0, 'C', 'C', 'Dm', 'Dm', 'F', 0, 'F', 0, 'A', 'A', 'A', 'A', 'A'), 1), ((0, 0, 0, 0, 0, 0, 'G', 'F', 'F', 'F', 'F', 'C', 'C', 'Dm', 'Dm', 'F'), 1), ((0, 0, 0, 0, 0, 0, 0, 0, 0, 0, 0, 0, 0, 0, 'F', 'G'), 1), (('Dm', 'Dm', 'F', 0, 'F', 0, 'A', 'A', 'A', 'A', 'A', 'A', 'A', 0, 0, 0), 1), (('F', 'C', 'C', 'Dm', 'Dm', 'F', 'F', 'F', 'F', 'A', 'A', 'A', 'A', 'A', 'A', 'A'), 1), ((0, 0, 0, 0, 0, 0, 0, 0, 0, 0, 'G', 'F', 'F', 'F', 'F', 'C'), 1), ((0, 0, 0, 0, 0, 0, 0, 0, 0, 0, 0, 0, 'G', 'F', 'F', 'F'), 1), ((0, 0, 0, 'G', 'F', 'F', 'F', 'F', 'C', 'C', 'Dm', 'Dm', 'F', 'F', 'F', 'F'), 1), (('F', 0, 'F', 0, 'C', 'C', 'Dm', 'Dm', 'F', 0, 'F', 0, 'A', 'A', 'A', 'A'), 1), (('Dm', 'Dm', 'F', 0, 'F', 0, 'C', 'C', 'Dm', 'Dm', 'F', 0, 'F', 0, 'A', 'A'), 1), (('F', 'C', 'C', 'Dm', 'Dm', 'F', 'F', 'F', 'F', 'C', 'C', 'Dm', 'Dm', 'F', 0, 'F'), 1), ((0, 0, 0, 0, 0, 0, 0, 0, 'G', 'F', 'F', 'F', 'F', 'C', 'C', 'Dm'), 1), (('C', 'Dm', 'Dm', 'F', 'F', 'F', 'F', 'C', 'C', 'Dm', 'Dm', 'F', 0, 'F', 0, 'C'), 1), ((0, 'C', 'C', 'Dm', 'Dm', 'F', 0, 'F', 0, 'A', 'A', 'A', 'A', 'A', 'A', 'A'), 1), (('Dm', 'F', 0, 'F', 0, 'A', 'A', 'A', 'A', 'A', 'A', 'A', 0, 0, 0, 0), 1), (('F', 'F', 'F', 'F', 'C', 'C', 'Dm', 'Dm', 'F', 'F', 'F', 'F', 'A', 'A', 'A', 'A'), 1), (('Dm', 'F', 'F', 'F', 'F', 'A', 'A', 'A', 'A', 'A', 'A', 'A', 'A', 0, 0, 0), 1), ((0, 'F', 0, 'A', 'A', 'A', 'A', 'A', 'A', 'A', 0, 0, 0, 0, 0, 0), 1), (('Dm', 'Dm', 'F', 'F', 'F', 'F', 'A', 'A', 'A', 'A', 'A', 'A', 'A', 'A', 0, 0), 1), ((0, 'A', 'A', 'A', 'A', 'A', 'A', 'A', 0, 0, 0, 0, 0, 0, 0, 0), 1), ((0, 0, 0, 0, 0, 'G', 'F', 'F', 'F', 'F', 'C', 'C', 'Dm', 'Dm', 'F', 'F'), 1), ((0, 'G', 'F', 'F', 'F', 'F', 'C', 'C', 'Dm', 'Dm', 'F', 'F', 'F', 'F', 'C', 'C'), 1), ((0, 0, 0, 0, 0, 0, 0, 0, 0, 0, 0, 0, 0, 0, 'G', 'F'), 1), ((0, 0, 0, 0, 0, 0, 0, 0, 0, 0, 0, 0, 0, 0, 0, 'G'), 1), (('F', 'F', 'C', 'C', 'Dm', 'Dm', 'F', 'F', 'F', 'F', 'C', 'C', 'Dm', 'Dm', 'F', 0), 1), (('Dm', 'F', 0, 'F', 0, 'C', 'C', 'Dm', 'Dm', 'F', 0, 'F', 0, 'A', 'A', 'A'), 1), (('A', 'A', 'A', 'A', 'A', 'A', 'A', 'A', 0, 0, 0, 0, 0, 0, 0, 0), 1), (('F', 'F', 'C', 'C', 'Dm', 'Dm', 'F', 0, 'F', 0, 'C', 'C', 'Dm', 'Dm', 'F', 0), 1), (('C', 'C', 'Dm', 'Dm', 'F', 'F', 'F', 'F', 'A', 'A', 'A', 'A', 'A', 'A', 'A', 'A'), 1), (('C', 'Dm', 'Dm', 'F', 'F', 'F', 'F', 'A', 'A', 'A', 'A', 'A', 'A', 'A', 'A', 0), 1), (('C', 'Dm', 'Dm', 'F', 0, 'F', 0, 'A', 'A', 'A', 'A', 'A', 'A', 'A', 0, 0), 1), (('C', 'Dm', 'Dm', 'F', 0, 'F', 0, 'C', 'C', 'Dm', 'Dm', 'F', 0, 'F', 0, 'A'), 1), (('F', 'F', 'A', 'A', 'A', 'A', 'A', 'A', 'A', 'A', 0, 0, 0, 0, 0, 0), 1), (('F', 0, 'A', 'A', 'A', 'A', 'A', 'A', 'A', 0, 0, 0, 0, 0, 0, 0), 1), (('F', 'C', 'C', 'Dm', 'Dm', 'F', 0, 'F', 0, 'C', 'C', 'Dm', 'Dm', 'F', 0, 'F'), 1), (('C', 'C', 'Dm', 'Dm', 'F', 'F', 'F', 'F', 'C', 'C', 'Dm', 'Dm', 'F', 0, 'F', 0), 1), (('F', 'F', 'F', 'F', 'C', 'C', 'Dm', 'Dm', 'F', 0, 'F', 0, 'C', 'C', 'Dm', 'Dm'), 1), ((0, 0, 'G', 'F', 'F', 'F', 'F', 'C', 'C', 'Dm', 'Dm', 'F', 'F', 'F', 'F', 'C'), 1), (('F', 'F', 'F', 'F', 'A', 'A', 'A', 'A', 'A', 'A', 'A', 'A', 0, 0, 0, 0), 1), (('C', 'C', 'Dm', 'Dm', 'F', 0, 'F', 0, 'A', 'A', 'A', 'A', 'A', 'A', 'A', 0), 1), (('F', 'A', 'A', 'A', 'A', 'A', 'A', 'A', 'A', 0, 0, 0, 0, 0, 0, 0), 1), ((0, 0, 0, 0, 0, 0, 0, 0, 0, 'G', 'F', 'F', 'F', 'F', 'C', 'C'), 1), (('C', 'C', 'Dm', 'Dm', 'F', 0, 'F', 0, 'C', 'C', 'Dm', 'Dm', 'F', 0, 'F', 0), 1)]\n"
     ]
    }
   ],
   "source": [
    "#一次抓16個\n",
    "from operator import itemgetter\n",
    "\n",
    "def Dominantlist_to_Dominantgram_16freq(Dominantlist):\n",
    "    return [Dominantlist[i:i+16] for i in range(0,len(Dominantlist)-15)]\n",
    "\n",
    "def Dominantgram_to_Dominantdict_16freq(Dominantgram):\n",
    "    Dominantdict=dict()\n",
    "    for (Dominant1,Dominant2,Dominant3,Dominant4,Dominant5,Dominant6,Dominant7,Dominant8,\\\n",
    "        Dominant9,Dominant10,Dominant11,Dominant12,Dominant13,Dominant14,Dominant15,Dominant16)\\\n",
    "     in Dominantgram:\n",
    "        Dominantdict[(Dominant1,Dominant2,Dominant3,Dominant4,Dominant5,Dominant6,Dominant7,Dominant8,\\\n",
    "                     Dominant9,Dominant10,Dominant11,Dominant12,Dominant13,Dominant14,Dominant15,Dominant16)] = \\\n",
    "        Dominantdict.get((Dominant1,Dominant2,Dominant3,Dominant4,Dominant5,Dominant6,Dominant7,Dominant8,\\\n",
    "                         Dominant9,Dominant10,Dominant11,Dominant12,Dominant13,Dominant14,Dominant15,Dominant16),0)+1\n",
    "    return Dominantdict\n",
    "\n",
    "Dominantlist = ['Dm', 'Dm', 'F', 'F', 'C', 'C', 'G', 'G', 'Dm', 'Dm', 'F', 'F', 'C', 'C', 'G', 'G', 'Dm', 'Dm', 'F', 'F', 'C', 'C', 'G', 'G', 'Dm', 'Dm', 'F', 'F', 'C', 'C', 'G', 'G', 'Dm', 'Dm', 'F', 'F', 'C', 'C', 'G', 'G', 'Dm', 'Dm', 'F', 'F', 'C', 'C', 'G', 'G', 'Dm', 'Dm', 'F', 'F', 'C', 'C', 'G', 'G', 'Dm', 'Dm', 'F', 'F', 'C', 'C', 'G', 'G', 'Dm', 'Dm', 'F', 'F', 'C', 'C', 'G', 'G', 'F', 'F', 'F', 'F', 'C', 'C', 'Dm', 'Dm', 'F', 'F', 'F', 'F', 'C', 'C', 'Dm', 'Dm', 'F', 'F', 'F', 'F', 'C', 'C', 'Dm', 'Dm', 'F', 'F', 'F', 'F', 'A', 'A', 'A', 0, 'Dm', 'Dm', 'F', 'F', 'C', 'C', 'G', 'G', 'Dm', 'Dm', 'F', 'F', 'C', 'C', 'G', 'G', 'Dm', 'Dm', 'F', 'F', 'C', 'C', 'G', 'G', 'Dm', 'Dm', 'F', 'F', 'C', 'C', 'G', 'G', 'Dm', 'Dm', 'F', 'F', 'C', 'C', 'G', 'G', 'Dm', 'Dm', 'F', 'F', 'C', 'C', 'G', 'G', 'Dm', 'Dm', 'F', 'F', 'C', 'C', 'G', 'G', 'Dm', 'Dm', 'F', 'F', 'C', 'C', 'G', 'G', 'Dm', 'Dm', 'F', 'F', 'C', 'C', 'G', 'G', 'F', 'F', 'F', 'F', 'C', 'C', 'Dm', 'Dm', 'F', 'F', 'F', 'F', 'C', 'C', 'Dm', 'Dm', 'F', 'F', 'F', 'F', 'C', 'C', 'Dm', 'Dm', 'F', 'F', 'F', 'F', 'A', 'A', 'A', 0, 'Dm', 'Dm', 'F', 'F', 'C', 'C', 'G', 'G', 'Dm', 'Dm', 'F', 'F', 'C', 'C', 'G', 'G', 'F', 'F', 'F', 'F', 'C', 'C', 'Dm', 'Dm', 'F', 'F', 'F', 'F', 'C', 'C', 'Dm', 'Dm', 'F', 0, 'F', 0, 'C', 'C', 'Dm', 'Dm', 'F', 0, 'F', 0, 'A', 'A', 'A', 'A', 'A', 'A', 'A', 0, 0, 0, 0, 0, 0, 0, 0, 0, 0, 0, 0, 0, 0, 0, 0, 'G', 'F', 'F', 'F', 'F', 'C', 'C', 'Dm', 'Dm', 'F', 'F', 'F', 'F', 'C', 'C', 'Dm', 'Dm', 'F', 'F', 'F', 'F', 'C', 'C', 'Dm', 'Dm', 'F', 'F', 'F', 'F', 'A', 'A', 'A', 'A', 'A', 'A', 'A', 'A', 0, 0, 0, 0, 0, 0, 0, 0, 0, 0, 0, 0, 0, 0, 0, 0, 0, 0, 0, 0, 0, 0, 0, 0, 0, 0, 0, 0, 0, 0, 0, 0, 0, 0, 0, 0, 0, 0, 0, 0, 0, 0, 0, 0, 'F', 'G']\n",
    "\n",
    "Dominantgram_16freq = Dominantlist_to_Dominantgram_16freq(aaalist)\n",
    "\n",
    "Dominantdict_16freq = Dominantgram_to_Dominantdict_16freq(Dominantgram_16freq)\n",
    "\n",
    "Dominantsorted_16freq=sorted(Dominantdict_16freq.items(), key=itemgetter(1), reverse=True)\n",
    "\n",
    "print Dominantsorted_16freq"
   ]
  },
  {
   "cell_type": "code",
   "execution_count": 38,
   "metadata": {
    "collapsed": false
   },
   "outputs": [
    {
     "name": "stdout",
     "output_type": "stream",
     "text": [
      "[0, 1, 4, 9, 16]\n",
      "['\\xe5', '\\x90', '\\x83', '\\xe8', '\\x91', '\\xa1', '\\xe8', '\\x90', '\\x84', '\\xe4', '\\xb8', '\\x8d', '\\xe5', '\\x90', '\\x90', '\\xe8', '\\x91', '\\xa1', '\\xe8', '\\x90', '\\x84', '\\xe7', '\\x9a', '\\xae', '\\xef', '\\xbc', '\\x8c', '\\xe4', '\\xb8', '\\x8d', '\\xe5', '\\x90', '\\x83', '\\xe8', '\\x91', '\\xa1', '\\xe8', '\\x90', '\\x84', '\\xe5', '\\x80', '\\x92', '\\xe5', '\\x90', '\\x90', '\\xe8', '\\x91', '\\xa1', '\\xe8', '\\x90', '\\x84', '\\xe7', '\\x9a', '\\xae', '\\xe3', '\\x80', '\\x82']\n",
      "{'\\xa1': 4, '\\x80': 2, '\\x83': 2, '\\x82': 1, '\\xe5': 5, '\\x84': 4, '\\xe7': 2, '\\xe3': 1, '\\xe8': 8, '\\x8d': 2, '\\x8c': 1, '\\xef': 1, '\\xae': 2, '\\x91': 4, '\\x90': 10, '\\x92': 1, '\\xb8': 2, '\\x9a': 2, '\\xbc': 1, '\\xe4': 2}\n",
      "[('\\x90', 10), ('\\xe8', 8), ('\\xe5', 5), ('\\xa1', 4), ('\\x84', 4), ('\\x91', 4), ('\\x80', 2), ('\\x83', 2), ('\\xe7', 2), ('\\x8d', 2), ('\\xae', 2), ('\\xb8', 2), ('\\x9a', 2), ('\\xe4', 2), ('\\x82', 1), ('\\xe3', 1), ('\\x8c', 1), ('\\xef', 1), ('\\x92', 1), ('\\xbc', 1)]\n"
     ]
    }
   ],
   "source": [
    "#測試區\n",
    "series=(0,1,2,3,4)\n",
    "sqr_series=[num**2 for num in series]\n",
    "print(sqr_series)"
   ]
  },
  {
   "cell_type": "code",
   "execution_count": 43,
   "metadata": {
    "collapsed": false
   },
   "outputs": [
    {
     "name": "stdout",
     "output_type": "stream",
     "text": [
      "['\\xe5', '\\x90', '\\x83', '\\xe8', '\\x91', '\\xa1', '\\xe8', '\\x90', '\\x84', '\\xe4', '\\xb8', '\\x8d', '\\xe5', '\\x90', '\\x90', '\\xe8', '\\x91', '\\xa1', '\\xe8', '\\x90', '\\x84', '\\xe7', '\\x9a', '\\xae', '\\xef', '\\xbc', '\\x8c', '\\xe4', '\\xb8', '\\x8d', '\\xe5', '\\x90', '\\x83', '\\xe8', '\\x91', '\\xa1', '\\xe8', '\\x90', '\\x84', '\\xe5', '\\x80', '\\x92', '\\xe5', '\\x90', '\\x90', '\\xe8', '\\x91', '\\xa1', '\\xe8', '\\x90', '\\x84', '\\xe7', '\\x9a', '\\xae', '\\xe3', '\\x80', '\\x82']\n",
      "{'\\xa1': 4, '\\x80': 2, '\\x83': 2, '\\x82': 1, '\\xe5': 5, '\\x84': 4, '\\xe7': 2, '\\xe3': 1, '\\xe8': 8, '\\x8d': 2, '\\x8c': 1, '\\xef': 1, '\\xae': 2, '\\x91': 4, '\\x90': 10, '\\x92': 1, '\\xb8': 2, '\\x9a': 2, '\\xbc': 1, '\\xe4': 2}\n",
      "[('\\x90', 10), ('\\xe8', 8), ('\\xe5', 5), ('\\xa1', 4), ('\\x84', 4), ('\\x91', 4), ('\\x80', 2), ('\\x83', 2), ('\\xe7', 2), ('\\x8d', 2), ('\\xae', 2), ('\\xb8', 2), ('\\x9a', 2), ('\\xe4', 2), ('\\x82', 1), ('\\xe3', 1), ('\\x8c', 1), ('\\xef', 1), ('\\x92', 1), ('\\xbc', 1)]\n"
     ]
    }
   ],
   "source": [
    "#測試區\n",
    "def list2freqdict(mylist):\n",
    "    mydict=dict()\n",
    "    for ch in mylist:\n",
    "        mydict[ch]=mydict.get(ch,0)+1\n",
    "    return mydict\n",
    "\n",
    "\n",
    "sentence='吃葡萄不吐葡萄皮，不吃葡萄倒吐葡萄皮。'\n",
    "chlist=[ch for ch in sentence]\n",
    "print chlist\n",
    "\n",
    "\n",
    "chfreqdict=list2freqdict(chlist)\n",
    "print chfreqdict\n",
    "\n",
    "\n",
    "from operator import itemgetter\n",
    "chfreqsorted=sorted(chfreqdict.items(), key=itemgetter(1), reverse=True)\n",
    "print chfreqsorted\n",
    "\n",
    "\n",
    "chfreqsorted2=chfreqsorted[:5]\n",
    "\n",
    "chfreqsorted3=list()\n",
    "for (ch,num) in chfreqsorted:\n",
    "    if num > 1:\n",
    "        chfreqsorted3.append((ch,num))    \n",
    "\n",
    "print(chfreqsorted2)\n",
    "print(chfreqsorted3)\n",
    "\n",
    "#兩字，三字\n",
    "def list2bigram(mylist):\n",
    "    return [mylist[i:i+2] for i in range(0,len(mylist)-1)]\n",
    "\n",
    "def list2trigram(mylist):\n",
    "    return [mylist[i:i+3] for i in range(0,len(mylist)-2)]\n",
    "\n",
    "chbigram=list2bigram(chlist)\n",
    "chtrigram=list2trigram(chlist)\n",
    "print(chbigram)\n",
    "print(chtrigram)\n",
    "\n",
    "def bigram2freqdict(mybigram):\n",
    "    mydict=dict()\n",
    "    for (ch1,ch2) in mybigram:\n",
    "        mydict[(ch1,ch2)]=mydict.get((ch1,ch2),0)+1\n",
    "    return mydict\n",
    "\n",
    "def trigram2freqdict(mytrigram):\n",
    "    mydict=dict()\n",
    "    for (ch1,ch2,ch3) in mytrigram:\n",
    "        mydict[(ch1,ch2,ch3)]=mydict.get((ch1,ch2,ch3),0)+1\n",
    "    return mydict\n",
    "\n",
    "bigramfreqdict=bigram2freqdict(chbigram)\n",
    "trigramfreqdict=trigram2freqdict(chtrigram)\n",
    "print(bigramfreqdict)\n",
    "print(trigramfreqdict)\n",
    "\n",
    "\n",
    "bigramfreqsorted=sorted(bigramfreqdict.items(), key=itemgetter(1), reverse=True)\n",
    "trigramfreqsorted=sorted(trigramfreqdict.items(), key=itemgetter(1), reverse=True)\n",
    "print(bigramfreqsorted[:5])\n",
    "print(trigramfreqsorted[:5])\n",
    "\n",
    "def freq2report(freqlist):\n",
    "    chs=str()\n",
    "    print('Char(s)\\tCount')\n",
    "    print('=============')\n",
    "    for (token,num) in freqlist:\n",
    "        for ch in token:\n",
    "            chs=chs+ch\n",
    "        print(chs,'\\t',num)\n",
    "        chs=''\n",
    "    return\n",
    "\n",
    "freq2report(chfreqsorted)\n",
    "freq2report(bigramfreqsorted)\n",
    "freq2report(trigramfreqsorted)"
   ]
  },
  {
   "cell_type": "code",
   "execution_count": 45,
   "metadata": {
    "collapsed": false,
    "scrolled": true
   },
   "outputs": [
    {
     "name": "stdout",
     "output_type": "stream",
     "text": [
      "åè¡èä¸åè¡èç®ï¼ä¸åè¡èååè¡èç®ã\n",
      "<type 'unicode'>\n",
      "<type 'str'>\n"
     ]
    }
   ],
   "source": [
    "#測試區\n",
    "aaa = '\\xe5\\x90\\x83\\xe8\\x91\\xa1\\xe8\\x90\\x84\\xe4\\xb8\\x8d\\xe5\\x90\\x90\\xe8\\x91\\xa1\\xe8\\x90\\x84\\xe7\\x9a\\xae\\xef\\xbc\\x8c\\xe4\\xb8\\x8d\\xe5\\x90\\x83\\xe8\\x91\\xa1\\xe8\\x90\\x84\\xe5\\x80\\x92\\xe5\\x90\\x90\\xe8\\x91\\xa1\\xe8\\x90\\x84\\xe7\\x9a\\xae\\xe3\\x80\\x82' # It mean '單車'\n",
    "print aaa.decode('unicode-escape')\n",
    "p = (aaa.decode('unicode-escape'))\n",
    "print type(p)\n",
    "print type(aaa)"
   ]
  },
  {
   "cell_type": "code",
   "execution_count": 47,
   "metadata": {
    "collapsed": false,
    "scrolled": true
   },
   "outputs": [
    {
     "name": "stdout",
     "output_type": "stream",
     "text": [
      "['Dm', 'Dm', 'F', 'F', 'C', 'C', 'G', 'G', 'Dm', 'Dm', 'F', 'F', 'C', 'C', 'G', 'G', 'Dm', 'Dm', 'F', 'F', 'C', 'C', 'G', 'G', 'Dm', 'Dm', 'F', 'F', 'C', 'C', 'G', 'G', 'Dm', 'Dm', 'F', 'F', 'C', 'C', 'G', 'G', 'Dm', 'Dm', 'F', 'F', 'C', 'C', 'G', 'G', 'Dm', 'Dm', 'F', 'F', 'C', 'C', 'G', 'G', 'Dm', 'Dm', 'F', 'F', 'C', 'C', 'G', 'G', 'Dm', 'Dm', 'F', 'F', 'C', 'C', 'G', 'G', 'F', 'F', 'F', 'F', 'C', 'C', 'Dm', 'Dm', 'F', 'F', 'F', 'F', 'C', 'C', 'Dm', 'Dm', 'F', 'F', 'F', 'F', 'C', 'C', 'Dm', 'Dm', 'F', 'F', 'F', 'F', 'A', 'A', 'A', 0, 'Dm', 'Dm', 'F', 'F', 'C', 'C', 'G', 'G', 'Dm', 'Dm', 'F', 'F', 'C', 'C', 'G', 'G', 'Dm', 'Dm', 'F', 'F', 'C', 'C', 'G', 'G', 'Dm', 'Dm', 'F', 'F', 'C', 'C', 'G', 'G', 'Dm', 'Dm', 'F', 'F', 'C', 'C', 'G', 'G', 'Dm', 'Dm', 'F', 'F', 'C', 'C', 'G', 'G', 'Dm', 'Dm', 'F', 'F', 'C', 'C', 'G', 'G', 'Dm', 'Dm', 'F', 'F', 'C', 'C', 'G', 'G', 'Dm', 'Dm', 'F', 'F', 'C', 'C', 'G', 'G', 'F', 'F', 'F', 'F', 'C', 'C', 'Dm', 'Dm', 'F', 'F', 'F', 'F', 'C', 'C', 'Dm', 'Dm', 'F', 'F', 'F', 'F', 'C', 'C', 'Dm', 'Dm', 'F', 'F', 'F', 'F', 'A', 'A', 'A', 0, 'Dm', 'Dm', 'F', 'F', 'C', 'C', 'G', 'G', 'Dm', 'Dm', 'F', 'F', 'C', 'C', 'G', 'G', 'F', 'F', 'F', 'F', 'C', 'C', 'Dm', 'Dm', 'F', 'F', 'F', 'F', 'C', 'C', 'Dm', 'Dm', 'F', 0, 'F', 0, 'C', 'C', 'Dm', 'Dm', 'F', 0, 'F', 0, 'A', 'A', 'A', 'A', 'A', 'A', 'A', 0, 0, 0, 0, 0, 0, 0, 0, 0, 0, 0, 0, 0, 0, 0, 0, 'G', 'F', 'F', 'F', 'F', 'C', 'C', 'Dm', 'Dm', 'F', 'F', 'F', 'F', 'C', 'C', 'Dm', 'Dm', 'F', 'F', 'F', 'F', 'C', 'C', 'Dm', 'Dm', 'F', 'F', 'F', 'F', 'A', 'A', 'A', 'A', 'A', 'A', 'A', 'A', 0, 0, 0, 0, 0, 0, 0, 0, 0, 0, 0, 0, 0, 0, 0, 0, 0, 0, 0, 0, 0, 0, 0, 0, 0, 0, 0, 0, 0, 0, 0, 0, 0, 0, 0, 0, 0, 0, 0, 0, 0, 0, 0, 0, 'F', 'G']\n"
     ]
    }
   ],
   "source": [
    "#測試區\n",
    "chlist=['Dm', 'Dm', 'F', 'F', 'C', 'C', 'G', 'G', 'Dm', 'Dm', 'F', 'F', 'C', 'C', 'G', 'G', 'Dm', 'Dm', 'F', 'F', 'C', 'C', 'G', 'G', 'Dm', 'Dm', 'F', 'F', 'C', 'C', 'G', 'G', 'Dm', 'Dm', 'F', 'F', 'C', 'C', 'G', 'G', 'Dm', 'Dm', 'F', 'F', 'C', 'C', 'G', 'G', 'Dm', 'Dm', 'F', 'F', 'C', 'C', 'G', 'G', 'Dm', 'Dm', 'F', 'F', 'C', 'C', 'G', 'G', 'Dm', 'Dm', 'F', 'F', 'C', 'C', 'G', 'G', 'F', 'F', 'F', 'F', 'C', 'C', 'Dm', 'Dm', 'F', 'F', 'F', 'F', 'C', 'C', 'Dm', 'Dm', 'F', 'F', 'F', 'F', 'C', 'C', 'Dm', 'Dm', 'F', 'F', 'F', 'F', 'A', 'A', 'A', 0, 'Dm', 'Dm', 'F', 'F', 'C', 'C', 'G', 'G', 'Dm', 'Dm', 'F', 'F', 'C', 'C', 'G', 'G', 'Dm', 'Dm', 'F', 'F', 'C', 'C', 'G', 'G', 'Dm', 'Dm', 'F', 'F', 'C', 'C', 'G', 'G', 'Dm', 'Dm', 'F', 'F', 'C', 'C', 'G', 'G', 'Dm', 'Dm', 'F', 'F', 'C', 'C', 'G', 'G', 'Dm', 'Dm', 'F', 'F', 'C', 'C', 'G', 'G', 'Dm', 'Dm', 'F', 'F', 'C', 'C', 'G', 'G', 'Dm', 'Dm', 'F', 'F', 'C', 'C', 'G', 'G', 'F', 'F', 'F', 'F', 'C', 'C', 'Dm', 'Dm', 'F', 'F', 'F', 'F', 'C', 'C', 'Dm', 'Dm', 'F', 'F', 'F', 'F', 'C', 'C', 'Dm', 'Dm', 'F', 'F', 'F', 'F', 'A', 'A', 'A', 0, 'Dm', 'Dm', 'F', 'F', 'C', 'C', 'G', 'G', 'Dm', 'Dm', 'F', 'F', 'C', 'C', 'G', 'G', 'F', 'F', 'F', 'F', 'C', 'C', 'Dm', 'Dm', 'F', 'F', 'F', 'F', 'C', 'C', 'Dm', 'Dm', 'F', 0, 'F', 0, 'C', 'C', 'Dm', 'Dm', 'F', 0, 'F', 0, 'A', 'A', 'A', 'A', 'A', 'A', 'A', 0, 0, 0, 0, 0, 0, 0, 0, 0, 0, 0, 0, 0, 0, 0, 0, 'G', 'F', 'F', 'F', 'F', 'C', 'C', 'Dm', 'Dm', 'F', 'F', 'F', 'F', 'C', 'C', 'Dm', 'Dm', 'F', 'F', 'F', 'F', 'C', 'C', 'Dm', 'Dm', 'F', 'F', 'F', 'F', 'A', 'A', 'A', 'A', 'A', 'A', 'A', 'A', 0, 0, 0, 0, 0, 0, 0, 0, 0, 0, 0, 0, 0, 0, 0, 0, 0, 0, 0, 0, 0, 0, 0, 0, 0, 0, 0, 0, 0, 0, 0, 0, 0, 0, 0, 0, 0, 0, 0, 0, 0, 0, 0, 0, 'F', 'G']\n",
    "print chlist"
   ]
  },
  {
   "cell_type": "code",
   "execution_count": 50,
   "metadata": {
    "collapsed": false
   },
   "outputs": [
    {
     "name": "stdout",
     "output_type": "stream",
     "text": [
      "['\\xe5', '\\x90', '\\x83', '\\xe8', '\\x91', '\\xa1', '\\xe8', '\\x90', '\\x84', '\\xe4', '\\xb8', '\\x8d', '\\xe5', '\\x90', '\\x90', '\\xe8', '\\x91', '\\xa1', '\\xe8', '\\x90', '\\x84', '\\xe7', '\\x9a', '\\xae', '\\xef', '\\xbc', '\\x8c', '\\xe4', '\\xb8', '\\x8d', '\\xe5', '\\x90', '\\x83', '\\xe8', '\\x91', '\\xa1', '\\xe8', '\\x90', '\\x84', '\\xe5', '\\x80', '\\x92', '\\xe5', '\\x90', '\\x90', '\\xe8', '\\x91', '\\xa1', '\\xe8', '\\x90', '\\x84', '\\xe7', '\\x9a', '\\xae', '\\xe3', '\\x80', '\\x82']\n",
      "57\n"
     ]
    }
   ],
   "source": [
    "#測試區\n",
    "sentence='吃葡萄不吐葡萄皮，不吃葡萄倒吐葡萄皮。'\n",
    "chlist=[ch for ch in sentence]\n",
    "print chlist\n",
    "print len(chlist)"
   ]
  }
 ],
 "metadata": {
  "kernelspec": {
   "display_name": "Python 2",
   "language": "python",
   "name": "python2"
  },
  "language_info": {
   "codemirror_mode": {
    "name": "ipython",
    "version": 2
   },
   "file_extension": ".py",
   "mimetype": "text/x-python",
   "name": "python",
   "nbconvert_exporter": "python",
   "pygments_lexer": "ipython2",
   "version": "2.7.10"
  }
 },
 "nbformat": 4,
 "nbformat_minor": 0
}
