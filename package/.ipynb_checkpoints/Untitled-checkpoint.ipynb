{
 "cells": [
  {
   "cell_type": "code",
   "execution_count": 1,
   "metadata": {
    "collapsed": false
   },
   "outputs": [],
   "source": [
    "import musicMaker\n",
    "music = musicMaker.Music('C:/Users/BigData/Desktop/Leave Me Alone Im Lonely.mscx')"
   ]
  },
  {
   "cell_type": "code",
   "execution_count": 2,
   "metadata": {
    "collapsed": false
   },
   "outputs": [],
   "source": [
    "p = music.getChords()"
   ]
  },
  {
   "cell_type": "code",
   "execution_count": 3,
   "metadata": {
    "collapsed": false
   },
   "outputs": [
    {
     "name": "stdout",
     "output_type": "stream",
     "text": [
      "[0, 0, 0, 0, 'C', 'C', 'C', 'Em', 'Em', 'Am', 'Em', 'Em', 'C', 'C', 'Em', 'Em', 'Em', 'F', 'Dm', 'G', 'C', 'C', 'Em', 'Em', 'Em', 'F', 'Dm', 'G', 'C', 'C', 'Em', 'Em', 'C', 'C', 'G', 'G', 'C', 'C', 'Em', 'Em', 'C', 'C', 'G', 'G', 'C', 'C', 'C', 'Em', 'Em', 'F', 'Em', 'Em', 'Am', 'Am', 'G', 'G', 'F', 'F', 'F', 'C', 'C', 'C', 'Em', 'Em', 'C', 'C', 'G', 'G', 'C', 'C', 'Em', 'Em', 'C', 'C', 'G', 'G', 'C', 'C', 'C', 'Em', 'Em', 'Am', 'Em', 'Em', 'C', 'C', 'Em', 'Em', 'C', 'C', 'G', 'G', 'C', 'C', 'Em', 'Em', 'C', 'C', 'G', 'G', 'C', 'C', 'C', 'Em', 'Em', 'Am', 'Em', 'Em', 'Am', 'C', 'G', 'C', 'F', 'F', 'Em', 'C', 'C', 'C', 'Em', 'Em', 'C', 'C', 'G', 'G', 'C', 'C', 'Em', 'Em', 'C', 'C', 'G', 'G', 'F', 'Dm', 'G', 'G', 'C', 'G', 'G', 'Bdim', 'F', 'Dm', 'G', 'G', 'C', 'G', 'F', 'Dm', 'F', 'Dm', 'C', 'C', 'C', 'C', 'C', 'C', 'C', 'Em', 'Em', 'Am', 'Em', 'Em', 'C', 'C', 'C', 'Em', 'Em', 'Am', 'Em', 'Em', 'G', 'C', 'Em', 'Em', 'Em', 'F', 'Dm', 'G', 'G', 'C', 'Em', 'Em', 'Em', 'F', 'Dm', 'G', 'C', 'C', 'Em', 'Em', 'C', 'C', 'G', 'G', 'C', 'C', 'Em', 'Em', 'C', 'C', 'G', 'G', 'C', 'C', 'Em', 'Em', 'C', 'C', 'G', 'G', 'C', 'C', 'Em', 'Em', 'C', 'C', 'G', 'G', 'C', 'G', 'G', 'G', 'F', 'C', 'G', 'G', 'C', 'G', 'G', 'G', 'F', 'C', 'G', 'G', 'C', 'G', 'G', 'G', 'F', 'C', 'G', 'G', 'C', 'C', 0, 0]\n"
     ]
    }
   ],
   "source": [
    "print p"
   ]
  },
  {
   "cell_type": "code",
   "execution_count": 4,
   "metadata": {
    "collapsed": false
   },
   "outputs": [
    {
     "ename": "NameError",
     "evalue": "global name 'f' is not defined",
     "output_type": "error",
     "traceback": [
      "\u001b[1;31m---------------------------------------------------------------------------\u001b[0m",
      "\u001b[1;31mNameError\u001b[0m                                 Traceback (most recent call last)",
      "\u001b[1;32m<ipython-input-4-b93975b920b8>\u001b[0m in \u001b[0;36m<module>\u001b[1;34m()\u001b[0m\n\u001b[1;32m----> 1\u001b[1;33m \u001b[0mq\u001b[0m \u001b[1;33m=\u001b[0m \u001b[0mmusic\u001b[0m\u001b[1;33m.\u001b[0m\u001b[0mgetPercussions\u001b[0m\u001b[1;33m(\u001b[0m\u001b[1;33m)\u001b[0m\u001b[1;33m\u001b[0m\u001b[0m\n\u001b[0m",
      "\u001b[1;32mC:\\Users\\BigData\\python\\package\\musicMaker.py\u001b[0m in \u001b[0;36mgetPercussions\u001b[1;34m(self)\u001b[0m\n\u001b[0;32m     14\u001b[0m \u001b[1;33m\u001b[0m\u001b[0m\n\u001b[0;32m     15\u001b[0m         \u001b[1;32mdef\u001b[0m \u001b[0mgetPercussions\u001b[0m\u001b[1;33m(\u001b[0m\u001b[0mself\u001b[0m\u001b[1;33m)\u001b[0m\u001b[1;33m:\u001b[0m\u001b[1;33m\u001b[0m\u001b[0m\n\u001b[1;32m---> 16\u001b[1;33m                 \u001b[0mself\u001b[0m\u001b[1;33m.\u001b[0m\u001b[0mpercussion\u001b[0m \u001b[1;33m=\u001b[0m \u001b[0mrp\u001b[0m\u001b[1;33m(\u001b[0m\u001b[0mself\u001b[0m\u001b[1;33m.\u001b[0m\u001b[0mmusic\u001b[0m\u001b[1;33m)\u001b[0m\u001b[1;33m\u001b[0m\u001b[0m\n\u001b[0m\u001b[0;32m     17\u001b[0m                 \u001b[1;32mreturn\u001b[0m \u001b[0mself\u001b[0m\u001b[1;33m.\u001b[0m\u001b[0mpercussion\u001b[0m\u001b[1;33m\u001b[0m\u001b[0m\n\u001b[0;32m     18\u001b[0m \u001b[1;33m\u001b[0m\u001b[0m\n",
      "\u001b[1;32mC:\\Users\\BigData\\python\\package\\percussion\\extract_percussion.pyc\u001b[0m in \u001b[0;36mreturn_pattern\u001b[1;34m(music)\u001b[0m\n\u001b[0;32m     73\u001b[0m \u001b[1;33m\u001b[0m\u001b[0m\n\u001b[0;32m     74\u001b[0m \u001b[1;32mdef\u001b[0m \u001b[0mreturn_pattern\u001b[0m\u001b[1;33m(\u001b[0m\u001b[0mmusic\u001b[0m\u001b[1;33m)\u001b[0m\u001b[1;33m:\u001b[0m\u001b[1;33m\u001b[0m\u001b[0m\n\u001b[1;32m---> 75\u001b[1;33m         \u001b[0mmusic\u001b[0m \u001b[1;33m=\u001b[0m \u001b[0mbs\u001b[0m\u001b[1;33m(\u001b[0m\u001b[0mf\u001b[0m\u001b[1;33m.\u001b[0m\u001b[0mread\u001b[0m\u001b[1;33m(\u001b[0m\u001b[1;33m)\u001b[0m\u001b[1;33m,\u001b[0m\u001b[1;34m'xml'\u001b[0m\u001b[1;33m)\u001b[0m\u001b[1;33m\u001b[0m\u001b[0m\n\u001b[0m\u001b[0;32m     76\u001b[0m         \u001b[0mm\u001b[0m \u001b[1;33m=\u001b[0m \u001b[0mmusic\u001b[0m\u001b[1;33m.\u001b[0m\u001b[0mselect\u001b[0m\u001b[1;33m(\u001b[0m\u001b[1;34m'Part > Staff'\u001b[0m\u001b[1;33m)\u001b[0m\u001b[1;33m\u001b[0m\u001b[0m\n\u001b[0;32m     77\u001b[0m         \u001b[0mpercussions\u001b[0m \u001b[1;33m=\u001b[0m \u001b[0mfilter\u001b[0m\u001b[1;33m(\u001b[0m\u001b[1;32mlambda\u001b[0m \u001b[0mx\u001b[0m\u001b[1;33m:\u001b[0m \u001b[0mlen\u001b[0m\u001b[1;33m(\u001b[0m\u001b[0mx\u001b[0m\u001b[1;33m.\u001b[0m\u001b[0mselect\u001b[0m\u001b[1;33m(\u001b[0m\u001b[1;34m'defaultClef'\u001b[0m\u001b[1;33m)\u001b[0m\u001b[1;33m)\u001b[0m\u001b[1;33m>\u001b[0m\u001b[1;36m0\u001b[0m \u001b[1;32mand\u001b[0m \u001b[0mx\u001b[0m\u001b[1;33m.\u001b[0m\u001b[0mdefaultClef\u001b[0m\u001b[1;33m.\u001b[0m\u001b[0mtext\u001b[0m \u001b[1;33m==\u001b[0m \u001b[1;34m'PERC'\u001b[0m\u001b[1;33m,\u001b[0m \u001b[0mmusic\u001b[0m\u001b[1;33m.\u001b[0m\u001b[0mselect\u001b[0m\u001b[1;33m(\u001b[0m\u001b[1;34m'Part > Staff'\u001b[0m\u001b[1;33m)\u001b[0m\u001b[1;33m)\u001b[0m\u001b[1;33m\u001b[0m\u001b[0m\n",
      "\u001b[1;31mNameError\u001b[0m: global name 'f' is not defined"
     ]
    }
   ],
   "source": [
    "q = music.getPercussions()"
   ]
  },
  {
   "cell_type": "code",
   "execution_count": null,
   "metadata": {
    "collapsed": true
   },
   "outputs": [],
   "source": []
  }
 ],
 "metadata": {
  "kernelspec": {
   "display_name": "Python 2",
   "language": "python",
   "name": "python2"
  },
  "language_info": {
   "codemirror_mode": {
    "name": "ipython",
    "version": 2
   },
   "file_extension": ".py",
   "mimetype": "text/x-python",
   "name": "python",
   "nbconvert_exporter": "python",
   "pygments_lexer": "ipython2",
   "version": "2.7.10"
  }
 },
 "nbformat": 4,
 "nbformat_minor": 0
}
