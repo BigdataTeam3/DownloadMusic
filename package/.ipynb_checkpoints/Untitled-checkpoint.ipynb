{
 "cells": [
  {
   "cell_type": "code",
   "execution_count": 1,
   "metadata": {
    "collapsed": false
   },
   "outputs": [],
   "source": [
    "import musicMaker\n",
    "music = musicMaker.Music('E:/mscx/Offspring_Genocide.mid.mscx')"
   ]
  },
  {
   "cell_type": "code",
   "execution_count": 2,
   "metadata": {
    "collapsed": false
   },
   "outputs": [],
   "source": [
    "p = music.getChords()"
   ]
  },
  {
   "cell_type": "code",
   "execution_count": 11,
   "metadata": {
    "collapsed": false
   },
   "outputs": [
    {
     "name": "stdout",
     "output_type": "stream",
     "text": [
      "['Dm', 'Dm', 'Dm', 'Dm', 'C', 'C', 'G', 'G', 'Dm', 'Dm', 'Dm', 'Dm', 'C', 'C', 'G', 'G', 'Dm', 'Dm', 'Dm', 'Dm', 'C', 'C', 'G', 'G', 'Dm', 'Dm', 'Dm', 'Dm', 'C', 'C', 'G', 'G', 'Dm', 'Dm', 'Dm', 'Dm', 'C', 'G', 'C', 'F', 'Dm', 'Dm', 'Dm', 'Dm', 'C', 'G', 'G', 'F', 'Dm', 'Dm', 'Dm', 'Dm', 'Dm', 'Dm', 'Dm', 'Dm', 'Dm', 'Dm', 'Dm', 'Dm', 'Dm', 'Dm', 'G', 'G', 'Dm', 'Dm', 'F', 'F', 'C', 'C', 'Dm', 'Dm', 'Dm', 'Dm', 'F', 'F', 'C', 'C', 'Dm', 'Dm', 'Dm', 'Dm', 'Dm', 'Dm', 'C', 'C', 'G', 'G', 'Dm', 'Dm', 'Dm', 'Dm', 'C', 'C', 'G', 'G', 'Dm', 'Dm', 'Dm', 'Dm', 'C', 'G', 'C', 'F', 'Dm', 'Dm', 'Dm', 'Dm', 'C', 'G', 'C', 'F', 'Dm', 'Dm', 'Dm', 'Dm', 'C', 'C', 'G', 'G', 'Dm', 'Dm', 'Dm', 'Dm', 'C', 'C', 'G', 'G', 0, 'G', 'G', 'G', 'Dm', 'Dm', 'Dm', 'Dm', 'Dm', 'Dm', 'F', 'F', 'C', 'C', 'Dm', 'Dm', 'Dm', 'Dm', 'F', 'F', 'C', 'C', 'Dm', 'Dm', 'Dm', 'Dm', 'F', 'F', 'C', 'C', 'Dm', 'Dm', 'Dm', 'Dm', 'F', 'F', 'C', 'C', 'Dm', 'Dm', 'Dm', 'Dm', 'F', 'F', 'C', 'C', 'G', 'G', 'Dm', 'Dm', 'F', 'F', 'C', 'C', 'G', 'G', 'Dm', 'Dm', 'F', 'F', 'C', 'C', 'G', 'G', 'Dm', 'Dm', 'F', 'F', 'C', 'C', 'G', 'G', 'Dm', 'Dm', 'F', 'F', 'C', 'C', 'G', 'G', 'Dm', 'Dm', 'F', 'Dm', 'C', 'F', 'G', 'G', 'Dm', 'Dm', 'F', 'F', 'C', 'C', 'Dm', 'Dm', 'Dm', 'Dm', 'F', 'F', 'C', 'C', 'Dm', 'Dm', 'Dm', 'Dm', 'F', 'F', 'C', 'C', 'Dm', 'Dm', 'Dm', 'Dm', 'F', 'F', 'C', 'C', 'Dm', 'Dm', 'Dm', 'Dm', 'F', 'F', 'C', 'C', 'Dm', 'Dm', 'Dm', 'Dm', 'F', 'F', 'C', 'C', 'Dm', 'Dm', 'Dm', 'Dm', 0, 0]\n"
     ]
    }
   ],
   "source": [
    "print p"
   ]
  },
  {
   "cell_type": "code",
   "execution_count": 2,
   "metadata": {
    "collapsed": false
   },
   "outputs": [
    {
     "name": "stdout",
     "output_type": "stream",
     "text": [
      "error : ticking at the wrong time skip measure 92\n",
      "error : ticking at the wrong time skip measure 100\n",
      "error : ticking at the wrong time skip measure 101\n",
      "error : ticking at the wrong time skip measure 102\n",
      "error : ticking at the wrong time skip measure 103\n",
      "error : ticking at the wrong time skip measure 104\n"
     ]
    }
   ],
   "source": [
    "per_staffs = music.getPercussions()\n",
    "piched_staffs = music.getPichedStaffs()"
   ]
  },
  {
   "cell_type": "code",
   "execution_count": 5,
   "metadata": {
    "collapsed": false
   },
   "outputs": [
    {
     "name": "stdout",
     "output_type": "stream",
     "text": [
      "4\n",
      "5\n",
      "6\n",
      "1\n",
      "2\n"
     ]
    }
   ],
   "source": [
    "for a in piched_staffs:\n",
    "    print a.id"
   ]
  },
  {
   "cell_type": "code",
   "execution_count": 8,
   "metadata": {
    "collapsed": false
   },
   "outputs": [
    {
     "name": "stdout",
     "output_type": "stream",
     "text": [
      "{u'measure_18': {'track0': '1,0'}, u'measure_19': {'track0': '1,0'}, u'measure_16': {'track0': '1,0'}, u'measure_17': {'track0': '1,0'}, u'measure_14': {'track0': '1,0'}, u'measure_15': {'track0': '1,0'}, u'measure_12': {'track0': '1,0'}, u'measure_13': {'track0': '1,0'}, u'measure_10': {'track0': '1,0'}, u'measure_11': {'track0': '1,0'}, u'measure_52': {'track0': '0.25,0;0.25,54;0.25,0;0.25,54'}, u'measure_53': {'track0': '0.25,0;0.25,54;0.25,0;0.25,54'}, u'measure_50': {'track0': '0.25,0;0.25,54;0.25,0;0.25,54'}, u'measure_51': {'track0': '0.25,0;0.25,54;0.25,0;0.25,54'}, u'measure_56': {'track0': '0.25,0;0.25,54;0.25,0;0.25,54'}, u'measure_57': {'track0': '0.25,0;0.25,54;0.25,0;0.25,54'}, u'measure_54': {'track0': '0.25,0;0.25,54;0.25,0;0.25,54'}, u'measure_55': {'track0': '0.25,0;0.25,54;0.25,0;0.25,54'}, u'measure_58': {'track0': '0.25,0;0.25,54;0.25,0;0.25,54'}, u'measure_59': {'track0': '1,0'}, u'measure_96': {'track0': '0.25,0;0.25,54;0.25,0;0.25,54'}, u'measure_97': {'track0': '0.25,0;0.25,54;0.25,0;0.25,54'}, u'measure_94': {'track0': '0.25,0;0.25,54;0.25,0;0.25,54'}, u'measure_95': {'track0': '0.25,0;0.25,54;0.25,0;0.25,54'}, u'measure_92': {'track0': '0.25,0;0.25,54;0.25,0;0.25,54'}, u'measure_93': {'track0': '0.25,0;0.25,54;0.25,0;0.25,54'}, u'measure_90': {'track0': '0.25,0;0.25,54;0.25,0;0.25,54'}, u'measure_91': {'track0': '0.25,0;0.25,54;0.25,0;0.25,54'}, u'measure_98': {'track0': '0.25,0;0.25,54;0.25,0;0.25,54'}, u'measure_99': {'track0': '0.25,0;0.25,54;0.25,0;0.25,54'}, u'measure_102': {'track0': '1,0'}, u'measure_101': {'track0': '0.0625,54;0.1875,54;0.5,54;0.25,0'}, u'measure_100': {'track0': '0.25,0;0.25,54;0.25,0;0.125,54;0.125,54'}, u'measure_41': {'track0': '0.25,0;0.25,54;0.25,0;0.25,54'}, u'measure_40': {'track0': '0.25,0;0.25,54;0.25,0;0.25,54'}, u'measure_43': {'track0': '0.25,0;0.25,54;0.25,0;0.25,54'}, u'measure_42': {'track0': '0.25,0;0.25,54;0.25,0;0.25,54'}, u'measure_45': {'track0': '0.25,0;0.25,54;0.25,0;0.25,54'}, u'measure_44': {'track0': '0.25,0;0.25,54;0.25,0;0.25,54'}, u'measure_47': {'track0': '0.25,0;0.25,54;0.25,0;0.25,54'}, u'measure_46': {'track0': '0.25,0;0.25,54;0.25,0;0.25,54'}, u'measure_49': {'track0': '0.125,0;0.0625,0;0.0625,54;0.25,0;0.25,0;0.25,54'}, u'measure_48': {'track0': '0.25,0;0.25,54;0.25,0;0.25,54'}, u'measure_85': {'track0': '0.25,0;0.25,54;0.25,0;0.25,54'}, u'measure_84': {'track0': '1,0'}, u'measure_87': {'track0': '0.25,0;0.25,54;0.25,0;0.25,54'}, u'measure_86': {'track0': '0.25,0;0.25,54;0.25,0;0.25,54'}, u'measure_81': {'track0': '1,0'}, u'measure_80': {'track0': '1,0'}, u'measure_83': {'track0': '1,0'}, u'measure_82': {'track0': '1,0'}, u'measure_89': {'track0': '0.25,0;0.25,54;0.25,0;0.25,54'}, u'measure_88': {'track0': '0.25,0;0.25,54;0.25,0;0.25,54'}, u'measure_77': {'track0': '1,0'}, u'measure_30': {'track0': '1,0'}, u'measure_31': {'track0': '1,0'}, u'measure_32': {'track0': '1,0'}, u'measure_33': {'track0': '1,0'}, u'measure_34': {'track0': '1,0'}, u'measure_35': {'track0': '0.25,0;0.25,54;0.25,0;0.25,54'}, u'measure_36': {'track0': '0.25,0;0.25,54;0.25,0;0.25,54'}, u'measure_37': {'track0': '0.25,0;0.25,54;0.25,0;0.25,54'}, u'measure_38': {'track0': '0.25,0;0.25,54;0.25,0;0.25,54'}, u'measure_39': {'track0': '0.25,0;0.25,54;0.25,0;0.25,54'}, u'measure_69': {'track0': '1,0'}, u'measure_74': {'track0': '1,0'}, u'measure_75': {'track0': '1,0'}, u'measure_76': {'track0': '1,0'}, u'measure_24': {'track0': '1,0'}, u'measure_70': {'track0': '1,0'}, u'measure_71': {'track0': '1,0'}, u'measure_72': {'track0': '1,0'}, u'measure_73': {'track0': '1,0'}, u'measure_78': {'track0': '1,0'}, u'measure_79': {'track0': '1,0'}, u'measure_4': {'track0': '0.25,0;0.25,54;0.25,0;0.25,54'}, u'measure_5': {'track0': '0.25,0;0.25,54;0.25,0;0.25,54'}, u'measure_6': {'track0': '0.25,0;0.25,54;0.25,0;0.25,54'}, u'measure_7': {'track0': '0.25,0;0.25,54;0.25,0;0.25,54'}, u'measure_1': {'track0': '0.25,0;0.25,54;0.25,0;0.25,54'}, u'measure_2': {'track0': '0.25,0;0.25,54;0.25,0;0.25,54'}, u'measure_3': {'track0': '0.25,0;0.25,54;0.25,0;0.25,54'}, u'measure_8': {'track0': '0.25,0;0.25,54;0.25,0;0.25,54'}, u'measure_9': {'track0': '1,0'}, u'measure_27': {'track0': '1,0'}, u'measure_26': {'track0': '1,0'}, u'measure_25': {'track0': '1,0'}, u'measure_68': {'track0': '1,0'}, u'measure_23': {'track0': '1,0'}, u'measure_22': {'track0': '1,0'}, u'measure_21': {'track0': '1,0'}, u'measure_20': {'track0': '1,0'}, u'measure_63': {'track0': '1,0'}, u'measure_62': {'track0': '1,0'}, u'measure_61': {'track0': '1,0'}, u'measure_60': {'track0': '1,0'}, u'measure_67': {'track0': '1,0'}, u'measure_66': {'track0': '1,0'}, u'measure_65': {'track0': '1,0'}, u'measure_28': {'track0': '1,0'}, u'measure_29': {'track0': '1,0'}, u'measure_64': {'track0': '1,0'}}\n",
      "{'track0': '0.25,0;0.25,54;0.25,0;0.25,540.25,0;0.25,54;0.25,0;0.25,540.25,0;0.25,54;0.25,0;0.25,540.25,0;0.25,54;0.25,0;0.25,540.25,0;0.25,54;0.25,0;0.25,540.25,0;0.25,54;0.25,0;0.25,540.25,0;0.25,54;0.25,0;0.25,540.25,0;0.25,54;0.25,0;0.25,541,01,01,01,01,01,01,01,01,01,01,01,01,01,01,01,01,01,01,01,01,01,01,01,01,01,00.25,0;0.25,54;0.25,0;0.25,540.25,0;0.25,54;0.25,0;0.25,540.25,0;0.25,54;0.25,0;0.25,540.25,0;0.25,54;0.25,0;0.25,540.25,0;0.25,54;0.25,0;0.25,540.25,0;0.25,54;0.25,0;0.25,540.25,0;0.25,54;0.25,0;0.25,540.25,0;0.25,54;0.25,0;0.25,540.25,0;0.25,54;0.25,0;0.25,540.25,0;0.25,54;0.25,0;0.25,540.25,0;0.25,54;0.25,0;0.25,540.25,0;0.25,54;0.25,0;0.25,540.25,0;0.25,54;0.25,0;0.25,540.25,0;0.25,54;0.25,0;0.25,540.125,0;0.0625,0;0.0625,54;0.25,0;0.25,0;0.25,540.25,0;0.25,54;0.25,0;0.25,540.25,0;0.25,54;0.25,0;0.25,540.25,0;0.25,54;0.25,0;0.25,540.25,0;0.25,54;0.25,0;0.25,540.25,0;0.25,54;0.25,0;0.25,540.25,0;0.25,54;0.25,0;0.25,540.25,0;0.25,54;0.25,0;0.25,540.25,0;0.25,54;0.25,0;0.25,540.25,0;0.25,54;0.25,0;0.25,541,01,01,01,01,01,01,01,01,01,01,01,01,01,01,01,01,01,01,01,01,01,01,01,01,01,00.25,0;0.25,54;0.25,0;0.25,540.25,0;0.25,54;0.25,0;0.25,540.25,0;0.25,54;0.25,0;0.25,540.25,0;0.25,54;0.25,0;0.25,540.25,0;0.25,54;0.25,0;0.25,540.25,0;0.25,54;0.25,0;0.25,540.25,0;0.25,54;0.25,0;0.25,540.25,0;0.25,54;0.25,0;0.25,540.25,0;0.25,54;0.25,0;0.25,540.25,0;0.25,54;0.25,0;0.25,540.25,0;0.25,54;0.25,0;0.25,540.25,0;0.25,54;0.25,0;0.25,540.25,0;0.25,54;0.25,0;0.25,540.25,0;0.25,54;0.25,0;0.25,540.25,0;0.25,54;0.25,0;0.25,540.25,0;0.25,54;0.25,0;0.125,54;0.125,540.0625,54;0.1875,54;0.5,54;0.25,01,0'}\n"
     ]
    }
   ],
   "source": [
    "for staff in per_staffs:\n",
    "    print staff.content\n",
    "    print staff.joinByMeasure()\n",
    "#     print staff.pattern\n",
    "#     staff.resetSep(0.5,0.1)\n",
    "#     print staff.pattern\n",
    "#     print staff.patternDetail"
   ]
  },
  {
   "cell_type": "code",
   "execution_count": 6,
   "metadata": {
    "collapsed": false
   },
   "outputs": [
    {
     "name": "stdout",
     "output_type": "stream",
     "text": [
      "可用來比對的和弦組合\n",
      "[(('Am', 'Am', 'G', 'G', 'Am', 'Am', 'G', 'G'), 16), (('Am', 'Am', 'G', 'G', 'F', 'F', 'F', 'F'), 12), (('F', 'F', 'G', 'G', 'F', 'F', 'G', 'G'), 6), (('G', 'G', 'Am', 'Am', 'G', 'G', 'F', 'F'), 4), (('F', 'F', 'Am', 'Am', 'G', 'G', 'Am', 'Am'), 3), (('Em', 'Em', 'Am', 'Am', 'G', 'G', 'F', 'F'), 2), (('G', 'G', 'F', 'F', 'F', 'F', 'G', 'G'), 2), (('G', 'G', 'G', 'G', 'Em', 'Em', 'Em', 'Em'), 2), (('G', 'G', 'Em', 'Em', 'Em', 'Em', 'Am', 'Am'), 2), (('G', 'G', 'F', 'F', 'G', 'G', 'G', 'G'), 2), (('F', 'F', 'F', 'F', 'G', 'G', 'F', 'F'), 2), (('F', 'F', 'G', 'G', 'G', 'G', 'Em', 'Em'), 2), (('G', 'G', 'F', 'F', 'F', 'F', 'F', 'Am'), 1), (('F', 'F', 'F', 'F', 'F', 'Am', 'Am', 'Am'), 1)]\n",
      "總共有幾個和弦組合可用來比對 = 14\n",
      "用來比對的和弦\n",
      "('Am', 'Am', 'G', 'G', 'Am', 'Am', 'G', 'G')\n",
      "和弦組合當中，類似的組合\n",
      "8 ('Am', 'Am', 'G', 'G', 'Am', 'Am', 'G', 'G')\n",
      "4 ('Am', 'Am', 'G', 'G', 'F', 'F', 'F', 'F')\n",
      "4 ('F', 'F', 'G', 'G', 'F', 'F', 'G', 'G')\n",
      "0 ('G', 'G', 'Am', 'Am', 'G', 'G', 'F', 'F')\n",
      "0 ('F', 'F', 'Am', 'Am', 'G', 'G', 'Am', 'Am')\n",
      "0 ('Em', 'Em', 'Am', 'Am', 'G', 'G', 'F', 'F')\n",
      "2 ('G', 'G', 'F', 'F', 'F', 'F', 'G', 'G')\n",
      "2 ('G', 'G', 'G', 'G', 'Em', 'Em', 'Em', 'Em')\n",
      "0 ('G', 'G', 'Em', 'Em', 'Em', 'Em', 'Am', 'Am')\n",
      "2 ('G', 'G', 'F', 'F', 'G', 'G', 'G', 'G')\n",
      "0 ('F', 'F', 'F', 'F', 'G', 'G', 'F', 'F')\n",
      "2 ('F', 'F', 'G', 'G', 'G', 'G', 'Em', 'Em')\n",
      "0 ('G', 'G', 'F', 'F', 'F', 'F', 'F', 'Am')\n",
      "1 ('F', 'F', 'F', 'F', 'F', 'Am', 'Am', 'Am')\n",
      "挑選的結果\n",
      "[(('Am', 'Am', 'G', 'G', 'Am', 'Am', 'G', 'G'), 16)]\n",
      "歸類到最多次數的和弦\n",
      "(('Am', 'Am', 'G', 'G', 'Am', 'Am', 'G', 'G'), 16)\n",
      "None\n"
     ]
    }
   ],
   "source": [
    "\n",
    "print music.getGram(p,8,0)"
   ]
  },
  {
   "cell_type": "code",
   "execution_count": null,
   "metadata": {
    "collapsed": true
   },
   "outputs": [],
   "source": [
    "joinByMeasure"
   ]
  }
 ],
 "metadata": {
  "kernelspec": {
   "display_name": "Python 2",
   "language": "python",
   "name": "python2"
  },
  "language_info": {
   "codemirror_mode": {
    "name": "ipython",
    "version": 2
   },
   "file_extension": ".py",
   "mimetype": "text/x-python",
   "name": "python",
   "nbconvert_exporter": "python",
   "pygments_lexer": "ipython2",
   "version": "2.7.10"
  }
 },
 "nbformat": 4,
 "nbformat_minor": 0
}
