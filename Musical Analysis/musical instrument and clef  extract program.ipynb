{
 "cells": [
  {
   "cell_type": "code",
   "execution_count": 1,
   "metadata": {
    "collapsed": false
   },
   "outputs": [
    {
     "name": "stdout",
     "output_type": "stream",
     "text": [
      "Black Or White.xml\n",
      "Just The Way You Are.xml\n",
      "test2.xml\n"
     ]
    }
   ],
   "source": [
    "# musical instrument and clef  extraction \n",
    "# only xml file can totaly extract the musical instruments and clef; mscx will be lost\n",
    "\n",
    "import os\n",
    "from bs4 import BeautifulSoup as bs\n",
    "for filename in os.listdir('E:/music project/xml'):\n",
    "    path ='E:/music project/xml/'+ filename\n",
    "    f = open(path,'r')\n",
    "    fn = f.read()\n",
    "    f.close()\n",
    "    music = bs(fn,'xml')\n",
    "    lis = []\n",
    "    for score in music.select('score-part'):\n",
    "        for part in music.select('part'):\n",
    "            if score['id'] == part['id']:\n",
    "                lis.append(score.select('midi-program')[0].text +':'+ part.select(\"clef > sign\")[0].text + \\\n",
    "                           part.select(\"clef > line\")[0].text)\n",
    "    musiclis = list(set(lis))\n",
    "    w = open('Instrument and Clef.csv','a')\n",
    "    w.write(filename+',')\n",
    "    for ins in musiclis:\n",
    "        w.write(ins+',')\n",
    "    w.write('\\n')\n",
    "    w.close()\n",
    "    print filename"
   ]
  },
  {
   "cell_type": "code",
   "execution_count": null,
   "metadata": {
    "collapsed": true
   },
   "outputs": [],
   "source": []
  },
  {
   "cell_type": "code",
   "execution_count": null,
   "metadata": {
    "collapsed": true
   },
   "outputs": [],
   "source": []
  }
 ],
 "metadata": {
  "kernelspec": {
   "display_name": "Python 2",
   "language": "python",
   "name": "python2"
  },
  "language_info": {
   "codemirror_mode": {
    "name": "ipython",
    "version": 2
   },
   "file_extension": ".py",
   "mimetype": "text/x-python",
   "name": "python",
   "nbconvert_exporter": "python",
   "pygments_lexer": "ipython2",
   "version": "2.7.10"
  }
 },
 "nbformat": 4,
 "nbformat_minor": 0
}
