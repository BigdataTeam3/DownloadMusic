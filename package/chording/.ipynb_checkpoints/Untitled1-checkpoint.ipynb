{
 "cells": [
  {
   "cell_type": "code",
   "execution_count": 9,
   "metadata": {
    "collapsed": true
   },
   "outputs": [],
   "source": [
    "from chord_main import findChords"
   ]
  },
  {
   "cell_type": "code",
   "execution_count": 10,
   "metadata": {
    "collapsed": false
   },
   "outputs": [
    {
     "ename": "TypeError",
     "evalue": "'int' object has no attribute '__getitem__'",
     "output_type": "error",
     "traceback": [
      "\u001b[1;31m---------------------------------------------------------------------------\u001b[0m",
      "\u001b[1;31mTypeError\u001b[0m                                 Traceback (most recent call last)",
      "\u001b[1;32m<ipython-input-10-7d5b5cded7fa>\u001b[0m in \u001b[0;36m<module>\u001b[1;34m()\u001b[0m\n\u001b[0;32m      1\u001b[0m \u001b[0maddr\u001b[0m \u001b[1;33m=\u001b[0m \u001b[1;34m'C:/Users/BigData/Desktop/Air_Supply_All_Out_Of_Love.mscx'\u001b[0m\u001b[1;33m\u001b[0m\u001b[0m\n\u001b[1;32m----> 2\u001b[1;33m \u001b[0mc\u001b[0m \u001b[1;33m=\u001b[0m \u001b[0mfindChords\u001b[0m\u001b[1;33m(\u001b[0m\u001b[0maddr\u001b[0m\u001b[1;33m)\u001b[0m\u001b[1;33m\u001b[0m\u001b[0m\n\u001b[0m",
      "\u001b[1;32mC:\\Users\\BigData\\python\\chording\\chord_main.py\u001b[0m in \u001b[0;36mfindChords\u001b[1;34m(addr, main_melody)\u001b[0m\n\u001b[0;32m     41\u001b[0m         \u001b[1;32mfor\u001b[0m \u001b[0mstaff\u001b[0m \u001b[1;32min\u001b[0m \u001b[0mOK_staffs\u001b[0m\u001b[1;33m:\u001b[0m\u001b[1;33m\u001b[0m\u001b[0m\n\u001b[0;32m     42\u001b[0m                 \u001b[0mstaffs_dic\u001b[0m\u001b[1;33m.\u001b[0m\u001b[0mupdate\u001b[0m\u001b[1;33m(\u001b[0m\u001b[1;33m{\u001b[0m\u001b[1;34m'staff_'\u001b[0m\u001b[1;33m+\u001b[0m\u001b[0mstaff\u001b[0m\u001b[1;33m.\u001b[0m\u001b[0mget\u001b[0m\u001b[1;33m(\u001b[0m\u001b[1;34m'id'\u001b[0m\u001b[1;33m)\u001b[0m \u001b[1;33m:\u001b[0m \u001b[0mcombining_tracks\u001b[0m\u001b[1;33m.\u001b[0m\u001b[0mone_track_chord\u001b[0m\u001b[1;33m(\u001b[0m\u001b[0mstaff\u001b[0m\u001b[1;33m,\u001b[0m\u001b[0mdivision\u001b[0m\u001b[1;33m,\u001b[0m\u001b[0msigN\u001b[0m\u001b[1;33m,\u001b[0m\u001b[0msigD\u001b[0m\u001b[1;33m)\u001b[0m\u001b[1;33m}\u001b[0m\u001b[1;33m)\u001b[0m\u001b[1;33m\u001b[0m\u001b[0m\n\u001b[1;32m---> 43\u001b[1;33m         \u001b[0mresult_chords\u001b[0m \u001b[1;33m=\u001b[0m \u001b[0mcombining_tracks\u001b[0m\u001b[1;33m.\u001b[0m\u001b[0mcombining_chords\u001b[0m\u001b[1;33m(\u001b[0m\u001b[0mstaffs_dic\u001b[0m\u001b[1;33m,\u001b[0m\u001b[0mdivision\u001b[0m\u001b[1;33m,\u001b[0m\u001b[0msigN\u001b[0m\u001b[1;33m,\u001b[0m\u001b[0msigD\u001b[0m\u001b[1;33m)\u001b[0m\u001b[1;33m\u001b[0m\u001b[0m\n\u001b[0m\u001b[0;32m     44\u001b[0m \u001b[1;33m\u001b[0m\u001b[0m\n\u001b[0;32m     45\u001b[0m         \u001b[0mcombined_chords\u001b[0m \u001b[1;33m=\u001b[0m \u001b[0mDetermine_Chord_final\u001b[0m\u001b[1;33m.\u001b[0m\u001b[0mcomb_chords\u001b[0m\u001b[1;33m(\u001b[0m\u001b[0mresult_chords\u001b[0m\u001b[1;33m)\u001b[0m\u001b[1;33m\u001b[0m\u001b[0m\n",
      "\u001b[1;32mC:\\Users\\BigData\\python\\chording\\combining_tracks.pyc\u001b[0m in \u001b[0;36mcombining_chords\u001b[1;34m(staffs_dic, division, sigN, sigD)\u001b[0m\n\u001b[0;32m    129\u001b[0m \u001b[1;32mdef\u001b[0m \u001b[0mcombining_chords\u001b[0m\u001b[1;33m(\u001b[0m\u001b[0mstaffs_dic\u001b[0m\u001b[1;33m,\u001b[0m\u001b[0mdivision\u001b[0m\u001b[1;33m,\u001b[0m\u001b[0msigN\u001b[0m\u001b[1;33m,\u001b[0m\u001b[0msigD\u001b[0m\u001b[1;33m)\u001b[0m\u001b[1;33m:\u001b[0m\u001b[1;33m\u001b[0m\u001b[0m\n\u001b[0;32m    130\u001b[0m         \u001b[0mcombined_staffs\u001b[0m \u001b[1;33m=\u001b[0m \u001b[1;33m{\u001b[0m\u001b[1;33m}\u001b[0m\u001b[1;33m\u001b[0m\u001b[0m\n\u001b[1;32m--> 131\u001b[1;33m         \u001b[1;32mfor\u001b[0m \u001b[0mstaff\u001b[0m \u001b[1;32min\u001b[0m \u001b[0mstaffs_dic\u001b[0m\u001b[1;33m:\u001b[0m\u001b[1;33m\u001b[0m\u001b[0m\n\u001b[0m\u001b[0;32m    132\u001b[0m                 \u001b[0mseted_staff\u001b[0m \u001b[1;33m=\u001b[0m \u001b[0madd_tracks\u001b[0m\u001b[1;33m(\u001b[0m\u001b[0madjust_tracks\u001b[0m\u001b[1;33m(\u001b[0m\u001b[0mstaffs_dic\u001b[0m\u001b[1;33m[\u001b[0m\u001b[0mstaff\u001b[0m\u001b[1;33m]\u001b[0m\u001b[1;33m,\u001b[0m\u001b[0mdivision\u001b[0m\u001b[1;33m,\u001b[0m\u001b[0msigN\u001b[0m\u001b[1;33m)\u001b[0m\u001b[1;33m)\u001b[0m\u001b[1;33m\u001b[0m\u001b[0m\n\u001b[0;32m    133\u001b[0m                 \u001b[0mcombined_staffs\u001b[0m\u001b[1;33m.\u001b[0m\u001b[0mupdate\u001b[0m\u001b[1;33m(\u001b[0m\u001b[1;33m{\u001b[0m\u001b[0mstaff\u001b[0m\u001b[1;33m:\u001b[0m\u001b[1;33m{\u001b[0m\u001b[1;33m}\u001b[0m\u001b[1;33m}\u001b[0m\u001b[1;33m)\u001b[0m\u001b[1;33m\u001b[0m\u001b[0m\n",
      "\u001b[1;32mC:\\Users\\BigData\\python\\chording\\combining_tracks.pyc\u001b[0m in \u001b[0;36madd_tracks\u001b[1;34m(added_staff)\u001b[0m\n\u001b[0;32m    115\u001b[0m                 \u001b[0mbegin\u001b[0m \u001b[1;33m=\u001b[0m \u001b[1;36m0\u001b[0m\u001b[1;33m\u001b[0m\u001b[0m\n\u001b[0;32m    116\u001b[0m                 \u001b[1;32mwhile\u001b[0m\u001b[1;33m(\u001b[0m\u001b[0mcount\u001b[0m \u001b[1;33m<\u001b[0m \u001b[0madded_staff\u001b[0m\u001b[1;33m[\u001b[0m\u001b[0mtrack\u001b[0m\u001b[1;33m]\u001b[0m\u001b[1;33m[\u001b[0m\u001b[1;33m-\u001b[0m\u001b[1;36m1\u001b[0m\u001b[1;33m]\u001b[0m\u001b[1;33m[\u001b[0m\u001b[1;36m0\u001b[0m\u001b[1;33m]\u001b[0m\u001b[1;33m)\u001b[0m\u001b[1;33m:\u001b[0m\u001b[1;33m\u001b[0m\u001b[0m\n\u001b[1;32m--> 117\u001b[1;33m             \u001b[1;32mprint\u001b[0m \u001b[0madded_staff\u001b[0m\u001b[1;33m[\u001b[0m\u001b[0mtrack\u001b[0m\u001b[1;33m]\u001b[0m\u001b[1;33m[\u001b[0m\u001b[0mbegin\u001b[0m\u001b[1;33m]\u001b[0m\u001b[1;33m\u001b[0m\u001b[0m\n\u001b[0m\u001b[0;32m    118\u001b[0m                         \u001b[1;32mwhile\u001b[0m\u001b[1;33m(\u001b[0m\u001b[0mcount\u001b[0m \u001b[1;33m<\u001b[0m \u001b[0madded_staff\u001b[0m\u001b[1;33m[\u001b[0m\u001b[0mtrack\u001b[0m\u001b[1;33m]\u001b[0m\u001b[1;33m[\u001b[0m\u001b[0mbegin\u001b[0m\u001b[1;33m]\u001b[0m\u001b[1;33m[\u001b[0m\u001b[1;36m0\u001b[0m\u001b[1;33m]\u001b[0m\u001b[1;33m)\u001b[0m\u001b[1;33m:\u001b[0m\u001b[1;33m\u001b[0m\u001b[0m\n\u001b[0;32m    119\u001b[0m                                 \u001b[1;32mif\u001b[0m \u001b[0madded_staff\u001b[0m\u001b[1;33m[\u001b[0m\u001b[0mtrack\u001b[0m\u001b[1;33m]\u001b[0m\u001b[1;33m[\u001b[0m\u001b[0mbegin\u001b[0m\u001b[1;33m]\u001b[0m\u001b[1;33m[\u001b[0m\u001b[1;36m1\u001b[0m\u001b[1;33m]\u001b[0m \u001b[1;33m==\u001b[0m \u001b[1;36m0\u001b[0m\u001b[1;33m:\u001b[0m\u001b[1;33m\u001b[0m\u001b[0m\n",
      "\u001b[1;31mTypeError\u001b[0m: 'int' object has no attribute '__getitem__'"
     ]
    }
   ],
   "source": [
    "addr = 'C:/Users/BigData/Desktop/Air_Supply_All_Out_Of_Love.mscx'\n",
    "c = findChords(addr)"
   ]
  },
  {
   "cell_type": "code",
   "execution_count": 6,
   "metadata": {
    "collapsed": false
   },
   "outputs": [
    {
     "name": "stdout",
     "output_type": "stream",
     "text": [
      "[0, 0, 0, 0, 'C', 'C', 'C', 'Em', 'Em', 'G', 'Em', 'Em', 'C', 'C', 'Em', 'Em', 'Em', 'F', 'Dm', 'G', 'C', 'C', 'Em', 'Em', 'Em', 'F', 'Dm', 'G', 'C', 'C', 'Em', 'Em', 'C', 'C', 'G', 'G', 'C', 'C', 'Em', 'Em', 'C', 'C', 'G', 'G', 'C', 'C', 'C', 'Em', 'Em', 'F', 'Em', 'Em', 'Am', 'Am', 'G', 'G', 'F', 'F', 'F', 'C', 'C', 'C', 'Em', 'Em', 'C', 'C', 'G', 'G', 'C', 'C', 'Em', 'Em', 'C', 'C', 'G', 'G', 'C', 'C', 'C', 'Em', 'Em', 'G', 'Em', 'Em', 'C', 'C', 'Em', 'Em', 'C', 'C', 'G', 'G', 'C', 'C', 'Em', 'Em', 'C', 'C', 'G', 'G', 'C', 'C', 'C', 'Em', 'Em', 'G', 'Em', 'Em', 'Am', 'C', 'G', 'C', 'F', 'F', 'Em', 'C', 'C', 'C', 'Em', 'Em', 'C', 'C', 'G', 'G', 'C', 'C', 'Em', 'Em', 'C', 'C', 'G', 'G', 'F', 'Dm', 'G', 'G', 'C', 'G', 'G', 'Bdim', 'F', 'Dm', 'G', 'G', 'C', 'G', 'F', 'Dm', 'F', 'Dm', 'C', 'C', 'C', 'C', 'C', 'C', 'C', 'Em', 'Em', 'G', 'Em', 'Em', 'C', 'C', 'C', 'Em', 'Em', 'G', 'Em', 'Em', 'G', 'C', 'Em', 'Em', 'Em', 'F', 'Dm', 'G', 'G', 'C', 'Em', 'Em', 'Em', 'F', 'Dm', 'G', 'C', 'C', 'Em', 'Em', 'C', 'C', 'G', 'G', 'C', 'C', 'Em', 'Em', 'C', 'C', 'G', 'G', 'C', 'C', 'Em', 'Em', 'C', 'C', 'G', 'G', 'C', 'C', 'Em', 'Em', 'C', 'C', 'G', 'G', 'C', 'C', 'G', 'G', 'F', 'F', 'G', 'G', 'C', 'C', 'G', 'G', 'F', 'F', 'G', 'G', 'C', 'C', 'G', 'G', 'F', 'F', 'G', 'G', 'C', 'C', 0, 0]\n"
     ]
    }
   ],
   "source": [
    "print c"
   ]
  },
  {
   "cell_type": "code",
   "execution_count": null,
   "metadata": {
    "collapsed": true
   },
   "outputs": [],
   "source": []
  }
 ],
 "metadata": {
  "kernelspec": {
   "display_name": "Python 2",
   "language": "python",
   "name": "python2"
  },
  "language_info": {
   "codemirror_mode": {
    "name": "ipython",
    "version": 2
   },
   "file_extension": ".py",
   "mimetype": "text/x-python",
   "name": "python",
   "nbconvert_exporter": "python",
   "pygments_lexer": "ipython2",
   "version": "2.7.10"
  }
 },
 "nbformat": 4,
 "nbformat_minor": 0
}
