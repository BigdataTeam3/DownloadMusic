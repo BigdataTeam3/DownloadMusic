{
 "cells": [
  {
   "cell_type": "code",
   "execution_count": 81,
   "metadata": {
    "collapsed": false
   },
   "outputs": [
    {
     "name": "stdout",
     "output_type": "stream",
     "text": [
      "<type 'str'>\n",
      "[u'keyboard.piano', u'pluck.bass.electric', u'drum.group.set', u'strings.group', u'pluck.guitar.electric', u'pluck.guitar.acoustic', u'wind.reed.saxophone.alto', u'wind.flutes.flute']\n"
     ]
    }
   ],
   "source": [
    "from bs4 import BeautifulSoup as bs\n",
    "f = open('E:/music project/test.mscx','r')\n",
    "music = bs(f.read(),'xml')\n",
    "f.close()\n",
    "dic =[]\n",
    "for tags in music.select('instrumentId'):     #找instrumentId標籤裡的樂器\n",
    "    dic.append(tags.text)                     #將樂譜的所有樂器加入dic裡面\n",
    "instruments = list(set(dic))                  #去除dic內重複的樂器；去除重複值 ；set():無序不重複的元素集\n",
    "print instruments\n",
    "    "
   ]
  },
  {
   "cell_type": "code",
   "execution_count": 114,
   "metadata": {
    "collapsed": false
   },
   "outputs": [
    {
     "name": "stdout",
     "output_type": "stream",
     "text": [
      "E:\\music project\\mscx\\test.mscx\n",
      "[u'keyboard.piano', u'pluck.bass.electric', u'drum.group.set', u'strings.group', u'pluck.guitar.electric', u'pluck.guitar.acoustic', u'wind.reed.saxophone.alto', u'wind.flutes.flute']\n",
      "---------------------------------------------------\n",
      "E:\\music project\\mscx\\你把我灌醉.mscx\n",
      "[u'keyboard.piano', u'pluck.bass.electric', u'drum.group.set', u'strings.group', u'pluck.guitar.electric', u'pluck.guitar.acoustic', u'wind.reed.saxophone.alto', u'wind.flutes.flute']\n",
      "---------------------------------------------------\n",
      "E:\\music project\\mscx\\夏夜晚風.mscx\n",
      "[u'keyboard.piano', u'pluck.bass.electric', u'drum.group.set', u'strings.group', u'pluck.guitar.electric', u'pluck.guitar.acoustic', u'wind.reed.saxophone.alto', u'wind.flutes.flute']\n",
      "---------------------------------------------------\n"
     ]
    }
   ],
   "source": [
    "import os\n",
    "for root, dirs, files in os.walk(\"E:\\music project\\mscx\", topdown=False):   #os.walk():抓取資料夾下所有的檔案;一次讀取多個檔案\n",
    "    for name in files:\n",
    "        path = unicode((os.path.join(root, name)),'big5')    #os.path.join(root, name):顯示檔案路徑 ;將路徑轉成big5；避免亂碼                    \n",
    "        print path\n",
    "        f =open(path,'r')\n",
    "        f.close()\n",
    "        dic =[]\n",
    "        for tags in music.select('instrumentId'):     # 找instrumentId標籤裡的樂器\n",
    "            dic.append(tags.text)                     # 將樂譜的所有樂器加入dic裡面\n",
    "        instruments = list(set(dic))                  # 去除dic內重複的樂器；去除重複值 ；set():無序不重複的元素集\n",
    "        print instruments\n",
    "        print '---------------------------------------------------'"
   ]
  },
  {
   "cell_type": "code",
   "execution_count": null,
   "metadata": {
    "collapsed": true
   },
   "outputs": [],
   "source": [
    "name = input('請輸入檔名：')\n",
    "file = open(name, 'w', encoding = 'UTF-8')\n",
    "file.write('test')\n",
    "file.close()"
   ]
  },
  {
   "cell_type": "code",
   "execution_count": null,
   "metadata": {
    "collapsed": true
   },
   "outputs": [],
   "source": []
  }
 ],
 "metadata": {
  "kernelspec": {
   "display_name": "Python 2",
   "language": "python",
   "name": "python2"
  },
  "language_info": {
   "codemirror_mode": {
    "name": "ipython",
    "version": 2
   },
   "file_extension": ".py",
   "mimetype": "text/x-python",
   "name": "python",
   "nbconvert_exporter": "python",
   "pygments_lexer": "ipython2",
   "version": "2.7.10"
  }
 },
 "nbformat": 4,
 "nbformat_minor": 0
}
