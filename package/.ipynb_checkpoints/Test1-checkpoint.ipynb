{
 "cells": [
  {
   "cell_type": "code",
   "execution_count": 9,
   "metadata": {
    "collapsed": false
   },
   "outputs": [
    {
     "name": "stdout",
     "output_type": "stream",
     "text": [
      "3\n",
      "2\n",
      "[3, 3, 3, 10, 3, 3, 3, 20, 2, 2, 2, 30]\n"
     ]
    }
   ],
   "source": [
    "import random\n",
    "test = ['A1','A1','A1','B1','A1','A1','A1','B2','A2','A2','A2','B3']\n",
    "dic = {}\n",
    "Aset = set([1,2,3,4,5])\n",
    "Bset = set([10,20,30])\n",
    "for notation in set(test):\n",
    "    if notation.startswith('A'):\n",
    "        ss = random.sample(Aset,1)[0]\n",
    "        print ss\n",
    "        Aset.remove(ss)\n",
    "    elif notation.startswith('B'):\n",
    "        ss = random.sample(Bset,1)[0]\n",
    "        Bset.remove(ss)\n",
    "    dic.update({notation:ss})\n",
    "print [dic[key] for key in test]\n",
    "        "
   ]
  },
  {
   "cell_type": "code",
   "execution_count": 12,
   "metadata": {
    "collapsed": true
   },
   "outputs": [
    {
     "name": "stdout",
     "output_type": "stream",
     "text": [
      "<?xml version=\"1.0\" encoding=\"utf-8\"?>\n",
      "<museScore version=\"2.06\">\n",
      "<programVersion>2.0.2</programVersion>\n",
      "<programRevision>f51dc11</programRevision>\n",
      "<Score>\n",
      "<Synthesizer>\n",
      "</Synthesizer>\n",
      "<Division>480</Division>\n",
      "<Part>\n",
      "<Staff id=\"1\">\n",
      "<StaffType group=\"percussion\">\n",
      "<name>perc5Line</name>\n",
      "<keysig>0</keysig>\n",
      "</StaffType>\n",
      "<defaultClef>PERC</defaultClef>\n",
      "</Staff>\n",
      "<Instrument>\n",
      "<Drum pitch=\"35\">\n",
      "<head>0</head>\n",
      "<line>7</line>\n",
      "<voice>1</voice>\n",
      "<name>Acoustic Bass Drum</name>\n",
      "<stem>2</stem>\n",
      "</Drum>\n",
      "<Drum pitch=\"36\">\n",
      "<head>0</head>\n",
      "<line>7</line>\n",
      "<voice>1</voice>\n",
      "<name>Bass Drum 1</name>\n",
      "<stem>2</stem>\n",
      "<shortcut>B</shortcut>\n",
      "</Drum>\n",
      "<Drum pitch=\"37\">\n",
      "<head>1</head>\n",
      "<line>3</line>\n",
      "<voice>0</voice>\n",
      "<name>Side Stick</name>\n",
      "<stem>1</stem>\n",
      "</Drum>\n",
      "<Drum pitch=\"38\">\n",
      "<head>0</head>\n",
      "<line>3</line>\n",
      "<voice>0</voice>\n",
      "<name>Acoustic Snare</name>\n",
      "<stem>1</stem>\n",
      "<shortcut>A</shortcut>\n",
      "</Drum>\n",
      "<Drum pitch=\"40\">\n",
      "<head>0</head>\n",
      "<line>3</line>\n",
      "<voice>0</voice>\n",
      "<name>Electric Snare</name>\n",
      "<stem>1</stem>\n",
      "</Drum>\n",
      "<Drum pitch=\"41\">\n",
      "<head>0</head>\n",
      "<line>5</line>\n",
      "<voice>0</voice>\n",
      "<name>Low Floor Tom</name>\n",
      "<stem>1</stem>\n",
      "</Drum>\n",
      "<Drum pitch=\"42\">\n",
      "<head>1</head>\n",
      "<line>-1</line>\n",
      "<voice>0</voice>\n",
      "<name>Closed Hi-Hat</name>\n",
      "<stem>1</stem>\n",
      "<shortcut>G</shortcut>\n",
      "</Drum>\n",
      "<Drum pitch=\"43\">\n",
      "<head>0</head>\n",
      "<line>5</line>\n",
      "<voice>1</voice>\n",
      "<name>High Floor Tom</name>\n",
      "<stem>2</stem>\n",
      "</Drum>\n",
      "<Drum pitch=\"44\">\n",
      "<head>1</head>\n",
      "<line>9</line>\n",
      "<voice>1</voice>\n",
      "<name>Pedal Hi-Hat</name>\n",
      "<stem>2</stem>\n",
      "<shortcut>F</shortcut>\n",
      "</Drum>\n",
      "<Drum pitch=\"45\">\n",
      "<head>0</head>\n",
      "<line>2</line>\n",
      "<voice>0</voice>\n",
      "<name>Low Tom</name>\n",
      "<stem>1</stem>\n",
      "</Drum>\n",
      "<Drum pitch=\"46\">\n",
      "<head>1</head>\n",
      "<line>1</line>\n",
      "<voice>0</voice>\n",
      "<name>Open Hi-Hat</name>\n",
      "<stem>1</stem>\n",
      "</Drum>\n",
      "<Drum pitch=\"47\">\n",
      "<head>0</head>\n",
      "<line>1</line>\n",
      "<voice>0</voice>\n",
      "<name>Low-Mid Tom</name>\n",
      "<stem>1</stem>\n",
      "</Drum>\n",
      "<Drum pitch=\"48\">\n",
      "<head>0</head>\n",
      "<line>0</line>\n",
      "<voice>0</voice>\n",
      "<name>Hi-Mid Tom</name>\n",
      "<stem>1</stem>\n",
      "</Drum>\n",
      "<Drum pitch=\"49\">\n",
      "<head>1</head>\n",
      "<line>-2</line>\n",
      "<voice>0</voice>\n",
      "<name>Crash Cymbal 1</name>\n",
      "<stem>1</stem>\n",
      "<shortcut>C</shortcut>\n",
      "</Drum>\n",
      "<Drum pitch=\"50\">\n",
      "<head>0</head>\n",
      "<line>0</line>\n",
      "<voice>0</voice>\n",
      "<name>High Tom</name>\n",
      "<stem>1</stem>\n",
      "<shortcut>E</shortcut>\n",
      "</Drum>\n",
      "<Drum pitch=\"51\">\n",
      "<head>1</head>\n",
      "<line>0</line>\n",
      "<voice>0</voice>\n",
      "<name>Ride Cymbal 1</name>\n",
      "<stem>1</stem>\n",
      "<shortcut>D</shortcut>\n",
      "</Drum>\n",
      "<Drum pitch=\"52\">\n",
      "<head>1</head>\n",
      "<line>-3</line>\n",
      "<voice>0</voice>\n",
      "<name>Chinese Cymbal</name>\n",
      "<stem>1</stem>\n",
      "</Drum>\n",
      "<Drum pitch=\"53\">\n",
      "<head>2</head>\n",
      "<line>0</line>\n",
      "<voice>0</voice>\n",
      "<name>Ride Bell</name>\n",
      "<stem>1</stem>\n",
      "</Drum>\n",
      "<Drum pitch=\"54\">\n",
      "<head>2</head>\n",
      "<line>2</line>\n",
      "<voice>0</voice>\n",
      "<name>Tambourine</name>\n",
      "<stem>1</stem>\n",
      "</Drum>\n",
      "<Drum pitch=\"55\">\n",
      "<head>1</head>\n",
      "<line>-3</line>\n",
      "<voice>0</voice>\n",
      "<name>Splash Cymbal</name>\n",
      "<stem>1</stem>\n",
      "</Drum>\n",
      "<Drum pitch=\"56\">\n",
      "<head>3</head>\n",
      "<line>1</line>\n",
      "<voice>0</voice>\n",
      "<name>Cowbell</name>\n",
      "<stem>1</stem>\n",
      "</Drum>\n",
      "<Drum pitch=\"57\">\n",
      "<head>1</head>\n",
      "<line>-3</line>\n",
      "<voice>0</voice>\n",
      "<name>Crash Cymbal 2</name>\n",
      "<stem>1</stem>\n",
      "</Drum>\n",
      "<Drum pitch=\"59\">\n",
      "<head>1</head>\n",
      "<line>2</line>\n",
      "<voice>0</voice>\n",
      "<name>Ride Cymbal 2</name>\n",
      "<stem>1</stem>\n",
      "</Drum>\n",
      "<Drum pitch=\"63\">\n",
      "<head>1</head>\n",
      "<line>4</line>\n",
      "<voice>0</voice>\n",
      "<name>Open Hi Conga</name>\n",
      "<stem>1</stem>\n",
      "</Drum>\n",
      "<Drum pitch=\"64\">\n",
      "<head>1</head>\n",
      "<line>6</line>\n",
      "<voice>0</voice>\n",
      "<name>Low Conga</name>\n",
      "<stem>1</stem>\n",
      "</Drum>\n",
      "<clef>PERC</clef>\n",
      "<Channel>\n",
      "<program value=\"0\"/>\n",
      "<controller ctrl=\"0\" value=\"1\"/>\n",
      "<synti>Fluid</synti>\n",
      "</Channel>\n",
      "</Instrument>\n",
      "</Part>\n",
      "<Staff id=\"1\"><Measure number=\"1\"><Rest><durationType>measure</durationType></Rest><tick>0</tick><Rest><track>1</track><durationType>quarter</durationType></Rest><Chord><track>1</track><durationType>quarter</durationType><Note><track>1</track><pitch>36</pitch><tpc>22</tpc><velocity>100</velocity><veloType>user</veloType></Note></Chord><Rest><track>1</track><durationType>quarter</durationType></Rest><Chord><track>1</track><durationType>quarter</durationType><Note><track>1</track><pitch>36</pitch><tpc>22</tpc><velocity>100</velocity><veloType>user</veloType></Note></Chord></Measure><Measure number=\"2\"><Rest><durationType>measure</durationType></Rest><tick>1920</tick><Rest><track>1</track><durationType>quarter</durationType></Rest><Chord><track>1</track><durationType>quarter</durationType><Note><track>1</track><pitch>36</pitch><tpc>22</tpc><velocity>100</velocity><veloType>user</veloType></Note></Chord><Rest><track>1</track><durationType>quarter</durationType></Rest><Chord><track>1</track><durationType>quarter</durationType><Note><track>1</track><pitch>36</pitch><tpc>22</tpc><velocity>100</velocity><veloType>user</veloType></Note></Chord></Measure><Measure number=\"3\"><Rest><durationType>measure</durationType></Rest><tick>3840</tick><Rest><track>1</track><durationType>quarter</durationType></Rest><Chord><track>1</track><durationType>quarter</durationType><Note><track>1</track><pitch>36</pitch><tpc>22</tpc><velocity>100</velocity><veloType>user</veloType></Note></Chord><Rest><track>1</track><durationType>quarter</durationType></Rest><Chord><track>1</track><durationType>quarter</durationType><Note><track>1</track><pitch>36</pitch><tpc>22</tpc><velocity>100</velocity><veloType>user</veloType></Note></Chord></Measure><Measure number=\"4\"><Chord><durationType>quarter</durationType><Note><pitch>57</pitch><tpc>22</tpc><velocity>100</velocity><veloType>user</veloType></Note></Chord><Rest><durationType>quarter</durationType></Rest><Chord><durationType>quarter</durationType><Note><pitch>40</pitch><tpc>22</tpc><velocity>100</velocity><veloType>user</veloType></Note></Chord><Rest><durationType>quarter</durationType></Rest><tick>5760</tick><Chord><track>1</track><durationType>quarter</durationType><Note><track>1</track><pitch>36</pitch><tpc>22</tpc><velocity>100</velocity><veloType>user</veloType></Note></Chord><Chord><track>1</track><durationType>quarter</durationType><Note><track>1</track><pitch>44</pitch><tpc>22</tpc><velocity>100</velocity><veloType>user</veloType></Note></Chord><Chord><track>1</track><durationType>quarter</durationType><Note><track>1</track><pitch>44</pitch><tpc>22</tpc><velocity>100</velocity><veloType>user</veloType></Note></Chord><Chord><track>1</track><durationType>quarter</durationType><Note><track>1</track><pitch>44</pitch><tpc>22</tpc><velocity>100</velocity><veloType>user</veloType></Note></Chord></Measure><Measure number=\"5\"><Chord><durationType>eighth</durationType><Note><pitch>42</pitch><tpc>22</tpc><velocity>100</velocity><veloType>user</veloType></Note></Chord><Chord><durationType>eighth</durationType><Note><pitch>42</pitch><tpc>22</tpc><velocity>100</velocity><veloType>user</veloType></Note></Chord><Chord><durationType>eighth</durationType><Note><pitch>38</pitch><tpc>22</tpc><velocity>100</velocity><veloType>user</veloType></Note><Note><pitch>42</pitch><tpc>22</tpc><velocity>100</velocity><veloType>user</veloType></Note></Chord><Chord><durationType>eighth</durationType><Note><pitch>42</pitch><tpc>22</tpc><velocity>100</velocity><veloType>user</veloType></Note></Chord><Chord><durationType>16th</durationType><Note><pitch>42</pitch><tpc>22</tpc><velocity>100</velocity><veloType>user</veloType></Note></Chord><Chord><durationType>16th</durationType><Note><pitch>42</pitch><tpc>22</tpc><velocity>100</velocity><veloType>user</veloType></Note></Chord><Chord><durationType>16th</durationType><Note><pitch>42</pitch><tpc>22</tpc><velocity>100</velocity><veloType>user</veloType></Note></Chord><Chord><durationType>16th</durationType><Note><pitch>42</pitch><tpc>22</tpc><velocity>100</velocity><veloType>user</veloType></Note></Chord><Chord><durationType>eighth</durationType><Note><pitch>38</pitch><tpc>22</tpc><velocity>100</velocity><veloType>user</veloType></Note><Note><pitch>42</pitch><tpc>22</tpc><velocity>100</velocity><veloType>user</veloType></Note></Chord><Chord><durationType>eighth</durationType><Note><pitch>42</pitch><tpc>22</tpc><velocity>100</velocity><veloType>user</veloType></Note></Chord><tick>7680</tick><Chord><track>1</track><durationType>quarter</durationType><Note><track>1</track><pitch>35</pitch><tpc>22</tpc><velocity>100</velocity><veloType>user</veloType></Note></Chord><Rest><track>1</track><durationType>eighth</durationType></Rest><Chord><track>1</track><durationType>eighth</durationType><Note><track>1</track><pitch>35</pitch><tpc>22</tpc><velocity>100</velocity><veloType>user</veloType></Note></Chord><Rest><track>1</track><durationType>quarter</durationType></Rest><Rest><track>1</track><durationType>eighth</durationType></Rest><Chord><track>1</track><durationType>eighth</durationType><Note><track>1</track><pitch>35</pitch><tpc>22</tpc><velocity>100</velocity><veloType>user</veloType></Note></Chord></Measure><Measure number=\"6\"><Chord><durationType>eighth</durationType><Note><pitch>42</pitch><tpc>22</tpc><velocity>100</velocity><veloType>user</veloType></Note></Chord><Chord><durationType>eighth</durationType><Note><pitch>42</pitch><tpc>22</tpc><velocity>100</velocity><veloType>user</veloType></Note></Chord><Chord><durationType>eighth</durationType><Note><pitch>38</pitch><tpc>22</tpc><velocity>100</velocity><veloType>user</veloType></Note><Note><pitch>42</pitch><tpc>22</tpc><velocity>100</velocity><veloType>user</veloType></Note></Chord><Chord><durationType>eighth</durationType><Note><pitch>42</pitch><tpc>22</tpc><velocity>100</velocity><veloType>user</veloType></Note></Chord><Chord><durationType>16th</durationType><Note><pitch>42</pitch><tpc>22</tpc><velocity>100</velocity><veloType>user</veloType></Note></Chord><Chord><durationType>16th</durationType><Note><pitch>42</pitch><tpc>22</tpc><velocity>100</velocity><veloType>user</veloType></Note></Chord><Chord><durationType>16th</durationType><Note><pitch>42</pitch><tpc>22</tpc><velocity>100</velocity><veloType>user</veloType></Note></Chord><Chord><durationType>16th</durationType><Note><pitch>42</pitch><tpc>22</tpc><velocity>100</velocity><veloType>user</veloType></Note></Chord><Chord><durationType>eighth</durationType><Note><pitch>38</pitch><tpc>22</tpc><velocity>100</velocity><veloType>user</veloType></Note><Note><pitch>42</pitch><tpc>22</tpc><velocity>100</velocity><veloType>user</veloType></Note></Chord><Chord><durationType>eighth</durationType><Note><pitch>42</pitch><tpc>22</tpc><velocity>100</velocity><veloType>user</veloType></Note></Chord><tick>9600</tick><Chord><track>1</track><durationType>quarter</durationType><Note><track>1</track><pitch>35</pitch><tpc>22</tpc><velocity>100</velocity><veloType>user</veloType></Note></Chord><Rest><track>1</track><durationType>eighth</durationType></Rest><Chord><track>1</track><durationType>eighth</durationType><Note><track>1</track><pitch>35</pitch><tpc>22</tpc><velocity>100</velocity><veloType>user</veloType></Note></Chord><Rest><track>1</track><durationType>quarter</durationType></Rest><Rest><track>1</track><durationType>eighth</durationType></Rest><Chord><track>1</track><durationType>eighth</durationType><Note><track>1</track><pitch>35</pitch><tpc>22</tpc><velocity>100</velocity><veloType>user</veloType></Note></Chord></Measure><Measure number=\"7\"><Chord><durationType>eighth</durationType><Note><pitch>42</pitch><tpc>22</tpc><velocity>100</velocity><veloType>user</veloType></Note></Chord><Chord><durationType>eighth</durationType><Note><pitch>42</pitch><tpc>22</tpc><velocity>100</velocity><veloType>user</veloType></Note></Chord><Chord><durationType>eighth</durationType><Note><pitch>38</pitch><tpc>22</tpc><velocity>100</velocity><veloType>user</veloType></Note><Note><pitch>42</pitch><tpc>22</tpc><velocity>100</velocity><veloType>user</veloType></Note></Chord><Chord><durationType>eighth</durationType><Note><pitch>42</pitch><tpc>22</tpc><velocity>100</velocity><veloType>user</veloType></Note></Chord><Chord><durationType>16th</durationType><Note><pitch>42</pitch><tpc>22</tpc><velocity>100</velocity><veloType>user</veloType></Note></Chord><Chord><durationType>16th</durationType><Note><pitch>42</pitch><tpc>22</tpc><velocity>100</velocity><veloType>user</veloType></Note></Chord><Chord><durationType>16th</durationType><Note><pitch>42</pitch><tpc>22</tpc><velocity>100</velocity><veloType>user</veloType></Note></Chord><Chord><durationType>16th</durationType><Note><pitch>42</pitch><tpc>22</tpc><velocity>100</velocity><veloType>user</veloType></Note></Chord><Chord><durationType>eighth</durationType><Note><pitch>38</pitch><tpc>22</tpc><velocity>100</velocity><veloType>user</veloType></Note><Note><pitch>42</pitch><tpc>22</tpc><velocity>100</velocity><veloType>user</veloType></Note></Chord><Chord><durationType>eighth</durationType><Note><pitch>42</pitch><tpc>22</tpc><velocity>100</velocity><veloType>user</veloType></Note></Chord><tick>11520</tick><Chord><track>1</track><durationType>quarter</durationType><Note><track>1</track><pitch>35</pitch><tpc>22</tpc><velocity>100</velocity><veloType>user</veloType></Note></Chord><Rest><track>1</track><durationType>eighth</durationType></Rest><Chord><track>1</track><durationType>eighth</durationType><Note><track>1</track><pitch>35</pitch><tpc>22</tpc><velocity>100</velocity><veloType>user</veloType></Note></Chord><Rest><track>1</track><durationType>quarter</durationType></Rest><Rest><track>1</track><durationType>eighth</durationType></Rest><Chord><track>1</track><durationType>eighth</durationType><Note><track>1</track><pitch>35</pitch><tpc>22</tpc><velocity>100</velocity><veloType>user</veloType></Note></Chord></Measure><Measure number=\"8\"><Rest><durationType>quarter</durationType></Rest><Rest><durationType>quarter</durationType></Rest><Chord><durationType>quarter</durationType><Note><pitch>40</pitch><tpc>22</tpc><velocity>100</velocity><veloType>user</veloType></Note></Chord></Measure><Measure number=\"9\"><Rest><durationType>measure</durationType></Rest><tick>15360</tick><Rest><track>1</track><durationType>quarter</durationType></Rest><Chord><track>1</track><durationType>quarter</durationType><Note><track>1</track><pitch>36</pitch><tpc>22</tpc><velocity>100</velocity><veloType>user</veloType></Note></Chord><Rest><track>1</track><durationType>quarter</durationType></Rest><Chord><track>1</track><durationType>quarter</durationType><Note><track>1</track><pitch>36</pitch><tpc>22</tpc><velocity>100</velocity><veloType>user</veloType></Note></Chord></Measure><Measure number=\"10\"><Rest><durationType>measure</durationType></Rest><tick>17280</tick><Rest><track>1</track><durationType>quarter</durationType></Rest><Chord><track>1</track><durationType>quarter</durationType><Note><track>1</track><pitch>36</pitch><tpc>22</tpc><velocity>100</velocity><veloType>user</veloType></Note></Chord><Rest><track>1</track><durationType>quarter</durationType></Rest><Chord><track>1</track><durationType>quarter</durationType><Note><track>1</track><pitch>36</pitch><tpc>22</tpc><velocity>100</velocity><veloType>user</veloType></Note></Chord></Measure><Measure number=\"11\"><Rest><durationType>measure</durationType></Rest><tick>19200</tick><Rest><track>1</track><durationType>quarter</durationType></Rest><Chord><track>1</track><durationType>quarter</durationType><Note><track>1</track><pitch>36</pitch><tpc>22</tpc><velocity>100</velocity><veloType>user</veloType></Note></Chord><Rest><track>1</track><durationType>quarter</durationType></Rest><Chord><track>1</track><durationType>quarter</durationType><Note><track>1</track><pitch>36</pitch><tpc>22</tpc><velocity>100</velocity><veloType>user</veloType></Note></Chord></Measure><Measure number=\"12\"><Chord><durationType>quarter</durationType><Note><pitch>57</pitch><tpc>22</tpc><velocity>100</velocity><veloType>user</veloType></Note></Chord><Rest><durationType>quarter</durationType></Rest><Chord><durationType>quarter</durationType><Note><pitch>40</pitch><tpc>22</tpc><velocity>100</velocity><veloType>user</veloType></Note></Chord><Rest><durationType>quarter</durationType></Rest><tick>21120</tick><Chord><track>1</track><durationType>quarter</durationType><Note><track>1</track><pitch>36</pitch><tpc>22</tpc><velocity>100</velocity><veloType>user</veloType></Note></Chord><Chord><track>1</track><durationType>quarter</durationType><Note><track>1</track><pitch>44</pitch><tpc>22</tpc><velocity>100</velocity><veloType>user</veloType></Note></Chord><Chord><track>1</track><durationType>quarter</durationType><Note><track>1</track><pitch>44</pitch><tpc>22</tpc><velocity>100</velocity><veloType>user</veloType></Note></Chord><Chord><track>1</track><durationType>quarter</durationType><Note><track>1</track><pitch>44</pitch><tpc>22</tpc><velocity>100</velocity><veloType>user</veloType></Note></Chord></Measure><Measure number=\"13\"><Chord><durationType>eighth</durationType><Note><pitch>42</pitch><tpc>22</tpc><velocity>100</velocity><veloType>user</veloType></Note></Chord><Chord><durationType>eighth</durationType><Note><pitch>42</pitch><tpc>22</tpc><velocity>100</velocity><veloType>user</veloType></Note></Chord><Chord><durationType>eighth</durationType><Note><pitch>38</pitch><tpc>22</tpc><velocity>100</velocity><veloType>user</veloType></Note><Note><pitch>42</pitch><tpc>22</tpc><velocity>100</velocity><veloType>user</veloType></Note></Chord><Chord><durationType>eighth</durationType><Note><pitch>42</pitch><tpc>22</tpc><velocity>100</velocity><veloType>user</veloType></Note></Chord><Chord><durationType>16th</durationType><Note><pitch>42</pitch><tpc>22</tpc><velocity>100</velocity><veloType>user</veloType></Note></Chord><Chord><durationType>16th</durationType><Note><pitch>42</pitch><tpc>22</tpc><velocity>100</velocity><veloType>user</veloType></Note></Chord><Chord><durationType>16th</durationType><Note><pitch>42</pitch><tpc>22</tpc><velocity>100</velocity><veloType>user</veloType></Note></Chord><Chord><durationType>16th</durationType><Note><pitch>42</pitch><tpc>22</tpc><velocity>100</velocity><veloType>user</veloType></Note></Chord><Chord><durationType>eighth</durationType><Note><pitch>38</pitch><tpc>22</tpc><velocity>100</velocity><veloType>user</veloType></Note><Note><pitch>42</pitch><tpc>22</tpc><velocity>100</velocity><veloType>user</veloType></Note></Chord><Chord><durationType>eighth</durationType><Note><pitch>42</pitch><tpc>22</tpc><velocity>100</velocity><veloType>user</veloType></Note></Chord><tick>23040</tick><Chord><track>1</track><durationType>quarter</durationType><Note><track>1</track><pitch>35</pitch><tpc>22</tpc><velocity>100</velocity><veloType>user</veloType></Note></Chord><Rest><track>1</track><durationType>eighth</durationType></Rest><Chord><track>1</track><durationType>eighth</durationType><Note><track>1</track><pitch>35</pitch><tpc>22</tpc><velocity>100</velocity><veloType>user</veloType></Note></Chord><Rest><track>1</track><durationType>quarter</durationType></Rest><Rest><track>1</track><durationType>eighth</durationType></Rest><Chord><track>1</track><durationType>eighth</durationType><Note><track>1</track><pitch>35</pitch><tpc>22</tpc><velocity>100</velocity><veloType>user</veloType></Note></Chord></Measure><Measure number=\"14\"><Chord><durationType>eighth</durationType><Note><pitch>42</pitch><tpc>22</tpc><velocity>100</velocity><veloType>user</veloType></Note></Chord><Chord><durationType>eighth</durationType><Note><pitch>42</pitch><tpc>22</tpc><velocity>100</velocity><veloType>user</veloType></Note></Chord><Chord><durationType>eighth</durationType><Note><pitch>38</pitch><tpc>22</tpc><velocity>100</velocity><veloType>user</veloType></Note><Note><pitch>42</pitch><tpc>22</tpc><velocity>100</velocity><veloType>user</veloType></Note></Chord><Chord><durationType>eighth</durationType><Note><pitch>42</pitch><tpc>22</tpc><velocity>100</velocity><veloType>user</veloType></Note></Chord><Chord><durationType>16th</durationType><Note><pitch>42</pitch><tpc>22</tpc><velocity>100</velocity><veloType>user</veloType></Note></Chord><Chord><durationType>16th</durationType><Note><pitch>42</pitch><tpc>22</tpc><velocity>100</velocity><veloType>user</veloType></Note></Chord><Chord><durationType>16th</durationType><Note><pitch>42</pitch><tpc>22</tpc><velocity>100</velocity><veloType>user</veloType></Note></Chord><Chord><durationType>16th</durationType><Note><pitch>42</pitch><tpc>22</tpc><velocity>100</velocity><veloType>user</veloType></Note></Chord><Chord><durationType>eighth</durationType><Note><pitch>38</pitch><tpc>22</tpc><velocity>100</velocity><veloType>user</veloType></Note><Note><pitch>42</pitch><tpc>22</tpc><velocity>100</velocity><veloType>user</veloType></Note></Chord><Chord><durationType>eighth</durationType><Note><pitch>42</pitch><tpc>22</tpc><velocity>100</velocity><veloType>user</veloType></Note></Chord><tick>24960</tick><Chord><track>1</track><durationType>quarter</durationType><Note><track>1</track><pitch>35</pitch><tpc>22</tpc><velocity>100</velocity><veloType>user</veloType></Note></Chord><Rest><track>1</track><durationType>eighth</durationType></Rest><Chord><track>1</track><durationType>eighth</durationType><Note><track>1</track><pitch>35</pitch><tpc>22</tpc><velocity>100</velocity><veloType>user</veloType></Note></Chord><Rest><track>1</track><durationType>quarter</durationType></Rest><Rest><track>1</track><durationType>eighth</durationType></Rest><Chord><track>1</track><durationType>eighth</durationType><Note><track>1</track><pitch>35</pitch><tpc>22</tpc><velocity>100</velocity><veloType>user</veloType></Note></Chord></Measure><Measure number=\"15\"><Chord><durationType>eighth</durationType><Note><pitch>42</pitch><tpc>22</tpc><velocity>100</velocity><veloType>user</veloType></Note></Chord><Chord><durationType>eighth</durationType><Note><pitch>42</pitch><tpc>22</tpc><velocity>100</velocity><veloType>user</veloType></Note></Chord><Chord><durationType>eighth</durationType><Note><pitch>38</pitch><tpc>22</tpc><velocity>100</velocity><veloType>user</veloType></Note><Note><pitch>42</pitch><tpc>22</tpc><velocity>100</velocity><veloType>user</veloType></Note></Chord><Chord><durationType>eighth</durationType><Note><pitch>42</pitch><tpc>22</tpc><velocity>100</velocity><veloType>user</veloType></Note></Chord><Chord><durationType>16th</durationType><Note><pitch>42</pitch><tpc>22</tpc><velocity>100</velocity><veloType>user</veloType></Note></Chord><Chord><durationType>16th</durationType><Note><pitch>42</pitch><tpc>22</tpc><velocity>100</velocity><veloType>user</veloType></Note></Chord><Chord><durationType>16th</durationType><Note><pitch>42</pitch><tpc>22</tpc><velocity>100</velocity><veloType>user</veloType></Note></Chord><Chord><durationType>16th</durationType><Note><pitch>42</pitch><tpc>22</tpc><velocity>100</velocity><veloType>user</veloType></Note></Chord><Chord><durationType>eighth</durationType><Note><pitch>38</pitch><tpc>22</tpc><velocity>100</velocity><veloType>user</veloType></Note><Note><pitch>42</pitch><tpc>22</tpc><velocity>100</velocity><veloType>user</veloType></Note></Chord><Chord><durationType>eighth</durationType><Note><pitch>42</pitch><tpc>22</tpc><velocity>100</velocity><veloType>user</veloType></Note></Chord><tick>26880</tick><Chord><track>1</track><durationType>quarter</durationType><Note><track>1</track><pitch>35</pitch><tpc>22</tpc><velocity>100</velocity><veloType>user</veloType></Note></Chord><Rest><track>1</track><durationType>eighth</durationType></Rest><Chord><track>1</track><durationType>eighth</durationType><Note><track>1</track><pitch>35</pitch><tpc>22</tpc><velocity>100</velocity><veloType>user</veloType></Note></Chord><Rest><track>1</track><durationType>quarter</durationType></Rest><Rest><track>1</track><durationType>eighth</durationType></Rest><Chord><track>1</track><durationType>eighth</durationType><Note><track>1</track><pitch>35</pitch><tpc>22</tpc><velocity>100</velocity><veloType>user</veloType></Note></Chord></Measure><Measure number=\"16\"><Chord><durationType>quarter</durationType><Note><pitch>83</pitch><tpc>22</tpc><velocity>100</velocity><veloType>user</veloType></Note></Chord><Chord><durationType>eighth</durationType><Note><pitch>38</pitch><tpc>22</tpc><velocity>100</velocity><veloType>user</veloType></Note><Note><pitch>83</pitch><tpc>22</tpc><velocity>100</velocity><veloType>user</veloType></Note><Note><pitch>52</pitch><tpc>22</tpc><velocity>100</velocity><veloType>user</veloType></Note></Chord><Chord><durationType>eighth</durationType><Note><pitch>83</pitch><tpc>22</tpc><velocity>100</velocity><veloType>user</veloType></Note></Chord><Chord><durationType>quarter</durationType><Note><pitch>83</pitch><tpc>22</tpc><velocity>100</velocity><veloType>user</veloType></Note><Note><pitch>49</pitch><tpc>22</tpc><velocity>100</velocity><veloType>user</veloType></Note></Chord><Chord><durationType>quarter</durationType><Note><pitch>38</pitch><tpc>22</tpc><velocity>100</velocity><veloType>user</veloType></Note><Note><pitch>83</pitch><tpc>22</tpc><velocity>100</velocity><veloType>user</veloType></Note><Note><pitch>52</pitch><tpc>22</tpc><velocity>100</velocity><veloType>user</veloType></Note></Chord><tick>28800</tick><Chord><track>1</track><durationType>eighth</durationType><Note><track>1</track><pitch>44</pitch><tpc>22</tpc><velocity>100</velocity><veloType>user</veloType></Note><Note><track>1</track><pitch>35</pitch><tpc>22</tpc><velocity>100</velocity><veloType>user</veloType></Note></Chord><Chord><track>1</track><durationType>eighth</durationType><Note><track>1</track><pitch>44</pitch><tpc>22</tpc><velocity>100</velocity><veloType>user</veloType></Note></Chord><Chord><track>1</track><durationType>eighth</durationType><Note><track>1</track><pitch>44</pitch><tpc>22</tpc><velocity>100</velocity><veloType>user</veloType></Note></Chord><Chord><track>1</track><durationType>eighth</durationType><Note><track>1</track><pitch>44</pitch><tpc>22</tpc><velocity>100</velocity><veloType>user</veloType></Note></Chord><Chord><track>1</track><durationType>eighth</durationType><Note><track>1</track><pitch>44</pitch><tpc>22</tpc><velocity>100</velocity><veloType>user</veloType></Note><Note><track>1</track><pitch>35</pitch><tpc>22</tpc><velocity>100</velocity><veloType>user</veloType></Note></Chord><Chord><track>1</track><durationType>16th</durationType><Note><track>1</track><pitch>44</pitch><tpc>22</tpc><velocity>100</velocity><veloType>user</veloType></Note></Chord><Chord><track>1</track><durationType>16th</durationType><Note><track>1</track><pitch>35</pitch><tpc>22</tpc><velocity>100</velocity><veloType>user</veloType></Note></Chord><Chord><track>1</track><durationType>eighth</durationType><Note><track>1</track><pitch>44</pitch><tpc>22</tpc><velocity>100</velocity><veloType>user</veloType></Note></Chord><Chord><track>1</track><durationType>eighth</durationType><Note><track>1</track><pitch>44</pitch><tpc>22</tpc><velocity>100</velocity><veloType>user</veloType></Note></Chord></Measure></Staff>\n",
      "</Score>\n",
      "</museScore>\n"
     ]
    }
   ],
   "source": [
    "from bs4 import BeautifulSoup as bs\n",
    "path = 'C:/Users/BigData/Desktop/mscx/test.mscx'\n",
    "with open(path,'r') as f:\n",
    "    music = bs(f.read(),'xml')\n",
    "print music"
   ]
  },
  {
   "cell_type": "code",
   "execution_count": null,
   "metadata": {
    "collapsed": true
   },
   "outputs": [],
   "source": [
    "import pymongo\n",
    "from pymongo import MongoClient\n",
    "client = MongoClient('mongodb://10.120.30.8:27017')\n",
    "db = client['music']\n",
    "collect = db['gramPattern']\n",
    "cur = collect.find({'16gram':{'$exists':'true'}},{'_id':0}).sort('total',pymongo.DESCENDING)"
   ]
  },
  {
   "cell_type": "code",
   "execution_count": 3,
   "metadata": {
    "collapsed": false
   },
   "outputs": [
    {
     "name": "stdout",
     "output_type": "stream",
     "text": [
      "4\n",
      "4\n",
      "8\n"
     ]
    }
   ],
   "source": [
    "import pymongo\n",
    "from pymongo import MongoClient\n",
    "import re\n",
    "import random\n",
    "client = MongoClient('mongodb://10.120.30.8:27017')\n",
    "db = client['music']\n",
    "collect = db['gramPattern']\n",
    "simple=['4g1','4g1','4g2','4g2','8g1','8g1','4g1','4g1','4g2','4g2']\n",
    "dic = dict()\n",
    "for u in set(simple):\n",
    "    p = re.match('(\\d+)',u).group(1)\n",
    "    print p\n",
    "    count = collect.find({p+'gram':{'$exists':'true'}},{'_id':0}).count()\n",
    "    ran = random.randint(0,count)\n",
    "    cur = collect.find({p+'gram':{'$exists':'true'}},{'_id':0}).sort('total',pymongo.DESCENDING)\n",
    "    for n,record in enumerate(cur):\n",
    "        if n == ran:\n",
    "            dic.update({u:record[p+'gram']})\n",
    "            break"
   ]
  },
  {
   "cell_type": "code",
   "execution_count": 7,
   "metadata": {
    "collapsed": false
   },
   "outputs": [
    {
     "name": "stdout",
     "output_type": "stream",
     "text": [
      "{'4g2': [u'F', 0, u'C', u'Em'], '4g1': [u'E', u'E', u'D', u'Em'], '8g1': [u'Bb', u'C', u'C', u'Am', u'Am', u'Dm', u'Dm', u'G']}\n"
     ]
    }
   ],
   "source": [
    "print dic"
   ]
  },
  {
   "cell_type": "code",
   "execution_count": 10,
   "metadata": {
    "collapsed": false
   },
   "outputs": [],
   "source": [
    "orig = []\n",
    "for pattern in simple:\n",
    "    [orig.append(str(pa)) for pa in dic[pattern]]"
   ]
  },
  {
   "cell_type": "code",
   "execution_count": null,
   "metadata": {
    "collapsed": false
   },
   "outputs": [],
   "source": [
    "print map(lambda x,y:[x]+[y],orig[::2],orig[1::2])"
   ]
  },
  {
   "cell_type": "code",
   "execution_count": 12,
   "metadata": {
    "collapsed": false
   },
   "outputs": [
    {
     "ename": "SyntaxError",
     "evalue": "invalid syntax (Taking_Grams.py, line 7)",
     "output_type": "error",
     "traceback": [
      "\u001b[1;36m  File \u001b[1;32m\"algo\\Taking_Grams.py\"\u001b[1;36m, line \u001b[1;32m7\u001b[0m\n\u001b[1;33m    def getGrams(grampatterns)\u001b[0m\n\u001b[1;37m                              ^\u001b[0m\n\u001b[1;31mSyntaxError\u001b[0m\u001b[1;31m:\u001b[0m invalid syntax\n"
     ]
    }
   ],
   "source": [
    "from algo.Taking_Grams import getGrams as ggr"
   ]
  }
 ],
 "metadata": {
  "kernelspec": {
   "display_name": "Python 2",
   "language": "python",
   "name": "python2"
  },
  "language_info": {
   "codemirror_mode": {
    "name": "ipython",
    "version": 2
   },
   "file_extension": ".py",
   "mimetype": "text/x-python",
   "name": "python",
   "nbconvert_exporter": "python",
   "pygments_lexer": "ipython2",
   "version": "2.7.10"
  }
 },
 "nbformat": 4,
 "nbformat_minor": 0
}
