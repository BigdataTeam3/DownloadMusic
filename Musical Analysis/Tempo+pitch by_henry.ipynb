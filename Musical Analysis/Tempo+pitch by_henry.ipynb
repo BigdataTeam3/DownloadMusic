{
 "cells": [
  {
   "cell_type": "code",
   "execution_count": 159,
   "metadata": {
    "collapsed": false
   },
   "outputs": [],
   "source": [
    "from decimal import *\n",
    "\n",
    "#Beat dictionary.\n",
    "beatDic = {\n",
    "           'measure':None,\n",
    "           'whole':Decimal(1),\n",
    "           'half':Decimal(1)/2,\n",
    "           'quarter':Decimal(1)/4,\n",
    "           'eighth':Decimal(1)/8,\n",
    "           '16th':Decimal(1)/16,\n",
    "           '32nd':Decimal(1)/32,\n",
    "           '64th':Decimal(1)/64,\n",
    "           '128th':Decimal(1)/128,\n",
    "           '256th':Decimal(1)/256\n",
    "          }\n",
    "Chord_or_RestDic = {\n",
    "                'Chord':1,'Rest':0\n",
    "                }\n"
   ]
  },
  {
   "cell_type": "code",
   "execution_count": 709,
   "metadata": {
    "collapsed": false,
    "scrolled": false
   },
   "outputs": [],
   "source": [
    "#目的 : 取出Tempo跟音高\n",
    "from bs4 import BeautifulSoup as bs4\n",
    "import os\n",
    "import csv\n",
    "\n",
    "# mscx的檔案目錄，及output的csv檔的目錄\n",
    "mscxfilePath = b'E:/downloadmusic2/'\n",
    "csvfilePath = b'C:/Users/BigData/'\n",
    "\n",
    "#讀取檔案\n",
    "for mscxfilename in os.listdir(mscxfilePath):\n",
    "    mscxPath = mscxfilePath + mscxfilename\n",
    "    with open(mscxPath, 'rb') as mscxFile:\n",
    "        mscx = bs4(mscxFile.read(), 'xml')\n",
    "\n",
    "#寫入csv檔，四個欄位名稱，[ 第幾小節，拍子，音符或休止符，音高 ]\n",
    "    unicode_mscxfilename = mscxfilename.split('.')[0]\n",
    "    csvPath = csvfilePath + unicode_mscxfilename + '.csv'\n",
    "    \n",
    "    with open(csvPath,'wb') as csvFile:\n",
    "        writer = csv.writer(csvFile)\n",
    "        writer.writerow([unicode_mscxfilename])\n",
    "        writer.writerow(['Measure', 'durationType','Chord_or_Rest','pitch','Staff_name'])\n",
    "\n",
    "        fieldnames = ['Measure', 'durationType','Chord_or_Rest','pitch','Staff_name']\n",
    "        writer = csv.DictWriter(csvFile,fieldnames=fieldnames)    \n",
    "#Instrument的字典，用來寫入樂器名稱\n",
    "        instrumentDic = {}\n",
    "        for mscx in mscx.children:\n",
    "            for Part in mscx.select('Part'):\n",
    "                for staff in Part.find_all('Staff'):\n",
    "                    if staff.name == 'Staff':\n",
    "                        instrumentDic.update({int(staff['id']):str(Part.Instrument.instrumentId.text)})\n",
    "                        \n",
    "            for Staff in mscx.select('Score > Staff'):\n",
    "                for Measure in Staff.find_all('Measure'):\n",
    "                    for tag in Measure.find_all(['Chord','Rest']):\n",
    "                        if tag.pitch == None:\n",
    "                            writer.writerow({'Measure':Measure['number'],\\\n",
    "                                             'durationType':str(beatDic[tag.durationType.text]),\\\n",
    "                                             'Chord_or_Rest':str(Chord_or_RestDic[tag.name]),\\\n",
    "                                             'Staff_name':(instrumentDic[int(Staff['id'])])})\n",
    "                        else :\n",
    "                            tag_pitch = []\n",
    "                            for pitch in tag.find_all(['pitch']):\n",
    "                                tag_pitch.append(int(pitch.text))\n",
    "                            writer.writerow({'Measure':Measure['number'],\\\n",
    "                                             'durationType':str(beatDic[tag.durationType.text]),\\\n",
    "                                             'Chord_or_Rest':str(Chord_or_RestDic[tag.name]),\\\n",
    "                                             'pitch':tag_pitch,\\\n",
    "                                             'Staff_name':(instrumentDic[int(Staff['id'])])})\n"
   ]
  },
  {
   "cell_type": "code",
   "execution_count": 711,
   "metadata": {
    "collapsed": false,
    "scrolled": true
   },
   "outputs": [
    {
     "name": "stdout",
     "output_type": "stream",
     "text": [
      "{1: 'drum.snare-drum', 2: 'pluck.guitar.acoustic', 3: 'pitched-percussion.marimba', 4: 'pitched-percussion.marimba', 5: 'pluck.guitar.electric', 6: 'pluck.bass.electric', 7: 'keyboard.bandoneon', 8: 'pluck.guitar.electric', 9: 'brass.cornet', 10: 'wind.flutes.flute.alto', 11: 'drum.group.set', 12: 'pluck.bass'}\n"
     ]
    }
   ],
   "source": [
    "#測試區\n",
    "\n",
    "from bs4 import BeautifulSoup as bs4\n",
    "import os\n",
    "import csv\n",
    "import pandas as pd\n",
    "filePath = b'E:/downloadmusic2/Better Man_11_with_2.mscx'\n",
    "outputPath = b'C:/Users/BigData/'\n",
    "with open(filePath, 'rb') as mscxFile:\n",
    "    mscx = bs4(mscxFile.read(), 'xml')\n",
    "    \n",
    "instrumentDic = {}\n",
    "for mscx in mscx.children:\n",
    "    for Part in mscx.select('Part'):\n",
    "        for staff in Part.find_all('Staff'):\n",
    "            instrumentDic.update({int(staff['id']):str(Part.Instrument.instrumentId.text)})\n",
    "#                 print instrumentDic\n",
    "print(instrumentDic)\n",
    "#                 if Part.staff:\n"
   ]
  },
  {
   "cell_type": "code",
   "execution_count": 696,
   "metadata": {
    "collapsed": false
   },
   "outputs": [
    {
     "ename": "NameError",
     "evalue": "name 'b' is not defined",
     "output_type": "error",
     "traceback": [
      "\u001b[1;31m---------------------------------------------------------------------------\u001b[0m",
      "\u001b[1;31mNameError\u001b[0m                                 Traceback (most recent call last)",
      "\u001b[1;32m<ipython-input-696-0c11611be1c6>\u001b[0m in \u001b[0;36m<module>\u001b[1;34m()\u001b[0m\n\u001b[0;32m      1\u001b[0m \u001b[1;31m#測試區\u001b[0m\u001b[1;33m\u001b[0m\u001b[1;33m\u001b[0m\u001b[0m\n\u001b[0;32m      2\u001b[0m \u001b[1;33m\u001b[0m\u001b[0m\n\u001b[1;32m----> 3\u001b[1;33m \u001b[0mdic\u001b[0m\u001b[1;33m[\u001b[0m\u001b[1;36m10\u001b[0m\u001b[1;33m]\u001b[0m\u001b[1;33m=\u001b[0m\u001b[0mb\u001b[0m\u001b[1;33m\u001b[0m\u001b[0m\n\u001b[0m\u001b[0;32m      4\u001b[0m \u001b[1;32mprint\u001b[0m \u001b[0mdic\u001b[0m\u001b[1;33m\u001b[0m\u001b[0m\n\u001b[0;32m      5\u001b[0m \u001b[0mdic\u001b[0m\u001b[1;33m[\u001b[0m\u001b[1;36m10\u001b[0m\u001b[1;33m]\u001b[0m\u001b[1;33m=\u001b[0m\u001b[0ma\u001b[0m\u001b[1;33m\u001b[0m\u001b[0m\n",
      "\u001b[1;31mNameError\u001b[0m: name 'b' is not defined"
     ]
    }
   ],
   "source": [
    "#測試區\n",
    "\n",
    "dic[10]=b\n",
    "print dic\n",
    "dic[10]=a\n",
    "print dic"
   ]
  },
  {
   "cell_type": "code",
   "execution_count": 708,
   "metadata": {
    "collapsed": false,
    "scrolled": false
   },
   "outputs": [
    {
     "ename": "IndentationError",
     "evalue": "expected an indented block (<ipython-input-708-ce4cce3dfbf5>, line 18)",
     "output_type": "error",
     "traceback": [
      "\u001b[1;36m  File \u001b[1;32m\"<ipython-input-708-ce4cce3dfbf5>\"\u001b[1;36m, line \u001b[1;32m18\u001b[0m\n\u001b[1;33m    print '===================='\u001b[0m\n\u001b[1;37m        ^\u001b[0m\n\u001b[1;31mIndentationError\u001b[0m\u001b[1;31m:\u001b[0m expected an indented block\n"
     ]
    }
   ],
   "source": [
    "#測試區\n",
    "from bs4 import BeautifulSoup as bs4\n",
    "filePath = 'E:/downloadmusic2/Bertie Higgins_7_with_2.mscx'\n",
    "with open(filePath, 'r') as mscxFile:\n",
    "    mscx = bs4(mscxFile.read(), 'xml')\n",
    "i=1\n",
    "for mscx in mscx.children:\n",
    "    for Measure in mscx.select('Measure'):\n",
    "        for tag in Measure.find_all(['Chord','Rest']):\n",
    "#         print tag.name,tag.durationType.text,tag.pitch\n",
    "#         print tag\n",
    "#             if tag.pitch == None:\n",
    "#                 print Measure['number']\n",
    "#                 print tag.name,tag.durationType.text,tag.pitch\n",
    "#             else :\n",
    "#                 print Measure['number']\n",
    "#             print tag.pitch.text\n",
    "        print '===================='\n",
    "\n"
   ]
  }
 ],
 "metadata": {
  "kernelspec": {
   "display_name": "Python 2",
   "language": "python",
   "name": "python2"
  },
  "language_info": {
   "codemirror_mode": {
    "name": "ipython",
    "version": 2
   },
   "file_extension": ".py",
   "mimetype": "text/x-python",
   "name": "python",
   "nbconvert_exporter": "python",
   "pygments_lexer": "ipython2",
   "version": "2.7.10"
  }
 },
 "nbformat": 4,
 "nbformat_minor": 0
}
