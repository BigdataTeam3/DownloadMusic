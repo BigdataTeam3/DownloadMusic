{
 "cells": [
  {
   "cell_type": "markdown",
   "metadata": {},
   "source": [
    "##遠端連接hadoop"
   ]
  },
  {
   "cell_type": "markdown",
   "metadata": {},
   "source": [
    "在linux環境之下，或者windows用putty\n",
    "\n",
    "打ssh 帳號@10.120.1.19 (請參考linux投影片155)\n",
    "\n",
    "帳號和github BigdataTeam3上的帳號一樣\n",
    "\n",
    "密碼都是1234\n",
    "\n",
    "可以直接操作我的電腦上的hadoop (上傳、建資料夾等)"
   ]
  }
 ],
 "metadata": {
  "kernelspec": {
   "display_name": "Python 2",
   "language": "python",
   "name": "python2"
  },
  "language_info": {
   "codemirror_mode": {
    "name": "ipython",
    "version": 2
   },
   "file_extension": ".py",
   "mimetype": "text/x-python",
   "name": "python",
   "nbconvert_exporter": "python",
   "pygments_lexer": "ipython2",
   "version": "2.7.10"
  }
 },
 "nbformat": 4,
 "nbformat_minor": 0
}
