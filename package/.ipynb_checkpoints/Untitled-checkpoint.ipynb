{
 "cells": [
  {
   "cell_type": "code",
   "execution_count": 1,
   "metadata": {
    "collapsed": false
   },
   "outputs": [],
   "source": [
    "import musicMaker\n",
    "music = musicMaker.Music('E:/mscx/Oasis_Morning_Glory.mid.mscx')"
   ]
  },
  {
   "cell_type": "code",
   "execution_count": 2,
   "metadata": {
    "collapsed": false
   },
   "outputs": [],
   "source": [
    "p = music.getChords()"
   ]
  },
  {
   "cell_type": "code",
   "execution_count": 3,
   "metadata": {
    "collapsed": false
   },
   "outputs": [
    {
     "name": "stdout",
     "output_type": "stream",
     "text": [
      "['Am', 'Am', 'G', 'G', 'Am', 'Am', 'G', 'G', 'Am', 'Am', 'G', 'G', 'Am', 'Am', 'G', 'G', 'Am', 'Am', 'G', 'G', 'Am', 'Am', 'G', 'G', 'Am', 'Am', 'G', 'G', 'F', 'F', 'F', 'F', 'Am', 'Am', 'G', 'G', 'Am', 'Am', 'G', 'G', 'Am', 'Am', 'G', 'G', 'F', 'F', 'F', 'F', 'G', 'G', 'F', 'F', 'G', 'G', 'F', 'F', 'G', 'G', 'F', 'F', 'G', 'G', 'G', 'G', 'Em', 'Em', 'Em', 'Em', 'Am', 'Am', 'G', 'G', 'F', 'F', 'F', 'F', 'Am', 'Am', 'G', 'G', 'F', 'F', 'F', 'F', 'Am', 'Am', 'G', 'G', 'F', 'F', 'F', 'F', 'Am', 'Am', 'G', 'G', 'F', 'F', 'F', 'F', 'Am', 'Am', 'G', 'G', 'Am', 'Am', 'G', 'G', 'Am', 'Am', 'G', 'G', 'Am', 'Am', 'G', 'G', 'Am', 'Am', 'G', 'G', 'Am', 'Am', 'G', 'G', 'Am', 'Am', 'G', 'G', 'F', 'F', 'F', 'F', 'Am', 'Am', 'G', 'G', 'Am', 'Am', 'G', 'G', 'Am', 'Am', 'G', 'G', 'F', 'F', 'F', 'F', 'G', 'G', 'F', 'F', 'G', 'G', 'F', 'F', 'G', 'G', 'F', 'F', 'G', 'G', 'G', 'G', 'Em', 'Em', 'Em', 'Em', 'Am', 'Am', 'G', 'G', 'F', 'F', 'F', 'F', 'Am', 'Am', 'G', 'G', 'F', 'F', 'F', 'F', 'Am', 'Am', 'G', 'G', 'F', 'F', 'F', 'F', 'Am', 'Am', 'G', 'G', 'F', 'F', 'F', 'F', 'F', 'Am', 'Am', 'Am']\n"
     ]
    }
   ],
   "source": [
    "print p"
   ]
  },
  {
   "cell_type": "code",
   "execution_count": 4,
   "metadata": {
    "collapsed": false
   },
   "outputs": [],
   "source": [
    "per_staffs = music.getPercussions()"
   ]
  },
  {
   "cell_type": "code",
   "execution_count": 5,
   "metadata": {
    "collapsed": false
   },
   "outputs": [
    {
     "name": "stdout",
     "output_type": "stream",
     "text": [
      "['A2', 'A2', 'A2', 'A2', 'A2', 'A2', 'A2', 'A2', 'A1', 'A1', 'A1', 'A1', 'A1', 'A1', 'A1', 'A1', 'A1', 'A1', 'A1', 'A1', 'A1', 'A1', 'A1', 'A1', 'A1', 'A1', 'A1', 'A1', 'A1', 'A1', 'A1', 'A1', 'A1', 'A1', 'A2', 'A2', 'A2', 'A2', 'A2', 'A2', 'A2', 'A2', 'A2', 'A2', 'A2', 'A2', 'A2', 'A2', 'C3', 'A2', 'A2', 'A2', 'A2', 'A2', 'A2', 'A2', 'A2', 'A2', 'A1', 'A1', 'A1', 'A1', 'A1', 'A1', 'A1', 'A1', 'A1', 'A1', 'A1', 'A1', 'A1', 'A1', 'A1', 'A1', 'A1', 'A1', 'A1', 'A1', 'A1', 'A1', 'A1', 'A1', 'A1', 'A1', 'A2', 'A2', 'A2', 'A2', 'A2', 'A2', 'A2', 'A2', 'A2', 'A2', 'A2', 'A2', 'A2', 'A2', 'A2', 'C1', 'C2', 'A1']\n",
      "['B1', 'B1', 'B1', 'B1', 'B1', 'B1', 'B1', 'B1', 'A1', 'A1', 'A1', 'A1', 'A1', 'A1', 'A1', 'A1', 'A1', 'A1', 'A1', 'A1', 'A1', 'A1', 'A1', 'A1', 'A1', 'A1', 'A1', 'A1', 'A1', 'A1', 'A1', 'A1', 'A1', 'A1', 'B1', 'B1', 'B1', 'B1', 'B1', 'B1', 'B1', 'B1', 'B1', 'B1', 'B1', 'B1', 'B1', 'B1', 'C3', 'B1', 'B1', 'B1', 'B1', 'B1', 'B1', 'B1', 'B1', 'B1', 'A1', 'A1', 'A1', 'A1', 'A1', 'A1', 'A1', 'A1', 'A1', 'A1', 'A1', 'A1', 'A1', 'A1', 'A1', 'A1', 'A1', 'A1', 'A1', 'A1', 'A1', 'A1', 'A1', 'A1', 'A1', 'A1', 'B1', 'B1', 'B1', 'B1', 'B1', 'B1', 'B1', 'B1', 'B1', 'B1', 'B1', 'B1', 'B1', 'B1', 'B1', 'C1', 'C2', 'A1']\n",
      "{'A1': 0.52, 'C2': 0.01, 'C1': 0.01, 'B1': 0.451, 'C3': 0.01}\n"
     ]
    }
   ],
   "source": [
    "for staff in per_staffs:\n",
    "    print staff.pattern\n",
    "    staff.resetSep(0.5,0.1)\n",
    "    print staff.pattern\n",
    "    print staff.patternDetail"
   ]
  },
  {
   "cell_type": "code",
   "execution_count": 6,
   "metadata": {
    "collapsed": false
   },
   "outputs": [
    {
     "name": "stdout",
     "output_type": "stream",
     "text": [
      "可用來比對的和弦組合\n",
      "[(('Am', 'Am', 'G', 'G', 'Am', 'Am', 'G', 'G'), 16), (('Am', 'Am', 'G', 'G', 'F', 'F', 'F', 'F'), 12), (('F', 'F', 'G', 'G', 'F', 'F', 'G', 'G'), 6), (('G', 'G', 'Am', 'Am', 'G', 'G', 'F', 'F'), 4), (('F', 'F', 'Am', 'Am', 'G', 'G', 'Am', 'Am'), 3), (('Em', 'Em', 'Am', 'Am', 'G', 'G', 'F', 'F'), 2), (('G', 'G', 'F', 'F', 'F', 'F', 'G', 'G'), 2), (('G', 'G', 'G', 'G', 'Em', 'Em', 'Em', 'Em'), 2), (('G', 'G', 'Em', 'Em', 'Em', 'Em', 'Am', 'Am'), 2), (('G', 'G', 'F', 'F', 'G', 'G', 'G', 'G'), 2), (('F', 'F', 'F', 'F', 'G', 'G', 'F', 'F'), 2), (('F', 'F', 'G', 'G', 'G', 'G', 'Em', 'Em'), 2), (('G', 'G', 'F', 'F', 'F', 'F', 'F', 'Am'), 1), (('F', 'F', 'F', 'F', 'F', 'Am', 'Am', 'Am'), 1)]\n",
      "總共有幾個和弦組合可用來比對 = 14\n",
      "用來比對的和弦\n",
      "('Am', 'Am', 'G', 'G', 'Am', 'Am', 'G', 'G')\n",
      "和弦組合當中，類似的組合\n",
      "8 ('Am', 'Am', 'G', 'G', 'Am', 'Am', 'G', 'G')\n",
      "4 ('Am', 'Am', 'G', 'G', 'F', 'F', 'F', 'F')\n",
      "4 ('F', 'F', 'G', 'G', 'F', 'F', 'G', 'G')\n",
      "0 ('G', 'G', 'Am', 'Am', 'G', 'G', 'F', 'F')\n",
      "0 ('F', 'F', 'Am', 'Am', 'G', 'G', 'Am', 'Am')\n",
      "0 ('Em', 'Em', 'Am', 'Am', 'G', 'G', 'F', 'F')\n",
      "2 ('G', 'G', 'F', 'F', 'F', 'F', 'G', 'G')\n",
      "2 ('G', 'G', 'G', 'G', 'Em', 'Em', 'Em', 'Em')\n",
      "0 ('G', 'G', 'Em', 'Em', 'Em', 'Em', 'Am', 'Am')\n",
      "2 ('G', 'G', 'F', 'F', 'G', 'G', 'G', 'G')\n",
      "0 ('F', 'F', 'F', 'F', 'G', 'G', 'F', 'F')\n",
      "2 ('F', 'F', 'G', 'G', 'G', 'G', 'Em', 'Em')\n",
      "0 ('G', 'G', 'F', 'F', 'F', 'F', 'F', 'Am')\n",
      "1 ('F', 'F', 'F', 'F', 'F', 'Am', 'Am', 'Am')\n",
      "挑選的結果\n",
      "[(('Am', 'Am', 'G', 'G', 'Am', 'Am', 'G', 'G'), 16)]\n",
      "歸類到最多次數的和弦\n",
      "(('Am', 'Am', 'G', 'G', 'Am', 'Am', 'G', 'G'), 16)\n",
      "None\n"
     ]
    }
   ],
   "source": [
    "\n",
    "print music.getGram(p,8,0)"
   ]
  },
  {
   "cell_type": "code",
   "execution_count": null,
   "metadata": {
    "collapsed": true
   },
   "outputs": [],
   "source": []
  }
 ],
 "metadata": {
  "kernelspec": {
   "display_name": "Python 2",
   "language": "python",
   "name": "python2"
  },
  "language_info": {
   "codemirror_mode": {
    "name": "ipython",
    "version": 2
   },
   "file_extension": ".py",
   "mimetype": "text/x-python",
   "name": "python",
   "nbconvert_exporter": "python",
   "pygments_lexer": "ipython2",
   "version": "2.7.10"
  }
 },
 "nbformat": 4,
 "nbformat_minor": 0
}
