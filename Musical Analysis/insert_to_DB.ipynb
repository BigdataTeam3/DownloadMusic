{
 "cells": [
  {
   "cell_type": "code",
   "execution_count": null,
   "metadata": {
    "collapsed": true
   },
   "outputs": [],
   "source": [
    "import pyodbc\n",
    "q = r'insert into mscx_c_key values(?,?,?,?)'\n",
    "# columns:mname, data, mkey, main_melody\n",
    "conn = pyodbc.connect('DRIVER={SQL Server};SERVER=10.120.30.8;DATABASE=music;UID=sa;PWD=passw0rd')\n",
    "cur = conn.cursor()\n",
    "\n",
    "#examples:\n",
    "# insert = (unicode(musicname.decode('utf8')),pyodbc.Binary(content),unicode('major'.decode('utf8)),unicode('1,2,3'))\n",
    "# cur.execute(q,insert)\n",
    "# cur.commit()\n",
    "# cur.close()\n",
    "# conn.close()"
   ]
  }
 ],
 "metadata": {
  "kernelspec": {
   "display_name": "Python 2",
   "language": "python",
   "name": "python2"
  },
  "language_info": {
   "codemirror_mode": {
    "name": "ipython",
    "version": 2
   },
   "file_extension": ".py",
   "mimetype": "text/x-python",
   "name": "python",
   "nbconvert_exporter": "python",
   "pygments_lexer": "ipython2",
   "version": "2.7.10"
  }
 },
 "nbformat": 4,
 "nbformat_minor": 0
}
