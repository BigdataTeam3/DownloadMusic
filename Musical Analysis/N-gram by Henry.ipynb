{
 "cells": [
  {
   "cell_type": "code",
   "execution_count": 135,
   "metadata": {
    "collapsed": false,
    "scrolled": true
   },
   "outputs": [
    {
     "name": "stdout",
     "output_type": "stream",
     "text": [
      "42\n"
     ]
    }
   ],
   "source": [
    "#一次抓4個\n",
    "#修改Dominantlist內容，再執行\n",
    "\n",
    "import operator\n",
    "import csv\n",
    "\n",
    "Dominantlist = ['Dm', 'Dm', 'F', 'F', 'C', 'C', 'G', 'G', 'Dm', 'Dm', 'F', 'F', 'C', 'C', 'G', 'G', 'Dm', 'Dm', 'F', 'F', 'C', 'C', 'G', 'G', 'Dm', 'Dm', 'F', 'F', 'C', 'C', 'G', 'G', 'Dm', 'Dm', 'F', 'F', 'C', 'C', 'G', 'G', 'Dm', 'Dm', 'F', 'F', 'C', 'C', 'G', 'G', 'Dm', 'Dm', 'F', 'F', 'C', 'C', 'G', 'G', 'Dm', 'Dm', 'F', 'F', 'C', 'C', 'G', 'G', 'Dm', 'Dm', 'F', 'F', 'C', 'C', 'G', 'G', 'F', 'F', 'F', 'F', 'C', 'C', 'Dm', 'Dm', 'F', 'F', 'F', 'F', 'C', 'C', 'Dm', 'Dm', 'F', 'F', 'F', 'F', 'C', 'C', 'Dm', 'Dm', 'F', 'F', 'F', 'F', 'A', 'A', 'A', 0, 'Dm', 'Dm', 'F', 'F', 'C', 'C', 'G', 'G', 'Dm', 'Dm', 'F', 'F', 'C', 'C', 'G', 'G', 'Dm', 'Dm', 'F', 'F', 'C', 'C', 'G', 'G', 'Dm', 'Dm', 'F', 'F', 'C', 'C', 'G', 'G', 'Dm', 'Dm', 'F', 'F', 'C', 'C', 'G', 'G', 'Dm', 'Dm', 'F', 'F', 'C', 'C', 'G', 'G', 'Dm', 'Dm', 'F', 'F', 'C', 'C', 'G', 'G', 'Dm', 'Dm', 'F', 'F', 'C', 'C', 'G', 'G', 'Dm', 'Dm', 'F', 'F', 'C', 'C', 'G', 'G', 'F', 'F', 'F', 'F', 'C', 'C', 'Dm', 'Dm', 'F', 'F', 'F', 'F', 'C', 'C', 'Dm', 'Dm', 'F', 'F', 'F', 'F', 'C', 'C', 'Dm', 'Dm', 'F', 'F', 'F', 'F', 'A', 'A', 'A', 0, 'Dm', 'Dm', 'F', 'F', 'C', 'C', 'G', 'G', 'Dm', 'Dm', 'F', 'F', 'C', 'C', 'G', 'G', 'F', 'F', 'F', 'F', 'C', 'C', 'Dm', 'Dm', 'F', 'F', 'F', 'F', 'C', 'C', 'Dm', 'Dm', 'F', 0, 'F', 0, 'C', 'C', 'Dm', 'Dm', 'F', 0, 'F', 0, 'A', 'A', 'A', 'A', 'A', 'A', 'A', 0, 0, 0, 0, 0, 0, 0, 0, 0, 0, 0, 0, 0, 0, 0, 0, 'G', 'F', 'F', 'F', 'F', 'C', 'C', 'Dm', 'Dm', 'F', 'F', 'F', 'F', 'C', 'C', 'Dm', 'Dm', 'F', 'F', 'F', 'F', 'C', 'C', 'Dm', 'Dm', 'F', 'F', 'F', 'F', 'A', 'A', 'A', 'A', 'A', 'A', 'A', 'A', 0, 0, 0, 0, 0, 0, 0, 0, 0, 0, 0, 0, 0, 0, 0, 0, 0, 0, 0, 0, 0, 0, 0, 0, 0, 0, 0, 0, 0, 0, 0, 0, 0, 0, 0, 0, 0, 0, 0, 0, 0, 0, 0, 0, 'F', 'G']\n",
    "\n",
    "def Dominantlist_to_Dominantgram_4freq(Dominantlist):\n",
    "    Dominantgram = []\n",
    "    for i in range(0,len(Dominantlist)-3):\n",
    "        Dominantgram.append(Dominantlist[i:i+4])\n",
    "    return Dominantgram\n",
    "#  網路上原先寫法\n",
    "#     return [Dominantlist[i:i+4] for i in range(0,len(Dominantlist)-3)]\n",
    "\n",
    "def Dominantgram_to_Dominantdict_4freq(Dominantgram):\n",
    "    Dominantdict = dict()\n",
    "    for (Dominant1,Dominant2,Dominant3,Dominant4) in Dominantgram:\n",
    "        Dominantdict[(Dominant1,Dominant2,Dominant3,Dominant4)] = \\\n",
    "        Dominantdict.get((Dominant1,Dominant2,Dominant3,Dominant4),0)+1\n",
    "    return Dominantdict\n",
    "\n",
    "Dominantgram_4freq = Dominantlist_to_Dominantgram_4freq(Dominantlist)\n",
    "\n",
    "Dominantdict_4freq = Dominantgram_to_Dominantdict_4freq(Dominantgram_4freq)\n",
    "\n",
    "Dominantsorted_4freq=sorted(Dominantdict_4freq.items(), key=itemgetter(1), reverse=True)\n",
    "\n",
    "# print Dominantsorted_4freq\n",
    "\n",
    "#寫入csv檔\n",
    "csvfilePath = b'C:/Users/BigData/test3.csv'\n",
    "# csvPath = csvfilePath + unicode_mscxfilename + ' 4freq N-gram.csv'\n",
    "\n",
    "with open(csvfilePath,'wb') as csvFile:\n",
    "    writer = csv.writer(csvFile)\n",
    "    writer.writerow(['Dominant', 'Frequency'])\n",
    "    for i in range(0,len(Dominantsorted_4freq)):\n",
    "        writer.writerow(Dominantsorted_4freq[i])"
   ]
  },
  {
   "cell_type": "code",
   "execution_count": 138,
   "metadata": {
    "collapsed": false
   },
   "outputs": [],
   "source": [
    "#一次抓8個\n",
    "#修改Dominantlist內容，再執行\n",
    "\n",
    "import operator\n",
    "import csv\n",
    "\n",
    "Dominantlist = ['Dm', 'Dm', 'F', 'F', 'C', 'C', 'G', 'G', 'Dm', 'Dm', 'F', 'F', 'C', 'C', 'G', 'G', 'Dm', 'Dm', 'F', 'F', 'C', 'C', 'G', 'G', 'Dm', 'Dm', 'F', 'F', 'C', 'C', 'G', 'G', 'Dm', 'Dm', 'F', 'F', 'C', 'C', 'G', 'G', 'Dm', 'Dm', 'F', 'F', 'C', 'C', 'G', 'G', 'Dm', 'Dm', 'F', 'F', 'C', 'C', 'G', 'G', 'Dm', 'Dm', 'F', 'F', 'C', 'C', 'G', 'G', 'Dm', 'Dm', 'F', 'F', 'C', 'C', 'G', 'G', 'F', 'F', 'F', 'F', 'C', 'C', 'Dm', 'Dm', 'F', 'F', 'F', 'F', 'C', 'C', 'Dm', 'Dm', 'F', 'F', 'F', 'F', 'C', 'C', 'Dm', 'Dm', 'F', 'F', 'F', 'F', 'A', 'A', 'A', 0, 'Dm', 'Dm', 'F', 'F', 'C', 'C', 'G', 'G', 'Dm', 'Dm', 'F', 'F', 'C', 'C', 'G', 'G', 'Dm', 'Dm', 'F', 'F', 'C', 'C', 'G', 'G', 'Dm', 'Dm', 'F', 'F', 'C', 'C', 'G', 'G', 'Dm', 'Dm', 'F', 'F', 'C', 'C', 'G', 'G', 'Dm', 'Dm', 'F', 'F', 'C', 'C', 'G', 'G', 'Dm', 'Dm', 'F', 'F', 'C', 'C', 'G', 'G', 'Dm', 'Dm', 'F', 'F', 'C', 'C', 'G', 'G', 'Dm', 'Dm', 'F', 'F', 'C', 'C', 'G', 'G', 'F', 'F', 'F', 'F', 'C', 'C', 'Dm', 'Dm', 'F', 'F', 'F', 'F', 'C', 'C', 'Dm', 'Dm', 'F', 'F', 'F', 'F', 'C', 'C', 'Dm', 'Dm', 'F', 'F', 'F', 'F', 'A', 'A', 'A', 0, 'Dm', 'Dm', 'F', 'F', 'C', 'C', 'G', 'G', 'Dm', 'Dm', 'F', 'F', 'C', 'C', 'G', 'G', 'F', 'F', 'F', 'F', 'C', 'C', 'Dm', 'Dm', 'F', 'F', 'F', 'F', 'C', 'C', 'Dm', 'Dm', 'F', 0, 'F', 0, 'C', 'C', 'Dm', 'Dm', 'F', 0, 'F', 0, 'A', 'A', 'A', 'A', 'A', 'A', 'A', 0, 0, 0, 0, 0, 0, 0, 0, 0, 0, 0, 0, 0, 0, 0, 0, 'G', 'F', 'F', 'F', 'F', 'C', 'C', 'Dm', 'Dm', 'F', 'F', 'F', 'F', 'C', 'C', 'Dm', 'Dm', 'F', 'F', 'F', 'F', 'C', 'C', 'Dm', 'Dm', 'F', 'F', 'F', 'F', 'A', 'A', 'A', 'A', 'A', 'A', 'A', 'A', 0, 0, 0, 0, 0, 0, 0, 0, 0, 0, 0, 0, 0, 0, 0, 0, 0, 0, 0, 0, 0, 0, 0, 0, 0, 0, 0, 0, 0, 0, 0, 0, 0, 0, 0, 0, 0, 0, 0, 0, 0, 0, 0, 0, 'F', 'G']\n",
    "\n",
    "def Dominantlist_to_Dominantgram_8freq(Dominantlist):\n",
    "    Dominantgram = []\n",
    "    for i in range(0,len(Dominantlist)-7):\n",
    "        Dominantgram.append(Dominantlist[i:i+8])\n",
    "    return Dominantgram\n",
    "#  網路上原先寫法\n",
    "#     return [Dominantlist[i:i+8] for i in range(0,len(Dominantlist)-7)]\n",
    "\n",
    "def Dominantgram_to_Dominantdict_8freq(Dominantgram):\n",
    "    Dominantdict=dict()\n",
    "    for (Dominant1,Dominant2,Dominant3,Dominant4,Dominant5,Dominant6,Dominant7,Dominant8) in Dominantgram:\n",
    "        Dominantdict[(Dominant1,Dominant2,Dominant3,Dominant4,Dominant5,Dominant6,Dominant7,Dominant8)] = \\\n",
    "        Dominantdict.get((Dominant1,Dominant2,Dominant3,Dominant4,Dominant5,Dominant6,Dominant7,Dominant8),0)+1\n",
    "    return Dominantdict\n",
    "\n",
    "Dominantgram_8freq = Dominantlist_to_Dominantgram_8freq(Dominantlist)\n",
    "\n",
    "Dominantdict_8freq = Dominantgram_to_Dominantdict_8freq(Dominantgram_8freq)\n",
    "\n",
    "Dominantsorted_8freq=sorted(Dominantdict_8freq.items(), key=itemgetter(1), reverse=True)\n",
    "\n",
    "# print Dominantsorted_8freq\n",
    "\n",
    "#寫入csv檔\n",
    "csvfilePath = b'C:/Users/BigData/test3.csv'\n",
    "# csvPath = csvfilePath + csvfilename + ' 8-gram.csv'\n",
    "\n",
    "with open(csvfilePath,'wb') as csvFile:\n",
    "    writer = csv.writer(csvFile)\n",
    "    writer.writerow(['Dominant', 'Frequency'])\n",
    "    for i in range(0,len(Dominantsorted_8freq)):\n",
    "        writer.writerow(Dominantsorted_8freq[i])"
   ]
  },
  {
   "cell_type": "code",
   "execution_count": 139,
   "metadata": {
    "collapsed": false
   },
   "outputs": [],
   "source": [
    "#一次抓16個\n",
    "#修改Dominantlist內容，再執行\n",
    "\n",
    "import operator\n",
    "import csv\n",
    "\n",
    "Dominantlist = ['Dm', 'Dm', 'F', 'F', 'C', 'C', 'G', 'G', 'Dm', 'Dm', 'F', 'F', 'C', 'C', 'G', 'G', 'Dm', 'Dm', 'F', 'F', 'C', 'C', 'G', 'G', 'Dm', 'Dm', 'F', 'F', 'C', 'C', 'G', 'G', 'Dm', 'Dm', 'F', 'F', 'C', 'C', 'G', 'G', 'Dm', 'Dm', 'F', 'F', 'C', 'C', 'G', 'G', 'Dm', 'Dm', 'F', 'F', 'C', 'C', 'G', 'G', 'Dm', 'Dm', 'F', 'F', 'C', 'C', 'G', 'G', 'Dm', 'Dm', 'F', 'F', 'C', 'C', 'G', 'G', 'F', 'F', 'F', 'F', 'C', 'C', 'Dm', 'Dm', 'F', 'F', 'F', 'F', 'C', 'C', 'Dm', 'Dm', 'F', 'F', 'F', 'F', 'C', 'C', 'Dm', 'Dm', 'F', 'F', 'F', 'F', 'A', 'A', 'A', 0, 'Dm', 'Dm', 'F', 'F', 'C', 'C', 'G', 'G', 'Dm', 'Dm', 'F', 'F', 'C', 'C', 'G', 'G', 'Dm', 'Dm', 'F', 'F', 'C', 'C', 'G', 'G', 'Dm', 'Dm', 'F', 'F', 'C', 'C', 'G', 'G', 'Dm', 'Dm', 'F', 'F', 'C', 'C', 'G', 'G', 'Dm', 'Dm', 'F', 'F', 'C', 'C', 'G', 'G', 'Dm', 'Dm', 'F', 'F', 'C', 'C', 'G', 'G', 'Dm', 'Dm', 'F', 'F', 'C', 'C', 'G', 'G', 'Dm', 'Dm', 'F', 'F', 'C', 'C', 'G', 'G', 'F', 'F', 'F', 'F', 'C', 'C', 'Dm', 'Dm', 'F', 'F', 'F', 'F', 'C', 'C', 'Dm', 'Dm', 'F', 'F', 'F', 'F', 'C', 'C', 'Dm', 'Dm', 'F', 'F', 'F', 'F', 'A', 'A', 'A', 0, 'Dm', 'Dm', 'F', 'F', 'C', 'C', 'G', 'G', 'Dm', 'Dm', 'F', 'F', 'C', 'C', 'G', 'G', 'F', 'F', 'F', 'F', 'C', 'C', 'Dm', 'Dm', 'F', 'F', 'F', 'F', 'C', 'C', 'Dm', 'Dm', 'F', 0, 'F', 0, 'C', 'C', 'Dm', 'Dm', 'F', 0, 'F', 0, 'A', 'A', 'A', 'A', 'A', 'A', 'A', 0, 0, 0, 0, 0, 0, 0, 0, 0, 0, 0, 0, 0, 0, 0, 0, 'G', 'F', 'F', 'F', 'F', 'C', 'C', 'Dm', 'Dm', 'F', 'F', 'F', 'F', 'C', 'C', 'Dm', 'Dm', 'F', 'F', 'F', 'F', 'C', 'C', 'Dm', 'Dm', 'F', 'F', 'F', 'F', 'A', 'A', 'A', 'A', 'A', 'A', 'A', 'A', 0, 0, 0, 0, 0, 0, 0, 0, 0, 0, 0, 0, 0, 0, 0, 0, 0, 0, 0, 0, 0, 0, 0, 0, 0, 0, 0, 0, 0, 0, 0, 0, 0, 0, 0, 0, 0, 0, 0, 0, 0, 0, 0, 0, 'F', 'G']\n",
    "\n",
    "def Dominantlist_to_Dominantgram_16freq(Dominantlist):\n",
    "    Dominantgram = []\n",
    "    for i in range(0,len(Dominantlist)-15):\n",
    "        Dominantgram.append(Dominantlist[i:i+16])\n",
    "    return Dominantgram\n",
    "#  網路上原先寫法\n",
    "#     return [Dominantlist[i:i+16] for i in range(0,len(Dominantlist)-15)]\n",
    "\n",
    "def Dominantgram_to_Dominantdict_16freq(Dominantgram):\n",
    "    Dominantdict=dict()\n",
    "    for (Dominant1,Dominant2,Dominant3,Dominant4,Dominant5,Dominant6,Dominant7,Dominant8,\\\n",
    "        Dominant9,Dominant10,Dominant11,Dominant12,Dominant13,Dominant14,Dominant15,Dominant16)\\\n",
    "     in Dominantgram:\n",
    "        Dominantdict[(Dominant1,Dominant2,Dominant3,Dominant4,Dominant5,Dominant6,Dominant7,Dominant8,\\\n",
    "                     Dominant9,Dominant10,Dominant11,Dominant12,Dominant13,Dominant14,Dominant15,Dominant16)] = \\\n",
    "        Dominantdict.get((Dominant1,Dominant2,Dominant3,Dominant4,Dominant5,Dominant6,Dominant7,Dominant8,\\\n",
    "                         Dominant9,Dominant10,Dominant11,Dominant12,Dominant13,Dominant14,Dominant15,Dominant16),0)+1\n",
    "    return Dominantdict\n",
    "\n",
    "Dominantgram_16freq = Dominantlist_to_Dominantgram_16freq(Dominantlist)\n",
    "\n",
    "Dominantdict_16freq = Dominantgram_to_Dominantdict_16freq(Dominantgram_16freq)\n",
    "\n",
    "Dominantsorted_16freq=sorted(Dominantdict_16freq.items(), key=itemgetter(1), reverse=True)\n",
    "\n",
    "# print Dominantsorted_16freq\n",
    "\n",
    "#寫入csv檔\n",
    "csvfilePath = b'C:/Users/BigData/test3.csv'\n",
    "# csvPath = csvfilePath + csvfilename + ' 16-gram.csv'\n",
    "\n",
    "with open(csvfilePath,'wb') as csvFile:\n",
    "    writer = csv.writer(csvFile)\n",
    "    writer.writerow(['Dominant', 'Frequency'])\n",
    "    for i in range(0,len(Dominantsorted_16freq)):\n",
    "        writer.writerow(Dominantsorted_16freq[i])"
   ]
  },
  {
   "cell_type": "code",
   "execution_count": 38,
   "metadata": {
    "collapsed": false
   },
   "outputs": [
    {
     "name": "stdout",
     "output_type": "stream",
     "text": [
      "[0, 1, 4, 9, 16]\n",
      "['\\xe5', '\\x90', '\\x83', '\\xe8', '\\x91', '\\xa1', '\\xe8', '\\x90', '\\x84', '\\xe4', '\\xb8', '\\x8d', '\\xe5', '\\x90', '\\x90', '\\xe8', '\\x91', '\\xa1', '\\xe8', '\\x90', '\\x84', '\\xe7', '\\x9a', '\\xae', '\\xef', '\\xbc', '\\x8c', '\\xe4', '\\xb8', '\\x8d', '\\xe5', '\\x90', '\\x83', '\\xe8', '\\x91', '\\xa1', '\\xe8', '\\x90', '\\x84', '\\xe5', '\\x80', '\\x92', '\\xe5', '\\x90', '\\x90', '\\xe8', '\\x91', '\\xa1', '\\xe8', '\\x90', '\\x84', '\\xe7', '\\x9a', '\\xae', '\\xe3', '\\x80', '\\x82']\n",
      "{'\\xa1': 4, '\\x80': 2, '\\x83': 2, '\\x82': 1, '\\xe5': 5, '\\x84': 4, '\\xe7': 2, '\\xe3': 1, '\\xe8': 8, '\\x8d': 2, '\\x8c': 1, '\\xef': 1, '\\xae': 2, '\\x91': 4, '\\x90': 10, '\\x92': 1, '\\xb8': 2, '\\x9a': 2, '\\xbc': 1, '\\xe4': 2}\n",
      "[('\\x90', 10), ('\\xe8', 8), ('\\xe5', 5), ('\\xa1', 4), ('\\x84', 4), ('\\x91', 4), ('\\x80', 2), ('\\x83', 2), ('\\xe7', 2), ('\\x8d', 2), ('\\xae', 2), ('\\xb8', 2), ('\\x9a', 2), ('\\xe4', 2), ('\\x82', 1), ('\\xe3', 1), ('\\x8c', 1), ('\\xef', 1), ('\\x92', 1), ('\\xbc', 1)]\n"
     ]
    }
   ],
   "source": [
    "#測試區\n",
    "series=(0,1,2,3,4)\n",
    "sqr_series=[num**2 for num in series]\n",
    "print(sqr_series)"
   ]
  },
  {
   "cell_type": "code",
   "execution_count": 136,
   "metadata": {
    "collapsed": false
   },
   "outputs": [
    {
     "name": "stdout",
     "output_type": "stream",
     "text": [
      "['\\xe5', '\\x90', '\\x83', '\\xe8', '\\x91', '\\xa1', '\\xe8', '\\x90', '\\x84', '\\xe4', '\\xb8', '\\x8d', '\\xe5', '\\x90', '\\x90', '\\xe8', '\\x91', '\\xa1', '\\xe8', '\\x90', '\\x84', '\\xe7', '\\x9a', '\\xae', '\\xef', '\\xbc', '\\x8c', '\\xe4', '\\xb8', '\\x8d', '\\xe5', '\\x90', '\\x83', '\\xe8', '\\x91', '\\xa1', '\\xe8', '\\x90', '\\x84', '\\xe5', '\\x80', '\\x92', '\\xe5', '\\x90', '\\x90', '\\xe8', '\\x91', '\\xa1', '\\xe8', '\\x90', '\\x84', '\\xe7', '\\x9a', '\\xae', '\\xe3', '\\x80', '\\x82']\n",
      "{'\\xa1': 4, '\\x80': 2, '\\x83': 2, '\\x82': 1, '\\xe5': 5, '\\x84': 4, '\\xe7': 2, '\\xe3': 1, '\\xe8': 8, '\\x8d': 2, '\\x8c': 1, '\\xef': 1, '\\xae': 2, '\\x91': 4, '\\x90': 10, '\\x92': 1, '\\xb8': 2, '\\x9a': 2, '\\xbc': 1, '\\xe4': 2}\n",
      "[('\\x90', 10), ('\\xe8', 8), ('\\xe5', 5), ('\\xa1', 4), ('\\x84', 4), ('\\x91', 4), ('\\x80', 2), ('\\x83', 2), ('\\xe7', 2), ('\\x8d', 2), ('\\xae', 2), ('\\xb8', 2), ('\\x9a', 2), ('\\xe4', 2), ('\\x82', 1), ('\\xe3', 1), ('\\x8c', 1), ('\\xef', 1), ('\\x92', 1), ('\\xbc', 1)]\n",
      "[('\\x90', 10), ('\\xe8', 8), ('\\xe5', 5), ('\\xa1', 4), ('\\x84', 4)]\n",
      "[('\\x90', 10), ('\\xe8', 8), ('\\xe5', 5), ('\\xa1', 4), ('\\x84', 4), ('\\x91', 4), ('\\x80', 2), ('\\x83', 2), ('\\xe7', 2), ('\\x8d', 2), ('\\xae', 2), ('\\xb8', 2), ('\\x9a', 2), ('\\xe4', 2)]\n",
      "[['\\xe5', '\\x90'], ['\\x90', '\\x83'], ['\\x83', '\\xe8'], ['\\xe8', '\\x91'], ['\\x91', '\\xa1'], ['\\xa1', '\\xe8'], ['\\xe8', '\\x90'], ['\\x90', '\\x84'], ['\\x84', '\\xe4'], ['\\xe4', '\\xb8'], ['\\xb8', '\\x8d'], ['\\x8d', '\\xe5'], ['\\xe5', '\\x90'], ['\\x90', '\\x90'], ['\\x90', '\\xe8'], ['\\xe8', '\\x91'], ['\\x91', '\\xa1'], ['\\xa1', '\\xe8'], ['\\xe8', '\\x90'], ['\\x90', '\\x84'], ['\\x84', '\\xe7'], ['\\xe7', '\\x9a'], ['\\x9a', '\\xae'], ['\\xae', '\\xef'], ['\\xef', '\\xbc'], ['\\xbc', '\\x8c'], ['\\x8c', '\\xe4'], ['\\xe4', '\\xb8'], ['\\xb8', '\\x8d'], ['\\x8d', '\\xe5'], ['\\xe5', '\\x90'], ['\\x90', '\\x83'], ['\\x83', '\\xe8'], ['\\xe8', '\\x91'], ['\\x91', '\\xa1'], ['\\xa1', '\\xe8'], ['\\xe8', '\\x90'], ['\\x90', '\\x84'], ['\\x84', '\\xe5'], ['\\xe5', '\\x80'], ['\\x80', '\\x92'], ['\\x92', '\\xe5'], ['\\xe5', '\\x90'], ['\\x90', '\\x90'], ['\\x90', '\\xe8'], ['\\xe8', '\\x91'], ['\\x91', '\\xa1'], ['\\xa1', '\\xe8'], ['\\xe8', '\\x90'], ['\\x90', '\\x84'], ['\\x84', '\\xe7'], ['\\xe7', '\\x9a'], ['\\x9a', '\\xae'], ['\\xae', '\\xe3'], ['\\xe3', '\\x80'], ['\\x80', '\\x82']]\n",
      "[['\\xe5', '\\x90', '\\x83'], ['\\x90', '\\x83', '\\xe8'], ['\\x83', '\\xe8', '\\x91'], ['\\xe8', '\\x91', '\\xa1'], ['\\x91', '\\xa1', '\\xe8'], ['\\xa1', '\\xe8', '\\x90'], ['\\xe8', '\\x90', '\\x84'], ['\\x90', '\\x84', '\\xe4'], ['\\x84', '\\xe4', '\\xb8'], ['\\xe4', '\\xb8', '\\x8d'], ['\\xb8', '\\x8d', '\\xe5'], ['\\x8d', '\\xe5', '\\x90'], ['\\xe5', '\\x90', '\\x90'], ['\\x90', '\\x90', '\\xe8'], ['\\x90', '\\xe8', '\\x91'], ['\\xe8', '\\x91', '\\xa1'], ['\\x91', '\\xa1', '\\xe8'], ['\\xa1', '\\xe8', '\\x90'], ['\\xe8', '\\x90', '\\x84'], ['\\x90', '\\x84', '\\xe7'], ['\\x84', '\\xe7', '\\x9a'], ['\\xe7', '\\x9a', '\\xae'], ['\\x9a', '\\xae', '\\xef'], ['\\xae', '\\xef', '\\xbc'], ['\\xef', '\\xbc', '\\x8c'], ['\\xbc', '\\x8c', '\\xe4'], ['\\x8c', '\\xe4', '\\xb8'], ['\\xe4', '\\xb8', '\\x8d'], ['\\xb8', '\\x8d', '\\xe5'], ['\\x8d', '\\xe5', '\\x90'], ['\\xe5', '\\x90', '\\x83'], ['\\x90', '\\x83', '\\xe8'], ['\\x83', '\\xe8', '\\x91'], ['\\xe8', '\\x91', '\\xa1'], ['\\x91', '\\xa1', '\\xe8'], ['\\xa1', '\\xe8', '\\x90'], ['\\xe8', '\\x90', '\\x84'], ['\\x90', '\\x84', '\\xe5'], ['\\x84', '\\xe5', '\\x80'], ['\\xe5', '\\x80', '\\x92'], ['\\x80', '\\x92', '\\xe5'], ['\\x92', '\\xe5', '\\x90'], ['\\xe5', '\\x90', '\\x90'], ['\\x90', '\\x90', '\\xe8'], ['\\x90', '\\xe8', '\\x91'], ['\\xe8', '\\x91', '\\xa1'], ['\\x91', '\\xa1', '\\xe8'], ['\\xa1', '\\xe8', '\\x90'], ['\\xe8', '\\x90', '\\x84'], ['\\x90', '\\x84', '\\xe7'], ['\\x84', '\\xe7', '\\x9a'], ['\\xe7', '\\x9a', '\\xae'], ['\\x9a', '\\xae', '\\xe3'], ['\\xae', '\\xe3', '\\x80'], ['\\xe3', '\\x80', '\\x82']]\n"
     ]
    },
    {
     "ename": "NameError",
     "evalue": "global name 'ch2' is not defined",
     "output_type": "error",
     "traceback": [
      "\u001b[1;31m---------------------------------------------------------------------------\u001b[0m",
      "\u001b[1;31mNameError\u001b[0m                                 Traceback (most recent call last)",
      "\u001b[1;32m<ipython-input-136-ed09e57dcf84>\u001b[0m in \u001b[0;36m<module>\u001b[1;34m()\u001b[0m\n\u001b[0;32m     55\u001b[0m     \u001b[1;32mreturn\u001b[0m \u001b[0mmydict\u001b[0m\u001b[1;33m\u001b[0m\u001b[0m\n\u001b[0;32m     56\u001b[0m \u001b[1;33m\u001b[0m\u001b[0m\n\u001b[1;32m---> 57\u001b[1;33m \u001b[0mbigramfreqdict\u001b[0m\u001b[1;33m=\u001b[0m\u001b[0mbigram2freqdict\u001b[0m\u001b[1;33m(\u001b[0m\u001b[0mchbigram\u001b[0m\u001b[1;33m)\u001b[0m\u001b[1;33m\u001b[0m\u001b[0m\n\u001b[0m\u001b[0;32m     58\u001b[0m \u001b[0mtrigramfreqdict\u001b[0m\u001b[1;33m=\u001b[0m\u001b[0mtrigram2freqdict\u001b[0m\u001b[1;33m(\u001b[0m\u001b[0mchtrigram\u001b[0m\u001b[1;33m)\u001b[0m\u001b[1;33m\u001b[0m\u001b[0m\n\u001b[0;32m     59\u001b[0m \u001b[1;32mprint\u001b[0m\u001b[1;33m(\u001b[0m\u001b[0mbigramfreqdict\u001b[0m\u001b[1;33m)\u001b[0m\u001b[1;33m\u001b[0m\u001b[0m\n",
      "\u001b[1;32m<ipython-input-136-ed09e57dcf84>\u001b[0m in \u001b[0;36mbigram2freqdict\u001b[1;34m(mybigram)\u001b[0m\n\u001b[0;32m     46\u001b[0m     \u001b[0mmydict\u001b[0m\u001b[1;33m=\u001b[0m\u001b[0mdict\u001b[0m\u001b[1;33m(\u001b[0m\u001b[1;33m)\u001b[0m\u001b[1;33m\u001b[0m\u001b[0m\n\u001b[0;32m     47\u001b[0m     \u001b[1;32mfor\u001b[0m \u001b[1;33m(\u001b[0m\u001b[0mch1\u001b[0m\u001b[1;33m)\u001b[0m \u001b[1;32min\u001b[0m \u001b[0mmybigram\u001b[0m\u001b[1;33m:\u001b[0m\u001b[1;33m\u001b[0m\u001b[0m\n\u001b[1;32m---> 48\u001b[1;33m         \u001b[0mmydict\u001b[0m\u001b[1;33m[\u001b[0m\u001b[1;33m(\u001b[0m\u001b[0mch1\u001b[0m\u001b[1;33m)\u001b[0m\u001b[1;33m]\u001b[0m\u001b[1;33m=\u001b[0m\u001b[0mmydict\u001b[0m\u001b[1;33m.\u001b[0m\u001b[0mget\u001b[0m\u001b[1;33m(\u001b[0m\u001b[1;33m(\u001b[0m\u001b[0mch1\u001b[0m\u001b[1;33m,\u001b[0m\u001b[0mch2\u001b[0m\u001b[1;33m)\u001b[0m\u001b[1;33m,\u001b[0m\u001b[1;36m0\u001b[0m\u001b[1;33m)\u001b[0m\u001b[1;33m+\u001b[0m\u001b[1;36m1\u001b[0m\u001b[1;33m\u001b[0m\u001b[0m\n\u001b[0m\u001b[0;32m     49\u001b[0m     \u001b[1;32mreturn\u001b[0m \u001b[0mmydict\u001b[0m\u001b[1;33m\u001b[0m\u001b[0m\n\u001b[0;32m     50\u001b[0m \u001b[1;33m\u001b[0m\u001b[0m\n",
      "\u001b[1;31mNameError\u001b[0m: global name 'ch2' is not defined"
     ]
    }
   ],
   "source": [
    "#測試區\n",
    "def list2freqdict(mylist):\n",
    "    mydict=dict()\n",
    "    for ch in mylist:\n",
    "        mydict[ch]=mydict.get(ch,0)+1\n",
    "    return mydict\n",
    "\n",
    "\n",
    "sentence='吃葡萄不吐葡萄皮，不吃葡萄倒吐葡萄皮。'\n",
    "chlist=[ch for ch in sentence]\n",
    "print chlist\n",
    "\n",
    "\n",
    "chfreqdict=list2freqdict(chlist)\n",
    "print chfreqdict\n",
    "\n",
    "\n",
    "from operator import itemgetter\n",
    "chfreqsorted=sorted(chfreqdict.items(), key=itemgetter(1), reverse=True)\n",
    "print chfreqsorted\n",
    "\n",
    "\n",
    "chfreqsorted2=chfreqsorted[:5]\n",
    "\n",
    "chfreqsorted3=list()\n",
    "for (ch,num) in chfreqsorted:\n",
    "    if num > 1:\n",
    "        chfreqsorted3.append((ch,num))    \n",
    "\n",
    "print(chfreqsorted2)\n",
    "print(chfreqsorted3)\n",
    "\n",
    "#兩字，三字\n",
    "def list2bigram(mylist):\n",
    "    return [mylist[i:i+2] for i in range(0,len(mylist)-1)]\n",
    "\n",
    "def list2trigram(mylist):\n",
    "    return [mylist[i:i+3] for i in range(0,len(mylist)-2)]\n",
    "\n",
    "chbigram=list2bigram(chlist)\n",
    "chtrigram=list2trigram(chlist)\n",
    "print(chbigram)\n",
    "print(chtrigram)\n",
    "\n",
    "def bigram2freqdict(mybigram):\n",
    "    mydict=dict()\n",
    "    for (ch1) in mybigram:\n",
    "        mydict[(ch1)]=mydict.get((ch1,ch2),0)+1\n",
    "    return mydict\n",
    "\n",
    "def trigram2freqdict(mytrigram):\n",
    "    mydict=dict()\n",
    "    for (ch1,ch2,ch3) in mytrigram:\n",
    "        mydict[(ch1,ch2,ch3)]=mydict.get((ch1,ch2,ch3),0)+1\n",
    "    return mydict\n",
    "\n",
    "bigramfreqdict=bigram2freqdict(chbigram)\n",
    "trigramfreqdict=trigram2freqdict(chtrigram)\n",
    "print(bigramfreqdict)\n",
    "print(trigramfreqdict)\n",
    "\n",
    "\n",
    "bigramfreqsorted=sorted(bigramfreqdict.items(), key=itemgetter(1), reverse=True)\n",
    "trigramfreqsorted=sorted(trigramfreqdict.items(), key=itemgetter(1), reverse=True)\n",
    "print(bigramfreqsorted[:5])\n",
    "print(trigramfreqsorted[:5])\n",
    "\n",
    "def freq2report(freqlist):\n",
    "    chs=str()\n",
    "    print('Char(s)\\tCount')\n",
    "    print('=============')\n",
    "    for (token,num) in freqlist:\n",
    "        for ch in token:\n",
    "            chs=chs+ch\n",
    "        print(chs,'\\t',num)\n",
    "        chs=''\n",
    "    return\n",
    "\n",
    "freq2report(chfreqsorted)\n",
    "freq2report(bigramfreqsorted)\n",
    "freq2report(trigramfreqsorted)"
   ]
  },
  {
   "cell_type": "code",
   "execution_count": 45,
   "metadata": {
    "collapsed": false,
    "scrolled": true
   },
   "outputs": [
    {
     "name": "stdout",
     "output_type": "stream",
     "text": [
      "åè¡èä¸åè¡èç®ï¼ä¸åè¡èååè¡èç®ã\n",
      "<type 'unicode'>\n",
      "<type 'str'>\n"
     ]
    }
   ],
   "source": [
    "#測試區\n",
    "aaa = '\\xe5\\x90\\x83\\xe8\\x91\\xa1\\xe8\\x90\\x84\\xe4\\xb8\\x8d\\xe5\\x90\\x90\\xe8\\x91\\xa1\\xe8\\x90\\x84\\xe7\\x9a\\xae\\xef\\xbc\\x8c\\xe4\\xb8\\x8d\\xe5\\x90\\x83\\xe8\\x91\\xa1\\xe8\\x90\\x84\\xe5\\x80\\x92\\xe5\\x90\\x90\\xe8\\x91\\xa1\\xe8\\x90\\x84\\xe7\\x9a\\xae\\xe3\\x80\\x82' # It mean '單車'\n",
    "print aaa.decode('unicode-escape')\n",
    "p = (aaa.decode('unicode-escape'))\n",
    "print type(p)\n",
    "print type(aaa)"
   ]
  },
  {
   "cell_type": "code",
   "execution_count": 50,
   "metadata": {
    "collapsed": false,
    "scrolled": true
   },
   "outputs": [
    {
     "name": "stdout",
     "output_type": "stream",
     "text": [
      "['\\xe5', '\\x90', '\\x83', '\\xe8', '\\x91', '\\xa1', '\\xe8', '\\x90', '\\x84', '\\xe4', '\\xb8', '\\x8d', '\\xe5', '\\x90', '\\x90', '\\xe8', '\\x91', '\\xa1', '\\xe8', '\\x90', '\\x84', '\\xe7', '\\x9a', '\\xae', '\\xef', '\\xbc', '\\x8c', '\\xe4', '\\xb8', '\\x8d', '\\xe5', '\\x90', '\\x83', '\\xe8', '\\x91', '\\xa1', '\\xe8', '\\x90', '\\x84', '\\xe5', '\\x80', '\\x92', '\\xe5', '\\x90', '\\x90', '\\xe8', '\\x91', '\\xa1', '\\xe8', '\\x90', '\\x84', '\\xe7', '\\x9a', '\\xae', '\\xe3', '\\x80', '\\x82']\n",
      "57\n"
     ]
    }
   ],
   "source": [
    "#測試區\n",
    "sentence='吃葡萄不吐葡萄皮，不吃葡萄倒吐葡萄皮。'\n",
    "chlist=[ch for ch in sentence]\n",
    "print chlist\n",
    "print len(chlist)"
   ]
  },
  {
   "cell_type": "code",
   "execution_count": 134,
   "metadata": {
    "collapsed": false
   },
   "outputs": [
    {
     "name": "stdout",
     "output_type": "stream",
     "text": [
      "0\n",
      "1\n",
      "2\n",
      "3\n",
      "4\n",
      "5\n",
      "6\n",
      "7\n",
      "8\n",
      "9\n",
      "10\n"
     ]
    }
   ],
   "source": [
    "#測試區\n",
    "# [(i+2) for i in range(0,10-3)]\n",
    "# Dominantlist = ['Dm', 'Dm', 'F', 'F', 'C', 'C', 'G', 'G', 'Dm', 'Dm', 'F', 'F', 'C', 'C', 'G', 'G', 'Dm', 'Dm', 'F', 'F', 'C', 'C', 'G', 'G', 'Dm', 'Dm', 'F', 'F', 'C', 'C', 'G', 'G', 'Dm', 'Dm', 'F', 'F', 'C', 'C', 'G', 'G', 'Dm', 'Dm', 'F', 'F', 'C', 'C', 'G', 'G', 'Dm', 'Dm', 'F', 'F', 'C', 'C', 'G', 'G', 'Dm', 'Dm', 'F', 'F', 'C', 'C', 'G', 'G', 'Dm', 'Dm', 'F', 'F', 'C', 'C', 'G', 'G', 'F', 'F', 'F', 'F', 'C', 'C', 'Dm', 'Dm', 'F', 'F', 'F', 'F', 'C', 'C', 'Dm', 'Dm', 'F', 'F', 'F', 'F', 'C', 'C', 'Dm', 'Dm', 'F', 'F', 'F', 'F', 'A', 'A', 'A', 0, 'Dm', 'Dm', 'F', 'F', 'C', 'C', 'G', 'G', 'Dm', 'Dm', 'F', 'F', 'C', 'C', 'G', 'G', 'Dm', 'Dm', 'F', 'F', 'C', 'C', 'G', 'G', 'Dm', 'Dm', 'F', 'F', 'C', 'C', 'G', 'G', 'Dm', 'Dm', 'F', 'F', 'C', 'C', 'G', 'G', 'Dm', 'Dm', 'F', 'F', 'C', 'C', 'G', 'G', 'Dm', 'Dm', 'F', 'F', 'C', 'C', 'G', 'G', 'Dm', 'Dm', 'F', 'F', 'C', 'C', 'G', 'G', 'Dm', 'Dm', 'F', 'F', 'C', 'C', 'G', 'G', 'F', 'F', 'F', 'F', 'C', 'C', 'Dm', 'Dm', 'F', 'F', 'F', 'F', 'C', 'C', 'Dm', 'Dm', 'F', 'F', 'F', 'F', 'C', 'C', 'Dm', 'Dm', 'F', 'F', 'F', 'F', 'A', 'A', 'A', 0, 'Dm', 'Dm', 'F', 'F', 'C', 'C', 'G', 'G', 'Dm', 'Dm', 'F', 'F', 'C', 'C', 'G', 'G', 'F', 'F', 'F', 'F', 'C', 'C', 'Dm', 'Dm', 'F', 'F', 'F', 'F', 'C', 'C', 'Dm', 'Dm', 'F', 0, 'F', 0, 'C', 'C', 'Dm', 'Dm', 'F', 0, 'F', 0, 'A', 'A', 'A', 'A', 'A', 'A', 'A', 0, 0, 0, 0, 0, 0, 0, 0, 0, 0, 0, 0, 0, 0, 0, 0, 'G', 'F', 'F', 'F', 'F', 'C', 'C', 'Dm', 'Dm', 'F', 'F', 'F', 'F', 'C', 'C', 'Dm', 'Dm', 'F', 'F', 'F', 'F', 'C', 'C', 'Dm', 'Dm', 'F', 'F', 'F', 'F', 'A', 'A', 'A', 'A', 'A', 'A', 'A', 'A', 0, 0, 0, 0, 0, 0, 0, 0, 0, 0, 0, 0, 0, 0, 0, 0, 0, 0, 0, 0, 0, 0, 0, 0, 0, 0, 0, 0, 0, 0, 0, 0, 0, 0, 0, 0, 0, 0, 0, 0, 0, 0, 0, 0, 'F', 'G']\n",
    "# [Dominantlist[i:i+3] for i in range(0,len(Dominantlist)-3)]\n",
    "# Dominantlist_test = []\n",
    "for i in range(0,10+1):\n",
    "    print i\n",
    "# for i in range(0,len(Dominantlist)-3):\n",
    "#     Dominantlist_test.append(Dominantlist[i:i+2])\n",
    "# print Dominantlist_test"
   ]
  }
 ],
 "metadata": {
  "kernelspec": {
   "display_name": "Python 2",
   "language": "python",
   "name": "python2"
  },
  "language_info": {
   "codemirror_mode": {
    "name": "ipython",
    "version": 2
   },
   "file_extension": ".py",
   "mimetype": "text/x-python",
   "name": "python",
   "nbconvert_exporter": "python",
   "pygments_lexer": "ipython2",
   "version": "2.7.10"
  }
 },
 "nbformat": 4,
 "nbformat_minor": 0
}
