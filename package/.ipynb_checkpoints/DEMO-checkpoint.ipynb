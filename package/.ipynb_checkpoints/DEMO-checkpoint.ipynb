{
 "cells": [
  {
   "cell_type": "markdown",
   "metadata": {},
   "source": [
    "## Demo 1"
   ]
  },
  {
   "cell_type": "code",
   "execution_count": 2,
   "metadata": {
    "collapsed": false
   },
   "outputs": [
    {
     "name": "stdout",
     "output_type": "stream",
     "text": [
      "Chosen gram : ['Bb', 'Dm', 'G', 'G', 'Bb', 'Dm7', 'G', 'Dm7', 'Bb', 'Dm', 'G', 'G', 'Bb', 'Dm7', 'G', 'Dm7', 'C', 'C', 'F', 'C', 'F', 'F', 'C', 'Bb', 'C', 'C', 'F', 'C', 'F', 'F', 'C', 'Bb']\n",
      "['Bb', 'Dm', 'G', 'G', 'Bb', 'Dm7', 'G', 'Dm7', 'Bb', 'Dm', 'G', 'G', 'Bb', 'Dm7', 'G', 'Dm7', 'C', 'C', 'F', 'C', 'F', 'F', 'C', 'Bb', 'C', 'C', 'F', 'C', 'F', 'F', 'C', 'Bb']\n"
     ]
    }
   ],
   "source": [
    "import musicMaker\n",
    "mc = musicMaker.MusicCreator()\n",
    "print mc.determineChords(['8g1','8g1','8g2','8g2'])"
   ]
  },
  {
   "cell_type": "code",
   "execution_count": null,
   "metadata": {
    "collapsed": true
   },
   "outputs": [],
   "source": []
  },
  {
   "cell_type": "code",
   "execution_count": null,
   "metadata": {
    "collapsed": true
   },
   "outputs": [],
   "source": []
  },
  {
   "cell_type": "code",
   "execution_count": null,
   "metadata": {
    "collapsed": true
   },
   "outputs": [],
   "source": []
  }
 ],
 "metadata": {
  "kernelspec": {
   "display_name": "Python 2",
   "language": "python",
   "name": "python2"
  },
  "language_info": {
   "codemirror_mode": {
    "name": "ipython",
    "version": 2
   },
   "file_extension": ".py",
   "mimetype": "text/x-python",
   "name": "python",
   "nbconvert_exporter": "python",
   "pygments_lexer": "ipython2",
   "version": "2.7.10"
  }
 },
 "nbformat": 4,
 "nbformat_minor": 0
}
