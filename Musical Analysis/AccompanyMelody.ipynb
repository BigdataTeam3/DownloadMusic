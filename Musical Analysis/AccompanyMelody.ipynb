{
 "cells": [
  {
   "cell_type": "markdown",
   "metadata": {},
   "source": [
    " # 一個聲部的tracks搭配其和弦進行及節拍以產生旋律(音高)"
   ]
  },
  {
   "cell_type": "code",
   "execution_count": 7,
   "metadata": {
    "collapsed": true
   },
   "outputs": [],
   "source": [
    "from decimal import *\n",
    "from random import randint\n",
    "\n",
    "chord = {\n",
    "    'C':(0, 4, 7),\n",
    "    'Cmaj7':(0, 4, 7, 11),\n",
    "    'Dm':(2, 5, 9),\n",
    "    'Dm7':(2, 5, 9, 12),\n",
    "    'Em':(4, 7, 11),\n",
    "    'Em7':(4, 7, 11, 14),\n",
    "    'F':(5, 9, 12),\n",
    "    'Fmaj7':(5, 9, 12, 16),\n",
    "    'G':(7, 11, 14),\n",
    "    'G7':(7, 11, 14, 17),\n",
    "    'Am':(9, 12, 16),\n",
    "    'Am7':(9, 12, 16, 19),\n",
    "    'Bb':(10, 14, 17),\n",
    "    'Bdim':(11, 14, 17)\n",
    "}"
   ]
  },
  {
   "cell_type": "code",
   "execution_count": 31,
   "metadata": {
    "collapsed": false
   },
   "outputs": [],
   "source": [
    "def varChord(curChord):\n",
    "    randomInt = randint(0,5) #不變化 if randomInt == 0\n",
    "    notes = ''\n",
    "    for i, component in enumerate(chord[curChord], 1):\n",
    "        #根音高八度(第一轉位) or #根音及三度音高八度(第二轉位) or #全部高八度\n",
    "        if (randomInt == 1 and i == 1) or (randomInt == 2 and (i == 1 or i == 2)) or randomInt == 3:\n",
    "            component += 12\n",
    "        #全部低八度 or #如為三和弦，五度音低八度(第二轉位)；如為七和弦，七度音低八度(第三轉位)\n",
    "        elif randomInt == 4 or (randomInt == 5 and ((len(chord[curChord]) == 3 and i == 3) or (len(chord[curChord]) == 4 and i == 4))):\n",
    "            component -= 12\n",
    "        component += 60\n",
    "        notes += str(component) + ','\n",
    "    return notes[:-1] + ';'"
   ]
  },
  {
   "cell_type": "code",
   "execution_count": 32,
   "metadata": {
    "collapsed": true
   },
   "outputs": [],
   "source": [
    "def nextChord(beatSum, indexAcc):\n",
    "    indexAcc += 1\n",
    "    curChord = chordProg[indexAcc]\n",
    "    diff = beatSum - Decimal(0.5)\n",
    "    if diff >= 0.5:\n",
    "        beatSum, indexAcc, curChord = nextChord(diff, indexAcc)\n",
    "    else:\n",
    "        beatSum = diff\n",
    "    return beatSum, indexAcc, curChord"
   ]
  },
  {
   "cell_type": "code",
   "execution_count": 33,
   "metadata": {
    "collapsed": false
   },
   "outputs": [],
   "source": [
    "def accompanyMelody(staff, chordProg):\n",
    "    staffReturn = {}\n",
    "    for key in sorted(staff.keys()):\n",
    "        indexAcc = 0\n",
    "        curChord = chordProg[indexAcc]\n",
    "        beatSum = 0\n",
    "        re = ''\n",
    "        totalBeatSum = 0\n",
    "        for beat in staff[key].split(';'):\n",
    "            duration = beat.split(',')[0]\n",
    "            noteSign = beat.split(',')[1]\n",
    "\n",
    "            #Determine when to select next chord\n",
    "            if beatSum >= 0.5:\n",
    "                beatSum, indexAcc, curChord = nextChord(beatSum, indexAcc)\n",
    "\n",
    "            #Generate different strings according to if it's a note or a rest\n",
    "            if noteSign == '1' and curChord != '0':\n",
    "                re += duration + ',' + varChord(curChord)\n",
    "            else:\n",
    "                re += duration + ',0;'\n",
    "\n",
    "            #Add 0.0000000000001 to beatSum while it's a tuplet note\n",
    "            if Decimal(duration) * 128 % 1 == 0:\n",
    "                beatSum += Decimal(duration)\n",
    "            else:\n",
    "                beatSum += Decimal(duration) + Decimal(0.000000001)\n",
    "\n",
    "        staffReturn[key] = re[:-1]\n",
    "    return staffReturn"
   ]
  },
  {
   "cell_type": "code",
   "execution_count": 36,
   "metadata": {
    "collapsed": false
   },
   "outputs": [
    {
     "name": "stdout",
     "output_type": "stream",
     "text": [
      "1,72,64,67\n",
      "0.5,0\n",
      "0.5,0\n",
      "1,77,81,84\n",
      "0.5,74,65,69\n",
      "0.5,79,83,86,89\n",
      "1,60,64,67\n",
      "0.5,69,72,76\n",
      "0.5,76,67,71\n",
      "0.125,77,69,72\n",
      "0.125,65,69,60\n",
      "0.125,53,57,60\n",
      "0.125,65,69,72\n",
      "0.125,60,64,67,71\n",
      "0.125,60,64,67,71\n",
      "0.125,60,64,67,59\n",
      "0.125,60,64,67,71\n",
      "0.125,74,65,69\n",
      "0.125,62,65,69\n",
      "0.125,74,77,81\n",
      "0.125,62,65,69\n",
      "0.125,55,59,62,65\n",
      "0.125,67,71,74,65\n",
      "0.125,79,83,86,89\n",
      "0.125,55,59,62,65\n",
      "\n",
      "0.4895833333333333333333333333,0\n",
      "0.01041666666666666666666666667,60,64,67\n",
      "0.5,79,71,74\n",
      "0.25,0\n",
      "0.125,0\n",
      "0.125,0\n",
      "0.125,0\n",
      "0.25,0\n",
      "0.125,0\n",
      "0.25,65,69,60\n",
      "0.0625,65,69,60\n",
      "0.0625,65,69,72\n",
      "0.0625,65,69,60\n",
      "0.0625,77,81,84\n",
      "0.125,72,76,79,83\n",
      "0.125,48,52,55,59\n",
      "0.125,72,76,67,71\n",
      "0.125,60,64,67,71\n",
      "0.625,0\n",
      "0.375,67,71,74,77\n",
      "0.4895833333333333333333333333,0\n",
      "0.01041666666666666666666666667,60,64,55\n",
      "0.5,79,71,74\n",
      "0.25,69,72,76\n",
      "0.125,69,72,64\n",
      "0.125,81,72,76\n",
      "0.125,64,67,59\n",
      "0.25,52,55,59\n",
      "0.125,52,55,59\n",
      "0.25,65,69,60\n",
      "0.0625,53,57,60\n",
      "0.0625,65,69,60\n",
      "0.0625,77,69,72\n",
      "0.0625,65,69,72\n",
      "0.125,48,52,55,59\n",
      "0.125,60,64,67,59\n",
      "0.125,60,64,67,71\n",
      "0.125,60,64,67,59\n",
      "0.625,0\n",
      "0.375,67,71,74,77\n",
      "\n",
      "{'100': '1,72,64,67;0.5,0;0.5,0;1,77,81,84;0.5,74,65,69;0.5,79,83,86,89;1,60,64,67;0.5,69,72,76;0.5,76,67,71;0.125,77,69,72;0.125,65,69,60;0.125,53,57,60;0.125,65,69,72;0.125,60,64,67,71;0.125,60,64,67,71;0.125,60,64,67,59;0.125,60,64,67,71;0.125,74,65,69;0.125,62,65,69;0.125,74,77,81;0.125,62,65,69;0.125,55,59,62,65;0.125,67,71,74,65;0.125,79,83,86,89;0.125,55,59,62,65', '101': '0.4895833333333333333333333333,0;0.01041666666666666666666666667,60,64,67;0.5,79,71,74;0.25,0;0.125,0;0.125,0;0.125,0;0.25,0;0.125,0;0.25,65,69,60;0.0625,65,69,60;0.0625,65,69,72;0.0625,65,69,60;0.0625,77,81,84;0.125,72,76,79,83;0.125,48,52,55,59;0.125,72,76,67,71;0.125,60,64,67,71;0.625,0;0.375,67,71,74,77;0.4895833333333333333333333333,0;0.01041666666666666666666666667,60,64,55;0.5,79,71,74;0.25,69,72,76;0.125,69,72,64;0.125,81,72,76;0.125,64,67,59;0.25,52,55,59;0.125,52,55,59;0.25,65,69,60;0.0625,53,57,60;0.0625,65,69,60;0.0625,77,69,72;0.0625,65,69,72;0.125,48,52,55,59;0.125,60,64,67,59;0.125,60,64,67,71;0.125,60,64,67,59;0.625,0;0.375,67,71,74,77'}\n"
     ]
    }
   ],
   "source": [
    "chordProg = ['C','G','0','0','F','Cmaj7','Dm','G7','C','G','Am','Em','F','Cmaj7','Dm','G7']\n",
    "\n",
    "staff = {\n",
    "    '100':'1,1;0.5,1;0.5,1;1,1;0.5,1;0.5,1;1,1;0.5,1;0.5,1;0.125,1;0.125,1;0.125,1;0.125,1;0.125,1;0.125,1;0.125,1;0.125,1;0.125,1;0.125,1;0.125,1;0.125,1;0.125,1;0.125,1;0.125,1;0.125,1',\n",
    "    '101':'0.4895833333333333333333333333,0;0.01041666666666666666666666667,1;0.5,1;0.25,1;0.125,1;0.125,1;0.125,1;0.25,1;0.125,1;0.25,1;0.0625,1;0.0625,1;0.0625,1;0.0625,1;0.125,1;0.125,1;0.125,1;0.125,1;0.625,0;0.375,1;0.4895833333333333333333333333,0;0.01041666666666666666666666667,1;0.5,1;0.25,1;0.125,1;0.125,1;0.125,1;0.25,1;0.125,1;0.25,1;0.0625,1;0.0625,1;0.0625,1;0.0625,1;0.125,1;0.125,1;0.125,1;0.125,1;0.625,0;0.375,1'\n",
    "}\n",
    "\n",
    "test = accompanyMelody(staff, chordProg)\n",
    "\n",
    "for key in test:\n",
    "    for element in test[key].split(';'):\n",
    "        print element\n",
    "    print\n",
    "print test"
   ]
  },
  {
   "cell_type": "code",
   "execution_count": null,
   "metadata": {
    "collapsed": true
   },
   "outputs": [],
   "source": []
  }
 ],
 "metadata": {
  "kernelspec": {
   "display_name": "Python 2",
   "language": "python",
   "name": "python2"
  },
  "language_info": {
   "codemirror_mode": {
    "name": "ipython",
    "version": 2
   },
   "file_extension": ".py",
   "mimetype": "text/x-python",
   "name": "python",
   "nbconvert_exporter": "python",
   "pygments_lexer": "ipython2",
   "version": "2.7.10"
  }
 },
 "nbformat": 4,
 "nbformat_minor": 0
}
