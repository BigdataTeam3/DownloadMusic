{
 "cells": [
  {
   "cell_type": "code",
   "execution_count": 124,
   "metadata": {
    "collapsed": false
   },
   "outputs": [
    {
     "name": "stderr",
     "output_type": "stream",
     "text": [
      "<ipython-input-124-c6bc783dbc8e>:2: SyntaxWarning: import * only allowed at module level\n",
      "  def Dong(cp,aa_i):\n"
     ]
    }
   ],
   "source": [
    "#使用方法\n",
    "def Dong(cp,aa_i):\n",
    "    from decimal import *\n",
    "    import pymongo\n",
    "    from pymongo import MongoClient\n",
    "    dic_cp = {'C':[0, 4, 7],'C7':[0,4,7,10],'Cmaj7':[0, 4, 7, 11],\n",
    "        'Dm':[2, 5, 9],'D':[2,6,9],'Dm7':[2, 5, 9, 12],'D7':[2,6,9,12],\n",
    "        'E':[4,8,11],'E7':[4,8,11,14],'Em':[4, 7, 11],'Em7':[4, 7, 11, 14],\n",
    "        'F':[5, 9, 12],'Fmaj7':[5, 9, 12, 16],\n",
    "        'G':[7, 11, 14],'G7':[7, 11, 14, 17],\n",
    "        'A':[9,13,16],'Am':[9, 12, 16],'Am7':[9, 12, 16, 19],\n",
    "        'Bb':[10, 14, 17],'Bdim':[11, 14, 17]}\n",
    "    m1=0\n",
    "    m2=0\n",
    "    k=0\n",
    "    for key in sorted([aa_ii for aa_ii in aa_i if 'track' in aa_ii]):\n",
    "#         print key\n",
    "        j=k        \n",
    "        if key=='track0':   #將A_pattern中的KEY分別判斷有沒有track            \n",
    "            i=m1           \n",
    "        elif key!='track0':\n",
    "            m2-=1 \n",
    "            i=m2\n",
    "        m=i\n",
    "        duration=0#拍子長度\n",
    "        A=[]\n",
    "        durationType_pitch=''        \n",
    "        for pitch in aa_i[key].split(';'):  #track用分號切割成每個Pitch\n",
    "            if len(pitch.split(','))==2:#沒有升降值的給升降值0,pitch就有[duration,有無音,升降值]\n",
    "                pitch=pitch+',0'\n",
    "            if duration>=0.5:    #如果duration超過0.5,新增升降元素\n",
    "                A.append(pitch.split(',')[2])\n",
    "            if len(A)==1 and (str(A[0])=='1' or str(A[0])=='-1'):#如果A只有一個值且值為1OR-1將該pitch升降元素改為0\n",
    "                pitch=pitch.split(',')[0]+','+pitch.split(',')[1]+',0'\n",
    "            if len(A)==1:        #當A有一值時和弦升降值為0\n",
    "                i=m\n",
    "            if cp[j]=='O':\n",
    "                newpitch=0\n",
    "                durationType_pitch=durationType_pitch+';'+pitch.split(',')[0]+','+str(newpitch)\n",
    "            else:\n",
    "                if len(pitch.split(','))==3 and pitch.split(',')[2]=='1':#如果有上升記號\n",
    "                    i+=1\n",
    "                    newpitch=60+12*(i/len(dic_cp[cp[j]]))+dic_cp[cp[j]][i%len(dic_cp[cp[j]])]\n",
    "                    durationType_pitch=durationType_pitch+';'+pitch.split(',')[0]+','+str(newpitch)\n",
    "                elif len(pitch.split(','))==3 and pitch.split(',')[2]=='-1':#如果有下降記號\n",
    "                    i+=-1\n",
    "                    newpitch=60+12*(i/len(dic_cp[cp[j]]))+dic_cp[cp[j]][i%len(dic_cp[cp[j]])]\n",
    "                    durationType_pitch=durationType_pitch+';'+pitch.split(',')[0]+','+str(newpitch)\n",
    "                else:\n",
    "                    if pitch.split(',')[1]=='0':\n",
    "                        newpitch=0\n",
    "                    else:\n",
    "                        newpitch=60+12*(i/len(dic_cp[cp[j]]))+dic_cp[cp[j]][i%len(dic_cp[cp[j]])]\n",
    "                    if durationType_pitch=='':\n",
    "                        durationType_pitch=durationType_pitch+pitch.split(',')[0]+','+str(newpitch)\n",
    "                    else:\n",
    "                        durationType_pitch=durationType_pitch+';'+pitch.split(',')[0]+','+str(newpitch) \n",
    "            duration=duration+float(pitch.split(',')[0])\n",
    "            if duration>=0.5:\n",
    "                j=k+1       #'換調囉'\n",
    "        aa_i[key]=durationType_pitch    \n",
    "    print aa_i\n"
   ]
  },
  {
   "cell_type": "code",
   "execution_count": 127,
   "metadata": {
    "collapsed": false
   },
   "outputs": [
    {
     "name": "stdout",
     "output_type": "stream",
     "text": [
      "{u'track': u'0.125,55;0.125,60;0.25,0;0.5,0', u'track0': u'0.125,60;0.125,64;0.25,0;0.5,0', u'track17': u'0.25,48;0.125,0;0.125,48;0.375,0;0.0625,0;0.0625,0', u'track10': u'0.125,52;0.125,55;0.25,0;0.5,0'}\n"
     ]
    }
   ],
   "source": [
    "#####測試\n",
    "# cp=['C', 'D','F','A']#產生的調\n",
    "cp=['C', 'O']\n",
    "aa=[{u'duration_count': 1.0, u'_id': 7, u'A_pattern': {u'track0': u'0.125,1;0.125,1,1;0.25,0;0.5,1,0',u'track': u'0.125,1;0.125,1,1;0.25,0;0.5,1,0',u'track10': u'0.125,1;0.125,1,1;0.25,0;0.5,1,0', u'track17': u'0.25,1;0.125,0;0.125,1,0;0.375,1,0;0.0625,1,0;0.0625,0'}}]\n",
    "# aa=[{u'duration_count': 0.75, u'_id': 2, u'A_pattern': {u'track0': u'0.75,1;0.25,1,1'}},\n",
    "# {u'duration_count': 1.0, u'_id': 4, u'A_pattern': {u'track0': u'0.125,1;0.125,1,0;0.125,1,0;0.125,1,0;0.125,1,0;0.125,1,0;0.125,1,0;0.125,1,0'}},\n",
    "# {u'duration_count': 1.0, u'_id': 5, u'A_pattern': {u'track0': u'0.125,1;0.125,1,1;0.125,1,1;0.125,1,0;0.125,1,1;0.125,1,1;0.125,1,0;0.125,1,0'}},\n",
    "# {u'duration_count': 1.0, u'_id': 7, u'A_pattern': {u'track0': u'0.125,0;0.125,1;0.25,0;0.5,1,0', u'track17': u'0.25,1;0.125,0;0.125,1,0;0.375,1,0;0.0625,1,0;0.0625,0'}},]\n",
    "k=0\n",
    "for a in aa:   \n",
    "    aa_i=a[u'A_pattern']\n",
    "    Dong(cp[k:k+2],aa_i)#用方法!!!!\n",
    "    k+=2\n",
    "    if k%len(cp)==0:#重複CP\n",
    "        k=0\n"
   ]
  },
  {
   "cell_type": "code",
   "execution_count": null,
   "metadata": {
    "collapsed": true
   },
   "outputs": [],
   "source": [
    "{u'track': u';0.125,0;0.125,0;0.25,0;0.5,65', u'track0': u';0.125,0;0.125,0;0.25,0;0.5,71',\n",
    " u'track17': u';0.25,0;0.125,0;0.125,0;0.375,59;0.0625,59;0.0625,0', u'track10': u';0.125,0;0.125,0;0.25,0;0.5,62'}\n",
    "\n"
   ]
  },
  {
   "cell_type": "code",
   "execution_count": 106,
   "metadata": {
    "collapsed": false
   },
   "outputs": [
    {
     "name": "stdout",
     "output_type": "stream",
     "text": [
      "A_pattern {u'track0': u'0.75,60;0.25,71'}\n",
      "===========================\n",
      "A_pattern {u'track0': u'0.125,60;0.125,60;0.125,60;0.125,60;0.125,71;0.125,71;0.125,71;0.125,71'}\n",
      "===========================\n",
      "A_pattern {u'track0': u'0.125,60;0.125,64;0.125,67;0.125,67;0.125,71;0.125,74;0.125,74;0.125,74'}\n",
      "===========================\n",
      "A_pattern {u'track0': u'0.125,0;0.125,60;0.25,0;0.5,71', u'track17': u'0.25,55;0.125,0;0.125,55;0.375,65;0.0625,65;0.0625,0'}\n",
      "===========================\n"
     ]
    }
   ],
   "source": [
    "#不使用def\n",
    "# import Taking_Grams\n",
    "# cp=Taking_Grams.getGrams(['8g1'])\n",
    "from decimal import *\n",
    "import pymongo\n",
    "from pymongo import MongoClient\n",
    "cp=['C', 'Bdim']#產生的調\n",
    "# cp=['C', 'D', 'Bb', 'E', 'C', 'Bdim', 'Bb', 'E']#產生的調\n",
    "dic_cp = {'C':[0, 4, 7],'C7':[0,4,7,10],'Cmaj7':[0, 4, 7, 11],\n",
    "    'Dm':[2, 5, 9],'D':[2,6,9],'Dm7':[2, 5, 9, 12],'D7':[2,6,9,12],\n",
    "\t'E':[4,8,11],'E7':[4,8,11,14],'Em':[4, 7, 11],'Em7':[4, 7, 11, 14],\n",
    "    'F':[5, 9, 12],'Fmaj7':[5, 9, 12, 16],\n",
    "    'G':[7, 11, 14],'G7':[7, 11, 14, 17],\n",
    "\t'A':[9,13,16],'Am':[9, 12, 16],'Am7':[9, 12, 16, 19],\n",
    "    'Bb':[10, 14, 17],'Bdim':[11, 14, 17]}\n",
    "# client = MongoClient('mongodb://10.120.30.8:27017')\n",
    "# db = client['music']  \n",
    "# collect = db['guitar_pattern_with_track_A_pattern']\n",
    "# cur = collect.find({'duration_count':1})\n",
    "# cur = collect.find()\n",
    "aa=[{u'duration_count': 0.75, u'_id': 2, u'A_pattern': {u'track0': u'0.75,1;0.25,1,1'}},\n",
    "{u'duration_count': 1.0, u'_id': 4, u'A_pattern': {u'track0': u'0.125,1;0.125,1,0;0.125,1,0;0.125,1,0;0.125,1,0;0.125,1,0;0.125,1,0;0.125,1,0'}},\n",
    "{u'duration_count': 1.0, u'_id': 5, u'A_pattern': {u'track0': u'0.125,1;0.125,1,1;0.125,1,1;0.125,1,0;0.125,1,1;0.125,1,1;0.125,1,0;0.125,1,0'}},\n",
    "{u'duration_count': 1.0, u'_id': 7, u'A_pattern': {u'track0': u'0.125,0;0.125,1;0.25,0;0.5,1,0', u'track17': u'0.25,1;0.125,0;0.125,1,0;0.375,1,0;0.0625,1,0;0.0625,0'}},]\n",
    "k=0\n",
    "for a in aa:\n",
    "# for a in cur:   \n",
    "    aa_i=a[u'A_pattern']#第某個dic的 A_pattern:{track,track2}\n",
    "#     for key in aa_i:\n",
    "    m1=0\n",
    "    m2=0\n",
    "    for key in sorted([aa_ii for aa_ii in aa_i if 'track' in aa_ii]):\n",
    "        j=k       \n",
    "        if key=='track0':   #將A_pattern中的KEY分別判斷有沒有track            \n",
    "            i=m1           \n",
    "        elif key!='track0':\n",
    "            m2-=1 \n",
    "            i=m2\n",
    "        m=i\n",
    "        duration=0#拍子長度\n",
    "        A=[]\n",
    "        durationType_pitch='' \n",
    "        for pitch in aa_i[key].split(';'):  #track用分號切割成每個Pitch            \n",
    "            if len(pitch.split(','))==2:#沒有升降值的給升降值0,pitch就有[duration,有無音,升降值]\n",
    "                pitch=pitch+',0'\n",
    "            if duration>=0.5:    #如果duration超過0.5,新增升降元素\n",
    "                A.append(pitch.split(',')[2])\n",
    "            if len(A)==1 and (str(A[0])=='1' or str(A[0])=='-1'):#如果A只有一個值且值為1OR-1將該pitch升降元素改為0\n",
    "                pitch=pitch.split(',')[0]+','+pitch.split(',')[1]+',0'\n",
    "            if len(A)==1:        #當A有一值時和弦升降值為0\n",
    "                i=m    \n",
    "            if len(pitch.split(','))==3 and pitch.split(',')[2]=='1':#如果有上升記號\n",
    "                i+=1\n",
    "                newpitch=60+12*(i/len(dic_cp[cp[j]]))+dic_cp[cp[j]][i%len(dic_cp[cp[j]])]\n",
    "                durationType_pitch=durationType_pitch+';'+pitch.split(',')[0]+','+str(newpitch)\n",
    "            elif len(pitch.split(','))==3 and pitch.split(',')[2]=='-1':#如果有下降記號\n",
    "                i+=-1\n",
    "                newpitch=60+12*(i/len(dic_cp[cp[j]]))+dic_cp[cp[j]][i%len(dic_cp[cp[j]])]\n",
    "                durationType_pitch=durationType_pitch+';'+pitch.split(',')[0]+','+str(newpitch)\n",
    "            else:\n",
    "                if pitch.split(',')[1]=='0':\n",
    "                    newpitch=0\n",
    "                else:\n",
    "                    newpitch=60+12*(i/len(dic_cp[cp[j]]))+dic_cp[cp[j]][i%len(dic_cp[cp[j]])]\n",
    "                if durationType_pitch=='':\n",
    "                    durationType_pitch=durationType_pitch+pitch.split(',')[0]+','+str(newpitch)\n",
    "                else:\n",
    "                    durationType_pitch=durationType_pitch+';'+pitch.split(',')[0]+','+str(newpitch) \n",
    "#                 print '和弦',cp[j],'陣列第',i,'個,發聲',pitch.split(',')[1],',pitch是',newpitch,\n",
    "            duration=duration+float(pitch.split(',')[0])\n",
    "#                 print ',累積duration',duration\n",
    "            if duration>=0.5:\n",
    "                j=k+1       #'換調囉'\n",
    "        aa_i[key]=durationType_pitch\n",
    "    k+=2\n",
    "    if k%len(cp)==0:#重複CP\n",
    "        k=0\n",
    "    a[u'A_pattern']=aa_i\n",
    "\n",
    "    print 'A_pattern',aa_i\n",
    "    print '==========================='\n"
   ]
  },
  {
   "cell_type": "code",
   "execution_count": null,
   "metadata": {
    "collapsed": true
   },
   "outputs": [],
   "source": []
  }
 ],
 "metadata": {
  "kernelspec": {
   "display_name": "Python 2",
   "language": "python",
   "name": "python2"
  },
  "language_info": {
   "codemirror_mode": {
    "name": "ipython",
    "version": 2
   },
   "file_extension": ".py",
   "mimetype": "text/x-python",
   "name": "python",
   "nbconvert_exporter": "python",
   "pygments_lexer": "ipython2",
   "version": "2.7.10"
  }
 },
 "nbformat": 4,
 "nbformat_minor": 0
}
