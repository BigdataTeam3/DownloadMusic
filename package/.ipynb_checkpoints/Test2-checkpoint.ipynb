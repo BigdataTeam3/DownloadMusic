{
 "cells": [
  {
   "cell_type": "code",
   "execution_count": 5,
   "metadata": {
    "collapsed": false
   },
   "outputs": [
    {
     "name": "stdout",
     "output_type": "stream",
     "text": [
      "['0', 'Acoustic Grand Piano', '\\xa5\\xad\\xa5x\\xbf\\xfb\\xb5^']\n",
      "['1', 'Bright Acoustic Piano', '\\xabG\\xad\\xb5\\xbf\\xfb\\xb5^']\n",
      "['2', 'Electric Grand Piano', '\\xb9q\\xbf\\xfb\\xb5^']\n",
      "['3', 'Honky-tonk Piano', '\\xb0s\\xa7a\\xbf\\xfb\\xb5^']\n",
      "['4', 'Electric Piano 1', '\\xb9q\\xbf\\xfb\\xb5^1']\n",
      "['5', 'Electric Piano 2', '\\xb9q\\xbf\\xfb\\xb5^2']\n",
      "['6', 'Harpsichord', '\\xa4j\\xc1\\xe4\\xb5^']\n",
      "['7', 'Clavi', '\\xb9q\\xc1l\\xb5^']\n",
      "['8', 'Celesta', '\\xbf\\xfb\\xa4\\xf9\\xb5^']\n",
      "['9', 'Glockenspiel', '\\xc4\\xc1\\xb5^']\n",
      "['10', 'Music Box', '\\xad\\xb5\\xbc\\xd6\\xb2\\xb0']\n",
      "['11', 'Vibraphone', '\\xc5\\xb8\\xad\\xb5\\xb5^']\n",
      "['12', 'Marimba', '\\xb0\\xa8\\xaaL\\xa4\\xda\\xb5^']\n",
      "['13', 'Xylophone', '\\xa4\\xec\\xb5^']\n",
      "['14', 'Tubular Bells', '\\xba\\xde\\xc4\\xc1']\n",
      "['15', 'Dulcimer', '\\xb4\\xad\\xb5^']\n",
      "['16', 'Drawbar Organ', '\\xad\\xb5\\xa9\\xb6\\xad\\xb7\\xb5^']\n",
      "['17', 'Percussive Organ', '\\xbaV\\xc0\\xbb\\xad\\xb7\\xb5^']\n",
      "['18', 'Rock Organ', '\\xb7n\\xbau\\xad\\xb7\\xb5^']\n",
      "['19', 'Church Organ', '\\xb1\\xd0\\xb0\\xf3\\xba\\xde\\xad\\xb7\\xb5^']\n",
      "['20', 'Reed Organ', '\\xc2\\xae\\xad\\xb7\\xb5^']\n",
      "['21', 'Accordion', '\\xa4\\xe2\\xad\\xb7\\xb5^']\n",
      "['22', 'Harmonica', '\\xa4f\\xb5^']\n",
      "['23', 'Tango Accordion', '\\xb1\\xb4\\xa4\\xe0\\xa4\\xe2\\xad\\xb7\\xb5^']\n",
      "['24', 'Acoustic Guitar (nylon)', '\\xa4\\xec\\xa6N\\xa5L(\\xa5\\xa7\\xc0s\\xa9\\xb6)']\n",
      "['25', 'Acoustic Guitar (steel)', '\\xa4\\xec\\xa6N\\xa5L(\\xbf\\xfb\\xa9\\xb6)']\n",
      "['26', 'Electric Guitar (jazz)', '\\xb9q\\xa6N\\xa5L(\\xc0\\xef\\xa4h)']\n",
      "['27', 'Electric Guitar (clean)', '\\xb9q\\xa6N\\xa5L(\\xad\\xec\\xad\\xb5)']\n",
      "['28', 'Electric Guitar (muted)', '\\xb9q\\xa6N\\xa5L(\\xb4e\\xad\\xb5)']\n",
      "['29', 'Overdriven Guitar', '\\xb9q\\xa6N\\xa5L(\\xaf}\\xad\\xb5)']\n",
      "['30', 'Distortion Guitar', '\\xb9q\\xa6N\\xa5L(\\xa5\\xa2\\xafu)']\n",
      "['31', 'Guitar harmonics', '\\xa6N\\xa5L\\xaax\\xad\\xb5']\n",
      "['32', 'Acoustic Bass', '\\xa5\\xc1\\xc1\\xc1\\xa8\\xa9\\xb4\\xb5']\n",
      "['33', 'Electric Bass (finger)', '\\xb9q\\xa8\\xa9\\xb4\\xb5(\\xab\\xfc\\xab\\xb5)']\n",
      "['34', 'Electric Bass (pick)', '\\xb9q\\xa8\\xa9\\xb4\\xb5(\\xbc\\xb7\\xab\\xb5)']\n",
      "['35', 'Fretless Bass', '\\xb5L\\xae\\xe6\\xa8\\xa9\\xb4\\xb5']\n",
      "['36', 'Slap Bass 1', '\\xb4\\xa8\\xb9_\\xa8\\xa9\\xb4\\xb51']\n",
      "['37', 'Slap Bass 2', '\\xb4\\xa8\\xb9_\\xa8\\xa9\\xb4\\xb52']\n",
      "['38', 'Synth Bass 1', '\\xa6X\\xa6\\xa8\\xa8\\xa9\\xb4\\xb51']\n",
      "['39', 'Synth Bass 2', '\\xa6X\\xa6\\xa8\\xa8\\xa9\\xb4\\xb52']\n",
      "['40', 'Violin', '\\xa4p\\xb4\\xa3\\xb5^']\n",
      "['41', 'Viola', '\\xa4\\xa4\\xb4\\xa3\\xb5^']\n",
      "['42', 'Cello', '\\xa4j\\xb4\\xa3\\xb5^']\n",
      "['43', 'Contrabass', '\\xa7C\\xad\\xb5\\xa4j\\xb4\\xa3\\xb5^']\n",
      "['44', 'Tremolo Strings', '\\xc5\\xb8\\xa4}\\xa9\\xb6\\xbc\\xd6']\n",
      "['45', 'Pizzicato Strings', '\\xbcu\\xbc\\xb7\\xa9\\xb6\\xbc\\xd6']\n",
      "['46', 'Orchestral Harp', '\\xba\\xde\\xa9\\xb6\\xbd\\xdd\\xb5^']\n",
      "['47', 'Timpani', '\\xa9w\\xad\\xb5\\xb9\\xaa']\n",
      "['48', 'String Ensemble 1', '\\xa9\\xb6\\xbc\\xd6\\xa6X\\xab\\xb51']\n",
      "['49', 'String Ensemble 2', '\\xa9\\xb6\\xbc\\xd6\\xa6X\\xab\\xb52']\n",
      "['50', 'SynthStrings 1', '\\xa6X\\xa6\\xa8\\xa9\\xb6\\xbc\\xd61']\n",
      "['51', 'SynthStrings 2', '\\xa6X\\xa6\\xa8\\xa9\\xb6\\xbc\\xd62']\n",
      "['52', 'Choir Aahs', '\\xa4H\\xc1n\\xa1y\\xb0\\xda\\xa1z\\xa6X\\xb0\\xdb']\n",
      "['53', 'Voice Oohs', '\\xa4H\\xc1n\\xa1y\\xb3\\xe1\\xa1z']\n",
      "['54', 'Synth Voice', '\\xa6X\\xa6\\xa8\\xa4H\\xc1n']\n",
      "['55', 'Orchestra Hit', '\\xa5\\xe6\\xc5T\\xa5\\xb4\\xc0\\xbb\\xbc\\xd6']\n",
      "['56', 'Trumpet', '\\xa4p\\xb3\\xe2\\xa5z']\n",
      "['57', 'Trombone', '\\xa6\\xf9\\xc1Y\\xb3\\xe2\\xa5z']\n",
      "['58', 'Tuba', '\\xa7C\\xad\\xb5\\xb3\\xe2\\xa5z']\n",
      "['59', 'Muted Trumpet', '\\xb4e\\xad\\xb5\\xa4p\\xb8\\xb9']\n",
      "['60', 'French Horn', '\\xaak\\xb0\\xea\\xb8\\xb9']\n",
      "['61', 'Brass Section', '\\xbb\\xc9\\xba\\xde\\xbc\\xd6']\n",
      "['62', 'SynthBrass 1', '\\xa6X\\xa6\\xa8\\xbb\\xc9\\xba\\xde1']\n",
      "['63', 'SynthBrass 2', '\\xa6X\\xa6\\xa8\\xbb\\xc9\\xba\\xde2']\n",
      "['64', 'Soprano Sax', '\\xb0\\xaa\\xad\\xb5\\xc2\\xc4\\xa7J\\xb4\\xb5\\xad\\xb7']\n",
      "['65', 'Alto Sax', '\\xa4\\xa4\\xad\\xb5\\xc2\\xc4\\xa7J\\xb4\\xb5\\xad\\xb7']\n",
      "['66', 'Tenor Sax', '\\xa6\\xb8\\xa4\\xa4\\xad\\xb5\\xc2\\xc4\\xa7J\\xb4\\xb5\\xad\\xb7']\n",
      "['67', 'Baritone Sax', '\\xa4W\\xa7C\\xad\\xb5\\xc2\\xc4\\xa7J\\xb4\\xb5\\xad\\xb7']\n",
      "['68', 'Oboe', '\\xc2\\xf9\\xc2\\xae\\xba\\xde']\n",
      "['69', 'English Horn', '\\xad^\\xb0\\xea\\xba\\xde']\n",
      "['70', 'Bassoon', '\\xa7C\\xad\\xb5\\xba\\xde']\n",
      "['71', 'Clarinet', '\\xb3\\xe6\\xc2\\xae\\xba\\xde']\n",
      "['72', 'Piccolo', '\\xb5u\\xb2\\xc3']\n",
      "['73', 'Flute', '\\xaa\\xf8\\xb2\\xc3']\n",
      "['74', 'Recorder', '\\xaa\\xbd\\xb2\\xc3']\n",
      "['75', 'Pan Flute', '\\xb1\\xc6\\xb2\\xc3']\n",
      "['76', 'Blown Bottle', '\\xb2~\\xb2\\xc3']\n",
      "['77', 'Shakuhachi', '\\xa4\\xd8\\xa4K']\n",
      "['78', 'Whistle', '\\xad\\xef\\xa4l']\n",
      "['79', 'Ocarina', '\\xb3\\xb3\\xb2\\xc3']\n",
      "['80', 'Lead 1 (square)', '\\xa4\\xe8\\xaai']\n",
      "['81', 'Lead 2 (sawtooth)', '\\xbf\\xf7\\xbe\\xa6\\xaai']\n",
      "['82', 'Lead 3 (calliope)', '\\xa8T\\xb2\\xc3\\xad\\xb7\\xb5^']\n",
      "['83', 'Lead 4 (chiff)', '\\xa6X\\xa6\\xa8\\xa7j\\xba\\xde']\n",
      "['84', 'Lead 5 (charang)', '\\xa6X\\xa6\\xa8\\xb9q\\xa6N\\xa5L']\n",
      "['85', 'Lead 6 (voice)', '\\xa4H\\xc1n\\xc1\\xe4\\xbdL']\n",
      "['86', 'Lead 7 (fifths)', '\\xa4\\xad\\xab\\xd7\\xad\\xb5']\n",
      "['87', 'Lead 8 (bass + lead)', '\\xa8\\xa9\\xb4\\xb5\\xa6N\\xa5L\\xa6X\\xab\\xb5']\n",
      "['88', 'Pad 1 (new age)', '\\xa1]\\xa6X\\xa6\\xa8\\xad\\xb5\\xa9M\\xa9\\xb6\\xc5\\xa8\\xa9\\xb3\\xa1^\\xb7s\\xa5@\\xac\\xf6']\n",
      "['89', 'Pad 2 (warm)', '\\xa1]\\xa6X\\xa6\\xa8\\xad\\xb5\\xa9M\\xa9\\xb6\\xc5\\xa8\\xa9\\xb3\\xa1^\\xb7\\xc5\\xb7x']\n",
      "['90', 'Pad 3 (polysynth)', '\\xa1]\\xa6X\\xa6\\xa8\\xad\\xb5\\xa9M\\xa9\\xb6\\xc5\\xa8\\xa9\\xb3\\xa1^\\xa6h\\xad\\xab\\xa6X\\xad\\xb5']\n",
      "['91', 'Pad 4 (choir)', '\\xa1]\\xa6X\\xa6\\xa8\\xad\\xb5\\xa9M\\xa9\\xb6\\xc5\\xa8\\xa9\\xb3\\xa1^\\xa4H\\xc1n\\xa6X\\xb0\\xdb']\n",
      "['92', 'Pad 5 (bowed)', '\\xa1]\\xa6X\\xa6\\xa8\\xad\\xb5\\xa9M\\xa9\\xb6\\xc5\\xa8\\xa9\\xb3\\xa1^\\xac\\xc1\\xbc\\xfe']\n",
      "['93', 'Pad 6 (metallic)', '\\xa1]\\xa6X\\xa6\\xa8\\xad\\xb5\\xa9M\\xa9\\xb6\\xc5\\xa8\\xa9\\xb3\\xa1^\\xaa\\xf7\\xc4\\xdd']\n",
      "['94', 'Pad 7 (halo)', '\\xa1]\\xa6X\\xa6\\xa8\\xad\\xb5\\xa9M\\xa9\\xb6\\xc5\\xa8\\xa9\\xb3\\xa1^\\xa5\\xfa\\xb5\\xd8']\n",
      "['95', 'Pad 8 (sweep)', '\\xa1]\\xa6X\\xa6\\xa8\\xad\\xb5\\xa9M\\xa9\\xb6\\xc5\\xa8\\xa9\\xb3\\xa1^\\xb1\\xbd\\xb1\\xb0']\n",
      "['96', 'FX 1 (rain)', '\\xa1]\\xa6X\\xa6\\xa8\\xad\\xb5\\xae\\xc4\\xaaG\\xa1^\\xabB\\xc1n']\n",
      "['97', 'FX 2 (soundtrack)', '\\xa1]\\xa6X\\xa6\\xa8\\xad\\xb5\\xae\\xc4\\xaaG\\xa1^\\xb9q\\xbcv\\xad\\xb5\\xae\\xc4']\n",
      "['98', 'FX 3 (crystal)', '\\xa1]\\xa6X\\xa6\\xa8\\xad\\xb5\\xae\\xc4\\xaaG\\xa1^\\xa4\\xf4\\xb4\\xb9']\n",
      "['99', 'FX 4 (atmosphere)', '\\xa1]\\xa6X\\xa6\\xa8\\xad\\xb5\\xae\\xc4\\xaaG\\xa1^\\xae\\xf0\\xaa^']\n",
      "['100', 'FX 5 (brightness)', '\\xa1]\\xa6X\\xa6\\xa8\\xad\\xb5\\xae\\xc4\\xaaG\\xa1^\\xa9\\xfa\\xabG']\n",
      "['101', 'FX 6 (goblins)', '\\xa1]\\xa6X\\xa6\\xa8\\xad\\xb5\\xae\\xc4\\xaaG\\xa1^\\xbey\\xbcv']\n",
      "['102', 'FX 7 (echoes)', '\\xa1]\\xa6X\\xa6\\xa8\\xad\\xb5\\xae\\xc4\\xaaG\\xa1^\\xa6^\\xad\\xb5']\n",
      "['103', 'FX 8 (sci-fi)', '\\xa1]\\xa6X\\xa6\\xa8\\xad\\xb5\\xae\\xc4\\xaaG\\xa1^\\xac\\xec\\xa4\\xdb']\n",
      "['104', 'Sitar', '\\xa6\\xe8\\xb6\\xf0\\xb5^']\n",
      "['105', 'Banjo', '\\xa4\\xad\\xa9\\xb6\\xb5^']\n",
      "['106', 'Shamisen', '\\xa4T\\xa8\\xfd\\xbdu']\n",
      "['107', 'Koto', '\\xa5j\\xba\\xe5']\n",
      "['108', 'Kalimba', '\\xa5d\\xaaL\\xa4\\xda\\xc5K\\xa4\\xf9\\xb5^']\n",
      "['109', 'Bag pipe', '\\xc4\\xac\\xae\\xe6\\xc4\\xf5\\xad\\xb7\\xb2\\xc3']\n",
      "['110', 'Fiddle', '\\xa5j\\xb4\\xa3\\xb5^']\n",
      "['111', 'Shanai', '\\xc3~\\xb2\\xc3']\n",
      "['112', 'Tinkle Bell', '\\xa5m\\xbe\\xb4\\xb9a']\n",
      "['113', 'Agogo', '\\xaa\\xfc\\xad\\xf4\\xad\\xf4\\xb9\\xaa']\n",
      "['114', 'Steel Drums', '\\xbf\\xfb\\xb9\\xaa']\n",
      "['115', 'Woodblock', '\\xa4\\xec\\xb3\\xbd']\n",
      "['116', 'Taiko Drum', '\\xa4\\xd3\\xb9\\xaa']\n",
      "['117', 'Melodic Tom', '\\xa9w\\xad\\xb5\\xb5\\xa9\\xb9\\xaa']\n",
      "['118', 'Synth Drum', '\\xa6X\\xa6\\xa8\\xb9\\xaa']\n",
      "['119', 'Reverse Cymbal', '\\xb0f\\xc2\\xe0\\xb9Y\\xc1n']\n",
      "['120', 'Guitar Fret Noise', '\\xa6N\\xa5L\\xb7\\xc6\\xa9\\xb6\\xc2\\xf8\\xad\\xb5']\n",
      "['121', 'Breath Noise', '\\xa9I\\xa7l\\xc2\\xf8\\xad\\xb5']\n",
      "['122', 'Seashore', '\\xae\\xfc\\xa9\\xa4']\n",
      "['123', 'Bird Tweet', '\\xb3\\xbe\\xbb\\xef']\n",
      "['124', 'Telephone Ring', '\\xb9q\\xb8\\xdc\\xb9a\\xc1n']\n",
      "['125', 'Helicopter', '\\xaa\\xbd\\xa4\\xc9\\xbe\\xf7']\n",
      "['126', 'Applause', '\\xa9\\xe7\\xa4\\xe2']\n",
      "['127', 'Gunshot', '\\xbaj\\xc1n']\n"
     ]
    }
   ],
   "source": [
    "with open('./pitched/instrument_table.csv','r') as f:\n",
    "    instr = f.read()\n",
    "dic = {}\n",
    "for line in instr.split('\\n'):\n",
    "    l = line.split(',')\n",
    "    print l\n",
    "    dic.update({l[1]:l[0]})"
   ]
  },
  {
   "cell_type": "code",
   "execution_count": 6,
   "metadata": {
    "collapsed": false
   },
   "outputs": [
    {
     "name": "stdout",
     "output_type": "stream",
     "text": [
      "{'Electric Guitar (jazz)': '26', 'Electric Bass (finger)': '33', 'Synth Bass 2': '39', 'Synth Bass 1': '38', 'Accordion': '21', 'Electric Grand Piano': '2', 'Bag pipe': '109', 'Timpani': '47', 'Tuba': '58', 'Tremolo Strings': '44', 'Harpsichord': '6', 'Bright Acoustic Piano': '1', 'Electric Piano 2': '5', 'Recorder': '74', 'Electric Piano 1': '4', 'Voice Oohs': '53', 'Drawbar Organ': '16', 'Melodic Tom': '117', 'Pizzicato Strings': '45', 'Pad 6 (metallic)': '93', 'Fiddle': '110', 'FX 1 (rain)': '96', 'Marimba': '12', 'Alto Sax': '65', 'FX 5 (brightness)': '100', 'Xylophone': '13', 'Steel Drums': '114', 'Church Organ': '19', 'Acoustic Bass': '32', 'Whistle': '78', 'Acoustic Guitar (steel)': '25', 'Taiko Drum': '116', 'Electric Guitar (muted)': '28', 'Shamisen': '106', 'Lead 1 (square)': '80', 'Baritone Sax': '67', 'Lead 5 (charang)': '84', 'SynthStrings 1': '50', 'FX 2 (soundtrack)': '97', 'Rock Organ': '18', 'Pad 8 (sweep)': '95', 'Orchestra Hit': '55', 'Shanai': '111', 'SynthStrings 2': '51', 'Woodblock': '115', 'SynthBrass 1': '62', 'Orchestral Harp': '46', 'SynthBrass 2': '63', 'Pad 4 (choir)': '91', 'Cello': '42', 'FX 3 (crystal)': '98', 'Lead 4 (chiff)': '83', 'Pad 3 (polysynth)': '90', 'Piccolo': '72', 'Music Box': '10', 'Choir Aahs': '52', 'FX 8 (sci-fi)': '103', 'Sitar': '104', 'Kalimba': '108', 'Seashore': '122', 'Honky-tonk Piano': '3', 'Clarinet': '71', 'Trumpet': '56', 'FX 7 (echoes)': '102', 'Telephone Ring': '124', 'FX 6 (goblins)': '101', 'Bassoon': '70', 'Tubular Bells': '14', 'English Horn': '69', 'Distortion Guitar': '30', 'Electric Bass (pick)': '34', 'Viola': '41', 'Synth Voice': '54', 'French Horn': '60', 'Pad 2 (warm)': '89', 'Pad 7 (halo)': '94', 'Tango Accordion': '23', 'Muted Trumpet': '59', 'Agogo': '113', 'Lead 7 (fifths)': '86', 'Synth Drum': '118', 'FX 4 (atmosphere)': '99', 'Oboe': '68', 'Lead 6 (voice)': '85', 'Shakuhachi': '77', 'Blown Bottle': '76', 'Flute': '73', 'Banjo': '105', 'Lead 2 (sawtooth)': '81', 'Tinkle Bell': '112', 'Percussive Organ': '17', 'Koto': '107', 'Pad 1 (new age)': '88', 'Guitar harmonics': '31', 'Fretless Bass': '35', 'Dulcimer': '15', 'Glockenspiel': '9', 'Overdriven Guitar': '29', 'Breath Noise': '121', 'Guitar Fret Noise': '120', 'Brass Section': '61', 'Acoustic Grand Piano': '0', 'Pan Flute': '75', 'Vibraphone': '11', 'Soprano Sax': '64', 'Clavi': '7', 'Contrabass': '43', 'Bird Tweet': '123', 'Violin': '40', 'Harmonica': '22', 'Slap Bass 1': '36', 'Slap Bass 2': '37', 'Lead 3 (calliope)': '82', 'Acoustic Guitar (nylon)': '24', 'Gunshot': '127', 'Electric Guitar (clean)': '27', 'Tenor Sax': '66', 'Helicopter': '125', 'Lead 8 (bass + lead)': '87', 'Celesta': '8', 'Pad 5 (bowed)': '92', 'Reverse Cymbal': '119', 'String Ensemble 1': '48', 'String Ensemble 2': '49', 'Trombone': '57', 'Reed Organ': '20', 'Ocarina': '79', 'Applause': '126'}\n"
     ]
    }
   ],
   "source": [
    "print dic"
   ]
  },
  {
   "cell_type": "code",
   "execution_count": 14,
   "metadata": {
    "collapsed": false
   },
   "outputs": [
    {
     "ename": "ImportError",
     "evalue": "No module named Instrument",
     "output_type": "error",
     "traceback": [
      "\u001b[1;31m---------------------------------------------------------------------------\u001b[0m",
      "\u001b[1;31mImportError\u001b[0m                               Traceback (most recent call last)",
      "\u001b[1;32m<ipython-input-14-8fa2199c1d7c>\u001b[0m in \u001b[0;36m<module>\u001b[1;34m()\u001b[0m\n\u001b[1;32m----> 1\u001b[1;33m \u001b[1;32mimport\u001b[0m \u001b[0malgo\u001b[0m\u001b[1;33m.\u001b[0m\u001b[0mInstrument\u001b[0m\u001b[1;33m\u001b[0m\u001b[0m\n\u001b[0m",
      "\u001b[1;31mImportError\u001b[0m: No module named Instrument"
     ]
    }
   ],
   "source": [
    "import algo.Instrument"
   ]
  },
  {
   "cell_type": "code",
   "execution_count": null,
   "metadata": {
    "collapsed": true
   },
   "outputs": [],
   "source": []
  }
 ],
 "metadata": {
  "kernelspec": {
   "display_name": "Python 2",
   "language": "python",
   "name": "python2"
  },
  "language_info": {
   "codemirror_mode": {
    "name": "ipython",
    "version": 2
   },
   "file_extension": ".py",
   "mimetype": "text/x-python",
   "name": "python",
   "nbconvert_exporter": "python",
   "pygments_lexer": "ipython2",
   "version": "2.7.10"
  }
 },
 "nbformat": 4,
 "nbformat_minor": 0
}
