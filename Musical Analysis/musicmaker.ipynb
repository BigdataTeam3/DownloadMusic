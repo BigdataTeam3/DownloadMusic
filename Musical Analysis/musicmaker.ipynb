{
 "cells": [
  {
   "cell_type": "code",
   "execution_count": 425,
   "metadata": {
    "collapsed": false
   },
   "outputs": [
    {
     "name": "stdout",
     "output_type": "stream",
     "text": [
      "{Decimal('0.03125'): '32nd', Decimal('0.25'): 'quarter', Decimal('0.5'): 'half', Decimal('1'): 'whole', Decimal('0.00390625'): '256th', Decimal('0.015625'): '64th', None: 'measure', Decimal('0.0625'): '16th', Decimal('0.125'): 'eighth', Decimal('0.0078125'): '128th'}\n"
     ]
    }
   ],
   "source": [
    "from decimal import*\n",
    "beatDic = {'measure':None,\n",
    "           'whole':Decimal(1),\n",
    "           'half':Decimal(1)/2,\n",
    "           'quarter':Decimal(1)/4,\n",
    "           'eighth':Decimal(1)/8,\n",
    "           '16th':Decimal(1)/16,\n",
    "           '32nd':Decimal(1)/32,\n",
    "           '64th':Decimal(1)/64,\n",
    "           '128th':Decimal(1)/128,\n",
    "           '256th':Decimal(1)/256\n",
    "          }\n",
    "BDic = dict((v,k) for k,v in beatDic.iteritems())\n",
    "print BDic"
   ]
  },
  {
   "cell_type": "code",
   "execution_count": 19,
   "metadata": {
    "collapsed": false
   },
   "outputs": [
    {
     "data": {
      "text/plain": [
       "<pymongo.results.InsertOneResult at 0x31e31c0>"
      ]
     },
     "execution_count": 19,
     "metadata": {},
     "output_type": "execute_result"
    }
   ],
   "source": [
    "#進mongodb\n",
    "import pymongo\n",
    "from pymongo import MongoClient\n",
    "client = MongoClient('mongodb://10.120.30.8:27017')\n",
    "db = client['music']  #選擇database\n",
    "collect = db['tempo_beats']  #選擇database.collection\n",
    "dic = {'musicname':'aaa','staff_id':2,'instrument':'flute','sig':'4/4','tempo':120,'start':1,'end':4,'beat':'0.25,0;0.5,1;0.125,1;0.125,1'}\n",
    "collect.insert_one(dic) #放一筆dic"
   ]
  },
  {
   "cell_type": "code",
   "execution_count": 49,
   "metadata": {
    "collapsed": true
   },
   "outputs": [],
   "source": [
    "    #查詢mongoDB\n",
    "client = MongoClient('mongodb://10.120.30.8:27017')\n",
    "db = client['music']  \n",
    "collect = db['tempo_beats']\n",
    "cur = collect.find({'staff_id':1,'timesig':'4/4','start':1,'end':4},{'_id':0,'staff_id':1,'beats':1,'timesig':'4/4'}) \n"
   ]
  },
  {
   "cell_type": "code",
   "execution_count": 394,
   "metadata": {
    "collapsed": false
   },
   "outputs": [],
   "source": [
    "# 將被合併過的拍子還原成符合四小節的拍子!，ex (3,0)=(1:0)、(1:0)、(1:0);(1.7:1) =(1:1)、(0.7:1)\n",
    "def splitM(Mli,bag):\n",
    "    if sum(bag) == LenMea:\n",
    "        A = bag.pop()\n",
    "        Mli.append({A:int(p)})\n",
    "        return Mli\n",
    "    elif sum(bag) > LenMea:\n",
    "        least = sum(bag)-LenMea\n",
    "        A = bag.pop()\n",
    "        Nk = A-least\n",
    "        Mli.append({Nk:int(p)})\n",
    "        bag = []\n",
    "        bag.append(least)\n",
    "        return splitM(Mli,bag)\n",
    "    elif sum(bag) < LenMea :\n",
    "        Mli.append({bag[-1]:int(p)})\n",
    "        return Mli\n"
   ]
  },
  {
   "cell_type": "code",
   "execution_count": 490,
   "metadata": {
    "collapsed": false
   },
   "outputs": [
    {
     "name": "stdout",
     "output_type": "stream",
     "text": [
      "[[{Decimal('128'): 0}], [{Decimal('128'): 0}], [{Decimal('128'): 0}], [{Decimal('24.0000'): 1}, {Decimal('8.0000'): 1}, {Decimal('16.000'): 0}, {Decimal('16.000'): 1}, {Decimal('8.0000'): 0}, {Decimal('8.0000'): 1}, {Decimal('8.0000'): 1}, {Decimal('8.0000'): 1}, {Decimal('32.00'): 1}]]\n"
     ]
    }
   ],
   "source": [
    "#Mdic = cur[0]\n",
    "#test try\n",
    "Mdic = {u'staff_id': 1, u'timesig': u'4/4', u'beats': u'3,0;0.1875,1;0.0625,1;0.125,0;0.125,1;0.0625,0;0.0625,1;0.0625,1;0.0625,1;0.25,1'}\n",
    "\n",
    "N , D = Mdic['timesig'].split('/')\n",
    "N=int(N);D=int(D);Ts = N/D\n",
    "\n",
    "LenMea =Ts*128                        #每小節的長度乘上128\n",
    "Mli=[];bag=[]                         # bag=[] for def slpitM()\n",
    "for beat in  Mdic['beats'].split(';'):\n",
    "    b , p =beat.split(',') ; Bbeat = Decimal(b)*128\n",
    "    bag.append(Bbeat)\n",
    "    splitM(Mli,bag)\n",
    "# print Mli\n",
    "bag=[];Measure=[[],[],[],[]];i=0\n",
    "for s in Mli:\n",
    "    bag.append(s.keys()[0])\n",
    "    Measure[i].append(s)\n",
    "    if sum(bag) == LenMea:\n",
    "        i+=1\n",
    "        bag=[]\n",
    "print Measure\n",
    "        "
   ]
  },
  {
   "cell_type": "code",
   "execution_count": null,
   "metadata": {
    "collapsed": true
   },
   "outputs": [],
   "source": []
  },
  {
   "cell_type": "code",
   "execution_count": 494,
   "metadata": {
    "collapsed": false
   },
   "outputs": [
    {
     "name": "stdout",
     "output_type": "stream",
     "text": [
      "[[(0, 'whole')], [(0, 'whole')], [(0, 'whole')], [(1, Decimal('0.1875')), (1, '16th'), (0, 'eighth'), (1, 'eighth'), (0, '16th'), (1, '16th'), (1, '16th'), (1, '16th'), (1, 'quarter')]]\n"
     ]
    }
   ],
   "source": [
    "#change type\n",
    "addB =[[],[],[],[]]\n",
    "for i in range(0,4):\n",
    "    AA = Measure[i]\n",
    "    for Bitem in range(0,len(AA)):\n",
    "        Rbeat = AA[Bitem].keys()[0]\n",
    "        R = Rbeat / 128\n",
    "#         print R\n",
    "        if R in BDic:\n",
    "            addB[i].append((AA[Bitem][Rbeat],BDic[R]))\n",
    "        else:\n",
    "            addB[i].append((AA[Bitem][Rbeat],R))\n",
    "print addB\n",
    "    "
   ]
  },
  {
   "cell_type": "code",
   "execution_count": null,
   "metadata": {
    "collapsed": true
   },
   "outputs": [],
   "source": []
  },
  {
   "cell_type": "code",
   "execution_count": null,
   "metadata": {
    "collapsed": true
   },
   "outputs": [],
   "source": []
  },
  {
   "cell_type": "code",
   "execution_count": null,
   "metadata": {
    "collapsed": true
   },
   "outputs": [],
   "source": []
  }
 ],
 "metadata": {
  "kernelspec": {
   "display_name": "Python 2",
   "language": "python",
   "name": "python2"
  },
  "language_info": {
   "codemirror_mode": {
    "name": "ipython",
    "version": 2
   },
   "file_extension": ".py",
   "mimetype": "text/x-python",
   "name": "python",
   "nbconvert_exporter": "python",
   "pygments_lexer": "ipython2",
   "version": "2.7.10"
  }
 },
 "nbformat": 4,
 "nbformat_minor": 0
}
