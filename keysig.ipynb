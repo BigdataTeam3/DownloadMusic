{
 "cells": [
  {
   "cell_type": "code",
   "execution_count": 30,
   "metadata": {
    "collapsed": false
   },
   "outputs": [
    {
     "name": "stdout",
     "output_type": "stream",
     "text": [
      "3\n"
     ]
    }
   ],
   "source": [
    "n=2  #取出調性\n",
    "from bs4 import BeautifulSoup as bs\n",
    "f = open('C:/Users/BigData/Desktop/l Final Countdown.mscx','r')   \n",
    "music = bs(f.read(),'xml')\n",
    "f.close()\n",
    "dic =[]\n",
    "staff = music.select('Score > Staff')[n-1]\n",
    "if len(staff.select('KeySig')) == 0:\n",
    "    keysig = 0\n",
    "else:\n",
    "    keysig = int(staff.select('KeySig')[0].text.strip())\n",
    "print keysig  "
   ]
  },
  {
   "cell_type": "code",
   "execution_count": 33,
   "metadata": {
    "collapsed": false
   },
   "outputs": [
    {
     "name": "stdout",
     "output_type": "stream",
     "text": [
      "minor\n"
     ]
    }
   ],
   "source": [
    "lastnote = (int(staff2.select('Note')[-1].pitch.text))%12  #分辨大小調\n",
    "dic = {0:0,1:7,2:2,3:9,4:4,5:11,6:6,7:1}\n",
    "if lastnote == dic[keysig] or lastnote == dic[keysig]+4 or lastnote == dic[keysig]+7:\n",
    "    print 'major'\n",
    "else:\n",
    "    print 'minor'"
   ]
  },
  {
   "cell_type": "code",
   "execution_count": 44,
   "metadata": {
    "collapsed": false,
    "scrolled": true
   },
   "outputs": [
    {
     "name": "stdout",
     "output_type": "stream",
     "text": [
      "15\n",
      "3 1\n",
      "3 2\n",
      "3 3\n",
      "3 4\n",
      "3 5\n",
      "3 6\n",
      "3 7\n",
      "3 8\n",
      "3 9\n",
      "3 10\n",
      "3 11\n",
      "3 12\n",
      "0 13\n",
      "0 14\n",
      "0 15\n"
     ]
    }
   ],
   "source": [
    "from bs4 import BeautifulSoup as bs\n",
    "f = open('C:/Users/BigData/Desktop/l Final Countdown.mscx','r')\n",
    "music = bs(f.read(),'xml')\n",
    "f.close()\n",
    "dic =[]\n",
    "print len(music.select('Part Staff'))\n",
    "for n in range(0,len(music.select('Part Staff'))):\n",
    "    staff = music.select('Score > Staff')[n]\n",
    "    if len(staff.select('KeySig')) == 0:\n",
    "        keysig = 0\n",
    "    else:\n",
    "        keysig = int(staff.select('KeySig')[0].text.strip())\n",
    "    print keysig, staff.get('id')\n"
   ]
  },
  {
   "cell_type": "code",
   "execution_count": null,
   "metadata": {
    "collapsed": true
   },
   "outputs": [],
   "source": []
  }
 ],
 "metadata": {
  "kernelspec": {
   "display_name": "Python 2",
   "language": "python",
   "name": "python2"
  },
  "language_info": {
   "codemirror_mode": {
    "name": "ipython",
    "version": 2
   },
   "file_extension": ".py",
   "mimetype": "text/x-python",
   "name": "python",
   "nbconvert_exporter": "python",
   "pygments_lexer": "ipython2",
   "version": "2.7.10"
  }
 },
 "nbformat": 4,
 "nbformat_minor": 0
}
