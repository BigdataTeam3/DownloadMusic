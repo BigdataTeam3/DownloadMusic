{
 "cells": [
  {
   "cell_type": "code",
   "execution_count": 294,
   "metadata": {
    "collapsed": false,
    "scrolled": true
   },
   "outputs": [
    {
     "name": "stdout",
     "output_type": "stream",
     "text": [
      "[[0, 0, 0, 0], [0, 0, 'C', 'C'], ['C', 'C', 'C', 'C'], ['C', 'C', 'C', 'C'], ['C', 'C', 'C', 'C'], ['C', 'C', 'C', 'C'], ['C', 'C', 'C', 'C'], ['C', 'C', 'G', 'G'], ['G', 'G', 'G', 'G'], ['G', 'G', 'Dm', 'Dm'], ['Dm', 'Dm', 'Dm', 'Dm'], ['Dm', 'Dm', 'F', 'F'], ['F', 'F', 'F', 'F'], ['F', 'F', 'C', 'C'], ['C', 'C', 'C', 'C'], ['C', 'C', 'G', 'G'], ['G', 'G', 'G', 'G'], ['G', 'G', 'Dm', 'Dm'], ['Dm', 'Dm', 'Dm', 'Dm'], ['Dm', 'Dm', 'F', 'F'], ['F', 'F', 'F', 'F'], ['F', 'F', 'Dm', 'Dm'], ['Dm', 'Dm', 'F', 'F'], ['F', 'F', 'C', 'C'], ['C', 'C', 'G', 'G'], ['G', 'G', 'Dm', 'Dm'], ['Dm', 'Dm', 'F', 'F'], ['F', 'F', 'G', 'G'], ['G', 'G', 'G', 'G'], ['G', 'G', 'C', 'C'], ['C', 'C', 'C', 'C'], ['C', 'C', 'G', 'G'], ['G', 'G', 'G', 'G'], ['G', 'G', 'G', 'Dm'], ['G', 'Dm', 'Dm', 'Dm'], ['Dm', 'Dm', 'F', 'F'], ['F', 'F', 'F', 'F'], ['F', 'F', 'C', 'C'], ['C', 'C', 'C', 'C'], ['C', 'C', 'C', 'C'], ['C', 'C', 'C', 'C'], ['C', 'C', 'G', 'G'], ['G', 'G', 'G', 'G'], ['G', 'G', 'Dm', 'Dm'], ['Dm', 'Dm', 'Dm', 'Dm'], ['Dm', 'Dm', 'F', 'F'], ['F', 'F', 'F', 'F'], ['F', 'F', 'C', 'C'], ['C', 'C', 'C', 'C'], ['C', 'C', 'G', 'G'], ['G', 'G', 'G', 'G'], ['G', 'G', 'Dm', 'Dm'], ['Dm', 'Dm', 'Dm', 'Dm'], ['Dm', 'Dm', 'F', 'F'], ['F', 'F', 'F', 'F'], ['F', 'F', 'Dm', 'Dm'], ['Dm', 'Dm', 'F', 'F'], ['F', 'F', 'C', 'C'], ['C', 'C', 'G', 'G'], ['G', 'G', 'Dm', 'Dm'], ['Dm', 'Dm', 'F', 'F'], ['F', 'F', 'G', 'G'], ['G', 'G', 'G', 'G'], ['G', 'G', 'C', 'C'], ['C', 'C', 'C', 'C'], ['C', 'C', 'G', 'G'], ['G', 'G', 'G', 'G'], ['G', 'G', 'G', 'Dm'], ['G', 'Dm', 'Dm', 'Dm'], ['Dm', 'Dm', 'F', 'F'], ['F', 'F', 'F', 'F'], ['F', 'F', 'C', 'C'], ['C', 'C', 'C', 'C'], ['C', 'C', 'G', 'G'], ['G', 'G', 'G', 'G'], ['G', 'G', 'G', 'Dm'], ['G', 'Dm', 'Dm', 'Dm'], ['Dm', 'Dm', 'F', 'F'], ['F', 'F', 'F', 'F'], ['F', 'F', 'C', 'C'], ['C', 'C', 'C', 'C'], ['C', 'C', 'G', 'G'], ['G', 'G', 'G', 'G'], ['G', 'G', 'G', 'Dm'], ['G', 'Dm', 'Dm', 'Dm'], ['Dm', 'Dm', 'F', 'F'], ['F', 'F', 'F', 'F'], ['F', 'F', 'Dm', 'Dm'], ['Dm', 'Dm', 'F', 'F'], ['F', 'F', 'C', 'C'], ['C', 'C', 'G', 'G'], ['G', 'G', 'Dm', 'Dm'], ['Dm', 'Dm', 'F', 'F'], ['F', 'F', 'C', 'C'], ['C', 'C', 'G', 'G'], ['G', 'G', 'G', 'G'], ['G', 'G', 'C', 'C'], ['C', 'C', 'C', 'C'], ['C', 'C', 'G', 'G'], ['G', 'G', 'G', 'G'], ['G', 'G', 'Dm', 'Dm'], ['Dm', 'Dm', 'Dm', 'Dm'], ['Dm', 'Dm', 'F', 'F'], ['F', 'F', 'F', 'F'], ['F', 'F', 'C', 'C'], ['C', 'C', 'C', 'C'], ['C', 'C', 'G', 'G'], ['G', 'G', 'G', 'G'], ['G', 'G', 'G', 'Dm'], ['G', 'Dm', 'Dm', 'Dm'], ['Dm', 'Dm', 'F', 'F'], ['F', 'F', 'F', 'F'], ['F', 'F', 'C', 'C'], ['C', 'C', 'C', 'C'], ['C', 'C', 'G', 'G'], ['G', 'G', 'G', 'G'], ['G', 'G', 'G', 'Dm'], ['G', 'Dm', 'Dm', 'Dm'], ['Dm', 'Dm', 'F', 'F'], ['F', 'F', 'F', 'F'], ['F', 'F', 'C', 'C'], ['C', 'C', 'C', 'C'], ['C', 'C', 'C', 'C'], ['C', 'C', 'C', 'C'], ['C', 'C', 'C', 'C'], ['C', 'C', 'G', 0]]\n"
     ]
    }
   ],
   "source": [
    "#一次抓4個\n",
    "#修改Dominantlist內容，再執行\n",
    "\n",
    "from operator import itemgetter\n",
    "from ngram import NGram\n",
    "import csv\n",
    "\n",
    "Dominantlist = [0, 0, 0, 0, 'C', 'C', 'C', 'C', 'C', 'C', 'C', 'C', 'C', 'C', 'C', 'C', 'G', 'G', 'G', 'G', 'Dm', 'Dm', 'Dm', 'Dm', 'F', 'F', 'F', 'F', 'C', 'C', 'C', 'C', 'G', 'G', 'G', 'G', 'Dm', 'Dm', 'Dm', 'Dm', 'F', 'F', 'F', 'F', 'Dm', 'Dm', 'F', 'F', 'C', 'C', 'G', 'G', 'Dm', 'Dm', 'F', 'F', 'G', 'G', 'G', 'G', 'C', 'C', 'C', 'C', 'G', 'G', 'G', 'G', 'G', 'Dm', 'Dm', 'Dm', 'F', 'F', 'F', 'F', 'C', 'C', 'C', 'C', 'C', 'C', 'C', 'C', 'G', 'G', 'G', 'G', 'Dm', 'Dm', 'Dm', 'Dm', 'F', 'F', 'F', 'F', 'C', 'C', 'C', 'C', 'G', 'G', 'G', 'G', 'Dm', 'Dm', 'Dm', 'Dm', 'F', 'F', 'F', 'F', 'Dm', 'Dm', 'F', 'F', 'C', 'C', 'G', 'G', 'Dm', 'Dm', 'F', 'F', 'G', 'G', 'G', 'G', 'C', 'C', 'C', 'C', 'G', 'G', 'G', 'G', 'G', 'Dm', 'Dm', 'Dm', 'F', 'F', 'F', 'F', 'C', 'C', 'C', 'C', 'G', 'G', 'G', 'G', 'G', 'Dm', 'Dm', 'Dm', 'F', 'F', 'F', 'F', 'C', 'C', 'C', 'C', 'G', 'G', 'G', 'G', 'G', 'Dm', 'Dm', 'Dm', 'F', 'F', 'F', 'F', 'Dm', 'Dm', 'F', 'F', 'C', 'C', 'G', 'G', 'Dm', 'Dm', 'F', 'F', 'C', 'C', 'G', 'G', 'G', 'G', 'C', 'C', 'C', 'C', 'G', 'G', 'G', 'G', 'Dm', 'Dm', 'Dm', 'Dm', 'F', 'F', 'F', 'F', 'C', 'C', 'C', 'C', 'G', 'G', 'G', 'G', 'G', 'Dm', 'Dm', 'Dm', 'F', 'F', 'F', 'F', 'C', 'C', 'C', 'C', 'G', 'G', 'G', 'G', 'G', 'Dm', 'Dm', 'Dm', 'F', 'F', 'F', 'F', 'C', 'C', 'C', 'C', 'C', 'C', 'C', 'C', 'C', 'C', 'G', 0]\n",
    "\n",
    "Dominanatvalue = ['G', 'Am', 'Bb', 'C', 'F', 'Dm', 'Em']\n",
    "\n",
    "def Dominantlist_to_Dominantgram_4freq(Dominantlist):\n",
    "    Dominantgram = []\n",
    "    for i in range(len(Dominantlist)-3):\n",
    "        if i%2 == 0 :\n",
    "            Dominantgram.append(Dominantlist[i:i+4])\n",
    "    return Dominantgram\n",
    "#  網路上原先寫法\n",
    "#     return [Dominantlist[i:i+4] for i in range(len(Dominantlist)-3) if (i%2)==0]\n",
    "\n",
    "def Dominantgram_to_Dominantdict_4freq(Dominantgram):\n",
    "    Dominantdict = dict()\n",
    "    for (Dominant1,Dominant2,Dominant3,Dominant4) in Dominantgram:\n",
    "        if Dominant1 != 0:\n",
    "            Dominantdict[(Dominant1,Dominant2,Dominant3,Dominant4)] = \\\n",
    "            Dominantdict.get((Dominant1,Dominant2,Dominant3,Dominant4),0)+1\n",
    "    return Dominantdict\n",
    "\n",
    "#目前一次四個和弦，先把前兩個和弦取出，然後去掉重複的，做成list，用來比對\n",
    "def Dominantsorted_to_Dominantcompare_4freq(Dominantsorted,Compare_number):\n",
    "    Compare_set = set([(Dominantsorted[i][0][0],Dominantsorted[i][0][1]) for i in range(len(Dominantsorted))])\n",
    "    Compare_list = [i for i in Compare_set]\n",
    "    Compare_Dominant = [Dominantsorted[i][0] for i in range(len(Dominantsorted))]\n",
    "    print '可用來比對的和弦組合'\n",
    "    print Compare_list\n",
    "    print '總共有幾個和弦組合可用來比對 =',len(Compare_list)\n",
    "    #只要四個和弦中的前兩個和弦，與比對的一樣，就印出來\n",
    "    final_compare = [i for i in Compare_Dominant if (i[0],i[1]) == Compare_list[Compare_number]]\n",
    "    print final_compare\n",
    "\n",
    "Dominantgram_4freq = Dominantlist_to_Dominantgram_4freq(Dominantlist)\n",
    "# print Dominantgram_4freq\n",
    "Dominantdict_4freq = Dominantgram_to_Dominantdict_4freq(Dominantgram_4freq)\n",
    "# print Dominantdict_4freq\n",
    "Dominantsorted_4freq=sorted(Dominantdict_4freq.items(), key=itemgetter(1), reverse=True)\n",
    "# print Dominantsorted_4freq\n",
    "\n",
    "#這裡可以改比對的參數，以第幾個去比對\n",
    "# Dominantsorted_to_Dominantcompare_4freq(Dominantsorted_4freq,1)\n",
    "\n",
    "\n",
    "#寫入csv檔\n",
    "csvfilePath = b'C:/Users/BigData/4-gram.csv'\n",
    "# csvPath = csvfilePath + unicode_mscxfilename + ' 4-gram.csv'\n",
    "\n",
    "with open(csvfilePath,'wb') as csvFile:\n",
    "    writer = csv.writer(csvFile)\n",
    "    writer.writerow(['Dominant', 'Frequency'])\n",
    "    for i in range(0,len(Dominantsorted_4freq)):\n",
    "        writer.writerow(Dominantsorted_4freq[i])"
   ]
  },
  {
   "cell_type": "code",
   "execution_count": 297,
   "metadata": {
    "collapsed": false
   },
   "outputs": [
    {
     "name": "stdout",
     "output_type": "stream",
     "text": [
      "可用來比對的和弦組合\n",
      "[('A', 'A', 'A', 0), ('Dm', 'Dm', 'F', 'F'), ('F', 0, 'F', 0), ('F', 0, 'A', 'A'), ('C', 'C', 'Dm', 'Dm'), ('A', 'A', 0, 0), ('F', 'F', 'C', 'C'), ('Dm', 'Dm', 'F', 0), ('G', 'G', 'F', 'F'), ('A', 'A', 'A', 'A'), ('C', 'C', 'G', 'G'), ('F', 'F', 'A', 'A'), ('A', 0, 0, 0), ('G', 'G', 'Dm', 'Dm'), ('F', 'F', 'F', 'F'), ('F', 0, 'C', 'C'), ('A', 0, 'Dm', 'Dm')]\n",
      "總共有幾個和弦組合可用來比對 = 17\n",
      "[('Dm', 'Dm', 'F', 'F', 'C', 'C', 'G', 'G'), ('Dm', 'Dm', 'F', 'F', 'F', 'F', 'C', 'C'), ('Dm', 'Dm', 'F', 'F', 'F', 'F', 'A', 'A')]\n"
     ]
    }
   ],
   "source": [
    "#一次抓8個\n",
    "#修改Dominantlist內容，再執行\n",
    "\n",
    "import operator\n",
    "import csv\n",
    "\n",
    "Dominantlist = ['Dm', 'Dm', 'F', 'F', 'C', 'C', 'G', 'G', 'Dm', 'Dm', 'F', 'F', 'C', 'C', 'G', 'G', 'Dm', 'Dm', 'F', 'F', 'C', 'C', 'G', 'G', 'Dm', 'Dm', 'F', 'F', 'C', 'C', 'G', 'G', 'Dm', 'Dm', 'F', 'F', 'C', 'C', 'G', 'G', 'Dm', 'Dm', 'F', 'F', 'C', 'C', 'G', 'G', 'Dm', 'Dm', 'F', 'F', 'C', 'C', 'G', 'G', 'Dm', 'Dm', 'F', 'F', 'C', 'C', 'G', 'G', 'Dm', 'Dm', 'F', 'F', 'C', 'C', 'G', 'G', 'F', 'F', 'F', 'F', 'C', 'C', 'Dm', 'Dm', 'F', 'F', 'F', 'F', 'C', 'C', 'Dm', 'Dm', 'F', 'F', 'F', 'F', 'C', 'C', 'Dm', 'Dm', 'F', 'F', 'F', 'F', 'A', 'A', 'A', 0, 'Dm', 'Dm', 'F', 'F', 'C', 'C', 'G', 'G', 'Dm', 'Dm', 'F', 'F', 'C', 'C', 'G', 'G', 'Dm', 'Dm', 'F', 'F', 'C', 'C', 'G', 'G', 'Dm', 'Dm', 'F', 'F', 'C', 'C', 'G', 'G', 'Dm', 'Dm', 'F', 'F', 'C', 'C', 'G', 'G', 'Dm', 'Dm', 'F', 'F', 'C', 'C', 'G', 'G', 'Dm', 'Dm', 'F', 'F', 'C', 'C', 'G', 'G', 'Dm', 'Dm', 'F', 'F', 'C', 'C', 'G', 'G', 'Dm', 'Dm', 'F', 'F', 'C', 'C', 'G', 'G', 'F', 'F', 'F', 'F', 'C', 'C', 'Dm', 'Dm', 'F', 'F', 'F', 'F', 'C', 'C', 'Dm', 'Dm', 'F', 'F', 'F', 'F', 'C', 'C', 'Dm', 'Dm', 'F', 'F', 'F', 'F', 'A', 'A', 'A', 0, 'Dm', 'Dm', 'F', 'F', 'C', 'C', 'G', 'G', 'Dm', 'Dm', 'F', 'F', 'C', 'C', 'G', 'G', 'F', 'F', 'F', 'F', 'C', 'C', 'Dm', 'Dm', 'F', 'F', 'F', 'F', 'C', 'C', 'Dm', 'Dm', 'F', 0, 'F', 0, 'C', 'C', 'Dm', 'Dm', 'F', 0, 'F', 0, 'A', 'A', 'A', 'A', 'A', 'A', 'A', 0, 0, 0, 0, 0, 0, 0, 0, 0, 0, 0, 0, 0, 0, 0, 0, 'G', 'F', 'F', 'F', 'F', 'C', 'C', 'Dm', 'Dm', 'F', 'F', 'F', 'F', 'C', 'C', 'Dm', 'Dm', 'F', 'F', 'F', 'F', 'C', 'C', 'Dm', 'Dm', 'F', 'F', 'F', 'F', 'A', 'A', 'A', 'A', 'A', 'A', 'A', 'A', 0, 0, 0, 0, 0, 0, 0, 0, 0, 0, 0, 0, 0, 0, 0, 0, 0, 0, 0, 0, 0, 0, 0, 0, 0, 0, 0, 0, 0, 0, 0, 0, 0, 0, 0, 0, 0, 0, 0, 0, 0, 0, 0, 0, 'F', 'G']\n",
    "\n",
    "def Dominantlist_to_Dominantgram_8freq(Dominantlist):\n",
    "    Dominantgram = []\n",
    "    for i in range(len(Dominantlist)-7):\n",
    "        if i%2 == 0 :\n",
    "            Dominantgram.append(Dominantlist[i:i+8])\n",
    "    return Dominantgram\n",
    "#  網路上原先寫法\n",
    "#     return [Dominantlist[i:i+8] for i in range(len(Dominantlist)-7) if (i%2) == 0]\n",
    "\n",
    "def Dominantgram_to_Dominantdict_8freq(Dominantgram):\n",
    "    Dominantdict=dict()\n",
    "    for (Dominant1,Dominant2,Dominant3,Dominant4,Dominant5,Dominant6,Dominant7,Dominant8) in Dominantgram:\n",
    "        if Dominant1 != 0:\n",
    "            Dominantdict[(Dominant1,Dominant2,Dominant3,Dominant4,Dominant5,Dominant6,Dominant7,Dominant8)] = \\\n",
    "            Dominantdict.get((Dominant1,Dominant2,Dominant3,Dominant4,Dominant5,Dominant6,Dominant7,Dominant8),0)+1\n",
    "    return Dominantdict\n",
    "\n",
    "#目前一次四個和弦，先把前兩個和弦取出，然後去掉重複的，做成list，用來比對\n",
    "def Dominantsorted_to_Dominantcompare_8freq(Dominantsorted,Compare_number):\n",
    "    Compare_set = set([(Dominantsorted[i][0][0],Dominantsorted[i][0][1],Dominantsorted[i][0][2],\\\n",
    "                        Dominantsorted[i][0][3]) for i in range(len(Dominantsorted))])\n",
    "    Compare_list = [i for i in Compare_set]\n",
    "    Compare_Dominant = [Dominantsorted[i][0] for i in range(len(Dominantsorted))]\n",
    "    print '可用來比對的和弦組合'\n",
    "    print Compare_list\n",
    "    print '總共有幾個和弦組合可用來比對 =',len(Compare_list)\n",
    "    #只要四個和弦中的前兩個和弦，與比對的一樣，就印出來\n",
    "    final_compare = [i for i in Compare_Dominant if (i[0],i[1],i[2],i[3]) == Compare_list[Compare_number]]\n",
    "    print final_compare\n",
    "\n",
    "Dominantgram_8freq = Dominantlist_to_Dominantgram_8freq(Dominantlist)\n",
    "# print Dominantgram_8freq\n",
    "Dominantdict_8freq = Dominantgram_to_Dominantdict_8freq(Dominantgram_8freq)\n",
    "# print Dominantdict_8freq\n",
    "Dominantsorted_8freq=sorted(Dominantdict_8freq.items(), key=itemgetter(1), reverse=True)\n",
    "# print Dominantsorted_8freq\n",
    "\n",
    "#這裡可以改比對的參數，以第幾個去比對\n",
    "Dominantsorted_to_Dominantcompare_8freq(Dominantsorted_8freq,1)\n",
    "\n",
    "#寫入csv檔\n",
    "csvfilePath = b'C:/Users/BigData/8-gram.csv'\n",
    "# csvPath = csvfilePath + csvfilename + ' 8-gram.csv'\n",
    "\n",
    "with open(csvfilePath,'wb') as csvFile:\n",
    "    writer = csv.writer(csvFile)\n",
    "    writer.writerow(['Dominant', 'Frequency'])\n",
    "    for i in range(0,len(Dominantsorted_8freq)):\n",
    "        writer.writerow(Dominantsorted_8freq[i])"
   ]
  },
  {
   "cell_type": "code",
   "execution_count": 293,
   "metadata": {
    "collapsed": false
   },
   "outputs": [
    {
     "name": "stdout",
     "output_type": "stream",
     "text": [
      "可用來比對的和弦組合\n",
      "[('A', 'A', 0, 0, 0, 0, 0, 0), ('Dm', 'Dm', 'F', 'F', 'C', 'C', 'G', 'G'), ('Dm', 'Dm', 'F', 'F', 'F', 'F', 'A', 'A'), ('G', 'G', 'Dm', 'Dm', 'F', 'F', 'C', 'C'), ('C', 'C', 'G', 'G', 'Dm', 'Dm', 'F', 'F'), ('Dm', 'Dm', 'F', 0, 'F', 0, 'C', 'C'), ('C', 'C', 'Dm', 'Dm', 'F', 'F', 'F', 'F'), ('F', 0, 'A', 'A', 'A', 'A', 'A', 'A'), ('A', 'A', 'A', 'A', 'A', 'A', 'A', 'A'), ('A', 0, 0, 0, 0, 0, 0, 0), ('F', 0, 'F', 0, 'C', 'C', 'Dm', 'Dm'), ('A', 'A', 'A', 'A', 0, 0, 0, 0), ('A', 'A', 'A', 0, 0, 0, 0, 0), ('Dm', 'Dm', 'F', 'F', 'F', 'F', 'C', 'C'), ('A', 'A', 'A', 0, 'Dm', 'Dm', 'F', 'F'), ('F', 'F', 'C', 'C', 'Dm', 'Dm', 'F', 0), ('G', 'G', 'F', 'F', 'F', 'F', 'C', 'C'), ('F', 0, 'F', 0, 'A', 'A', 'A', 'A'), ('A', 'A', 'A', 'A', 'A', 0, 0, 0), ('F', 'F', 'F', 'F', 'A', 'A', 'A', 'A'), ('F', 'F', 'C', 'C', 'Dm', 'Dm', 'F', 'F'), ('F', 'F', 'C', 'C', 'G', 'G', 'Dm', 'Dm'), ('F', 'F', 'F', 'F', 'A', 'A', 'A', 0), ('F', 'F', 'F', 'F', 'C', 'C', 'Dm', 'Dm'), ('A', 'A', 'A', 'A', 'A', 'A', 'A', 0), ('F', 'F', 'A', 'A', 'A', 0, 'Dm', 'Dm'), ('Dm', 'Dm', 'F', 0, 'F', 0, 'A', 'A'), ('F', 0, 'C', 'C', 'Dm', 'Dm', 'F', 0), ('C', 'C', 'Dm', 'Dm', 'F', 0, 'F', 0), ('F', 'F', 'C', 'C', 'G', 'G', 'F', 'F'), ('A', 0, 'Dm', 'Dm', 'F', 'F', 'C', 'C'), ('A', 'A', 'A', 'A', 'A', 'A', 0, 0), ('F', 'F', 'A', 'A', 'A', 'A', 'A', 'A'), ('C', 'C', 'G', 'G', 'F', 'F', 'F', 'F')]\n",
      "總共有幾個和弦組合可用來比對 = 34\n",
      "[('C', 'C', 'G', 'G', 'Dm', 'Dm', 'F', 'F', 'C', 'C', 'G', 'G', 'Dm', 'Dm', 'F', 'F'), ('C', 'C', 'G', 'G', 'Dm', 'Dm', 'F', 'F', 'C', 'C', 'G', 'G', 'F', 'F', 'F', 'F')]\n"
     ]
    }
   ],
   "source": [
    "#一次抓16個\n",
    "#修改Dominantlist內容，再執行\n",
    "\n",
    "import operator\n",
    "import csv\n",
    "\n",
    "Dominantlist = ['Dm', 'Dm', 'F', 'F', 'C', 'C', 'G', 'G', 'Dm', 'Dm', 'F', 'F', 'C', 'C', 'G', 'G', 'Dm', 'Dm', 'F', 'F', 'C', 'C', 'G', 'G', 'Dm', 'Dm', 'F', 'F', 'C', 'C', 'G', 'G', 'Dm', 'Dm', 'F', 'F', 'C', 'C', 'G', 'G', 'Dm', 'Dm', 'F', 'F', 'C', 'C', 'G', 'G', 'Dm', 'Dm', 'F', 'F', 'C', 'C', 'G', 'G', 'Dm', 'Dm', 'F', 'F', 'C', 'C', 'G', 'G', 'Dm', 'Dm', 'F', 'F', 'C', 'C', 'G', 'G', 'F', 'F', 'F', 'F', 'C', 'C', 'Dm', 'Dm', 'F', 'F', 'F', 'F', 'C', 'C', 'Dm', 'Dm', 'F', 'F', 'F', 'F', 'C', 'C', 'Dm', 'Dm', 'F', 'F', 'F', 'F', 'A', 'A', 'A', 0, 'Dm', 'Dm', 'F', 'F', 'C', 'C', 'G', 'G', 'Dm', 'Dm', 'F', 'F', 'C', 'C', 'G', 'G', 'Dm', 'Dm', 'F', 'F', 'C', 'C', 'G', 'G', 'Dm', 'Dm', 'F', 'F', 'C', 'C', 'G', 'G', 'Dm', 'Dm', 'F', 'F', 'C', 'C', 'G', 'G', 'Dm', 'Dm', 'F', 'F', 'C', 'C', 'G', 'G', 'Dm', 'Dm', 'F', 'F', 'C', 'C', 'G', 'G', 'Dm', 'Dm', 'F', 'F', 'C', 'C', 'G', 'G', 'Dm', 'Dm', 'F', 'F', 'C', 'C', 'G', 'G', 'F', 'F', 'F', 'F', 'C', 'C', 'Dm', 'Dm', 'F', 'F', 'F', 'F', 'C', 'C', 'Dm', 'Dm', 'F', 'F', 'F', 'F', 'C', 'C', 'Dm', 'Dm', 'F', 'F', 'F', 'F', 'A', 'A', 'A', 0, 'Dm', 'Dm', 'F', 'F', 'C', 'C', 'G', 'G', 'Dm', 'Dm', 'F', 'F', 'C', 'C', 'G', 'G', 'F', 'F', 'F', 'F', 'C', 'C', 'Dm', 'Dm', 'F', 'F', 'F', 'F', 'C', 'C', 'Dm', 'Dm', 'F', 0, 'F', 0, 'C', 'C', 'Dm', 'Dm', 'F', 0, 'F', 0, 'A', 'A', 'A', 'A', 'A', 'A', 'A', 0, 0, 0, 0, 0, 0, 0, 0, 0, 0, 0, 0, 0, 0, 0, 0, 'G', 'F', 'F', 'F', 'F', 'C', 'C', 'Dm', 'Dm', 'F', 'F', 'F', 'F', 'C', 'C', 'Dm', 'Dm', 'F', 'F', 'F', 'F', 'C', 'C', 'Dm', 'Dm', 'F', 'F', 'F', 'F', 'A', 'A', 'A', 'A', 'A', 'A', 'A', 'A', 0, 0, 0, 0, 0, 0, 0, 0, 0, 0, 0, 0, 0, 0, 0, 0, 0, 0, 0, 0, 0, 0, 0, 0, 0, 0, 0, 0, 0, 0, 0, 0, 0, 0, 0, 0, 0, 0, 0, 0, 0, 0, 0, 0, 'F', 'G']\n",
    "\n",
    "def Dominantlist_to_Dominantgram_16freq(Dominantlist):\n",
    "    Dominantgram = []\n",
    "    for i in range(len(Dominantlist)-15):\n",
    "        if i%2 == 0 :\n",
    "            Dominantgram.append(Dominantlist[i:i+16])\n",
    "    return Dominantgram\n",
    "#  網路上原先寫法\n",
    "#     return [Dominantlist[i:i+16] for i in range(len(Dominantlist)-15) if (i%2) == 0]\n",
    "\n",
    "def Dominantgram_to_Dominantdict_16freq(Dominantgram):\n",
    "    Dominantdict=dict()\n",
    "    for (Dominant1,Dominant2,Dominant3,Dominant4,Dominant5,Dominant6,Dominant7,Dominant8,\\\n",
    "        Dominant9,Dominant10,Dominant11,Dominant12,Dominant13,Dominant14,Dominant15,Dominant16)\\\n",
    "     in Dominantgram:\n",
    "            if Dominant1 != 0:\n",
    "                Dominantdict[(Dominant1,Dominant2,Dominant3,Dominant4,Dominant5,Dominant6,Dominant7,Dominant8,\\\n",
    "                             Dominant9,Dominant10,Dominant11,Dominant12,Dominant13,Dominant14,Dominant15,Dominant16)] = \\\n",
    "                Dominantdict.get((Dominant1,Dominant2,Dominant3,Dominant4,Dominant5,Dominant6,Dominant7,Dominant8,\\\n",
    "                                 Dominant9,Dominant10,Dominant11,Dominant12,Dominant13,Dominant14,Dominant15,Dominant16),0)+1\n",
    "    return Dominantdict\n",
    "\n",
    "def Dominantsorted_to_Dominantcompare_16freq(Dominantsorted,Compare_number):\n",
    "    Compare_set = set([(Dominantsorted[i][0][0],Dominantsorted[i][0][1],Dominantsorted[i][0][2],\\\n",
    "                        Dominantsorted[i][0][3],Dominantsorted[i][0][4],Dominantsorted[i][0][5],\\\n",
    "                       Dominantsorted[i][0][6],Dominantsorted[i][0][7]) for i in range(len(Dominantsorted))])\n",
    "    Compare_list = [i for i in Compare_set]\n",
    "    Compare_Dominant = [Dominantsorted[i][0] for i in range(len(Dominantsorted))]\n",
    "    print '可用來比對的和弦組合'\n",
    "    print Compare_list\n",
    "    print '總共有幾個和弦組合可用來比對 =',len(Compare_list)\n",
    "    #只要四個和弦中的前兩個和弦，與比對的一樣，就印出來\n",
    "    final_compare = [i for i in Compare_Dominant if (i[0],i[1],i[2],i[3],i[4],i[5],i[6],i[7])\\\n",
    "                     == Compare_list[Compare_number]]\n",
    "    print final_compare\n",
    "    \n",
    "Dominantgram_16freq = Dominantlist_to_Dominantgram_16freq(Dominantlist)\n",
    "# print Dominantgram_16freq\n",
    "Dominantdict_16freq = Dominantgram_to_Dominantdict_16freq(Dominantgram_16freq)\n",
    "# print Dominantdict_16freq\n",
    "Dominantsorted_16freq=sorted(Dominantdict_16freq.items(), key=itemgetter(1), reverse=True)\n",
    "# print Dominantsorted_16freq\n",
    "\n",
    "#這裡可以改比對的參數，以第幾個去比對\n",
    "Dominantsorted_to_Dominantcompare_16freq(Dominantsorted_16freq,4)\n",
    "\n",
    "#寫入csv檔\n",
    "csvfilePath = b'C:/Users/BigData/16-gram.csv'\n",
    "# csvPath = csvfilePath + csvfilename + ' 16-gram.csv'\n",
    "\n",
    "with open(csvfilePath,'wb') as csvFile:\n",
    "    writer = csv.writer(csvFile)\n",
    "    writer.writerow(['Dominant', 'Frequency'])\n",
    "    for i in range(0,len(Dominantsorted_16freq)):\n",
    "        writer.writerow(Dominantsorted_16freq[i])"
   ]
  },
  {
   "cell_type": "code",
   "execution_count": 38,
   "metadata": {
    "collapsed": false
   },
   "outputs": [
    {
     "name": "stdout",
     "output_type": "stream",
     "text": [
      "[0, 1, 4, 9, 16]\n",
      "['\\xe5', '\\x90', '\\x83', '\\xe8', '\\x91', '\\xa1', '\\xe8', '\\x90', '\\x84', '\\xe4', '\\xb8', '\\x8d', '\\xe5', '\\x90', '\\x90', '\\xe8', '\\x91', '\\xa1', '\\xe8', '\\x90', '\\x84', '\\xe7', '\\x9a', '\\xae', '\\xef', '\\xbc', '\\x8c', '\\xe4', '\\xb8', '\\x8d', '\\xe5', '\\x90', '\\x83', '\\xe8', '\\x91', '\\xa1', '\\xe8', '\\x90', '\\x84', '\\xe5', '\\x80', '\\x92', '\\xe5', '\\x90', '\\x90', '\\xe8', '\\x91', '\\xa1', '\\xe8', '\\x90', '\\x84', '\\xe7', '\\x9a', '\\xae', '\\xe3', '\\x80', '\\x82']\n",
      "{'\\xa1': 4, '\\x80': 2, '\\x83': 2, '\\x82': 1, '\\xe5': 5, '\\x84': 4, '\\xe7': 2, '\\xe3': 1, '\\xe8': 8, '\\x8d': 2, '\\x8c': 1, '\\xef': 1, '\\xae': 2, '\\x91': 4, '\\x90': 10, '\\x92': 1, '\\xb8': 2, '\\x9a': 2, '\\xbc': 1, '\\xe4': 2}\n",
      "[('\\x90', 10), ('\\xe8', 8), ('\\xe5', 5), ('\\xa1', 4), ('\\x84', 4), ('\\x91', 4), ('\\x80', 2), ('\\x83', 2), ('\\xe7', 2), ('\\x8d', 2), ('\\xae', 2), ('\\xb8', 2), ('\\x9a', 2), ('\\xe4', 2), ('\\x82', 1), ('\\xe3', 1), ('\\x8c', 1), ('\\xef', 1), ('\\x92', 1), ('\\xbc', 1)]\n"
     ]
    }
   ],
   "source": [
    "#測試區\n",
    "series=(0,1,2,3,4)\n",
    "sqr_series=[num**2 for num in series]\n",
    "print(sqr_series)"
   ]
  },
  {
   "cell_type": "code",
   "execution_count": 143,
   "metadata": {
    "collapsed": false
   },
   "outputs": [
    {
     "ename": "SyntaxError",
     "evalue": "invalid syntax (<ipython-input-143-b00ef5819c4a>, line 47)",
     "output_type": "error",
     "traceback": [
      "\u001b[1;36m  File \u001b[1;32m\"<ipython-input-143-b00ef5819c4a>\"\u001b[1;36m, line \u001b[1;32m47\u001b[0m\n\u001b[1;33m    for (for i in range(0,len(mybigram))) in mybigram:\u001b[0m\n\u001b[1;37m           ^\u001b[0m\n\u001b[1;31mSyntaxError\u001b[0m\u001b[1;31m:\u001b[0m invalid syntax\n"
     ]
    }
   ],
   "source": [
    "#測試區\n",
    "def list2freqdict(mylist):\n",
    "    mydict=dict()\n",
    "    for ch in mylist:\n",
    "        mydict[ch]=mydict.get(ch,0)+1\n",
    "    return mydict\n",
    "\n",
    "\n",
    "sentence='吃葡萄不吐葡萄皮，不吃葡萄倒吐葡萄皮。'\n",
    "chlist=[ch for ch in sentence]\n",
    "print chlist\n",
    "\n",
    "\n",
    "chfreqdict=list2freqdict(chlist)\n",
    "print chfreqdict\n",
    "\n",
    "\n",
    "from operator import itemgetter\n",
    "chfreqsorted=sorted(chfreqdict.items(), key=itemgetter(1), reverse=True)\n",
    "print chfreqsorted\n",
    "\n",
    "\n",
    "chfreqsorted2=chfreqsorted[:5]\n",
    "\n",
    "chfreqsorted3=list()\n",
    "for (ch,num) in chfreqsorted:\n",
    "    if num > 1:\n",
    "        chfreqsorted3.append((ch,num))    \n",
    "\n",
    "print(chfreqsorted2)\n",
    "print(chfreqsorted3)\n",
    "\n",
    "#兩字，三字\n",
    "def list2bigram(mylist):\n",
    "    return [mylist[i:i+2] for i in range(0,len(mylist)-1)]\n",
    "\n",
    "def list2trigram(mylist):\n",
    "    return [mylist[i:i+3] for i in range(0,len(mylist)-2)]\n",
    "\n",
    "chbigram=list2bigram(chlist)\n",
    "chtrigram=list2trigram(chlist)\n",
    "print(chbigram)\n",
    "print(chtrigram)\n",
    "\n",
    "def bigram2freqdict(mybigram):\n",
    "    mydict=dict()\n",
    "    for (for i in range(0,len(mybigram))) in mybigram:\n",
    "        mydict[(ch1)]=mydict.get((ch1,ch2),0)+1\n",
    "    return mydict\n",
    "\n",
    "def trigram2freqdict(mytrigram):\n",
    "    mydict=dict()\n",
    "    for (ch1,ch2,ch3) in mytrigram:\n",
    "        mydict[(ch1,ch2,ch3)]=mydict.get((ch1,ch2,ch3),0)+1\n",
    "    return mydict\n",
    "\n",
    "bigramfreqdict=bigram2freqdict(chbigram)\n",
    "trigramfreqdict=trigram2freqdict(chtrigram)\n",
    "print(bigramfreqdict)\n",
    "print(trigramfreqdict)\n",
    "\n",
    "\n",
    "bigramfreqsorted=sorted(bigramfreqdict.items(), key=itemgetter(1), reverse=True)\n",
    "trigramfreqsorted=sorted(trigramfreqdict.items(), key=itemgetter(1), reverse=True)\n",
    "print(bigramfreqsorted[:5])\n",
    "print(trigramfreqsorted[:5])\n",
    "\n",
    "def freq2report(freqlist):\n",
    "    chs=str()\n",
    "    print('Char(s)\\tCount')\n",
    "    print('=============')\n",
    "    for (token,num) in freqlist:\n",
    "        for ch in token:\n",
    "            chs=chs+ch\n",
    "        print(chs,'\\t',num)\n",
    "        chs=''\n",
    "    return\n",
    "\n",
    "freq2report(chfreqsorted)\n",
    "freq2report(bigramfreqsorted)\n",
    "freq2report(trigramfreqsorted)"
   ]
  },
  {
   "cell_type": "code",
   "execution_count": 45,
   "metadata": {
    "collapsed": false,
    "scrolled": true
   },
   "outputs": [
    {
     "name": "stdout",
     "output_type": "stream",
     "text": [
      "åè¡èä¸åè¡èç®ï¼ä¸åè¡èååè¡èç®ã\n",
      "<type 'unicode'>\n",
      "<type 'str'>\n"
     ]
    }
   ],
   "source": [
    "#測試區\n",
    "aaa = '\\xe5\\x90\\x83\\xe8\\x91\\xa1\\xe8\\x90\\x84\\xe4\\xb8\\x8d\\xe5\\x90\\x90\\xe8\\x91\\xa1\\xe8\\x90\\x84\\xe7\\x9a\\xae\\xef\\xbc\\x8c\\xe4\\xb8\\x8d\\xe5\\x90\\x83\\xe8\\x91\\xa1\\xe8\\x90\\x84\\xe5\\x80\\x92\\xe5\\x90\\x90\\xe8\\x91\\xa1\\xe8\\x90\\x84\\xe7\\x9a\\xae\\xe3\\x80\\x82' # It mean '單車'\n",
    "print aaa.decode('unicode-escape')\n",
    "p = (aaa.decode('unicode-escape'))\n",
    "print type(p)\n",
    "print type(aaa)"
   ]
  },
  {
   "cell_type": "code",
   "execution_count": 50,
   "metadata": {
    "collapsed": false,
    "scrolled": true
   },
   "outputs": [
    {
     "name": "stdout",
     "output_type": "stream",
     "text": [
      "['\\xe5', '\\x90', '\\x83', '\\xe8', '\\x91', '\\xa1', '\\xe8', '\\x90', '\\x84', '\\xe4', '\\xb8', '\\x8d', '\\xe5', '\\x90', '\\x90', '\\xe8', '\\x91', '\\xa1', '\\xe8', '\\x90', '\\x84', '\\xe7', '\\x9a', '\\xae', '\\xef', '\\xbc', '\\x8c', '\\xe4', '\\xb8', '\\x8d', '\\xe5', '\\x90', '\\x83', '\\xe8', '\\x91', '\\xa1', '\\xe8', '\\x90', '\\x84', '\\xe5', '\\x80', '\\x92', '\\xe5', '\\x90', '\\x90', '\\xe8', '\\x91', '\\xa1', '\\xe8', '\\x90', '\\x84', '\\xe7', '\\x9a', '\\xae', '\\xe3', '\\x80', '\\x82']\n",
      "57\n"
     ]
    }
   ],
   "source": [
    "#測試區\n",
    "sentence='吃葡萄不吐葡萄皮，不吃葡萄倒吐葡萄皮。'\n",
    "chlist=[ch for ch in sentence]\n",
    "print chlist\n",
    "print len(chlist)"
   ]
  },
  {
   "cell_type": "code",
   "execution_count": 186,
   "metadata": {
    "collapsed": false
   },
   "outputs": [
    {
     "data": {
      "text/plain": [
       "{}"
      ]
     },
     "execution_count": 186,
     "metadata": {},
     "output_type": "execute_result"
    }
   ],
   "source": [
    "#測試區\n",
    "import operator\n",
    "Dominantlist = ['Dm', 'Dm', 'F', 'F', 'C', 'C', 'G', 'G', 'Dm', 'Dm', 'F', 'F', 'C', 'C', 'G', 'G', 'Dm', 'Dm', 'F', 'F', 'C', 'C', 'G', 'G', 'Dm', 'Dm', 'F', 'F', 'C', 'C', 'G', 'G', 'Dm', 'Dm', 'F', 'F', 'C', 'C', 'G', 'G', 'Dm', 'Dm', 'F', 'F', 'C', 'C', 'G', 'G', 'Dm', 'Dm', 'F', 'F', 'C', 'C', 'G', 'G', 'Dm', 'Dm', 'F', 'F', 'C', 'C', 'G', 'G', 'Dm', 'Dm', 'F', 'F', 'C', 'C', 'G', 'G', 'F', 'F', 'F', 'F', 'C', 'C', 'Dm', 'Dm', 'F', 'F', 'F', 'F', 'C', 'C', 'Dm', 'Dm', 'F', 'F', 'F', 'F', 'C', 'C', 'Dm', 'Dm', 'F', 'F', 'F', 'F', 'A', 'A', 'A', 0, 'Dm', 'Dm', 'F', 'F', 'C', 'C', 'G', 'G', 'Dm', 'Dm', 'F', 'F', 'C', 'C', 'G', 'G', 'Dm', 'Dm', 'F', 'F', 'C', 'C', 'G', 'G', 'Dm', 'Dm', 'F', 'F', 'C', 'C', 'G', 'G', 'Dm', 'Dm', 'F', 'F', 'C', 'C', 'G', 'G', 'Dm', 'Dm', 'F', 'F', 'C', 'C', 'G', 'G', 'Dm', 'Dm', 'F', 'F', 'C', 'C', 'G', 'G', 'Dm', 'Dm', 'F', 'F', 'C', 'C', 'G', 'G', 'Dm', 'Dm', 'F', 'F', 'C', 'C', 'G', 'G', 'F', 'F', 'F', 'F', 'C', 'C', 'Dm', 'Dm', 'F', 'F', 'F', 'F', 'C', 'C', 'Dm', 'Dm', 'F', 'F', 'F', 'F', 'C', 'C', 'Dm', 'Dm', 'F', 'F', 'F', 'F', 'A', 'A', 'A', 0, 'Dm', 'Dm', 'F', 'F', 'C', 'C', 'G', 'G', 'Dm', 'Dm', 'F', 'F', 'C', 'C', 'G', 'G', 'F', 'F', 'F', 'F', 'C', 'C', 'Dm', 'Dm', 'F', 'F', 'F', 'F', 'C', 'C', 'Dm', 'Dm', 'F', 0, 'F', 0, 'C', 'C', 'Dm', 'Dm', 'F', 0, 'F', 0, 'A', 'A', 'A', 'A', 'A', 'A', 'A', 0, 0, 0, 0, 0, 0, 0, 0, 0, 0, 0, 0, 0, 0, 0, 0, 'G', 'F', 'F', 'F', 'F', 'C', 'C', 'Dm', 'Dm', 'F', 'F', 'F', 'F', 'C', 'C', 'Dm', 'Dm', 'F', 'F', 'F', 'F', 'C', 'C', 'Dm', 'Dm', 'F', 'F', 'F', 'F', 'A', 'A', 'A', 'A', 'A', 'A', 'A', 'A', 0, 0, 0, 0, 0, 0, 0, 0, 0, 0, 0, 0, 0, 0, 0, 0, 0, 0, 0, 0, 0, 0, 0, 0, 0, 0, 0, 0, 0, 0, 0, 0, 0, 0, 0, 0, 0, 0, 0, 0, 0, 0, 0, 0, 'F', 'G']\n",
    "Dominantlist_test = []\n",
    "Dominantlist_test = [Dominantlist[i:i+4] for i in range(0,len(Dominantlist)-3)]\n",
    "# print Dominantlist_test\n",
    "\n",
    "# for i in range(0,len(Dominantlist)-3):\n",
    "#     Dominantlist_test.append(Dominantlist[i:i+2])\n",
    "# print Dominantlist_test\n",
    "\n",
    "# for (Dominant1,Dominant2,Dominant3,Dominant4) in Dominantgram:\n",
    "#         Dominantdict[(Dominant1,Dominant2,Dominant3,Dominant4)] = \\\n",
    "#         Dominantdict.get((Dominant1,Dominant2,Dominant3,Dominant4),0)+1\n",
    "\n",
    "Dominantdict=dict()\n",
    "# for (a1,a2,a3,a4) in Dominantlist_test:\n",
    "Dominantdict\n",
    "# a = {'test': 1, 'test 1': 2}\n",
    "# for k, v in a.items():\n",
    "#     print k,v"
   ]
  }
 ],
 "metadata": {
  "kernelspec": {
   "display_name": "Python 2",
   "language": "python",
   "name": "python2"
  },
  "language_info": {
   "codemirror_mode": {
    "name": "ipython",
    "version": 2
   },
   "file_extension": ".py",
   "mimetype": "text/x-python",
   "name": "python",
   "nbconvert_exporter": "python",
   "pygments_lexer": "ipython2",
   "version": "2.7.10"
  }
 },
 "nbformat": 4,
 "nbformat_minor": 0
}
