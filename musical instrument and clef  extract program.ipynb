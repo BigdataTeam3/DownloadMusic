{
 "cells": [
  {
   "cell_type": "code",
   "execution_count": 6,
   "metadata": {
    "collapsed": false
   },
   "outputs": [
    {
     "name": "stdout",
     "output_type": "stream",
     "text": [
      "[u'1:G2', u'74:G2', u'66:G2', u'1:percussion2', u'30:G2-1', u'26:G2-1', u'85:G2', u'3:G2', u'34:F4-1', u'49:G2']\n"
     ]
    }
   ],
   "source": [
    "# musical instrument and clef  extraction \n",
    "# only xml file can totaly extract the musical and clef; mscx will be lost\n",
    "\n",
    "import os\n",
    "from bs4 import BeautifulSoup as bs\n",
    "\n",
    "f = open('E:/music project/mscx/test2.xml','r')\n",
    "fil = f.read()\n",
    "f.close()\n",
    "    \n",
    "music = bs(fil,'xml')\n",
    "# print type(music)\n",
    "# print '--------------------------------------------------'\n",
    "lis = []\n",
    "for score in music.select('score-part'):\n",
    "    for part in music.select('part'):\n",
    "        if score['id'] == part['id']:\n",
    "            if part.select(\"clef > clef-octave-change\"):\n",
    "                lis.append(score.select('midi-program')[0].text +':'+ part.select(\"clef > sign\")[0].text + \\\n",
    "                           part.select(\"clef > line\")[0].text + part.select(\"clef > clef-octave-change\")[0].text)\n",
    "            else:\n",
    "                lis.append(score.select('midi-program')[0].text +':'+ part.select(\"clef > sign\")[0].text + \\\n",
    "                           part.select(\"clef > line\")[0].text)\n",
    "        \n",
    "    musiclis = list(set(lis))\n",
    "print musiclis"
   ]
  },
  {
   "cell_type": "code",
   "execution_count": null,
   "metadata": {
    "collapsed": true
   },
   "outputs": [],
   "source": []
  }
 ],
 "metadata": {
  "kernelspec": {
   "display_name": "Python 2",
   "language": "python",
   "name": "python2"
  },
  "language_info": {
   "codemirror_mode": {
    "name": "ipython",
    "version": 2
   },
   "file_extension": ".py",
   "mimetype": "text/x-python",
   "name": "python",
   "nbconvert_exporter": "python",
   "pygments_lexer": "ipython2",
   "version": "2.7.10"
  }
 },
 "nbformat": 4,
 "nbformat_minor": 0
}
