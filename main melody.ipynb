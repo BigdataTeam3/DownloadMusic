{
 "cells": [
  {
   "cell_type": "markdown",
   "metadata": {},
   "source": [
    "## Determine main melody \n",
    " - by score (author specified)\n",
    " - pan (左右聲道平衡度)\n",
    " - velociy (按鍵力道)\n",
    " - 平均旋律\n",
    " - 和弦所佔比率"
   ]
  },
  {
   "cell_type": "code",
   "execution_count": 32,
   "metadata": {
    "collapsed": true
   },
   "outputs": [],
   "source": [
    "main_name = ['melody','melodies','vocal','voice','sing','lead']\n",
    "sub_name = ['drum']"
   ]
  },
  {
   "cell_type": "markdown",
   "metadata": {},
   "source": [
    "## pan value"
   ]
  },
  {
   "cell_type": "code",
   "execution_count": 33,
   "metadata": {
    "collapsed": false
   },
   "outputs": [],
   "source": [
    "def panDect(parts):\n",
    "    pan = {}\n",
    "    [pan.update({part.Staff.get('id'):part.select('Channel')[0].controller.get('value')}) for part in parts] # balance value: 63\n",
    "    return pan"
   ]
  },
  {
   "cell_type": "markdown",
   "metadata": {},
   "source": [
    "## average velocity"
   ]
  },
  {
   "cell_type": "code",
   "execution_count": 34,
   "metadata": {
    "collapsed": true
   },
   "outputs": [],
   "source": [
    "def velDect(addr,parts):\n",
    "    sta_id = [part.Staff.get('id') for part in parts]\n",
    "    fm = open(addr, 'r')\n",
    "    music = fm.read()\n",
    "    fm.close()\n",
    "    vela = {}\n",
    "    staffs = [staff for staff in bs(music,'xml').select('Score > Staff') if staff.get('id') in sta_id]\n",
    "    for staff in staffs:\n",
    "        vels = staff.select('Note velocity')\n",
    "        n = len(vels)\n",
    "        s = 0.0\n",
    "        for vel in vels:\n",
    "            v = int(vel.text)\n",
    "            s += v\n",
    "        avg = s/n\n",
    "        vela.update({staff.get('id'):str(avg)})\n",
    "    return vela"
   ]
  },
  {
   "cell_type": "markdown",
   "metadata": {},
   "source": [
    "## average pitch"
   ]
  },
  {
   "cell_type": "code",
   "execution_count": 35,
   "metadata": {
    "collapsed": false
   },
   "outputs": [],
   "source": [
    "import math\n",
    "def pitDect(addr,parts):\n",
    "    sta_id = [part.Staff.get('id') for part in parts]\n",
    "    fm = open(addr, 'r')\n",
    "    music = fm.read()\n",
    "    fm.close()\n",
    "    pits = {}\n",
    "    dutype = {'whole':1.0,'half':1.0/2,'quarter':1.0/4,'eighth':1.0/8,'16th':1.0/16,'32nd':1.0/32,'64th':1.0/64,'128th':1.0/128}\n",
    "    staffs = [staff for staff in bs(music,'xml').select('Score > Staff') if staff.get('id') in sta_id]\n",
    "    for staff in staffs:\n",
    "        pitch_sum = 0\n",
    "        pitch_time = 0\n",
    "        for measure in staff.select('Measure'):\n",
    "            for chord in [c for c in list(measure.children) if c != '\\n' and c.name == 'Chord']:\n",
    "                max_pitch = max([int(d.pitch.text) for d in chord.select('Note')])\n",
    "                dot = 0\n",
    "                if len(chord.select('dot')) != 0:\n",
    "                    dot = int(chord.select('dot')[0].text)\n",
    "                dutime = dutype[chord.durationType.text] * (2-math.pow(1.0/2,dot))\n",
    "                pitch_sum += max_pitch * dutime\n",
    "                pitch_time += dutime\n",
    "        avg_pich = pitch_sum/pitch_time\n",
    "        pits.update({staff.get('id'):str(avg_pich)})\n",
    "    return pits"
   ]
  },
  {
   "cell_type": "markdown",
   "metadata": {},
   "source": [
    "## chords' rate"
   ]
  },
  {
   "cell_type": "code",
   "execution_count": 36,
   "metadata": {
    "collapsed": true
   },
   "outputs": [],
   "source": [
    "def rateDect(addr,parts):\n",
    "    sta_id = [part.Staff.get('id') for part in parts]\n",
    "    fm = open(addr, 'r')\n",
    "    music = fm.read()\n",
    "    fm.close()\n",
    "    rates = {}\n",
    "    staffs = [staff for staff in bs(music,'xml').select('Score > Staff') if staff.get('id') in sta_id]\n",
    "    for staff in staffs:\n",
    "        num = 0\n",
    "        n = 0\n",
    "        for measure in staff.select('Measure'):\n",
    "            chords = [c for c in list(measure.children) if c != '\\n' and c.name == 'Chord']\n",
    "            n += len(chords)\n",
    "            for chord in chords:\n",
    "                if len(chord.select('Note')) == 1:\n",
    "                    num += 1\n",
    "        rates.update({staff.get('id'):str(float(num)/n)})\n",
    "    return rates"
   ]
  },
  {
   "cell_type": "markdown",
   "metadata": {},
   "source": [
    "## sound area"
   ]
  },
  {
   "cell_type": "code",
   "execution_count": 52,
   "metadata": {
    "collapsed": true
   },
   "outputs": [],
   "source": [
    "def areaDect(addr,parts):\n",
    "    sta_id = [part.Staff.get('id') for part in parts]\n",
    "    fm = open(addr, 'r')\n",
    "    music = fm.read()\n",
    "    fm.close()\n",
    "    area = {}\n",
    "    staffs = [staff for staff in bs(music,'xml').select('Score > Staff') if staff.get('id') in sta_id]\n",
    "    dutype = {'whole':1.0,'half':1.0/2,'quarter':1.0/4,'eighth':1.0/8,'16th':1.0/16,'32nd':1.0/32,'64th':1.0/64,'128th':1.0/128}\n",
    "    for staff in staffs:\n",
    "        du = 0\n",
    "        all_du = []\n",
    "        for measure in staff.select('Measure'):\n",
    "            chords = [c for c in list(measure.children) if c != '\\n' and c.name == 'Chord']\n",
    "            for chord in chords:\n",
    "                all_du.append(dutype[chord.durationType.text])\n",
    "        area.update({staff.get('id'):str(sum(all_du))})\n",
    "    return area"
   ]
  },
  {
   "cell_type": "markdown",
   "metadata": {},
   "source": [
    "## determine main melodies"
   ]
  },
  {
   "cell_type": "code",
   "execution_count": 43,
   "metadata": {
    "collapsed": false
   },
   "outputs": [],
   "source": [
    "import pandas as pd\n",
    "def detMain(data):\n",
    "    form = pd.DataFrame(data).transpose()\n",
    "    form.columns = ['pan','vel_rate','pit_rate','cho_rate','area']\n",
    "    # need to add...\n",
    "    return form       "
   ]
  },
  {
   "cell_type": "markdown",
   "metadata": {},
   "source": [
    "## main function"
   ]
  },
  {
   "cell_type": "code",
   "execution_count": 61,
   "metadata": {
    "collapsed": false
   },
   "outputs": [
    {
     "name": "stdout",
     "output_type": "stream",
     "text": [
      "  pan       vel_rate       pit_rate        cho_rate      area\n",
      "1  63  122.644189383  67.9914040115             1.0  109.0625\n",
      "2  63  123.910404624  67.6733232856  0.262845849802   165.875\n",
      "3  63  123.710655738  46.2376943005             1.0     193.0\n",
      "4  63  102.720491803  46.2376943005             1.0     193.0\n",
      "5  63  106.305785124  71.3319672131            0.75      30.5\n",
      "6  63          125.0  57.6213592233  0.341176470588    12.875\n"
     ]
    }
   ],
   "source": [
    "from bs4 import BeautifulSoup as bs\n",
    "addr = 'C:/Users/BigData/Desktop/datas/python/py/Holding Out for a Hero.mscx'\n",
    "fm = open(addr, 'r')\n",
    "music = fm.read()\n",
    "fm.close()\n",
    "cand = bs(music,'xml').select('Part')\n",
    "main_cand = []\n",
    "sub_cand = []\n",
    "for s in [par for par in cand if len(par.select('longName')) != 0]:\n",
    "    pname = s.select('longName')[0].text.encode('utf8').lower()\n",
    "#     if len([word for word in main_name if word in pname]) != 0: # instru. name\n",
    "#         main_cand.append(s)\n",
    "#         cand.remove(s)\n",
    "    if len([word for word in sub_name if word in pname]) != 0:\n",
    "        sub_cand.append(s)\n",
    "        cand.remove(s)\n",
    "    for cin in [c for c in list(s.select('Instrument')[0].children) if c != '\\n']: # more than one instru. in this staff\n",
    "        if cin.get('pitch') is not None:\n",
    "            if s in cand:\n",
    "                sub_cand.append(s)\n",
    "                cand.remove(s)\n",
    "            break\n",
    "mesg = {}\n",
    "pan = panDect(cand)\n",
    "vels = velDect(addr,cand)\n",
    "pits = pitDect(addr,cand)\n",
    "rates = rateDect(addr,cand)\n",
    "area = areaDect(addr,cand)\n",
    "[mesg.update({a:[pan[a],vels[a],pits[a],rates[a],area[a]]}) for a in pan.keys()]\n",
    "f = detMain(mesg)\n",
    "print f"
   ]
  },
  {
   "cell_type": "code",
   "execution_count": 45,
   "metadata": {
    "collapsed": false
   },
   "outputs": [
    {
     "name": "stdout",
     "output_type": "stream",
     "text": [
      "[]\n"
     ]
    }
   ],
   "source": []
  },
  {
   "cell_type": "code",
   "execution_count": 22,
   "metadata": {
    "collapsed": false
   },
   "outputs": [
    {
     "name": "stdout",
     "output_type": "stream",
     "text": [
      "   0  1  2\n",
      "1  a  b  c\n",
      "2  a  c  g\n"
     ]
    }
   ],
   "source": []
  },
  {
   "cell_type": "code",
   "execution_count": 49,
   "metadata": {
    "collapsed": false
   },
   "outputs": [
    {
     "name": "stdout",
     "output_type": "stream",
     "text": [
      "[1, [2, 3.5, 5]]\n"
     ]
    }
   ],
   "source": []
  },
  {
   "cell_type": "code",
   "execution_count": null,
   "metadata": {
    "collapsed": true
   },
   "outputs": [],
   "source": []
  }
 ],
 "metadata": {
  "kernelspec": {
   "display_name": "Python 2",
   "language": "python",
   "name": "python2"
  },
  "language_info": {
   "codemirror_mode": {
    "name": "ipython",
    "version": 2
   },
   "file_extension": ".py",
   "mimetype": "text/x-python",
   "name": "python",
   "nbconvert_exporter": "python",
   "pygments_lexer": "ipython2",
   "version": "2.7.10"
  }
 },
 "nbformat": 4,
 "nbformat_minor": 0
}
