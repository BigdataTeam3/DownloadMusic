{
 "cells": [
  {
   "cell_type": "code",
   "execution_count": 12,
   "metadata": {
    "collapsed": false
   },
   "outputs": [
    {
     "name": "stdout",
     "output_type": "stream",
     "text": [
      "   vel_rate  pit_rate  cho_rate      area  staff\n",
      "1         1  1.211931  1.008511  1.862198      1\n",
      "2         1  0.436012  1.008511  1.330741      2\n",
      "3         1  1.251746  1.008511  0.910802      3\n",
      "4         1  0.998668  0.957447  0.884672      4\n",
      "5         1  0.903656  1.008511  0.880939      5\n",
      "6         1  1.197987  1.008511  0.130648      6\n"
     ]
    }
   ],
   "source": [
    "#下載 mainfun.py 在ipython notebook 執行的資料夾內\n",
    "import mainfun\n",
    "\n",
    "f = open('mainfun.csv','a')\n",
    "example = mainfun.melody('E:/music project/downloadmusic/1st of the month.mscx')\n",
    "\n",
    "example.to_csv('mainfun.csv', header=False, index=False)\n",
    "f.close()\n",
    "print example"
   ]
  },
  {
   "cell_type": "markdown",
   "metadata": {},
   "source": [
    "- 利用上述程式 run出 melody後 再跑 R的程式(須附上testdata.csv)"
   ]
  },
  {
   "cell_type": "code",
   "execution_count": null,
   "metadata": {
    "collapsed": true
   },
   "outputs": [],
   "source": []
  }
 ],
 "metadata": {
  "kernelspec": {
   "display_name": "Python 2",
   "language": "python",
   "name": "python2"
  },
  "language_info": {
   "codemirror_mode": {
    "name": "ipython",
    "version": 2
   },
   "file_extension": ".py",
   "mimetype": "text/x-python",
   "name": "python",
   "nbconvert_exporter": "python",
   "pygments_lexer": "ipython2",
   "version": "2.7.10"
  }
 },
 "nbformat": 4,
 "nbformat_minor": 0
}
