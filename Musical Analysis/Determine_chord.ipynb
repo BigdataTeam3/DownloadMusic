{
 "cells": [
  {
   "cell_type": "code",
   "execution_count": 153,
   "metadata": {
    "collapsed": true
   },
   "outputs": [],
   "source": [
    "def convert_chord(tu):\n",
    "    origin = [0,0,0,0,0,0,0,0,0,0,0,0]\n",
    "    for i in tu:\n",
    "        origin[i%12]=1\n",
    "    return tuple(origin)\n"
   ]
  },
  {
   "cell_type": "code",
   "execution_count": 154,
   "metadata": {
    "collapsed": false
   },
   "outputs": [],
   "source": [
    "import numpy as np\n",
    "# chord = {\n",
    "#     convert((0,4,7)):'Major',convert((0,3,7)):'minor',\n",
    "#     convert((0,4,8)):'aug',convert((0,3,6)):'dim',\n",
    "#     convert((0,4,7,11)):'Major7',convert((0,4,7,10)):'dom7',\n",
    "#     convert((0,3,7,10)):'minor7',convert((0,3,6,10)):'m7flat5',\n",
    "#     convert((0,2,7)):'2',convert((0,5,7)):'4',\n",
    "#     convert((0,2,4,7,10)):'9'\n",
    "# }\n",
    "chord = {\n",
    "    convert_chord((0,4,7)):'C',convert_chord((2,5,9)):'Dm',convert_chord((4,7,11)):'Em',\n",
    "    convert_chord((0,5,9)):'F',convert_chord((2,7,11)):'G',convert_chord((0,4,9)):'A',\n",
    "}\n",
    "\n",
    "chord_np = np.array(chord.keys())\n",
    "\n",
    "key = {\n",
    "    0:'C',1:'C-sharp',2:'D',3:'D-sharp',4:'E',5:'F',6:'F-sharp',7:'G',8:'G-sharp',9:'A',10:'A-sharp',11:'B'\n",
    "} # pitch%12\n",
    "\n",
    "time = {\n",
    "    'measure':1,'whole':1,'half':1.0/2,'quarter':1.0/4,'eighth':1.0/8,'16th':1.0/16,'32nd':1.0/32,'64th':1.0/64,\n",
    "    '128th':1.0/128\n",
    "}"
   ]
  },
  {
   "cell_type": "code",
   "execution_count": 155,
   "metadata": {
    "collapsed": false
   },
   "outputs": [],
   "source": [
    "from bs4 import BeautifulSoup as bs\n",
    "f = open('E:/downloadmusic2/Alone in my room-test.mscx','rb') # 此首是C小調\n",
    "music = bs(f.read(),'xml')\n",
    "f.close()\n",
    "l = []\n",
    "dic = {}\n",
    "for staff in music.select('Score > Staff'):\n",
    "    time_acc = 0\n",
    "    for tag in staff.find_all(['Rest','Chord']):\n",
    "        duTime = time[tag.select('durationType')[0].text]\n",
    "        time_acc += duTime\n",
    "        if tag.name == 'Rest':\n",
    "            l.append((time_acc,0))\n",
    "        else:\n",
    "            pitches = tag.select('pitch')\n",
    "            addlist = [time_acc] +  [int(a.text)-3 for a in pitches]\n",
    "            l.append(tuple(addlist))\n",
    "    dic.update({'staff_'+staff.get('id') : l})\n",
    "    l = []"
   ]
  },
  {
   "cell_type": "code",
   "execution_count": 169,
   "metadata": {
    "collapsed": false
   },
   "outputs": [
    {
     "name": "stdout",
     "output_type": "stream",
     "text": [
      "[u'staff_2', u'staff_3']\n",
      "<type 'tuple'>\n",
      "<type 'numpy.ndarray'>\n",
      "<type 'tuple'>\n"
     ]
    }
   ],
   "source": [
    "# 第一步，判斷每個staff，有幾成的比例，使用和弦   by Henry\n",
    "# 1-1. 目前預設，只要大於70%，就紀錄該staff\n",
    "# 1-2. pitch只要同時有2音以上，就當作和弦\n",
    "\n",
    "pitch_count = 0\n",
    "percent = 0.7\n",
    "dominant_percent_staff_list = []\n",
    "\n",
    "for staff in dic:\n",
    "    for tempo_pitch in dic[staff]:\n",
    "        if len(tempo_pitch) > 3 :\n",
    "            pitch_count += 1\n",
    "    if float(pitch_count) / float(len(dic[staff])) >= percent:\n",
    "        dominant_percent_staff_list.append(staff)\n",
    "print dominant_percent_staff_list\n",
    "\n",
    "#測試區\n",
    "\n",
    "# for staff in dominant_percent_staff_list:\n",
    "#     print staff\n",
    "# print dic['staff_4']\n",
    "# print type(dic)\n",
    "# for staff in dic:\n",
    "#     print staff\n",
    "# for tempo_pitch in dic[staff]:\n",
    "#     print tempo_pitch\n",
    "#     print len(tempo_pitch)\n",
    "# print pitch_count\n",
    "# print type(pitch_count)\n",
    "# print len(dic['staff_2'])\n",
    "# print type(len(dic['staff_2']))\n",
    "# if float(pitch_count) / float(len(dic['staff_2'])) >= 0.3:\n",
    "#     dominant_percent_staff_list.append('staff_2')\n",
    "#     print dominant_percent_staff_list\n",
    "print type(dic[staff][-12][1:])\n",
    "print type(chord_np)\n",
    "print type(convert_chord(tuple(now)))"
   ]
  },
  {
   "cell_type": "code",
   "execution_count": 157,
   "metadata": {
    "collapsed": false
   },
   "outputs": [],
   "source": [
    "import numpy as np\n",
    "import math\n",
    "def nearest(nparray, pt):\n",
    "    n = [math.sqrt(sum((i-pt)**2)) for i in nparray]\n",
    "    mindis = min(n)\n",
    "    idx = n.index(mindis)\n",
    "    return nparray[idx]\n"
   ]
  },
  {
   "cell_type": "code",
   "execution_count": 170,
   "metadata": {
    "collapsed": false
   },
   "outputs": [],
   "source": [
    "chord_dic = {}\n",
    "pitch_count = 0\n",
    "percent = 0.7\n",
    "for staff in dic:\n",
    "    chord_gogo = []\n",
    "    chord_gogogo = []\n",
    "    count = 0\n",
    "    begin = 0\n",
    "    \n",
    "    for tempo_pitch in dic[staff]:\n",
    "        if len(tempo_pitch) > 3 :\n",
    "            pitch_count += 1\n",
    "    if float(pitch_count) / float(len(dic[staff])) >= percent:\n",
    "        \n",
    "        while(count < dic[staff][-1][0]):\n",
    "            while(count < dic[staff][begin][0]):\n",
    "                count += 1.0/2\n",
    "                if dic[staff][begin][1] == 0:\n",
    "                    chord_gogo.append(0)\n",
    "                else:\n",
    "                    now = [pit%12 for pit in dic[staff][begin][1:]]\n",
    "                    closest = nearest(chord_np,convert_chord(tuple(now)))  \n",
    "                    chord_gogo.append(chord[tuple(closest)])\n",
    "\n",
    "            begin += 1\n",
    "        chord_dic.update({staff : chord_gogo})"
   ]
  },
  {
   "cell_type": "code",
   "execution_count": 177,
   "metadata": {
    "collapsed": false
   },
   "outputs": [
    {
     "name": "stdout",
     "output_type": "stream",
     "text": [
      "450\n"
     ]
    }
   ],
   "source": [
    "print len(chord_dic['staff_3'])"
   ]
  },
  {
   "cell_type": "code",
   "execution_count": 116,
   "metadata": {
    "collapsed": false
   },
   "outputs": [
    {
     "ename": "SyntaxError",
     "evalue": "invalid syntax (<ipython-input-116-8430e92f8c05>, line 1)",
     "output_type": "error",
     "traceback": [
      "\u001b[1;36m  File \u001b[1;32m\"<ipython-input-116-8430e92f8c05>\"\u001b[1;36m, line \u001b[1;32m1\u001b[0m\n\u001b[1;33m    for ch in chord_dic['staff_2']\u001b[0m\n\u001b[1;37m                                  ^\u001b[0m\n\u001b[1;31mSyntaxError\u001b[0m\u001b[1;31m:\u001b[0m invalid syntax\n"
     ]
    }
   ],
   "source": [
    "for ch in chord_dic['staff_2']:"
   ]
  },
  {
   "cell_type": "code",
   "execution_count": 147,
   "metadata": {
    "collapsed": false
   },
   "outputs": [
    {
     "name": "stdout",
     "output_type": "stream",
     "text": [
      "[0, 0, 0, 0, 'C', 'C', 'G', 'G']\n",
      "['A', 'A', 'Em', 'Em', 'F', 'F', 'C', 'C']\n",
      "['G', 'G', 'G', 'G', 'C', 'C', 'G', 'G']\n",
      "['A', 'A', 'Em', 'Em', 'F', 'F', 'C', 'C']\n",
      "['G', 'G', 'G', 'G', 'F', 'F', 'G', 'G']\n",
      "['C', 'C', 'C', 'C', 'F', 'F', 'G', 'G']\n",
      "['C', 'C', 'C', 'C', 'F', 'F', 'G', 'G']\n",
      "['C', 'F', 'A', 'A', 'F', 'F', 'G', 'G']\n",
      "['C', 'G', 'A', 'G', 'C', 'G', 'A', 'G']\n",
      "['C', 'C', 'G', 'G', 'A', 'A', 'Em', 'Em']\n",
      "[0, 0, 0, 'F', 'A', 0, 'F', 0]\n",
      "[0, 0, 'C', 'C', 'G', 'G', 'G', 'G']\n",
      "['C', 'C', 'G', 'G', 'A', 'A', 'Em', 'Em']\n",
      "['F', 0, 'G', 'C', 'A', 0, 'F', 0]\n",
      "[0, 0, 'C', 'C', 'G', 'G', 'G', 'G']\n",
      "['F', 'F', 'G', 'G', 'C', 'C', 'C', 'C']\n",
      "['F', 'F', 'G', 'G', 'C', 'C', 'C', 'C']\n",
      "['F', 'F', 'G', 'G', 'C', 'F', 'A', 'A']\n",
      "['F', 'F', 'G', 'G', 'C', 'G', 'A', 'G']\n",
      "['C', 'G', 'A', 'G', 'C', 'G', 'A', 'G']\n",
      "['C', 'G', 'A', 'G', 'F', 'F', 'F', 'F']\n",
      "['G', 'G', 'G', 0, 'C', 'C', 'G', 'G']\n",
      "['A', 'A', 'Em', 'Em', 0, 0, 'F', 'C']\n",
      "[0, 0, 0, 0, 0, 0, 'C', 'C']\n",
      "['G', 'G', 'G', 'G', 'C', 'C', 'G', 'G']\n",
      "['A', 'A', 'Em', 'Em', 0, 0, 'F', 'C']\n",
      "[0, 0, 0, 0, 0, 0, 'C', 'C']\n",
      "['G', 'G', 'G', 'G', 'F', 'G', 'G', 'G']\n",
      "['C', 'C', 'C', 'C', 'F', 'G', 'G', 'G']\n",
      "['C', 'C', 'C', 'C', 'F', 'G', 'G', 'G']\n",
      "['C', 'A', 'A', 'A', 'F', 'G', 'G', 'G']\n",
      "['F', 'A', 'F', 'F', 'F', 'G', 'G', 'G']\n",
      "['F', 'A', 'F', 'F', 'F', 'G', 'G', 'G']\n",
      "['F', 'A', 'F', 'F', 'F', 'G', 'G', 'G']\n",
      "['F', 'A', 'F', 'A', 'F', 'G', 'G', 'F']\n",
      "['C', 'G', 'G', 'G', 'G', 'G', 'G', 'G']\n",
      "['G', 'G', 'G', 'G', 'G', 'G', 'G', 'G']\n"
     ]
    }
   ],
   "source": [
    "c = []\n",
    "for i in range(1,len(chord_dic['staff_1'])+1):\n",
    "    if i%8 == 0:\n",
    "        c.append(chord_dic['staff_1'][i-1])\n",
    "        print c\n",
    "        c = []\n",
    "    else:\n",
    "        c.append(chord_dic['staff_1'][i-1])\n"
   ]
  },
  {
   "cell_type": "code",
   "execution_count": 69,
   "metadata": {
    "collapsed": false
   },
   "outputs": [],
   "source": []
  },
  {
   "cell_type": "code",
   "execution_count": 70,
   "metadata": {
    "collapsed": false
   },
   "outputs": [
    {
     "name": "stdout",
     "output_type": "stream",
     "text": [
      "[5, 1, 3]\n"
     ]
    }
   ],
   "source": [
    "chord_gogo = []\n",
    "count = 0\n",
    "begin = 0\n",
    "while(count<l2[-1][0]):\n",
    "    while(count < l2[begin][0]):\n",
    "        count += 1.0/2\n",
    "        if l2[begin][1] == 0:\n",
    "            chord_gogo.append(0)\n",
    "        else:\n",
    "            chord_gogo.append(key[l2[begin][1]%12])\n",
    "    begin += 1"
   ]
  },
  {
   "cell_type": "code",
   "execution_count": null,
   "metadata": {
    "collapsed": true
   },
   "outputs": [],
   "source": [
    "now = [pit%12 for pit in dic[staff][begin][1:]]\n",
    "                for pitch in now:\n",
    "                    poss_key = key[pitch]\n",
    "                    det = [(n-pitch)%12 for n in now]\n",
    "                    vec = convert_chord(tuple(det))\n",
    "                    poss_chord = nearest(chord_np,vec)[0]"
   ]
  }
 ],
 "metadata": {
  "kernelspec": {
   "display_name": "Python 2",
   "language": "python",
   "name": "python2"
  },
  "language_info": {
   "codemirror_mode": {
    "name": "ipython",
    "version": 2
   },
   "file_extension": ".py",
   "mimetype": "text/x-python",
   "name": "python",
   "nbconvert_exporter": "python",
   "pygments_lexer": "ipython2",
   "version": "2.7.10"
  }
 },
 "nbformat": 4,
 "nbformat_minor": 0
}
