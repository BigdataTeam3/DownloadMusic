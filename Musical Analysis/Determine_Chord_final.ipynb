{
 "cells": [
  {
   "cell_type": "code",
   "execution_count": 314,
   "metadata": {
    "collapsed": false
   },
   "outputs": [],
   "source": [
    "import numpy as np\n",
    "from decimal import *\n",
    "\n",
    "def convert(tu):\n",
    "    origin = [0,0,0,0,0,0,0,0,0,0,0,0]\n",
    "    for i in tu:\n",
    "        origin[i%12]=1\n",
    "    return tuple(origin)\n",
    "\n",
    "# chord = {\n",
    "#     convert((0,4,7)):'Major',convert((0,3,7)):'minor',\n",
    "#     convert((0,4,8)):'aug',convert((0,3,6)):'dim',\n",
    "#     convert((0,4,7,11)):'Major7',convert((0,4,7,10)):'dom7',\n",
    "#     convert((0,3,7,10)):'minor7',convert((0,3,6,10)):'m7flat5',\n",
    "#     convert((0,2,7)):'2',convert((0,5,7)):'4',\n",
    "#     convert((0,2,4,7,10)):'9'\n",
    "# }\n",
    "chord = {\n",
    "    convert((0,4,7)):'C',convert((2,5,9)):'Dm',convert((4,7,11)):'Em',\n",
    "    convert((0,5,9)):'F',convert((2,7,11)):'G',convert((0,4,9)):'Am',\n",
    "    convert((2,5,10)):'Bb',convert((2,5,11)):'Bdim'\n",
    "}\n",
    "\n",
    "chord_np = np.array(chord.keys())\n",
    "\n",
    "key = {\n",
    "    0:'C',2:'Dm',4:'Em',5:'F',7:'G',9:'Am',11:'Bdim'\n",
    "} # pitch%12\n",
    "\n",
    "time = {\n",
    "    'measure':None,\n",
    "    'whole':Decimal(1),\n",
    "    'half':Decimal(1)/2,\n",
    "    'quarter':Decimal(1)/4,\n",
    "    'eighth':Decimal(1)/8,\n",
    "    '16th':Decimal(1)/16,\n",
    "    '32nd':Decimal(1)/32,\n",
    "    '64th':Decimal(1)/64,\n",
    "    '128th':Decimal(1)/128\n",
    "}\n",
    "\n",
    "def ifDots(tag):\n",
    "    if not tag.find('dots'):\n",
    "        multi = 1\n",
    "    else:\n",
    "        dots = tag.find('dots').text\n",
    "        if dots == '1':\n",
    "            multi = 1.5\n",
    "        elif dots == '2':\n",
    "            multi = 1.75\n",
    "        elif dots == '3':\n",
    "            multi = 1.875\n",
    "    return Decimal(multi)"
   ]
  },
  {
   "cell_type": "markdown",
   "metadata": {},
   "source": [
    "# 拍點音符紀錄器 for 和弦判斷\n",
    "- 附點< dots >, 多連音< Tuplet >, 各種拍子、變拍< TimeSig >已處理\n",
    "- dic 為已取出之(每個staff的)拍子和音高\n"
   ]
  },
  {
   "cell_type": "code",
   "execution_count": 315,
   "metadata": {
    "collapsed": false
   },
   "outputs": [],
   "source": [
    "from bs4 import BeautifulSoup as bs\n",
    "import sys\n",
    "\n",
    "addr = 'C:/Users/BigData/Desktop/Armitage Shanks.mscx'\n",
    "f = open(addr,'r')\n",
    "music = bs(f.read(),'xml')\n",
    "f.close()\n",
    "staff1TimeSig = music.select_one('Score > Staff:nth-of-type(1) TimeSig')\n",
    "sigN = Decimal(staff1TimeSig.find('sigN').text)\n",
    "sigD = Decimal(staff1TimeSig.find('sigD').text)\n",
    "time['measure'] = sigN/sigD\n",
    "l = []\n",
    "dic = {}\n",
    "nonpitched = set(map(lambda x: x.get('id') if x.StaffType.get('group') != 'pitched' else 0,music.select('Part > Staff')))\n",
    "for staff in set(music.select('Score > Staff'))-nonpitched:\n",
    "    time_acc = 0\n",
    "    tupletID = ''\n",
    "    tupletRatio = 1\n",
    "    for tag in staff.find_all(['Rest','Chord','Tuplet','TimeSig']):\n",
    "\n",
    "        #Additional <track> in every measure is ignored\n",
    "        if (tag.name == 'Chord' or tag.name == 'Rest') and not tag.find('track'):\n",
    "            multi = ifDots(tag)\n",
    "            if tag.find('Tuplet') and tag.find('Tuplet').text == tupletID:\n",
    "                multi *= tupletRatio\n",
    "            duTime = Decimal(time[tag.select('durationType')[0].text])\n",
    "            time_acc += duTime * multi\n",
    "            if tag.name == 'Rest':\n",
    "                l.append((time_acc, 0))\n",
    "            else:\n",
    "                pitches = tag.select('pitch')\n",
    "                \n",
    "                #目前音高為手動修改\n",
    "                addlist = [time_acc] + [int(a.text) for a in pitches]\n",
    "                l.append(tuple(addlist))\n",
    "        \n",
    "        #Only take <Tuplet> with id to avoid children\n",
    "        #<Tuplet> inside <Chord> or <Rest>\n",
    "        elif tag.name == 'Tuplet' and tag.get('id'):\n",
    "            tupletID = tag['id']\n",
    "            normalNotes = Decimal(tag.find('normalNotes').text)\n",
    "            actualNotes = Decimal(tag.find('actualNotes').text)\n",
    "            tupletRatio = normalNotes / actualNotes\n",
    "        \n",
    "        elif tag.name == 'TimeSig':\n",
    "            sigN = Decimal(tag.find('sigN').text)\n",
    "            sigD = Decimal(tag.find('sigD').text)\n",
    "            if sigN/sigD != time['measure']:\n",
    "                time['measure'] = sigN/sigD\n",
    "    dic.update({'staff_'+staff.get('id') : l})\n",
    "    l = []"
   ]
  },
  {
   "cell_type": "markdown",
   "metadata": {},
   "source": [
    "# 開始判斷和弦\n",
    "只看拍點(目前針對4/4拍，每兩拍判斷一次拍點)\n",
    "優先順序：\n",
    "- 整個staff扣除休止符後有50%比率同時演奏兩個音以上，紀錄為和弦聲部\n",
    "- 若沒有任何和弦聲部，跳過此首歌，在後面處理\n",
    "- 判斷拍點上所有和弦聲部累加的音所屬和弦\n",
    "- 若當時沒有任何和弦演奏，用BASS因當作基音判斷\n",
    "- 有少數情況是大多數和弦出現在後半拍(或下一拍)，若發現此情形則改用後半拍為拍點判定(或下一拍)"
   ]
  },
  {
   "cell_type": "code",
   "execution_count": 316,
   "metadata": {
    "collapsed": false
   },
   "outputs": [
    {
     "name": "stdout",
     "output_type": "stream",
     "text": [
      "[u'staff_3']\n"
     ]
    }
   ],
   "source": [
    "pitch_count = 0\n",
    "percent = 0.5\n",
    "\n",
    "def have_chord(li):\n",
    "    return float(len([a for a in li if len(a)>2]))\n",
    "def have_note(li):\n",
    "    return float(len([a for a in li if a[1] != 0]))\n",
    "dominant_percent_staff_list = filter(lambda x: have_chord(dic[x])/have_note(dic[x]) >= percent,dic)\n",
    "\n",
    "print dominant_percent_staff_list"
   ]
  },
  {
   "cell_type": "markdown",
   "metadata": {},
   "source": [
    "### 處理可能的例外狀況"
   ]
  },
  {
   "cell_type": "code",
   "execution_count": 317,
   "metadata": {
    "collapsed": false
   },
   "outputs": [],
   "source": [
    "shifting_staff_list = []\n",
    "det_mult = 2\n",
    "\n",
    "for staff in dominant_percent_staff_list:\n",
    "    chord_count = 0\n",
    "    chord_half_count = 0\n",
    "    chord_one_count = 0\n",
    "    count = 0\n",
    "    begin = 0        \n",
    "    while(count < dic[staff][-1][0]):\n",
    "        while(count < dic[staff][begin][0]):\n",
    "            if dic[staff][begin][1] != 0:\n",
    "                if count*8 % 4 == 0:\n",
    "                    chord_count += 1\n",
    "                elif count*8 % 4 == 1:\n",
    "                    chord_half_count += 1\n",
    "                elif count*8 % 4 == 2:\n",
    "                    chord_one_count += 1 \n",
    "            count += 1.0/8\n",
    "        begin += 1\n",
    "    if chord_count==0:   \n",
    "        if chord_one_count>=chord_half_count:\n",
    "            shifting_staff_list.append((staff,1.0/4))\n",
    "        elif chord_half_count>chord_one_count:\n",
    "            shifting_staff_list.append((staff,1.0/8))\n",
    "    else:\n",
    "        if float(chord_one_count)/chord_count>det_mult:\n",
    "            shifting_staff_list.append((staff,1.0/4))\n",
    "        elif float(chord_half_count)/chord_count>det_mult:\n",
    "            shifting_staff_list.append((staff,1.0/8))\n",
    "        else:\n",
    "            shifting_staff_list.append((staff,0))"
   ]
  },
  {
   "cell_type": "code",
   "execution_count": 318,
   "metadata": {
    "collapsed": false
   },
   "outputs": [
    {
     "name": "stdout",
     "output_type": "stream",
     "text": [
      "staff_3 0\n"
     ]
    }
   ],
   "source": [
    "for staff,shift in shifting_staff_list:\n",
    "    print staff,shift"
   ]
  },
  {
   "cell_type": "code",
   "execution_count": 319,
   "metadata": {
    "collapsed": false
   },
   "outputs": [],
   "source": [
    "import numpy as np\n",
    "import math\n",
    "def nearest(nparray, pt): # 歐氏距離\n",
    "    n = [math.sqrt(sum((i-pt)**2)) for i in nparray]\n",
    "    mindis = min(n)\n",
    "    idx = n.index(mindis)\n",
    "    return nparray[idx]\n"
   ]
  },
  {
   "cell_type": "markdown",
   "metadata": {},
   "source": [
    "## 用累加的方式判斷拍點\n",
    "- 每兩拍判斷一次\n",
    "- 只判斷拍點\n",
    "- 用set收集得到的pitch，用聯集表示音高相加\n",
    "- 休止符 = 空集合"
   ]
  },
  {
   "cell_type": "code",
   "execution_count": 320,
   "metadata": {
    "collapsed": false
   },
   "outputs": [],
   "source": [
    "chord_dic = {}\n",
    "for staff,shift in shifting_staff_list:\n",
    "    chord_gogo = []\n",
    "    count = shift\n",
    "    begin = 0        \n",
    "    while(count < dic[staff][-1][0]):\n",
    "        while(count < dic[staff][begin][0]):\n",
    "            if dic[staff][begin][1] == 0:\n",
    "                chord_gogo.append(set())\n",
    "            else:\n",
    "                now = [pit%12 for pit in dic[staff][begin][1:]]\n",
    "                if len(now)>1:\n",
    "                    chord_gogo.append(set(now))\n",
    "                else:\n",
    "                    chord_gogo.append(set())\n",
    "            count += 1.0/2 \n",
    "        begin += 1\n",
    "    chord_dic.update({staff : chord_gogo})"
   ]
  },
  {
   "cell_type": "code",
   "execution_count": 321,
   "metadata": {
    "collapsed": true
   },
   "outputs": [],
   "source": [
    "# for staff in chord_dic:\n",
    "#     print staff, chord_dic[staff]\n",
    "#     print '-----------------------------'\n",
    "all_chord =  tuple(chord_dic.values())\n",
    "combined = map(lambda *args: reduce(lambda x,y: x|y,args),*all_chord)"
   ]
  },
  {
   "cell_type": "markdown",
   "metadata": {},
   "source": [
    "## 用距離判定最靠近的和弦"
   ]
  },
  {
   "cell_type": "code",
   "execution_count": 323,
   "metadata": {
    "collapsed": false
   },
   "outputs": [
    {
     "name": "stdout",
     "output_type": "stream",
     "text": [
      "[0, 0, 0, 0, 0, 0, 0, 0, 'Bb', 'Bb', 'Bb', 'Bb', 'Bb', 'Bb', 'Bb', 'Bb', 'F', 'F', 'F', 'F', 'F', 'F', 'F', 'F', 'F', 'F', 'F', 'F', 'Bb', 'Bb', 'Bb', 'Bb', 'F', 'F', 'F', 'F', 'F', 'F', 'F', 'F', 'F', 'F', 'F', 'F', 'Bb', 'Bb', 'Bb', 'Bb', 'F', 'F', 'F', 'F', 'Bb', 'Bb', 'F', 'F', 'F', 'F', 'F', 'F', 'Bb', 'Bb', 'Bb', 'Bb', 'F', 'F', 'F', 'F', 'F', 'F', 'F', 'F', 'F', 'F', 'F', 'F', 'Bb', 'Bb', 'Bb', 'Bb', 'F', 'F', 'F', 'F', 'F', 'F', 'F', 'F', 'F', 'F', 'F', 'F', 'Bb', 'Bb', 'Bb', 'Bb', 'F', 'F', 'F', 'F', 'Bb', 'Bb', 'F', 'F', 'F', 'F', 'F', 'F', 'Bb', 'Bb', 'Bb', 'Bb', 'F', 'F', 'F', 'F', 'F', 'F', 'F', 'F', 'F', 'F', 'F', 'F', 'Bb', 'Bb', 'Bb', 'Bb', 'F', 'F', 'F', 'F', 'F', 'F', 'F', 'F', 'F', 'F', 'F', 'F', 'Bb', 0, 0, 0, 'F', 'F', 'F', 'F', 'F', 'F', 'F', 'F', 'F', 'F', 'F', 'F', 'Bb', 'Bb', 'Bb', 'Bb', 'F', 'F', 'F', 'F', 'F', 'F', 'F', 'F', 'F', 'F', 'F', 'F', 'Bb', 'Bb', 'Bb', 'Bb', 'F', 'F', 'F', 'F', 'Bb', 'Bb', 'F', 'F', 'F', 'F', 'F', 'F', 'Bb', 'Bb', 'Bb', 'Bb', 'F', 'F', 'F', 'F', 'Bb', 'Bb', 'F', 'F', 'F', 'F', 'F', 'F', 'Bb', 'Bb', 'Bb', 'Bb', 'Bb', 'Bb', 'Bb', 'Bb', 'Bb', 0]\n"
     ]
    }
   ],
   "source": [
    "final_chord = []\n",
    "for a in combined:\n",
    "    if list(a) == []:\n",
    "        final_chord.append(0)\n",
    "    else:\n",
    "        closest = nearest(chord_np,convert(tuple(a)))\n",
    "        final_chord.append(chord[tuple(closest)])\n",
    "print final_chord"
   ]
  },
  {
   "cell_type": "code",
   "execution_count": 324,
   "metadata": {
    "collapsed": false
   },
   "outputs": [
    {
     "name": "stdout",
     "output_type": "stream",
     "text": [
      "[0, 0, 0, 0]\n",
      "[0, 0, 0, 0, 'Bb', 'Bb', 'Bb', 'Bb']\n",
      "['Bb', 'Bb', 'Bb', 'Bb', 'F', 'F', 'F', 'F']\n",
      "['F', 'F', 'F', 'F', 'F', 'F', 'F', 'F']\n",
      "['Bb', 'Bb', 'Bb', 'Bb', 'F', 'F', 'F', 'F']\n",
      "['F', 'F', 'F', 'F', 'F', 'F', 'F', 'F']\n",
      "['Bb', 'Bb', 'Bb', 'Bb', 'F', 'F', 'F', 'F']\n",
      "['Bb', 'Bb', 'F', 'F', 'F', 'F', 'F', 'F']\n",
      "['Bb', 'Bb', 'Bb', 'Bb', 'F', 'F', 'F', 'F']\n",
      "['F', 'F', 'F', 'F', 'F', 'F', 'F', 'F']\n",
      "['Bb', 'Bb', 'Bb', 'Bb', 'F', 'F', 'F', 'F']\n",
      "['F', 'F', 'F', 'F', 'F', 'F', 'F', 'F']\n",
      "['Bb', 'Bb', 'Bb', 'Bb', 'F', 'F', 'F', 'F']\n",
      "['Bb', 'Bb', 'F', 'F', 'F', 'F', 'F', 'F']\n",
      "['Bb', 'Bb', 'Bb', 'Bb', 'F', 'F', 'F', 'F']\n",
      "['F', 'F', 'F', 'F', 'F', 'F', 'F', 'F']\n",
      "['Bb', 'Bb', 'Bb', 'Bb', 'F', 'F', 'F', 'F']\n",
      "['F', 'F', 'F', 'F', 'F', 'F', 'F', 'F']\n",
      "['Bb', 0, 0, 0, 'F', 'F', 'F', 'F']\n",
      "['F', 'F', 'F', 'F', 'F', 'F', 'F', 'F']\n",
      "['Bb', 'Bb', 'Bb', 'Bb', 'F', 'F', 'F', 'F']\n",
      "['F', 'F', 'F', 'F', 'F', 'F', 'F', 'F']\n",
      "['Bb', 'Bb', 'Bb', 'Bb', 'F', 'F', 'F', 'F']\n",
      "['Bb', 'Bb', 'F', 'F', 'F', 'F', 'F', 'F']\n",
      "['Bb', 'Bb', 'Bb', 'Bb', 'F', 'F', 'F', 'F']\n",
      "['Bb', 'Bb', 'F', 'F', 'F', 'F', 'F', 'F']\n",
      "['Bb', 'Bb', 'Bb', 'Bb', 'Bb', 'Bb', 'Bb', 'Bb']\n"
     ]
    }
   ],
   "source": [
    "c = []\n",
    "for i in range(1,len(final_chord)+1):\n",
    "    if i%8 == 4:\n",
    "        c.append(final_chord[i-1])\n",
    "        print c\n",
    "        c = []\n",
    "    else:\n",
    "        c.append(final_chord[i-1])\n"
   ]
  },
  {
   "cell_type": "code",
   "execution_count": 48,
   "metadata": {
    "collapsed": false
   },
   "outputs": [
    {
     "name": "stdout",
     "output_type": "stream",
     "text": [
      "[6, 9, 12]\n"
     ]
    }
   ],
   "source": [
    "l1 = [2,4,5]\n",
    "l2 = [1,2,3]\n",
    "l3 = [3,3,4]\n",
    "a = (l1,l2,l3)\n",
    "print map(lambda *args: sum(args),*a)"
   ]
  },
  {
   "cell_type": "code",
   "execution_count": 57,
   "metadata": {
    "collapsed": false
   },
   "outputs": [
    {
     "name": "stdout",
     "output_type": "stream",
     "text": [
      "set([1, 2, 3, 4, 5])\n"
     ]
    }
   ],
   "source": [
    "s1 = set([2,4,5])\n",
    "s2 = set([1,2,3])\n",
    "s3 = set([3,3,4])\n",
    "a = (s1,s2,s3)\n",
    "print reduce(lambda x,y: x|y,a)\n",
    "# print map(lambda *args: sum(args),*a)"
   ]
  },
  {
   "cell_type": "code",
   "execution_count": 70,
   "metadata": {
    "collapsed": false
   },
   "outputs": [
    {
     "name": "stdout",
     "output_type": "stream",
     "text": [
      "[5, 1, 3]\n"
     ]
    }
   ],
   "source": [
    "chord_gogo = []\n",
    "count = 0\n",
    "begin = 0\n",
    "while(count<l2[-1][0]):\n",
    "    while(count < l2[begin][0]):\n",
    "        count += 1.0/2\n",
    "        if l2[begin][1] == 0:\n",
    "            chord_gogo.append(0)\n",
    "        else:\n",
    "            chord_gogo.append(key[l2[begin][1]%12])\n",
    "    begin += 1"
   ]
  },
  {
   "cell_type": "code",
   "execution_count": null,
   "metadata": {
    "collapsed": true
   },
   "outputs": [],
   "source": []
  }
 ],
 "metadata": {
  "kernelspec": {
   "display_name": "Python 2",
   "language": "python",
   "name": "python2"
  },
  "language_info": {
   "codemirror_mode": {
    "name": "ipython",
    "version": 2
   },
   "file_extension": ".py",
   "mimetype": "text/x-python",
   "name": "python",
   "nbconvert_exporter": "python",
   "pygments_lexer": "ipython2",
   "version": "2.7.10"
  }
 },
 "nbformat": 4,
 "nbformat_minor": 0
}
