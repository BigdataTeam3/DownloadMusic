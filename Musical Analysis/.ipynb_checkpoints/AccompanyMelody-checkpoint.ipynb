{
 "cells": [
  {
   "cell_type": "markdown",
   "metadata": {},
   "source": [
    "# 和弦進行搭配一個聲部的N 個tracks及其拍子產生旋律(音高)"
   ]
  },
  {
   "cell_type": "code",
   "execution_count": 210,
   "metadata": {
    "collapsed": false
   },
   "outputs": [],
   "source": [
    "from decimal import *\n",
    "\n",
    "chord = {\n",
    "    'C':(0, 4, 7),\n",
    "    'Cmaj7':(0, 4, 7, 11),\n",
    "    'Dm':(2, 5, 9),\n",
    "    'Dm7':(2, 5, 9, 12),\n",
    "    'Em':(4, 7, 11),\n",
    "    'Em7':(4, 7, 11, 14),\n",
    "    'F':(5, 9, 12),\n",
    "    'Fmaj7':(5, 9, 12, 16),\n",
    "    'G':(7, 11, 14),\n",
    "    'G7':(7, 11, 14, 17),\n",
    "    'Am':(9, 12, 16),\n",
    "    'Am7':(9, 12, 16, 19),\n",
    "    'Bb':(10, 14, 17),\n",
    "    'Bdim':(11, 14, 17)\n",
    "}"
   ]
  },
  {
   "cell_type": "code",
   "execution_count": 211,
   "metadata": {
    "collapsed": true
   },
   "outputs": [],
   "source": [
    "def nextChord(beatSum, indexAcc, curChord):\n",
    "    indexAcc += 1\n",
    "    curChord = chordProg[indexAcc]\n",
    "    diff = beatSum-Decimal(0.5)\n",
    "    if diff >= 0.5:\n",
    "        beatSum, indexAcc, curChord = nextChord(diff, indexAcc, curChord)\n",
    "    else:\n",
    "        beatSum = diff\n",
    "    return beatSum, indexAcc, curChord"
   ]
  },
  {
   "cell_type": "code",
   "execution_count": 212,
   "metadata": {
    "collapsed": false
   },
   "outputs": [],
   "source": [
    "def accompanyMelody(staff, chordProg):\n",
    "    staffReturn = {}\n",
    "    for key in sorted(staff.keys()):\n",
    "        indexAcc = 0\n",
    "        curChord = chordProg[indexAcc]\n",
    "        beatSum = 0\n",
    "        re = ''\n",
    "        totalBeatSum = 0\n",
    "        for beat in staff[key].split(';'):\n",
    "            duration = beat.split(',')[0]\n",
    "            noteOrRest = beat.split(',')[1]\n",
    "\n",
    "            #Determine when to select next chord\n",
    "            if beatSum >= 0.5:\n",
    "                beatSum, indexAcc, curChord = nextChord(beatSum, indexAcc, curChord)\n",
    "\n",
    "            #Generate different strings according to note or rest\n",
    "            if noteOrRest == '1':\n",
    "                re += duration + ','\n",
    "                C = 60\n",
    "                for component in chord[curChord]:\n",
    "                    re += str(C+component) + ','\n",
    "                re = re[:-1] + ';'\n",
    "            else:\n",
    "                re += duration + ',0;'\n",
    "\n",
    "            #Add 0.0000000000001 to beatSum while it's a tuplet beat\n",
    "            if Decimal(duration) * 128 % 1 == 0:\n",
    "                beatSum += Decimal(duration)\n",
    "            else:\n",
    "                beatSum += Decimal(duration) + Decimal(0.0000000000001)\n",
    "\n",
    "        staffReturn[key] = re[:-1]\n",
    "    return staffReturn"
   ]
  },
  {
   "cell_type": "code",
   "execution_count": 214,
   "metadata": {
    "collapsed": false
   },
   "outputs": [
    {
     "name": "stdout",
     "output_type": "stream",
     "text": [
      "1,60,64,67\n",
      "0.5,69,72,76\n",
      "0.5,64,67,71\n",
      "1,65,69,72\n",
      "0.5,62,65,69\n",
      "0.5,67,71,74,77\n",
      "1,60,64,67\n",
      "0.5,69,72,76\n",
      "0.5,64,67,71\n",
      "0.125,65,69,72\n",
      "0.125,65,69,72\n",
      "0.125,65,69,72\n",
      "0.125,65,69,72\n",
      "0.125,60,64,67,71\n",
      "0.125,60,64,67,71\n",
      "0.125,60,64,67,71\n",
      "0.125,60,64,67,71\n",
      "0.125,62,65,69\n",
      "0.125,62,65,69\n",
      "0.125,62,65,69\n",
      "0.125,62,65,69\n",
      "0.125,67,71,74,77\n",
      "0.125,67,71,74,77\n",
      "0.125,67,71,74,77\n",
      "0.125,67,71,74,77\n",
      "\n",
      "0.4895833333333333333333333333,0\n",
      "0.01041666666666666666666666667,60,64,67\n",
      "0.5,67,71,74\n",
      "0.25,69,72,76\n",
      "0.125,69,72,76\n",
      "0.125,69,72,76\n",
      "0.125,64,67,71\n",
      "0.25,64,67,71\n",
      "0.125,64,67,71\n",
      "0.25,65,69,72\n",
      "0.0625,65,69,72\n",
      "0.0625,65,69,72\n",
      "0.0625,65,69,72\n",
      "0.0625,65,69,72\n",
      "0.125,60,64,67,71\n",
      "0.125,60,64,67,71\n",
      "0.125,60,64,67,71\n",
      "0.125,60,64,67,71\n",
      "0.625,0\n",
      "0.375,67,71,74,77\n",
      "0.4895833333333333333333333333,0\n",
      "0.01041666666666666666666666667,60,64,67\n",
      "0.5,67,71,74\n",
      "0.25,69,72,76\n",
      "0.125,69,72,76\n",
      "0.125,69,72,76\n",
      "0.125,64,67,71\n",
      "0.25,64,67,71\n",
      "0.125,64,67,71\n",
      "0.25,65,69,72\n",
      "0.0625,65,69,72\n",
      "0.0625,65,69,72\n",
      "0.0625,65,69,72\n",
      "0.0625,65,69,72\n",
      "0.125,60,64,67,71\n",
      "0.125,60,64,67,71\n",
      "0.125,60,64,67,71\n",
      "0.125,60,64,67,71\n",
      "0.625,0\n",
      "0.375,67,71,74,77\n",
      "\n"
     ]
    }
   ],
   "source": [
    "chordProg = ['C','G','Am','Em','F','Cmaj7','Dm','G7','C','G','Am','Em','F','Cmaj7','Dm','G7']\n",
    "\n",
    "staff = {\n",
    "    '100':'1,1;0.5,1;0.5,1;1,1;0.5,1;0.5,1;1,1;0.5,1;0.5,1;0.125,1;0.125,1;0.125,1;0.125,1;0.125,1;0.125,1;0.125,1;0.125,1;0.125,1;0.125,1;0.125,1;0.125,1;0.125,1;0.125,1;0.125,1;0.125,1',\n",
    "    '101':'0.4895833333333333333333333333,0;0.01041666666666666666666666667,1;0.5,1;0.25,1;0.125,1;0.125,1;0.125,1;0.25,1;0.125,1;0.25,1;0.0625,1;0.0625,1;0.0625,1;0.0625,1;0.125,1;0.125,1;0.125,1;0.125,1;0.625,0;0.375,1;0.4895833333333333333333333333,0;0.01041666666666666666666666667,1;0.5,1;0.25,1;0.125,1;0.125,1;0.125,1;0.25,1;0.125,1;0.25,1;0.0625,1;0.0625,1;0.0625,1;0.0625,1;0.125,1;0.125,1;0.125,1;0.125,1;0.625,0;0.375,1'\n",
    "}\n",
    "\n",
    "test = accompanyMelody(staff, chordProg)\n",
    "\n",
    "for key in test:\n",
    "    for element in test[key].split(';'):\n",
    "        print element\n",
    "    print"
   ]
  }
 ],
 "metadata": {
  "kernelspec": {
   "display_name": "Python 2",
   "language": "python",
   "name": "python2"
  },
  "language_info": {
   "codemirror_mode": {
    "name": "ipython",
    "version": 2
   },
   "file_extension": ".py",
   "mimetype": "text/x-python",
   "name": "python",
   "nbconvert_exporter": "python",
   "pygments_lexer": "ipython2",
   "version": "2.7.10"
  }
 },
 "nbformat": 4,
 "nbformat_minor": 0
}
