{
 "cells": [
  {
   "cell_type": "markdown",
   "metadata": {},
   "source": [
    "# 目前暫時沒用到\n",
    "### 定義拍子的距離函數"
   ]
  },
  {
   "cell_type": "code",
   "execution_count": 11,
   "metadata": {
    "collapsed": false
   },
   "outputs": [],
   "source": [
    "import pickle\n",
    "class TempoBeats:  \n",
    "    def save_beats(self,musicname,staff_id,sig,tempo,start,end,beats):\n",
    "        self.musicname = musicname\n",
    "        self.staff_id = staff_id\n",
    "        self.sig = sig\n",
    "        self.tempo = tempo\n",
    "        self.start = start\n",
    "        self.end = end\n",
    "        self.beats = beats\n",
    "        \n",
    "    def save(self,pathname):\n",
    "        f = open(pathname,'wb')\n",
    "        savedata = (self.musicname,self.staff_id,self.sig,self.tempo,self.start,self.end,self.beats)\n",
    "        pickle.dump(savedata,f)\n",
    "        f.close()\n",
    "        \n",
    "    def load(self,pathname):\n",
    "        f = open(pathname,'rb')\n",
    "        loaddata = pickle.load(f)\n",
    "        f.close()\n",
    "        (self.musicname,self.staff_id,self.sig,self.tempo,self.start,self.end,self.beats) = loaddata\n",
    "        "
   ]
  },
  {
   "cell_type": "code",
   "execution_count": 12,
   "metadata": {
    "collapsed": false
   },
   "outputs": [],
   "source": [
    "m1 = TempoBeats()\n",
    "m1.save_beats('aaa',1,'4/4',120,1,4,'0.25,0;0.5,1;0.125,1;0.125,1')\n",
    "pathname = 'E:/python/m1'\n",
    "m1.save(pathname)"
   ]
  },
  {
   "cell_type": "code",
   "execution_count": 14,
   "metadata": {
    "collapsed": false
   },
   "outputs": [
    {
     "name": "stdout",
     "output_type": "stream",
     "text": [
      "aaa\n"
     ]
    }
   ],
   "source": [
    "obj = TempoBeats()\n",
    "obj.load('E:/python/m1')\n",
    "print obj.musicname"
   ]
  },
  {
   "cell_type": "markdown",
   "metadata": {},
   "source": [
    "# =============================================================="
   ]
  },
  {
   "cell_type": "markdown",
   "metadata": {},
   "source": [
    "## Basic data and Initialization"
   ]
  },
  {
   "cell_type": "code",
   "execution_count": 35,
   "metadata": {
    "collapsed": false
   },
   "outputs": [
    {
     "name": "stdout",
     "output_type": "stream",
     "text": [
      "[ 0.25   0.5    0.125  0.125]\n",
      "[ 0.125  0.125  0.125  0.125  0.25   0.25 ]\n"
     ]
    }
   ],
   "source": [
    "import numpy as np\n",
    "from StringIO import StringIO\n",
    "measure_1 = {'musicname':'aaa','staff_id':1,'sig':'4/4','tempo':120,'start':1,'end':4,'beat':'0.25,0;0.5,1;0.125,1;0.125,1'}\n",
    "measure_2 = {'musicname':'aaa','staff_id':1,'sig':'4/4','tempo':120,'start':1,'end':4,'beat':'0.125,1;0.125,1;0.125,1;0.125,1;0.25,1;0.25,1'}\n",
    "\n",
    "beat1 =  np.array([a[0] for a in np.genfromtxt(StringIO(measure_1['beat'].replace(';','\\n')),delimiter = \",\")])\n",
    "beat1_sig = measure_1['sig']\n",
    "beat2 = np.array([a[0] for a in np.genfromtxt(StringIO(measure_2['beat'].replace(';','\\n')),delimiter = \",\")])\n",
    "beat2_sig = measure_2['sig']\n",
    "print beat1\n",
    "print beat2"
   ]
  },
  {
   "cell_type": "markdown",
   "metadata": {},
   "source": [
    "## Checking and Defining the distance function\n",
    " - 速度差異越大距離越遠\n",
    " - 速度本身越快權重越高\n",
    " - 依照拍號的重音位置調整  ref: http://jeremydrums.pixnet.net/blog/post/53459686-%E6%8B%8D%E5%AD%90%E8%88%87%E9%9F%B3%E6%A8%82%E9%87%8D%E9%9F%B3"
   ]
  },
  {
   "cell_type": "code",
   "execution_count": 53,
   "metadata": {
    "collapsed": true
   },
   "outputs": [],
   "source": [
    "def dis_count(x1,x2,now1,now2,sig):#定義拍子的距離函數!!\n",
    "    status = now1 - now2\n",
    "    dic_sig1 = {'4':np.array([2,1,1.5,1]),'2':np.array([2,1]),'3':np.array([2,1,1]),\\\n",
    "                '5':np.array([2,1,2,1,1]),'6':np.array([2,1,1,1.5,1,1]),'7':np.array([2,1,1.5,1,2,1,1])} # 小節的重音權重\n",
    "    one_beat = int(sig.split('/')[1]) # sig\n",
    "    here = math.floor(min(now1,now2) * one_beat % one_beat) # position in each measure\n",
    "    weight = dic_sig1[sig.split('/')[0]][here] # return the weight of the specified position\n",
    "    if status == 0:\n",
    "        return 0\n",
    "    else:\n",
    "        b_count = 1/min(x1,x2)**2 * abs(x1-x2) * weight\n",
    "        return b_count"
   ]
  },
  {
   "cell_type": "code",
   "execution_count": 54,
   "metadata": {
    "collapsed": false
   },
   "outputs": [
    {
     "name": "stdout",
     "output_type": "stream",
     "text": [
      "True\n",
      "76.0\n"
     ]
    }
   ],
   "source": [
    "print (np.sum(beat2)==1 and np.sum(beat2)==1) and (beat1_sig == beat2_sig)\n",
    "\n",
    "p1 = 0\n",
    "now1 = beat1[p1]\n",
    "p2 = 0\n",
    "now2 = beat2[p2]\n",
    "\n",
    "distance = 0\n",
    "while(now1 < 1 or now2 < 1):\n",
    "#     print beat1[p1],beat2[p2]\n",
    "#     print now1,now2\n",
    "#     print '--------------------------'\n",
    "    distance += dis_count(beat1[p1],beat2[p2],now1,now2,beat1_sig)\n",
    "    if now1 == now2:\n",
    "        p1 += 1\n",
    "        p2 += 1\n",
    "        now1 += beat1[p1]\n",
    "        now2 += beat2[p1]\n",
    "    elif now1 > now2:\n",
    "        p2 += 1\n",
    "        now2 += beat2[p2]\n",
    "    else:\n",
    "        p1 += 1\n",
    "        now1 += beat1[p1]\n",
    "print distance"
   ]
  },
  {
   "cell_type": "markdown",
   "metadata": {},
   "source": [
    "### random 節拍產生器 (測試用)"
   ]
  },
  {
   "cell_type": "code",
   "execution_count": 63,
   "metadata": {
    "collapsed": false
   },
   "outputs": [],
   "source": [
    "import random as rd\n",
    "possible = [1.0,1.0/2,1.0/4,1.0/8,1.0/16]\n",
    "n = len(possible)\n",
    "total = 0\n",
    "beats = []\n",
    "while (total == 1):\n",
    "    ran = rd.randint(0,4)\n",
    "    beats.append(possible[ran])\n",
    "    total += possible[ran]\n",
    "    "
   ]
  },
  {
   "cell_type": "code",
   "execution_count": null,
   "metadata": {
    "collapsed": true
   },
   "outputs": [],
   "source": []
  }
 ],
 "metadata": {
  "kernelspec": {
   "display_name": "Python 2",
   "language": "python",
   "name": "python2"
  },
  "language_info": {
   "codemirror_mode": {
    "name": "ipython",
    "version": 2
   },
   "file_extension": ".py",
   "mimetype": "text/x-python",
   "name": "python",
   "nbconvert_exporter": "python",
   "pygments_lexer": "ipython2",
   "version": "2.7.10"
  }
 },
 "nbformat": 4,
 "nbformat_minor": 0
}
