{
 "cells": [
  {
   "cell_type": "markdown",
   "metadata": {},
   "source": [
    "# 因為可用BeautifulSoup讀XML所以不用這個"
   ]
  },
  {
   "cell_type": "markdown",
   "metadata": {},
   "source": [
    "## Determine tags\n",
    "- Division\n",
    "- Signature\n",
    "- ticks"
   ]
  },
  {
   "cell_type": "code",
   "execution_count": 67,
   "metadata": {
    "collapsed": false,
    "slideshow": {
     "slide_type": "slide"
    }
   },
   "outputs": [],
   "source": [
    "import re # regular expression正則表達式\n",
    "def divDet(source):\n",
    "    fi = open(source.decode('utf8').encode('big5'),'r')\n",
    "    music = fi.read()\n",
    "    fi.close()\n",
    "    s= r'<Division>(\\d+)</Division>' # Division: The number of ticks of a note in a midi file\n",
    "#     print music\n",
    "    m = re.search(s,music)\n",
    "    if m is None:\n",
    "        return 1\n",
    "    else:\n",
    "        return int(m.group(1))\n",
    "\n",
    "def sigDet(measure):\n",
    "#     fi = open(source.decode('utf8').encode('big5'),'r')\n",
    "#     music = fi.read()\n",
    "#     fi.close()\n",
    "    dsig = r'<TimeSig>(.*)</TimeSig>' # Division: The number of ticks of a note in a midi file\n",
    "    sig = re.search(dsig,measure,re.S)\n",
    "    if sig is None:\n",
    "        return (0,0) # fail or error\n",
    "    sig = sig.group(1)\n",
    "#     print repr(sig)\n",
    "    sigN = 0\n",
    "    sigD = 0\n",
    "#     print sig\n",
    "    sigN = re.search(r'<sigN>(\\d+)</sigN>',sig,re.S).group(1)\n",
    "    sigD = re.search(r'<sigD>(\\d+)</sigD>',sig,re.S).group(1)\n",
    "    return (int(sigN),int(sigD))\n",
    "\n",
    "def sigAdd(measure,signature):\n",
    "    me= r'<Measure(.*?)>(.*?)</Measure>'\n",
    "    m = re.search(me,measure,re.S)\n",
    "    sig = '<TimeSig>\\n          <sigN>{}</sigN>\\n          <sigD>{}</sigD>\\n          <showCourtesySig>1</showCourtesySig>\\n          </TimeSig>'\n",
    "    sig = sig.format(str(signature[0]),str(signature[1]))\n",
    "    new_measure = '<Measure'+m.group(1)+'>'+sig+m.group(2)+'</Measure>'\n",
    "    return new_measure"
   ]
  },
  {
   "cell_type": "code",
   "execution_count": 68,
   "metadata": {
    "collapsed": false,
    "slideshow": {
     "slide_type": "slide"
    }
   },
   "outputs": [],
   "source": [
    "import re\n",
    "def adjMeasure(division,signature,startNumber,nowMeasure):\n",
    "\n",
    "    ticksPerMeasure = division*signature[0]\n",
    "    skipTicks = (startNumber - 1)*ticksPerMeasure\n",
    "    allTicks = re.findall(r'<tick>\\d+</tick>',nowMeasure)\n",
    "#     print allTicks\n",
    "    allTicks = list(set(allTicks))\n",
    "    for ticks in allTicks:\n",
    "        tiNumber = int(re.search(r'<tick>(\\d+)</tick>',ticks).group(1))\n",
    "        tiNumber2 = tiNumber - skipTicks\n",
    "        print tiNumber2\n",
    "        newticks = '<tick>'+ str(tiNumber2) +'</tick>'\n",
    "        nowMeasure = nowMeasure.replace(ticks,newticks)\n",
    "        \n",
    "    s1 = r'(<Measure number=\"\\d+\">)'\n",
    "    s2 = r'<Measure number=\"(\\d+)\">'\n",
    "    measureNum = int(re.search(s2,nowMeasure).group(1))    \n",
    "    newNumber = measureNum - startNumber + 1\n",
    "\n",
    "    nowMeasure = nowMeasure.replace(re.search(s1,nowMeasure,re.S).group(1),'<Measure number=\"{}\">'.format(str(newNumber)))\n",
    "#     print nowMeasure\n",
    "    return nowMeasure   "
   ]
  },
  {
   "cell_type": "code",
   "execution_count": 69,
   "metadata": {
    "collapsed": false,
    "slideshow": {
     "slide_type": "slide"
    }
   },
   "outputs": [],
   "source": [
    "import re\n",
    "def splitMusic(source,start,end,to):\n",
    "    try:\n",
    "        fi = open(source.decode('utf8').encode('big5'),'r')\n",
    "        music = fi.read()\n",
    "        fi.close()\n",
    "        doc_start = music.split('<Measure')[0]\n",
    "        doc_end = music.split('</Measure>')[-1]\n",
    "        me= '<Measure.*?</Measure>'\n",
    "        m = re.findall(me,music,re.S) # required measures\n",
    "        s2 = doc_start\n",
    "        \n",
    "        division = divDet(source)\n",
    "        if division == 1:\n",
    "            division = 120*si[1]\n",
    "# print division, type(division)\n",
    "\n",
    "        # find the closest signature\n",
    "        k = start-1\n",
    "        si = (0,0)\n",
    "        si = sigDet(m[k])\n",
    "        \n",
    "        while sigDet(m[k])[0] == 0:\n",
    "            if k == 0:\n",
    "                si = (4,4)\n",
    "                break\n",
    "            else:\n",
    "                si = sigDet(m[k-1])\n",
    "                k = k-1\n",
    "        \n",
    "        \n",
    "        for i in range(1,len(m)+1): # measure number > 0\n",
    "            if i<=end and i>=start:\n",
    "#                 print m[i-1]\n",
    "                m[i-1] = adjMeasure(division,si,start,m[i-1])\n",
    "                if i == start:\n",
    "                    m[i-1] = sigAdd(m[i-1],si)\n",
    "                s2 += m[i-1] # (i-1)-th element in m = i-th measure\n",
    "        s2 += doc_end       \n",
    "#         adticks = re.findall(,s2)\n",
    "        \n",
    "        fj = open(to.decode('utf8').encode('big5'),'w')\n",
    "        fj.write(s2)\n",
    "        fj.close()\n",
    "        return 1 # success\n",
    "    except:\n",
    "        return 0 # fail\n",
    "    "
   ]
  },
  {
   "cell_type": "code",
   "execution_count": 70,
   "metadata": {
    "collapsed": false
   },
   "outputs": [
    {
     "name": "stdout",
     "output_type": "stream",
     "text": [
      "3840\n",
      "success\n"
     ]
    }
   ],
   "source": [
    "addr = 'C:/Users/BigData/Desktop/datas/python/py/分享_treble_clef.mscx'\n",
    "addra = 'C:/Users/BigData/Desktop/datas/python/py/atest.mscx'\n",
    "get = splitMusic(addr,5,8,addra)\n",
    "if get==1:\n",
    "    print 'success'\n",
    "else:\n",
    "    print 'fail'"
   ]
  },
  {
   "cell_type": "code",
   "execution_count": 14,
   "metadata": {
    "collapsed": false
   },
   "outputs": [
    {
     "name": "stdout",
     "output_type": "stream",
     "text": [
      "480\n"
     ]
    }
   ],
   "source": [
    "addr = 'C:/Users/pc/python/py/分享_treble_clef.mscx'\n",
    "print tickDet(addr)\n"
   ]
  },
  {
   "cell_type": "code",
   "execution_count": 1,
   "metadata": {
    "collapsed": false
   },
   "outputs": [
    {
     "name": "stdout",
     "output_type": "stream",
     "text": [
      "120\n"
     ]
    }
   ],
   "source": [
    "import re\n",
    "a = '120hfop11wfe'\n",
    "m = re.match('(\\d+)',a)\n",
    "print m.group(1)"
   ]
  },
  {
   "cell_type": "code",
   "execution_count": 23,
   "metadata": {
    "collapsed": false
   },
   "outputs": [
    {
     "name": "stdout",
     "output_type": "stream",
     "text": [
      "ic\n"
     ]
    }
   ],
   "source": [
    "import re \n",
    "s = '<t\"ic\"k>11520</tick>'\n",
    "m = re.search(r'\"(\\w+)\"',s)\n",
    "print m.group(1)"
   ]
  },
  {
   "cell_type": "code",
   "execution_count": 163,
   "metadata": {
    "collapsed": false
   },
   "outputs": [
    {
     "data": {
      "text/plain": [
       "'Hello World'"
      ]
     },
     "execution_count": 163,
     "metadata": {},
     "output_type": "execute_result"
    }
   ],
   "source": [
    "our_str = 'Hello World'\n",
    "our_str.replace('World', 'Jackson')\n",
    "our_str"
   ]
  },
  {
   "cell_type": "code",
   "execution_count": 166,
   "metadata": {
    "collapsed": false
   },
   "outputs": [
    {
     "name": "stdout",
     "output_type": "stream",
     "text": [
      "Hello Jackson\n"
     ]
    }
   ],
   "source": [
    "our_str=our_str.replace('World', 'Jackson')\n",
    "print our_str"
   ]
  },
  {
   "cell_type": "code",
   "execution_count": 186,
   "metadata": {
    "collapsed": false
   },
   "outputs": [
    {
     "name": "stdout",
     "output_type": "stream",
     "text": [
      "['a', 'c', 'b', 'd']\n"
     ]
    }
   ],
   "source": [
    "a = ['a','b','c','a','d','b','a']\n",
    "a = list(set(a))\n",
    "print a"
   ]
  },
  {
   "cell_type": "code",
   "execution_count": null,
   "metadata": {
    "collapsed": true
   },
   "outputs": [],
   "source": []
  }
 ],
 "metadata": {
  "kernelspec": {
   "display_name": "Python 2",
   "language": "python",
   "name": "python2"
  },
  "language_info": {
   "codemirror_mode": {
    "name": "ipython",
    "version": 2
   },
   "file_extension": ".py",
   "mimetype": "text/x-python",
   "name": "python",
   "nbconvert_exporter": "python",
   "pygments_lexer": "ipython2",
   "version": "2.7.10"
  }
 },
 "nbformat": 4,
 "nbformat_minor": 0
}
