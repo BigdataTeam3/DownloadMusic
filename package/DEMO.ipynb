{
 "cells": [
  {
   "cell_type": "markdown",
   "metadata": {},
   "source": [
    "## Demo 1"
   ]
  },
  {
   "cell_type": "code",
   "execution_count": 3,
   "metadata": {
    "collapsed": true
   },
   "outputs": [
    {
     "name": "stdout",
     "output_type": "stream",
     "text": [
      "['F', 'C', 'D', 'D', 'F', 'C', 'D', 'D', 'F', 'C', 'D', 'D', 'F', 'C', 'D', 'D', 'F', 'F', 'C', 'C', 'Em', 'Em', 'Am', 'Am', 'F', 'F', 'C', 'C', 'Em', 'Em', 'Am', 'Am']\n",
      "AG_steel\n",
      "43\n",
      "15\n",
      "6\n",
      "27\n",
      "{'A1': {u'track0': u'0.125,0;0.0625,0;0.0625,1;0.125,1,0;0.125,0;0.125,0;0.0625,0;0.0625,1,1;0.125,1,0;0.125,0', u'track25': u'0.0625,0;0.1875,1;0.1875,1,0;0.0625,0;0.125,0;0.375,1,1', u'track26': u'0.125,0;0.375,1;0.0625,0;0.1875,1,-1;0.0625,1,0;0.0625,0;0.125,0', u'track27': u'0.5,1;0.5,1,1'}, 'A3': {u'track0': u'0.25,1;0.125,0;0.125,1,0;0.25,0;0.125,0;0.125,1,-1', u'track17': u'0.25,0;0.25,1;0.25,0;0.25,1,-1', u'track19': u'0.5,1;0.5,1,-1', u'track18': u'0.125,0;0.375,1;0.125,0;0.375,1,-1'}, 'A2': {u'track1': u'0.5,0;0.25,1;0.25,0', u'track0': u'0.125,0;0.125,1;0.1875,1,1;0.0625,1,-1;0.125,1,0;0.0625,0;0.0625,1,1;0.125,1,0;0.125,1,1', u'track3': u'0.25,1;0.0625,0;0.1875,1,1;0.0625,1,0;0.1875,1,-1;0.0625,0;0.1875,1,0', u'track2': u'0.0625,0;0.125,1;0.0625,1,0;0.125,1,0;0.125,1,1;0.0625,1,0;0.0625,0;0.125,1,0;0.1875,1,-1;0.0625,1,1'}, 'A4': {u'track9': u'0.25,0;0.25,1;0.25,0;0.25,1,0', u'track0': u'0.25,0;0.0078125,0;0.0234375,1;0.09375,1,0;0.125,1,0;0.25,0;0.0078125,0;0.0234375,1,0;0.09375,1,0;0.125,1,0', u'track10': u'0.25,1;0.015625,0;0.0078125,0;0.0078125,1,1;0.09375,1,0;0.125,1,0;0.25,1,-1;0.015625,0;0.0078125,0;0.0078125,1,1;0.09375,1,0;0.125,1,0'}}\n",
      "set([0, 1, 2, 3])\n",
      "1 25\n"
     ]
    },
    {
     "data": {
      "text/plain": [
       "0"
      ]
     },
     "execution_count": 3,
     "metadata": {},
     "output_type": "execute_result"
    }
   ],
   "source": [
    "import musicMaker\n",
    "import os\n",
    "mc = musicMaker.MusicCreator()\n",
    "gram =  mc.determineChords(['8g1','8g1','8g2','8g2'])\n",
    "print gram\n",
    "acou_guitar_chord1 = ['A1','A1','A1','A1','A2','A2','A2','A2',\\\n",
    "                    'A3','A3','A3','A3','A4','A4','A4','A4']\n",
    "mgh2 = mc.getGuitarPitByNotations(acou_guitar_chord1,'multi',ins_pattern='Acoustic Guitar (steel)')\n",
    "mc.addStaff(mgh2,instrument='Acoustic Guitar (steel)')\n",
    "sheet = mc.createSheet()\n",
    "with open('C:/Users/BigData/Desktop/mscx/demo.mscx','w') as f:\n",
    "    f.write(str(sheet))\n",
    "os.system('\"C:/Program Files (x86)/MuseScore 2/bin/MuseScore.exe\" C:/Users/BigData/Desktop/mscx/demo.mscx -o C:/Users/BigData/Desktop/mscx/demo.mid')"
   ]
  },
  {
   "cell_type": "markdown",
   "metadata": {
    "collapsed": true
   },
   "source": [
    "## Demo 2"
   ]
  },
  {
   "cell_type": "code",
   "execution_count": 4,
   "metadata": {
    "collapsed": true
   },
   "outputs": [
    {
     "name": "stdout",
     "output_type": "stream",
     "text": [
      "['F', 'G', 'Em', 'G', 'F', 'C', 'C', 'F', 'F', 'G', 'Em', 'G', 'F', 'C', 'C', 'F', 'Dm', 'Dm', 'E', 'E', 'Am', 'Am', 'C', 'D', 'Dm', 'Dm', 'E', 'E', 'Am', 'Am', 'C', 'D']\n",
      "notations length : 16\n",
      "139\n",
      "10\n",
      "663\n",
      "2315\n",
      "4031\n",
      "25934\n",
      "2086\n",
      "23586\n",
      "59247\n",
      "569\n",
      "set([0, 1])\n",
      "Autometically add staff2: Bass\n",
      "1 percussionType\n",
      "2 0\n"
     ]
    },
    {
     "data": {
      "text/plain": [
       "0"
      ]
     },
     "execution_count": 4,
     "metadata": {},
     "output_type": "execute_result"
    }
   ],
   "source": [
    "import musicMaker\n",
    "import os\n",
    "mc = musicMaker.MusicCreator()\n",
    "gram =  mc.determineChords(['8g1','8g1','8g2','8g2'])\n",
    "print gram\n",
    "per_notation = ['A1','A1','A1','B1','A2','A2','A2','C2',\\\n",
    "                    'A3','A3','A3','B3','A4','A4','A4','C4']\n",
    "per1 = mc.getMeasuresPerByNotations(per_notation)\n",
    "mc.addStaff(per1,'percussionType')\n",
    "sheet = mc.createSheet()\n",
    "with open('C:/Users/BigData/Desktop/mscx/demo.mscx','w') as f:\n",
    "    f.write(str(sheet))\n",
    "os.system('\"C:/Program Files (x86)/MuseScore 2/bin/MuseScore.exe\" C:/Users/BigData/Desktop/mscx/demo.mscx -o C:/Users/BigData/Desktop/mscx/demo.mid')"
   ]
  },
  {
   "cell_type": "markdown",
   "metadata": {
    "collapsed": true
   },
   "source": [
    "## Demo 3"
   ]
  },
  {
   "cell_type": "code",
   "execution_count": 5,
   "metadata": {
    "collapsed": true
   },
   "outputs": [
    {
     "name": "stdout",
     "output_type": "stream",
     "text": [
      "['G', 'Em', 'F', 'F', 'Am', 'G', 'C', 'C', 'G', 'Em', 'F', 'F', 'Am', 'G', 'C', 'C', 'F', 'C', 'C', 'G', 'Dm', 'C', 'Bb', 'Bb', 'F', 'C', 'C', 'G', 'Dm', 'C', 'Bb', 'Bb']\n",
      "AG_steel\n",
      "15\n",
      "37\n",
      "51\n",
      "6\n",
      "{'A1': {u'track0': u'0.25,1;0.125,0;0.125,1,0;0.25,0;0.125,0;0.125,1,-1', u'track17': u'0.25,0;0.25,1;0.25,0;0.25,1,-1', u'track19': u'0.5,1;0.5,1,-1', u'track18': u'0.125,0;0.375,1;0.125,0;0.375,1,-1'}, 'A3': {u'track15': u'0.5,1;0.5,0', u'track0': u'0.125,0;0.0625,0;0.0625,1;0.125,1,0;0.125,1,-1;0.5,1,0', u'track13': u'0.125,0;0.375,1;0.5,0', u'track14': u'0.0625,0;0.1875,1;0.125,1,0;0.125,0;0.5,0'}, 'A2': {u'track0': u'0.25,0;0.5,1;0.25,0', u'track17': u'0.25,0;0.125,0;0.125,1;0.1875,1,0;0.0625,0;0.25,1,0', u'track19': u'0.5,1;0.125,0;0.375,1,0', u'track18': u'0.125,0;0.125,1;0.25,0;0.25,1,-1;0.125,0;0.125,1,1'}, 'A4': {u'track1': u'0.5,0;0.25,1;0.25,0', u'track0': u'0.125,0;0.125,1;0.1875,1,1;0.0625,1,-1;0.125,1,0;0.0625,0;0.0625,1,1;0.125,1,0;0.125,1,1', u'track3': u'0.25,1;0.0625,0;0.1875,1,1;0.0625,1,0;0.1875,1,-1;0.0625,0;0.1875,1,0', u'track2': u'0.0625,0;0.125,1;0.0625,1,0;0.125,1,0;0.125,1,1;0.0625,1,0;0.0625,0;0.125,1,0;0.1875,1,-1;0.0625,1,1'}}\n",
      "set([0, 1, 2, 3])\n",
      "notations length : 16\n",
      "100\n",
      "2346\n",
      "1567\n",
      "279\n",
      "2713\n",
      "1636\n",
      "1717\n",
      "28363\n",
      "20451\n",
      "1988\n",
      "set([0, 1, 2, 3, 5])\n",
      "Autometically add staff3: Bass\n",
      "1 25\n",
      "2 percussionType\n",
      "3 0\n"
     ]
    },
    {
     "data": {
      "text/plain": [
       "0"
      ]
     },
     "execution_count": 5,
     "metadata": {},
     "output_type": "execute_result"
    }
   ],
   "source": [
    "import musicMaker\n",
    "import os\n",
    "mc = musicMaker.MusicCreator()\n",
    "gram =  mc.determineChords(['8g1','8g1','8g2','8g2'])\n",
    "print gram\n",
    "acou_guitar_chord1 = ['A1','A1','A1','A1','A2','A2','A2','A2',\\\n",
    "                    'A3','A3','A3','A3','A4','A4','A4','A4']\n",
    "mgh2 = mc.getGuitarPitByNotations(acou_guitar_chord1,'multi',ins_pattern='Acoustic Guitar (steel)')\n",
    "\n",
    "mc.addStaff(mgh2,instrument='Acoustic Guitar (steel)')\n",
    "per_notation = ['A1','A1','A1','B1','A2','A2','A2','C2',\\\n",
    "                    'A3','A3','A3','B3','A4','A4','A4','C4']\n",
    "per1 = mc.getMeasuresPerByNotations(per_notation)\n",
    "mc.addStaff(per1,'percussionType')\n",
    "\n",
    "sheet = mc.createSheet()\n",
    "with open('C:/Users/BigData/Desktop/mscx/demo.mscx','w') as f:\n",
    "    f.write(str(sheet))\n",
    "os.system('\"C:/Program Files (x86)/MuseScore 2/bin/MuseScore.exe\" C:/Users/BigData/Desktop/mscx/demo.mscx -o C:/Users/BigData/Desktop/mscx/demo.mid')"
   ]
  },
  {
   "cell_type": "markdown",
   "metadata": {
    "collapsed": true
   },
   "source": [
    "## Demo 4"
   ]
  },
  {
   "cell_type": "code",
   "execution_count": 6,
   "metadata": {
    "collapsed": true
   },
   "outputs": [
    {
     "name": "stdout",
     "output_type": "stream",
     "text": [
      "['Bb', 'Bb', 'D', 'Bb', 'Bb', 'Bb', 'E', 'Bb', 'Bb', 'Bb', 'D', 'Bb', 'Bb', 'Bb', 'E', 'Bb', 'Bb', 'Bb', 'Bb', 'G', 'Bb', 'Bb', 'Dm', 'G', 'Bb', 'Bb', 'Bb', 'G', 'Bb', 'Bb', 'Dm', 'G', 'Bb', 'Bb', 'D', 'Bb', 'Bb', 'Bb', 'E', 'Bb', 'Bb', 'Bb', 'D', 'Bb', 'Bb', 'Bb', 'E', 'Bb', 'Bb', 'Bb', 'Bb', 'G', 'Bb', 'Bb', 'Dm', 'G', 'Bb', 'Bb', 'Bb', 'G', 'Bb', 'Bb', 'Dm', 'G']\n",
      "notations length : 32\n",
      "301\n",
      "1797\n",
      "1339\n",
      "1184\n",
      "2534\n",
      "3654\n",
      "2572\n",
      "set([0, 1])\n",
      "Autometically add staff2: Bass\n",
      "AG_steel\n",
      "35\n",
      "200\n",
      "{'A1': {u'track0': u'0.25,1;0.25,1,1;0.25,1,-1;0.125,1,1;0.125,1,1'}, 'A8': {u'track0': u'0.125,1;0.125,1,1;0.125,0;0.125,1,1;0.125,1,0;0.125,0;0.1875,1,1;0.0625,1,0'}, '0': {'track0': '1,0'}}\n",
      "set([0, 1])\n",
      "AG_steel\n",
      "8\n",
      "{'A1': {u'track0': u'0.25,1;0.25,0;0.25,1,0;0.25,0', u'track17': u'0.25,1;0.25,1,0;0.25,0;0.25,1,0', u'track19': u'0.75,1;0.125,0;0.125,1,0', u'track18': u'0.125,1;0.25,1,0;0.125,1,0;0.0625,1,0;0.0625,0;0.375,1,0'}, '0': {'track0': '1,0'}}\n",
      "set([0, 1, 13, 14, 15])\n",
      "EG_overdrive\n",
      "142\n",
      "{'0': {'track0': '1,0'}, 'A8': {u'track0': u'0.125,1;0.125,1,-1;0.125,1,0;0.125,1,1;0.125,1,-1;0.125,1,0;0.125,1,0;0.125,1,0'}}\n",
      "set([0, 1, 13, 14, 15])\n",
      "1 percussionType\n",
      "2 0\n",
      "3 25\n",
      "4 0\n",
      "5 29\n",
      "6 91\n",
      "7 30\n"
     ]
    },
    {
     "data": {
      "text/plain": [
       "0"
      ]
     },
     "execution_count": 6,
     "metadata": {},
     "output_type": "execute_result"
    }
   ],
   "source": [
    "import musicMaker\n",
    "import os\n",
    "mc = musicMaker.MusicCreator()\n",
    "gram = mc.determineChords(['8g1','8g1','8g2','8g2','8g1','8g1','8g2','8g2'])\n",
    "print gram\n",
    "per_notation = ['0','0','0','0','0','0','0','B1',\\\n",
    "               'A2','A2','A2','B2','A2','A2','A2','B2',\\\n",
    "               '0','0','0','0','0','0','0','C1',\\\n",
    "               'A3','A3','A3','B3','A3','A3','A3','B3']\n",
    "per1 = mc.getMeasuresPerByNotations(per_notation)\n",
    "mc.addStaff(per1,'percussionType')\n",
    "\n",
    "piano_chord = ['A1','A1','A1','A1','A1','A1','A1','A1',\\\n",
    "            'A8','A8','A8','A8','A8','A8','A8','A8',\\\n",
    "             '0','0','0','0','0','0','0','0',\\\n",
    "              '0','0','0','0','0','0','0','0']\n",
    "mch1 = mc.getGuitarPitByNotations(piano_chord,'single',ins_pattern='Acoustic Guitar (steel)')\n",
    "mc.addStaff(mch1,instrument='Acoustic Guitar (steel)')\n",
    "\n",
    "acou_guitar_chord1 = ['0','0','0','0','0','0','0','0',\\\n",
    "            '0','0','0','0','0','0','0','0',\\\n",
    "              'A1','A1','A1','A1','A1','A1','A1','A1',\\\n",
    "               '0','0','0','0','0','0','0','0']\n",
    "mgh2 = mc.getGuitarPitByNotations(acou_guitar_chord1,'multi',ins_pattern='Acoustic Guitar (steel)')\n",
    "mc.addStaff(mgh2,instrument='Acoustic Grand Piano')\n",
    "\n",
    "guitar_chord1 = ['0','0','0','0','0','0','0','0',\\\n",
    "            '0','0','0','0','0','0','0','0',\\\n",
    "              '0','0','0','0','0','0','0','0',\\\n",
    "               'A8','A8','A8','A8','A8','A8','A8','A8']\n",
    "mgh3 = mc.getGuitarPitByNotations(guitar_chord1,'single')\n",
    "mc.addStaff(mgh3,instrument='Overdriven Guitar')\n",
    "\n",
    "control1 = ['A7','A7','A7','A7','A7','A7','A7','A7',\\\n",
    "            'A1','A1','A1','A1','A1','A1','A1','A1',\\\n",
    "            '0','0','0','0','0','0','0','0',\\\n",
    "          '0','0','0','0','0','0','0','0']\n",
    "mc.addLongStaffByChords('Pad 4 (choir)',match=control1)\n",
    "control2 = ['A7','A7','A7','A7','A7','A7','A7','A7',\\\n",
    "            'A1','A1','A1','A1','A1','A1','A1','A1',\\\n",
    "            'A1','A1','A1','A1','A1','A1','A1','A1',\\\n",
    "          '0','0','0','0','0','0','0','0']\n",
    "mc.addLongStaffByChords('Distortion Guitar',match=control2)\n",
    "\n",
    "sheet = mc.createSheet()\n",
    "with open('C:/Users/BigData/Desktop/mscx/demo.mscx','w') as f:\n",
    "    f.write(str(sheet))\n",
    "os.system('\"C:/Program Files (x86)/MuseScore 2/bin/MuseScore.exe\" C:/Users/BigData/Desktop/mscx/demo.mscx -o C:/Users/BigData/Desktop/mscx/demo.mid')"
   ]
  },
  {
   "cell_type": "markdown",
   "metadata": {},
   "source": [
    "## Demo 4"
   ]
  },
  {
   "cell_type": "code",
   "execution_count": 8,
   "metadata": {
    "collapsed": true
   },
   "outputs": [
    {
     "name": "stdout",
     "output_type": "stream",
     "text": [
      "AG_steel\n",
      "70\n",
      "{'0': {'track0': '1,0'}, 'A7': {u'track0': u'0.1875,1;0.0625,1,0;0.125,1,0;0.125,1,-1;0.125,1,1;0.125,1,1;0.125,1,-1;0.125,1,-1'}}\n",
      "set([0])\n",
      "EG_distortion\n",
      "6\n",
      "2\n",
      "{'A8': {u'track0': u'0.25,1;0.1875,1,0;0.0625,1,0;0.375,1,0;0.125,1,0', u'track6': u'0.125,0;0.125,1;0.125,0;0.125,1,0;0.25,1,-1;0.25,0'}, 'A7': {u'track0': u'0.5,0;0.25,0;0.125,0;0.125,1', u'track22': u'0.125,0;0.375,1;0.125,1,0;0.375,1,0', u'track23': u'1,1', u'track21': u'0.25,0;0.125,0;0.125,1;0.375,1,0;0.125,0'}, '0': {'track0': '1,0'}}\n",
      "set([0, 1, 2, 3])\n",
      "notations length : 32\n",
      "1622\n",
      "702\n",
      "set([0, 1, 2, 3])\n",
      "notations length : 32\n",
      "1037\n",
      "14166\n",
      "68716\n",
      "34572\n",
      "42539\n",
      "61532\n",
      "set([0, 1, 2, 3, 13])\n",
      "Autometically add staff6: Bass\n",
      "set([0, 1, 2, 3, 4, 5, 6])\n",
      "set([0, 1, 2, 3, 13])\n",
      "staff1 :\n",
      "use instrument: 25\n",
      "used measures: 32\n",
      "==========================================\n",
      "staff2 :\n",
      "use instrument: 25\n",
      "used measures: 32\n",
      "==========================================\n",
      "staff3 :\n",
      "use instrument: 54\n",
      "used measures: 32\n",
      "==========================================\n",
      "staff4 :\n",
      "use instrument: percussionType\n",
      "used measures: 32\n",
      "==========================================\n",
      "staff5 :\n",
      "use instrument: percussionType\n",
      "used measures: 32\n",
      "==========================================\n",
      "staff6 :\n",
      "use instrument: 0\n",
      "used measures: 32\n",
      "==========================================\n",
      "None\n",
      "1 25\n",
      "2 25\n",
      "3 54\n",
      "4 percussionType\n",
      "5 percussionType\n",
      "6 0\n"
     ]
    },
    {
     "data": {
      "text/plain": [
       "0"
      ]
     },
     "execution_count": 8,
     "metadata": {},
     "output_type": "execute_result"
    }
   ],
   "source": [
    "import musicMaker\n",
    "import os\n",
    "mc = musicMaker.MusicCreator()\n",
    "gram = mc.determineChords(['8g1','8g1','8g2','8g2','8g1','8g1','8g2','8g2'])\n",
    "# mc.setChords(['Am','F','C','G','Am','F','C','G','Am','F','C','G','Am','F','C','G'\\\n",
    "#              ,'Am','F','C','G','Am','F','C','G','Am','F','C','G','Am','F','C','G'\\\n",
    "#              ,'Am','F','C','G','Am','F','C','G','Am','F','C','G','Am','F','C','G'\\\n",
    "#              ,'Am','F','C','G','Am','F','C','G','Am','F','C','G','Am','F','C','G'])\n",
    "# 打擊樂 Pattern\n",
    "per_notation = ['0','0','0','0','0','0','0','0',\\\n",
    "             'A2','A2','A2','B2','A2','A2','A2','B2',\\\n",
    "             '0','0','0','0','0','0','0','0',\\\n",
    "             'A2','A2','A2','B2','A2','A2','A2','B2']\n",
    "\n",
    "solo_notation = ['0','0','0','0','0','0','0','0',\\\n",
    "            '0','0','0','0','0','0','0','0',\\\n",
    "            'A1','A1','A1','A1','C1','C2','C3','C4',\\\n",
    "            '0','0','0','0','0','0','0','0']\n",
    "\n",
    "guitar_chord = ['0','0','0','0','0','0','0','0',\\\n",
    "            'A7','A7','A7','A7','A7','A7','A7','A7',\\\n",
    "            '0','0','0','0','0','0','0','0',\\\n",
    "            'A7','A7','A7','A7','A7','A7','A7','A7']\n",
    "\n",
    "guitar_split = ['A7','A7','A7','A7','A7','A7','A7','A7',\\\n",
    "            'A8','A8','A8','A8','A8','A8','A8','A8',\\\n",
    "            '0','0','0','0','0','0','0','0',\\\n",
    "            '0','0','0','0','0','0','0','0']\n",
    "\n",
    "# print len(gram),len(per_notation),len(solo_notation),len(guitar_chord),len(guitar_split)\n",
    "\n",
    "mgui1 = mc.getGuitarPitByNotations(guitar_chord,'single',ins_pattern='Acoustic Guitar (steel)')\n",
    "mgui2 = mc.getGuitarPitByNotations(guitar_split,'multi')\n",
    "\n",
    "mc.addStaff(mgui1,instrument='Acoustic Guitar (steel)')\n",
    "mc.addStaff(mgui2,instrument='Acoustic Guitar (steel)')\n",
    "\n",
    "mc.addLongStaffByChords('Synth Voice',match=solo_notation)\n",
    "\n",
    "per1 = mc.getMeasuresPerByNotations(per_notation)\n",
    "persolo = mc.getMeasuresPerByNotations(solo_notation)\n",
    "\n",
    "mc.addStaff(persolo,'percussionType',solo=True)\n",
    "mc.addStaff(per1,'percussionType')\n",
    "print mc.usedStaffs\n",
    "print mc.usedTracks\n",
    "print mc.summary()\n",
    "sheet = mc.createSheet()\n",
    "with open('C:/Users/BigData/Desktop/mscx/demo.mscx','w') as f:\n",
    "    f.write(str(sheet))\n",
    "os.system('\"C:/Program Files (x86)/MuseScore 2/bin/MuseScore.exe\" C:/Users/BigData/Desktop/mscx/demo.mscx -o C:/Users/BigData/Desktop/mscx/demo.mid')"
   ]
  },
  {
   "cell_type": "code",
   "execution_count": null,
   "metadata": {
    "collapsed": true
   },
   "outputs": [],
   "source": []
  }
 ],
 "metadata": {
  "kernelspec": {
   "display_name": "Python 2",
   "language": "python",
   "name": "python2"
  },
  "language_info": {
   "codemirror_mode": {
    "name": "ipython",
    "version": 2
   },
   "file_extension": ".py",
   "mimetype": "text/x-python",
   "name": "python",
   "nbconvert_exporter": "python",
   "pygments_lexer": "ipython2",
   "version": "2.7.10"
  }
 },
 "nbformat": 4,
 "nbformat_minor": 0
}
