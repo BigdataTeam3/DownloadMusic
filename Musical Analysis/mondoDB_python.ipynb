{
 "cells": [
  {
   "cell_type": "markdown",
   "metadata": {},
   "source": [
    "\n",
    "## 先 pip install pymongo\n",
    "- 直接可以存dic進去\n",
    "- 多筆資料可以一次塞入"
   ]
  },
  {
   "cell_type": "code",
   "execution_count": 4,
   "metadata": {
    "collapsed": false
   },
   "outputs": [
    {
     "data": {
      "text/plain": [
       "<pymongo.results.InsertOneResult at 0x3d8d870>"
      ]
     },
     "execution_count": 4,
     "metadata": {},
     "output_type": "execute_result"
    }
   ],
   "source": [
    "#進mongodb\n",
    "import pymongo\n",
    "from pymongo import MongoClient\n",
    "client = MongoClient('mongodb://10.120.30.8:27017')\n",
    "db = client['music']  #選擇database\n",
    "collect = db['tempo_beats']  #選擇database.collection\n",
    "dic = {'musicname':'aaa','staff_id':2,'instrument':'flute','sig':'4/4','tempo':120,'start':1,'end':4,'beat':'0.25,0;0.5,1;0.125,1;0.125,1'}\n",
    "collect.insert_one(dic) #放一筆dic"
   ]
  },
  {
   "cell_type": "code",
   "execution_count": 6,
   "metadata": {
    "collapsed": false
   },
   "outputs": [
    {
     "name": "stderr",
     "output_type": "stream",
     "text": [
      "c:\\python27\\lib\\site-packages\\ipykernel\\__main__.py:5: DeprecationWarning: insert is deprecated. Use insert_one or insert_many instead.\n"
     ]
    },
    {
     "data": {
      "text/plain": [
       "[ObjectId('564d4780426cb223f09142ca'),\n",
       " ObjectId('564d4780426cb223f09142cb'),\n",
       " ObjectId('564d4780426cb223f09142cc')]"
      ]
     },
     "execution_count": 6,
     "metadata": {},
     "output_type": "execute_result"
    }
   ],
   "source": [
    "client = MongoClient('mongodb://10.120.30.8:27017')\n",
    "db = client['music']  \n",
    "collect = db['tempo_beats'] \n",
    "l = [{'musicname':'aaa','staff_id':2,'instrument':'flute','sig':'4/4','tempo':120,'start':1,'end':4,'beat':'0.25,0;0.5,1;0.125,1;0.125,1'},\\\n",
    "    {'musicname':'bbb','staff_id':3,'instrument':'flute','sig':'4/4','tempo':120,'start':1,'end':4,'beat':'0.25,0;0.5,1;0.125,1;0.125,1'},\\\n",
    "    {'musicname':'ccc','staff_id':4,'instrument':'flute','sig':'4/4','tempo':120,'start':1,'end':4,'beat':'0.25,0;0.5,1;0.125,1;0.125,1'}]\n",
    "collect.insert(l)#查詢目前資料庫的資料 (參考mongoDB講義)"
   ]
  },
  {
   "cell_type": "code",
   "execution_count": 15,
   "metadata": {
    "collapsed": false
   },
   "outputs": [
    {
     "name": "stdout",
     "output_type": "stream",
     "text": [
      "<class 'pymongo.cursor.Cursor'>\n"
     ]
    }
   ],
   "source": [
    "    #查詢mongoDB\n",
    "client = MongoClient('mongodb://10.120.30.8:27017')\n",
    "db = client['music']  \n",
    "collect = db['tempo_beats']\n",
    "cur = collect.find({},{'_id':0,'beat':1})\n",
    "\n"
   ]
  },
  {
   "cell_type": "code",
   "execution_count": 16,
   "metadata": {
    "collapsed": false
   },
   "outputs": [
    {
     "name": "stdout",
     "output_type": "stream",
     "text": [
      "{u'beat': u'0.25,0;0.5,1;0.125,1;0.125,1'}\n",
      "{u'beat': u'0.25,0;0.5,1;0.125,1;0.125,1'}\n",
      "{u'beat': u'0.25,0;0.5,1;0.125,1;0.125,1'}\n",
      "{u'beat': u'0.25,0;0.5,1;0.125,1;0.125,1'}\n"
     ]
    }
   ],
   "source": [
    "for a in cur:\n",
    "    print a"
   ]
  },
  {
   "cell_type": "code",
   "execution_count": null,
   "metadata": {
    "collapsed": true
   },
   "outputs": [],
   "source": []
  }
 ],
 "metadata": {
  "kernelspec": {
   "display_name": "Python 2",
   "language": "python",
   "name": "python2"
  },
  "language_info": {
   "codemirror_mode": {
    "name": "ipython",
    "version": 2
   },
   "file_extension": ".py",
   "mimetype": "text/x-python",
   "name": "python",
   "nbconvert_exporter": "python",
   "pygments_lexer": "ipython2",
   "version": "2.7.10"
  }
 },
 "nbformat": 4,
 "nbformat_minor": 0
}
