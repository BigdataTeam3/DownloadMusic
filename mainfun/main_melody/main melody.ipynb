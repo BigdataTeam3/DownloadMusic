{
 "cells": [
  {
   "cell_type": "markdown",
   "metadata": {},
   "source": [
    "## Determine main melody \n",
    " - by score (author specified)\n",
    " - pan (左右聲道平衡度)\n",
    " - velociy (按鍵力道)\n",
    " - 平均旋律\n",
    " - 和弦所佔比率"
   ]
  },
  {
   "cell_type": "code",
   "execution_count": 15,
   "metadata": {
    "collapsed": true
   },
   "outputs": [],
   "source": [
    "main_name = ['melody','melodies','vocal','voice','sing','lead']\n",
    "sub_name = ['drum']"
   ]
  },
  {
   "cell_type": "markdown",
   "metadata": {},
   "source": [
    "## pan value"
   ]
  },
  {
   "cell_type": "code",
   "execution_count": 16,
   "metadata": {
    "collapsed": false
   },
   "outputs": [],
   "source": [
    "def panDect(parts):\n",
    "    pan = {}\n",
    "    for part in parts:\n",
    "        staffs = part.select('Staff')\n",
    "        for staff in staffs:\n",
    "            i = staff.get('id')\n",
    "            channel = part.select('Channel')[0].select('controller')\n",
    "            value = 0\n",
    "            if len(channel) == 0 or len(channel.select('controller')) == 0 or channel.select('controller')[0].get('ctrl') != '10':\n",
    "                value = 63\n",
    "            else:\n",
    "                value = channel.select('controller')[0].get('value')\n",
    "            pan.update({i:value})\n",
    "    return pan"
   ]
  },
  {
   "cell_type": "markdown",
   "metadata": {},
   "source": [
    "## average velocity"
   ]
  },
  {
   "cell_type": "code",
   "execution_count": 17,
   "metadata": {
    "collapsed": true
   },
   "outputs": [],
   "source": [
    "def velDect(addr,ids):\n",
    "    fm = open(addr, 'r')\n",
    "    music = fm.read()\n",
    "    fm.close()\n",
    "    vela = {}\n",
    "    staffs = [staff for staff in bs(music,'xml').select('Score > Staff') if staff.get('id') in ids]\n",
    "    for staff in staffs:\n",
    "        vels = staff.select('Note velocity')\n",
    "        n = len(vels)\n",
    "        s = 0.0\n",
    "        for vel in vels:\n",
    "            v = int(vel.text)\n",
    "            s += v\n",
    "        avg = s/n\n",
    "        vela.update({staff.get('id'):str(avg)})\n",
    "    return vela"
   ]
  },
  {
   "cell_type": "markdown",
   "metadata": {},
   "source": [
    "## average pitch"
   ]
  },
  {
   "cell_type": "code",
   "execution_count": 18,
   "metadata": {
    "collapsed": false
   },
   "outputs": [],
   "source": [
    "import math\n",
    "def pitDect(addr,ids):\n",
    "    fm = open(addr, 'r')\n",
    "    music = fm.read()\n",
    "    fm.close()\n",
    "    pits = {}\n",
    "    dutype = {'whole':1.0,'half':1.0/2,'quarter':1.0/4,'eighth':1.0/8,'16th':1.0/16,'32nd':1.0/32,'64th':1.0/64,'128th':1.0/128}\n",
    "    staffs = [staff for staff in bs(music,'xml').select('Score > Staff') if staff.get('id') in ids]\n",
    "    for staff in staffs:\n",
    "        pitch_sum = 0\n",
    "        pitch_time = 0\n",
    "        for measure in staff.select('Measure'):\n",
    "            for chord in [c for c in list(measure.children) if c != '\\n' and c.name == 'Chord']:\n",
    "                max_pitch = max([int(d.pitch.text) for d in chord.select('Note')])\n",
    "                dot = 0\n",
    "                if len(chord.select('dot')) != 0:\n",
    "                    dot = int(chord.select('dot')[0].text)\n",
    "                dutime = dutype[chord.durationType.text] * (2-math.pow(1.0/2,dot))\n",
    "                pitch_sum += max_pitch * dutime\n",
    "                pitch_time += dutime\n",
    "        avg_pich = pitch_sum/pitch_time\n",
    "        pits.update({staff.get('id'):str(avg_pich)})\n",
    "    return pits"
   ]
  },
  {
   "cell_type": "markdown",
   "metadata": {},
   "source": [
    "## chords' rate"
   ]
  },
  {
   "cell_type": "code",
   "execution_count": 19,
   "metadata": {
    "collapsed": true
   },
   "outputs": [],
   "source": [
    "def rateDect(addr,ids):\n",
    "    fm = open(addr, 'r')\n",
    "    music = fm.read()\n",
    "    fm.close()\n",
    "    rates = {}\n",
    "    staffs = [staff for staff in bs(music,'xml').select('Score > Staff') if staff.get('id') in ids]\n",
    "    for staff in staffs:\n",
    "        num = 0\n",
    "        n = 0\n",
    "        for measure in staff.select('Measure'):\n",
    "            chords = [c for c in list(measure.children) if c != '\\n' and c.name == 'Chord']\n",
    "            n += len(chords)\n",
    "            for chord in chords:\n",
    "                if len(chord.select('Note')) == 1:\n",
    "                    num += 1\n",
    "        rates.update({staff.get('id'):str(float(num)/n)})\n",
    "    return rates"
   ]
  },
  {
   "cell_type": "markdown",
   "metadata": {},
   "source": [
    "## sound area"
   ]
  },
  {
   "cell_type": "code",
   "execution_count": 20,
   "metadata": {
    "collapsed": true
   },
   "outputs": [],
   "source": [
    "def areaDect(addr,ids):\n",
    "    fm = open(addr, 'r')\n",
    "    music = fm.read()\n",
    "    fm.close()\n",
    "    area = {}\n",
    "    staffs = [staff for staff in bs(music,'xml').select('Score > Staff') if staff.get('id') in ids]\n",
    "    dutype = {'whole':1.0,'half':1.0/2,'quarter':1.0/4,'eighth':1.0/8,'16th':1.0/16,'32nd':1.0/32,'64th':1.0/64,'128th':1.0/128}\n",
    "    for staff in staffs:\n",
    "        du = 0\n",
    "        all_du = []\n",
    "        for measure in staff.select('Measure'):\n",
    "            chords = [c for c in list(measure.children) if c != '\\n' and c.name == 'Chord']\n",
    "            for chord in chords:\n",
    "                all_du.append(dutype[chord.durationType.text])\n",
    "        area.update({staff.get('id'):str(sum(all_du))})\n",
    "    return area"
   ]
  },
  {
   "cell_type": "markdown",
   "metadata": {},
   "source": [
    "## determine main melodies"
   ]
  },
  {
   "cell_type": "code",
   "execution_count": 21,
   "metadata": {
    "collapsed": false
   },
   "outputs": [],
   "source": [
    "import pandas as pd\n",
    "def detMain(data):\n",
    "    form = pd.DataFrame(data).transpose()\n",
    "    form.columns = ['pan','vel_rate','pit_rate','cho_rate','area']\n",
    "    # need to add...\n",
    "    return form       "
   ]
  },
  {
   "cell_type": "markdown",
   "metadata": {},
   "source": [
    "## main function"
   ]
  },
  {
   "cell_type": "code",
   "execution_count": 22,
   "metadata": {
    "collapsed": false
   },
   "outputs": [
    {
     "name": "stdout",
     "output_type": "stream",
     "text": [
      "[u'11', u'13', u'12', u'15', u'14', u'17', u'16', u'1', u'3', u'2', u'5', u'4', u'7', u'6', u'9'] [u'11', u'13', u'12', u'15', u'14', u'17', u'16', u'1', u'3', u'2', u'5', u'4', u'7', u'6', u'9']\n",
      "15 15 15 15 15\n",
      "   pan       vel_rate       pit_rate        cho_rate     area\n",
      "1   63  107.203735144  35.7974683544             1.0     79.0\n",
      "11  63  108.076923077           68.6             0.0      5.0\n",
      "12  63  117.223443223  48.7039106145             1.0    44.75\n",
      "13  63  114.678571429  52.5517241379             1.0     7.25\n",
      "14  63  90.6981132075  57.1951219512             0.0    5.125\n",
      "15  63          115.0          67.75             0.0      8.0\n",
      "16  63          115.0          40.25             1.0      8.0\n",
      "17  63            1.0  65.1646090535  0.958333333333   30.375\n",
      "2   63           86.8  67.4786729858  0.928571428571    52.75\n",
      "3   63  84.7777777778  63.6923076923             0.0     52.0\n",
      "4   63  109.960869565  65.9458450047             1.0  66.9375\n",
      "5   63  80.5247524752  64.8983050847  0.936842105263     29.5\n",
      "6   63   89.578313253  74.1654135338             1.0    33.25\n",
      "7   63  87.2156862745           49.1  0.115384615385     22.5\n",
      "9   63           93.0           79.0             1.0     13.0\n"
     ]
    }
   ],
   "source": [
    "from bs4 import BeautifulSoup as bs\n",
    "addr = 'C:/Users/BigData/Desktop/datas/python/py/Paparazzi.mscx'\n",
    "fm = open(addr, 'r')\n",
    "music = fm.read()\n",
    "fm.close()\n",
    "cand = bs(music,'xml').select('Part')\n",
    "main_cand = []\n",
    "sub_cand = []\n",
    "for s in [par for par in cand if len(par.select('longName')) != 0]:\n",
    "    pname = s.select('longName')[0].text.encode('utf8').lower()\n",
    "    if len([word for word in main_name if word in pname]) != 0: # instru. name\n",
    "        main_cand.append(s)\n",
    "        cand.remove(s)\n",
    "    if len([word for word in sub_name if word in pname]) != 0:\n",
    "        sub_cand.append(s)\n",
    "        cand.remove(s)\n",
    "    for cin in [c for c in list(s.select('Instrument')[0].children) if c != '\\n']: # more than one instru. in this staff\n",
    "        if cin.get('pitch') is not None:\n",
    "            if s in cand:\n",
    "                sub_cand.append(s)\n",
    "                cand.remove(s)\n",
    "            break\n",
    "mesg = {}\n",
    "pan = panDect(cand)\n",
    "ids = pan.keys()\n",
    "vels = velDect(addr,ids)\n",
    "pits = pitDect(addr,ids)\n",
    "rates = rateDect(addr,ids)\n",
    "area = areaDect(addr,ids)\n",
    "print pan.keys(), area.keys()\n",
    "print len(pan),len(vels),len(pits),len(rates),len(area)\n",
    "[mesg.update({a:[pan[a],vels[a],pits[a],rates[a],area[a]]}) for a in pan.keys()]\n",
    "f = detMain(mesg)\n",
    "print f"
   ]
  },
  {
   "cell_type": "code",
   "execution_count": null,
   "metadata": {
    "collapsed": true
   },
   "outputs": [],
   "source": []
  }
 ],
 "metadata": {
  "kernelspec": {
   "display_name": "Python 2",
   "language": "python",
   "name": "python2"
  },
  "language_info": {
   "codemirror_mode": {
    "name": "ipython",
    "version": 2
   },
   "file_extension": ".py",
   "mimetype": "text/x-python",
   "name": "python",
   "nbconvert_exporter": "python",
   "pygments_lexer": "ipython2",
   "version": "2.7.10"
  }
 },
 "nbformat": 4,
 "nbformat_minor": 0
}
